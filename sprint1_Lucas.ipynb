{
 "cells": [
  {
   "cell_type": "markdown",
   "metadata": {},
   "source": [
    "# Sprint 1: Data analysis and supervised learning"
   ]
  },
  {
   "cell_type": "markdown",
   "metadata": {},
   "source": [
    "## Opmerkingen dataset"
   ]
  },
  {
   "cell_type": "markdown",
   "metadata": {},
   "source": [
    "* Complaint volume moet in verband worden gebracht met de grootte en het marktaandeel van het bedrijf.\n",
    "Een bedrijf met een groot aantal klanten zal bijvoorbeeld meer klachten hebben dan één met een klein aantal klanten."
   ]
  },
  {
   "cell_type": "markdown",
   "metadata": {},
   "source": [
    "## Inlezen dataset"
   ]
  },
  {
   "cell_type": "code",
   "execution_count": 11,
   "metadata": {},
   "outputs": [
    {
     "name": "stdout",
     "output_type": "stream",
     "text": [
      "All the information stored about a complaint:\n",
      "-Date received\n",
      "-Product\n",
      "-Sub-product\n",
      "-Issue\n",
      "-Sub-issue\n",
      "-Consumer complaint narrative\n",
      "-Company public response\n",
      "-Company\n",
      "-State\n",
      "-ZIP code\n",
      "-Tags\n",
      "-Consumer consent provided?\n",
      "-Submitted via\n",
      "-Date sent to company\n",
      "-Company response to consumer\n",
      "-Timely response?\n",
      "-Consumer disputed?\n",
      "-Complaint ID\n",
      "File processed of 120 lines.\n",
      "Number of complaints in dataset:  119\n",
      "   Complaint Index                                          Complaint\n",
      "0                1  Credit reporting, credit repair services, or o...\n",
      "1                2  Debt collection I do not know False statements...\n",
      "2                3  Debt collection I do not know Attempts to coll...\n",
      "3                4  Debt collection Other debt Attempts to collect...\n",
      "4                5  Credit reporting, credit repair services, or o...\n",
      "5                6  Debt collection Mortgage debt Attempts to coll...\n",
      "6                7  Credit reporting, credit repair services, or o...\n",
      "7                8  Credit reporting, credit repair services, or o...\n",
      "8                9  Credit reporting, credit repair services, or o...\n",
      "9               10  Payday loan, title loan, or personal loan Inst...\n"
     ]
    }
   ],
   "source": [
    "import pandas as pd\n",
    "import csv\n",
    "\n",
    "def read_all_complaints() :\n",
    "    # Store all the data of the complaints in an array of maps. (amount of maps = amount of complaints)\n",
    "    all_complaints = {}\n",
    "    with open('data/complaints-100.csv') as csv_file:\n",
    "        csv_reader = csv.reader(csv_file, delimiter=',')\n",
    "        line_count = 0\n",
    "        for row in csv_reader:\n",
    "            if line_count == 0:\n",
    "                print(\"All the information stored about a complaint:\")\n",
    "                for category in row:\n",
    "                    print(\"-\" + category)\n",
    "                line_count += 1\n",
    "            else: \n",
    "                complaint = \" \".join(row[1:5])\n",
    "                all_complaints[line_count] = complaint\n",
    "                line_count += 1\n",
    "        print(f'File processed of {line_count} lines.')\n",
    "        return all_complaints\n",
    "    csv_file.close()\n",
    "    \n",
    "complaints_dict = read_all_complaints()\n",
    "\n",
    "\n",
    "df = pd.DataFrame(list(complaints_dict.items()),columns=[\"Complaint Index\",\"Complaint\"])\n",
    "print(\"Number of complaints in dataset: \",df.shape[0])\n",
    "print(df.head(10))"
   ]
  },
  {
   "cell_type": "markdown",
   "metadata": {},
   "source": [
    "## Bepalen van het aantal producten en sub-producten"
   ]
  },
  {
   "cell_type": "code",
   "execution_count": null,
   "metadata": {},
   "outputs": [],
   "source": [
    "def give_product_complaint_amount():\n",
    "    products = {}\n",
    "    for complaint in complaints:\n",
    "        product=complaint[\"product\"]\n",
    "        if product in products:\n",
    "            products[complaint[\"product\"]] +=1\n",
    "        else:\n",
    "            products[complaint[\"product\"]] = 0\n",
    "    for product in products:\n",
    "        amount = str(products[product])\n",
    "    return pd.DataFrame(products.items(), columns=[\"Product\", \"Amount\"]) "
   ]
  },
  {
   "cell_type": "code",
   "execution_count": null,
   "metadata": {},
   "outputs": [],
   "source": [
    "def give_subproduct_complaint_amount():\n",
    "    sub_products = {}\n",
    "    for complaint in complaints:\n",
    "        sub_product=complaint[\"sub-product\"]\n",
    "        if sub_product in sub_products:\n",
    "            sub_products[complaint[\"sub-product\"]] +=1\n",
    "        else:\n",
    "            sub_products[complaint[\"sub-product\"]] = 0\n",
    "    for sub_product in sub_products:\n",
    "        amount = str(sub_products[sub_product])\n",
    "    return pd.DataFrame(sub_products.items(), columns=[\"Sub-Product\", \"Amount\"]) "
   ]
  },
  {
   "cell_type": "code",
   "execution_count": null,
   "metadata": {},
   "outputs": [],
   "source": [
    "print(give_product_complaint_amount())\n",
    "print(give_subproduct_complaint_amount())"
   ]
  },
  {
   "cell_type": "code",
   "execution_count": 12,
   "metadata": {},
   "outputs": [],
   "source": [
    "from sklearn.feature_extraction.text import CountVectorizer\n",
    "from sklearn.feature_extraction.text import TfidfTransformer\n",
    "count_vect = CountVectorizer(\n",
    "    stop_words=\"english\",\n",
    "    ngram_range=(1,2),\n",
    "    min_df=2,\n",
    "    max_df=0.5\n",
    ")\n",
    "X_train_counts = count_vect.fit_transform(df[\"Complaint\"])\n",
    "\n",
    "tf_transformer = TfidfTransformer()\n",
    "X_train_tf = tf_transformer.fit_transform(X_train_counts)"
   ]
  },
  {
   "cell_type": "code",
   "execution_count": 13,
   "metadata": {},
   "outputs": [
    {
     "name": "stdout",
     "output_type": "stream",
     "text": [
      "['account', 'account checking', 'account information', 'account problem', 'account status', 'advertised', 'advertising', 'advertising marketing', 'alerts', 'alerts security']\n",
      "296\n",
      "(119, 296)\n"
     ]
    }
   ],
   "source": [
    "feature_names=count_vect.get_feature_names()\n",
    "print(feature_names[:10])\n",
    "\n",
    "print(len(feature_names))\n",
    "print(X_train_tf.shape)"
   ]
  },
  {
   "cell_type": "code",
   "execution_count": 15,
   "metadata": {},
   "outputs": [
    {
     "name": "stdout",
     "output_type": "stream",
     "text": [
      "Credit reporting, credit repair services, or other personal consumer reports Credit reporting Credit monitoring or identity theft protection services Problem canceling credit monitoring or identify theft protection service\n"
     ]
    },
    {
     "data": {
      "text/html": [
       "<div>\n",
       "<style scoped>\n",
       "    .dataframe tbody tr th:only-of-type {\n",
       "        vertical-align: middle;\n",
       "    }\n",
       "\n",
       "    .dataframe tbody tr th {\n",
       "        vertical-align: top;\n",
       "    }\n",
       "\n",
       "    .dataframe thead th {\n",
       "        text-align: right;\n",
       "    }\n",
       "</style>\n",
       "<table border=\"1\" class=\"dataframe\">\n",
       "  <thead>\n",
       "    <tr style=\"text-align: right;\">\n",
       "      <th></th>\n",
       "      <th>tfidf</th>\n",
       "    </tr>\n",
       "  </thead>\n",
       "  <tbody>\n",
       "    <tr>\n",
       "      <th>credit monitoring</th>\n",
       "      <td>0.351708</td>\n",
       "    </tr>\n",
       "    <tr>\n",
       "      <th>theft protection</th>\n",
       "      <td>0.351708</td>\n",
       "    </tr>\n",
       "    <tr>\n",
       "      <th>protection</th>\n",
       "      <td>0.351708</td>\n",
       "    </tr>\n",
       "    <tr>\n",
       "      <th>monitoring</th>\n",
       "      <td>0.351708</td>\n",
       "    </tr>\n",
       "    <tr>\n",
       "      <th>theft</th>\n",
       "      <td>0.286905</td>\n",
       "    </tr>\n",
       "    <tr>\n",
       "      <th>identify theft</th>\n",
       "      <td>0.187349</td>\n",
       "    </tr>\n",
       "    <tr>\n",
       "      <th>identify</th>\n",
       "      <td>0.187349</td>\n",
       "    </tr>\n",
       "    <tr>\n",
       "      <th>problem canceling</th>\n",
       "      <td>0.187349</td>\n",
       "    </tr>\n",
       "    <tr>\n",
       "      <th>monitoring identify</th>\n",
       "      <td>0.187349</td>\n",
       "    </tr>\n",
       "    <tr>\n",
       "      <th>canceling credit</th>\n",
       "      <td>0.187349</td>\n",
       "    </tr>\n",
       "  </tbody>\n",
       "</table>\n",
       "</div>"
      ],
      "text/plain": [
       "                        tfidf\n",
       "credit monitoring    0.351708\n",
       "theft protection     0.351708\n",
       "protection           0.351708\n",
       "monitoring           0.351708\n",
       "theft                0.286905\n",
       "identify theft       0.187349\n",
       "identify             0.187349\n",
       "problem canceling    0.187349\n",
       "monitoring identify  0.187349\n",
       "canceling credit     0.187349"
      ]
     },
     "execution_count": 15,
     "metadata": {},
     "output_type": "execute_result"
    }
   ],
   "source": [
    "print(df.at[0, \"Complaint\"])\n",
    "features = X_train_tf[0]\n",
    "terms = pd.DataFrame(features.T.todense(), index=feature_names, columns=[\"tfidf\"])\n",
    "terms.sort_values(by=[\"tfidf\"],ascending=False).head(n=10)"
   ]
  },
  {
   "cell_type": "code",
   "execution_count": 16,
   "metadata": {},
   "outputs": [
    {
     "name": "stdout",
     "output_type": "stream",
     "text": [
      "0.0:\tCredit reporting, credit repair services, or other personal consumer reports Credit reporting Credit monitoring or identity theft protection services Problem canceling credit monitoring or identify theft protection service\n",
      "0.0:\tCredit reporting, credit repair services, or other personal consumer reports Credit reporting Credit monitoring or identity theft protection services Problem canceling credit monitoring or identify theft protection service\n",
      "0.8374303414739717:\tCredit reporting, credit repair services, or other personal consumer reports Credit reporting Credit monitoring or identity theft protection services Didn't receive services that were advertised\n",
      "1.3236454121859305:\tDebt collection I do not know Attempts to collect debt not owed Debt was result of identity theft\n",
      "1.3236454121859305:\tDebt collection I do not know Attempts to collect debt not owed Debt was result of identity theft\n"
     ]
    }
   ],
   "source": [
    "from sklearn.neighbors import NearestNeighbors\n",
    "\n",
    "knn = NearestNeighbors(n_neighbors=5, metric=\"euclidean\")\n",
    "knn.fit(X_train_tf.toarray())\n",
    "distances, neighbors = knn.kneighbors(features.toarray())\n",
    "\n",
    "for distance, neighbor in zip(distances[0], neighbors[0]):\n",
    "    print(distance, df.at[neighbor, 'Complaint'], sep=\":\\t\")"
   ]
  },
  {
   "cell_type": "code",
   "execution_count": null,
   "metadata": {},
   "outputs": [],
   "source": []
  }
 ],
 "metadata": {
  "kernelspec": {
   "display_name": "Python 3",
   "language": "python",
   "name": "python3"
  },
  "language_info": {
   "codemirror_mode": {
    "name": "ipython",
    "version": 3
   },
   "file_extension": ".py",
   "mimetype": "text/x-python",
   "name": "python",
   "nbconvert_exporter": "python",
   "pygments_lexer": "ipython3",
   "version": "3.7.4"
  }
 },
 "nbformat": 4,
 "nbformat_minor": 4
}
