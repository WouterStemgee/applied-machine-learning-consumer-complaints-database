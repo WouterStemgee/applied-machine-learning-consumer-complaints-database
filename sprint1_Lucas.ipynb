{
 "cells": [
  {
   "cell_type": "markdown",
   "metadata": {},
   "source": [
    "# Sprint 1: Data analysis and supervised learning"
   ]
  },
  {
   "cell_type": "markdown",
   "metadata": {},
   "source": [
    "## Opmerkingen dataset"
   ]
  },
  {
   "cell_type": "markdown",
   "metadata": {},
   "source": [
    "* Complaint volume moet in verband worden gebracht met de grootte en het marktaandeel van het bedrijf.\n",
    "Een bedrijf met een groot aantal klanten zal bijvoorbeeld meer klachten hebben dan één met een klein aantal klanten."
   ]
  },
  {
   "cell_type": "markdown",
   "metadata": {},
   "source": [
    "## Inlezen dataset"
   ]
  },
  {
   "cell_type": "code",
   "execution_count": 1,
   "metadata": {},
   "outputs": [
    {
     "name": "stdout",
     "output_type": "stream",
     "text": [
      "All the information stored about a complaint:\n",
      "-Date received\n",
      "-Product\n",
      "-Sub-product\n",
      "-Issue\n",
      "-Sub-issue\n",
      "-Consumer complaint narrative\n",
      "-Company public response\n",
      "-Company\n",
      "-State\n",
      "-ZIP code\n",
      "-Tags\n",
      "-Consumer consent provided?\n",
      "-Submitted via\n",
      "-Date sent to company\n",
      "-Company response to consumer\n",
      "-Timely response?\n",
      "-Consumer disputed?\n",
      "-Complaint ID\n",
      "File processed of 32 lines.\n"
     ]
    }
   ],
   "source": [
    "import pandas as pd\n",
    "import csv\n",
    "\n",
    "def read_all_complaints() :\n",
    "    # Store all the data of the complaints in an array of maps. (amount of maps = amount of complaints)\n",
    "    all_complaints = []\n",
    "    with open('data/complaints-100.csv') as csv_file:\n",
    "        csv_reader = csv.reader(csv_file, delimiter=',')\n",
    "        line_count = 0\n",
    "        for row in csv_reader:\n",
    "            if line_count == 0:\n",
    "                print(\"All the information stored about a complaint:\")\n",
    "                for category in row:\n",
    "                    print(\"-\" + category)\n",
    "                line_count += 1\n",
    "            else: \n",
    "                complaint = {}\n",
    "                complaint[\"product\"] = row[1]\n",
    "                complaint[\"sub-product\"] = row[1]\n",
    "                all_complaints.append(complaint)\n",
    "                line_count += 1\n",
    "        print(f'File processed of {line_count} lines.')\n",
    "        return all_complaints\n",
    "    csv_file.close()\n",
    "    \n",
    "complaints = read_all_complaints()"
   ]
  },
  {
   "cell_type": "markdown",
   "metadata": {},
   "source": [
    "## Bepalen van het aantal producten en sub-producten"
   ]
  },
  {
   "cell_type": "code",
   "execution_count": 2,
   "metadata": {},
   "outputs": [],
   "source": [
    "def give_product_complaint_amount():\n",
    "    products = {}\n",
    "    for complaint in complaints:\n",
    "        product=complaint[\"product\"]\n",
    "        if product in products:\n",
    "            products[complaint[\"product\"]] +=1\n",
    "        else:\n",
    "            products[complaint[\"product\"]] = 0\n",
    "    for product in products:\n",
    "        amount = str(products[product])\n",
    "    return pd.DataFrame(products.items(), columns=[\"Product\", \"Amount\"]) "
   ]
  },
  {
   "cell_type": "code",
   "execution_count": 3,
   "metadata": {},
   "outputs": [],
   "source": [
    "def give_subproduct_complaint_amount():\n",
    "    sub_products = {}\n",
    "    for complaint in complaints:\n",
    "        sub_product=complaint[\"sub-product\"]\n",
    "        if sub_product in sub_products:\n",
    "            sub_products[complaint[\"sub-product\"]] +=1\n",
    "        else:\n",
    "            sub_products[complaint[\"sub-product\"]] = 0\n",
    "    for sub_product in sub_products:\n",
    "        amount = str(sub_products[sub_product])\n",
    "    return pd.DataFrame(sub_products.items(), columns=[\"Sub-Product\", \"Amount\"]) "
   ]
  },
  {
   "cell_type": "code",
   "execution_count": 5,
   "metadata": {},
   "outputs": [
    {
     "name": "stdout",
     "output_type": "stream",
     "text": [
      "                                             Product  Amount\n",
      "0  Credit reporting, credit repair services, or o...      16\n",
      "1                                    Debt collection       8\n",
      "2          Payday loan, title loan, or personal loan       1\n",
      "3                                           Mortgage       0\n",
      "4                        Credit card or prepaid card       0\n",
      "5                        Checking or savings account       0\n",
      "                                         Sub-Product  Amount\n",
      "0  Credit reporting, credit repair services, or o...      16\n",
      "1                                    Debt collection       8\n",
      "2          Payday loan, title loan, or personal loan       1\n",
      "3                                           Mortgage       0\n",
      "4                        Credit card or prepaid card       0\n",
      "5                        Checking or savings account       0\n"
     ]
    }
   ],
   "source": [
    "print(give_product_complaint_amount())\n",
    "print(give_subproduct_complaint_amount())"
   ]
  },
  {
   "cell_type": "code",
   "execution_count": null,
   "metadata": {},
   "outputs": [],
   "source": []
  }
 ],
 "metadata": {
  "kernelspec": {
   "display_name": "Python 3",
   "language": "python",
   "name": "python3"
  },
  "language_info": {
   "codemirror_mode": {
    "name": "ipython",
    "version": 3
   },
   "file_extension": ".py",
   "mimetype": "text/x-python",
   "name": "python",
   "nbconvert_exporter": "python",
   "pygments_lexer": "ipython3",
   "version": "3.7.6"
  }
 },
 "nbformat": 4,
 "nbformat_minor": 4
}
