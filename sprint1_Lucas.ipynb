{
 "cells": [
  {
   "cell_type": "markdown",
   "metadata": {},
   "source": [
    "# Sprint 1: Data analysis and supervised learning"
   ]
  },
  {
   "cell_type": "markdown",
   "metadata": {},
   "source": [
    "## Opmerkingen dataset"
   ]
  },
  {
   "cell_type": "markdown",
   "metadata": {},
   "source": [
    "* Complaint volume moet in verband worden gebracht met de grootte en het marktaandeel van het bedrijf.\n",
    "Een bedrijf met een groot aantal klanten zal bijvoorbeeld meer klachten hebben dan één met een klein aantal klanten."
   ]
  },
  {
   "cell_type": "markdown",
   "metadata": {},
   "source": [
    "## Inlezen dataset"
   ]
  },
  {
   "cell_type": "code",
   "execution_count": 216,
   "metadata": {},
   "outputs": [
    {
     "name": "stdout",
     "output_type": "stream",
     "text": [
      "All the information stored about a complaint:\n",
      "File processed of 120 lines.\n",
      "Number of complaints in dataset:  119\n"
     ]
    },
    {
     "data": {
      "text/html": [
       "<div>\n",
       "<style scoped>\n",
       "    .dataframe tbody tr th:only-of-type {\n",
       "        vertical-align: middle;\n",
       "    }\n",
       "\n",
       "    .dataframe tbody tr th {\n",
       "        vertical-align: top;\n",
       "    }\n",
       "\n",
       "    .dataframe thead th {\n",
       "        text-align: right;\n",
       "    }\n",
       "</style>\n",
       "<table border=\"1\" class=\"dataframe\">\n",
       "  <thead>\n",
       "    <tr style=\"text-align: right;\">\n",
       "      <th></th>\n",
       "      <th>product</th>\n",
       "      <th>narrative</th>\n",
       "      <th>narrative_clean</th>\n",
       "    </tr>\n",
       "  </thead>\n",
       "  <tbody>\n",
       "    <tr>\n",
       "      <th>0</th>\n",
       "      <td>credit</td>\n",
       "      <td>I have complained many times that the credit r...</td>\n",
       "      <td>[complained, times, credit, reporting, eperian...</td>\n",
       "    </tr>\n",
       "    <tr>\n",
       "      <th>1</th>\n",
       "      <td>dept</td>\n",
       "      <td>please review the current fraud account and al...</td>\n",
       "      <td>[review, current, fraud, account, fraudulent, ...</td>\n",
       "    </tr>\n",
       "    <tr>\n",
       "      <th>2</th>\n",
       "      <td>dept</td>\n",
       "      <td>Called multiple times over the years for a deb...</td>\n",
       "      <td>[called, multiple, times, years, debt, occurre...</td>\n",
       "    </tr>\n",
       "    <tr>\n",
       "      <th>3</th>\n",
       "      <td>dept</td>\n",
       "      <td>I sent in a letter to the company to have them...</td>\n",
       "      <td>[sent, letter, company, validate, debt, specia...</td>\n",
       "    </tr>\n",
       "    <tr>\n",
       "      <th>4</th>\n",
       "      <td>credit</td>\n",
       "      <td>On XX/XX/19 I applied for a Debt Relief Produc...</td>\n",
       "      <td>[applied, debt, relief, product, account, eecu...</td>\n",
       "    </tr>\n",
       "    <tr>\n",
       "      <th>...</th>\n",
       "      <td>...</td>\n",
       "      <td>...</td>\n",
       "      <td>...</td>\n",
       "    </tr>\n",
       "    <tr>\n",
       "      <th>114</th>\n",
       "      <td>dept</td>\n",
       "      <td>I am a victim of identity theft and this debt ...</td>\n",
       "      <td>[victim, identity, theft, debt, does, belong, ...</td>\n",
       "    </tr>\n",
       "    <tr>\n",
       "      <th>115</th>\n",
       "      <td>account</td>\n",
       "      <td>Over the last two years I have had egregious d...</td>\n",
       "      <td>[years, egregious, debit, card, fraud, citizen...</td>\n",
       "    </tr>\n",
       "    <tr>\n",
       "      <th>116</th>\n",
       "      <td>card</td>\n",
       "      <td>On XX/XX/2018 I received a call from American ...</td>\n",
       "      <td>[received, american, epress, offering, upgrade...</td>\n",
       "    </tr>\n",
       "    <tr>\n",
       "      <th>117</th>\n",
       "      <td>credit</td>\n",
       "      <td>On or before XX/XX/XXXX XXXX XXXX XXXX offered...</td>\n",
       "      <td>[offered, free, credit, report, statements, co...</td>\n",
       "    </tr>\n",
       "    <tr>\n",
       "      <th>118</th>\n",
       "      <td>card</td>\n",
       "      <td>Synchrony bank is charging me {$50.00} for a g...</td>\n",
       "      <td>[synchrony, bank, charging, gift, card, did, r...</td>\n",
       "    </tr>\n",
       "  </tbody>\n",
       "</table>\n",
       "<p>119 rows × 3 columns</p>\n",
       "</div>"
      ],
      "text/plain": [
       "     product                                          narrative  \\\n",
       "0     credit  I have complained many times that the credit r...   \n",
       "1       dept  please review the current fraud account and al...   \n",
       "2       dept  Called multiple times over the years for a deb...   \n",
       "3       dept  I sent in a letter to the company to have them...   \n",
       "4     credit  On XX/XX/19 I applied for a Debt Relief Produc...   \n",
       "..       ...                                                ...   \n",
       "114     dept  I am a victim of identity theft and this debt ...   \n",
       "115  account  Over the last two years I have had egregious d...   \n",
       "116     card  On XX/XX/2018 I received a call from American ...   \n",
       "117   credit  On or before XX/XX/XXXX XXXX XXXX XXXX offered...   \n",
       "118     card  Synchrony bank is charging me {$50.00} for a g...   \n",
       "\n",
       "                                       narrative_clean  \n",
       "0    [complained, times, credit, reporting, eperian...  \n",
       "1    [review, current, fraud, account, fraudulent, ...  \n",
       "2    [called, multiple, times, years, debt, occurre...  \n",
       "3    [sent, letter, company, validate, debt, specia...  \n",
       "4    [applied, debt, relief, product, account, eecu...  \n",
       "..                                                 ...  \n",
       "114  [victim, identity, theft, debt, does, belong, ...  \n",
       "115  [years, egregious, debit, card, fraud, citizen...  \n",
       "116  [received, american, epress, offering, upgrade...  \n",
       "117  [offered, free, credit, report, statements, co...  \n",
       "118  [synchrony, bank, charging, gift, card, did, r...  \n",
       "\n",
       "[119 rows x 3 columns]"
      ]
     },
     "execution_count": 216,
     "metadata": {},
     "output_type": "execute_result"
    }
   ],
   "source": [
    "import numpy as np\n",
    "import pandas as pd\n",
    "import matplotlib.pyplot as plt\n",
    "import seaborn as sns\n",
    "import csv\n",
    "import re, string\n",
    "from sklearn.feature_extraction.stop_words import ENGLISH_STOP_WORDS\n",
    "from sklearn.preprocessing import LabelEncoder\n",
    "\n",
    "punc = list(set(string.punctuation))\n",
    "add_stop = ['', ' ', 'say', 's', 'u', 'ap', 'afp', '...', 'n', '\\\\']\n",
    "stop_words = ENGLISH_STOP_WORDS.union(add_stop)\n",
    "\n",
    "def read_all_complaints() :\n",
    "    # Store all the data of the complaints in an array of maps. (amount of maps = amount of complaints)\n",
    "    all_complaints = []\n",
    "    with open('data/complaints-100.csv') as csv_file:\n",
    "        csv_reader = csv.reader(csv_file, delimiter=',')\n",
    "        line_count = 0\n",
    "        for row in csv_reader:\n",
    "            if line_count == 0:\n",
    "                print(\"All the information stored about a complaint:\")\n",
    "                #for category in row:\n",
    "                    #print(\"-\" + category)\n",
    "                line_count += 1\n",
    "            else: \n",
    "                complaint=[]\n",
    "                full_complaint = \" \".join(row[1:5])\n",
    "                complaint.append(row[1])\n",
    "                complaint.append(row[5])\n",
    "                #complaint.append(full_complaint.lower())\n",
    "                narrative=row[5]\n",
    "                narrative=narrative.lower()\n",
    "                narrative = re.sub(r'[^\\w\\s]','',narrative)\n",
    "                narrative = re.sub(r'[0-9]|,','',narrative)\n",
    "                narrative = narrative.replace('\\r',' ')\n",
    "                narrative = narrative.replace('\\n',' ')\n",
    "                narrative = narrative.replace('x','')\n",
    "                narrative = re.sub(r'( )+',' ',narrative)\n",
    "                narrative_arr = narrative.split(' ')\n",
    "                no_stop = [w for w in narrative_arr if w not in stop_words]\n",
    "                complaint.append(no_stop)\n",
    "                all_complaints.append(complaint)\n",
    "                line_count += 1\n",
    "        print(f'File processed of {line_count} lines.')\n",
    "        return all_complaints\n",
    "    csv_file.close()\n",
    "    \n",
    "\n",
    "complaints = read_all_complaints()\n",
    "#print(complaints)\n",
    "\n",
    "\n",
    "#df = pd.DataFrame(complaints, columns = ['Product', 'Sub-product', 'Issue', 'Sub-issue']) \n",
    "df = pd.DataFrame(complaints, columns = ['product','narrative','narrative_clean']) \n",
    "print(\"Number of complaints in dataset: \",df.shape[0])\n",
    "df.replace({'product': \n",
    "             {'Credit reporting, credit repair services, or other personal consumer reports': 'credit',\n",
    "              'Credit reporting, repair, or other' : 'credit',\n",
    "              'Credit reporting' : 'credit',\n",
    "              'Debt collection': 'dept',\n",
    "              'Credit card or prepaid card': 'card',\n",
    "              'Credit card': 'card',\n",
    "              'Vehicle loan or lease': 'loan',\n",
    "              'Student loan': 'loan',\n",
    "              'Bank account or service' : 'account',\n",
    "              'Consumer Loan' : 'loan',\n",
    "              'Payday loan' : 'loan',\n",
    "              'Money transfers' : 'money transfers',\n",
    "              'Prepaid card' : 'card',\n",
    "              'Other financial service' : 'other services',\n",
    "              'Virtual currency' : 'money transfers',\n",
    "              'Checking or savings account': 'account',\n",
    "              'Mortgage': 'mortage',\n",
    "              'Payday loan, title loan, or personal loan': 'loan',\n",
    "              'Money transfer, virtual currency, or money service': 'money transfers'\n",
    "             }}, inplace= True)\n",
    "df\n",
    "\n",
    "\n"
   ]
  },
  {
   "cell_type": "code",
   "execution_count": 206,
   "metadata": {},
   "outputs": [
    {
     "data": {
      "image/png": "[encoded data removed]",
      "text/plain": [
       "<Figure size 432x288 with 1 Axes>"
      ]
     },
     "metadata": {},
     "output_type": "display_data"
    }
   ],
   "source": [
    "product_count = df['product'].value_counts()\n",
    "product_count \n",
    "sns.set(style=\"darkgrid\")\n",
    "ax = sns.barplot(product_count.index, product_count.values, alpha=0.9)\n",
    "ax.set_xticklabels(ax.get_xticklabels(),rotation=90)\n",
    "plt.show()"
   ]
  },
  {
   "cell_type": "code",
   "execution_count": 217,
   "metadata": {},
   "outputs": [
    {
     "data": {
      "text/plain": [
       "product\n",
       "card        6\n",
       "credit     60\n",
       "dept       19\n",
       "loan        3\n",
       "mortage     2\n",
       "Name: narrative, dtype: int64"
      ]
     },
     "metadata": {},
     "output_type": "display_data"
    },
    {
     "data": {
      "text/plain": [
       "product\n",
       "account            3\n",
       "card               5\n",
       "credit             5\n",
       "dept               5\n",
       "loan               5\n",
       "money transfers    1\n",
       "mortage            5\n",
       "Name: narrative, dtype: int64"
      ]
     },
     "metadata": {},
     "output_type": "display_data"
    },
    {
     "data": {
      "text/plain": [
       "array(['credit', 'dept', 'card', 'loan', 'mortage'], dtype=object)"
      ]
     },
     "metadata": {},
     "output_type": "display_data"
    },
    {
     "data": {
      "text/plain": [
       "array([1, 2, 0, 3, 4])"
      ]
     },
     "metadata": {},
     "output_type": "display_data"
    }
   ],
   "source": [
    "df_credit = df.loc[df['product'] == 'credit'] \n",
    "df_dept = df.loc[df['product'] =='dept']\n",
    "df_card = df.loc[df['product'] == 'card'] \n",
    "df_loan = df.loc[df['product'] =='loan']\n",
    "df_mortage = df.loc[df['product'] =='mortage']\n",
    "df_account = df.loc[df['product'] =='account']\n",
    "df_money_transfers = df.loc[df['product'] =='money transfers']\n",
    "\n",
    "#Holding out 5 articles from each class for prediction at the end\n",
    "df_credit_holdout = df_credit.iloc[:5]\n",
    "df_dept_holdout = df_dept.iloc[:5]\n",
    "df_card_holdout = df_card.iloc[:5]\n",
    "df_loan_holdout = df_loan.iloc[:5]\n",
    "df_mortage_holdout = df_mortage.iloc[:5]\n",
    "df_account_holdout = df_account.iloc[:5]\n",
    "df_money_transfers_holdout = df_money_transfers.iloc[:5]\n",
    "\n",
    "\n",
    "df_credit = df_credit.iloc[5:]\n",
    "df_dept = df_dept.iloc[5:]\n",
    "df_card = df_card.iloc[5:]\n",
    "df_loan = df_loan.iloc[5:]\n",
    "df_mortage = df_mortage.iloc[5:]\n",
    "df_account = df_account.iloc[5:]\n",
    "df_money_transfers = df_money_transfers.iloc[5:]\n",
    "\n",
    "#Appending the dfs back together\n",
    "df = pd.concat([df_credit, df_dept, df_card, df_loan, df_mortage, df_account, df_money_transfers ])\n",
    "df_holdout = pd.concat([df_credit_holdout, df_dept_holdout, df_card_holdout, df_loan_holdout, df_mortage_holdout, df_account_holdout, df_money_transfers_holdout ])\n",
    "\n",
    "#Turning the labels into numbers\n",
    "LE = LabelEncoder()\n",
    "df['product_num'] = LE.fit_transform(df['product'])\n",
    "\n",
    "display(df.groupby(['product'])['narrative'].count())\n",
    "display(df_holdout.groupby(['product'])['narrative'].count())\n",
    "display(df['product'].unique())\n",
    "display(df['product_num'].unique())"
   ]
  },
  {
   "cell_type": "code",
   "execution_count": 223,
   "metadata": {},
   "outputs": [
    {
     "ename": "TypeError",
     "evalue": "list indices must be integers or slices, not str",
     "output_type": "error",
     "traceback": [
      "\u001b[0;31m---------------------------------------------------------------------------\u001b[0m",
      "\u001b[0;31mTypeError\u001b[0m                                 Traceback (most recent call last)",
      "\u001b[0;32m<ipython-input-223-964b7a68075c>\u001b[0m in \u001b[0;36m<module>\u001b[0;34m\u001b[0m\n\u001b[1;32m      9\u001b[0m \u001b[0mtext_mortage\u001b[0m \u001b[0;34m=\u001b[0m \u001b[0mdf_mortage\u001b[0m\u001b[0;34m[\u001b[0m\u001b[0;34m'narrative_clean'\u001b[0m\u001b[0;34m]\u001b[0m\u001b[0;34m.\u001b[0m\u001b[0mtolist\u001b[0m\u001b[0;34m(\u001b[0m\u001b[0;34m)\u001b[0m\u001b[0;34m\u001b[0m\u001b[0;34m\u001b[0m\u001b[0m\n\u001b[1;32m     10\u001b[0m \u001b[0mtext_account\u001b[0m \u001b[0;34m=\u001b[0m \u001b[0mdf_account\u001b[0m\u001b[0;34m[\u001b[0m\u001b[0;34m'narrative_clean'\u001b[0m\u001b[0;34m]\u001b[0m\u001b[0;34m.\u001b[0m\u001b[0mtolist\u001b[0m\u001b[0;34m(\u001b[0m\u001b[0;34m)\u001b[0m\u001b[0;34m\u001b[0m\u001b[0;34m\u001b[0m\u001b[0m\n\u001b[0;32m---> 11\u001b[0;31m \u001b[0mtext_transfers\u001b[0m \u001b[0;34m=\u001b[0m \u001b[0mdf_money_transfers\u001b[0m\u001b[0;34m[\u001b[0m\u001b[0;34m'narrative_clean'\u001b[0m\u001b[0;34m]\u001b[0m\u001b[0;34m.\u001b[0m\u001b[0mtolist\u001b[0m\u001b[0;34m(\u001b[0m\u001b[0;34m)\u001b[0m\u001b[0;34m\u001b[0m\u001b[0;34m\u001b[0m\u001b[0m\n\u001b[0m\u001b[1;32m     12\u001b[0m \u001b[0;34m\u001b[0m\u001b[0m\n\u001b[1;32m     13\u001b[0m \u001b[0mcred\u001b[0m \u001b[0;34m=\u001b[0m \u001b[0mword_freq_bigrams\u001b[0m\u001b[0;34m(\u001b[0m\u001b[0mtext_cred\u001b[0m\u001b[0;34m,\u001b[0m \u001b[0mtop_n\u001b[0m\u001b[0;34m=\u001b[0m\u001b[0mtop_n\u001b[0m\u001b[0;34m)\u001b[0m\u001b[0;34m\u001b[0m\u001b[0;34m\u001b[0m\u001b[0m\n",
      "\u001b[0;31mTypeError\u001b[0m: list indices must be integers or slices, not str"
     ]
    }
   ],
   "source": [
    "#Top 15 words by category. Taking bigrams into account\n",
    "\n",
    "top_n = 15\n",
    "\n",
    "text_cred = df_credit['narrative_clean'].tolist()\n",
    "text_dept = df_dept['narrative_clean'].tolist()\n",
    "text_card = df_card['narrative_clean'].tolist()\n",
    "text_loan = df_loan['narrative_clean'].tolist()\n",
    "text_mortage = df_mortage['narrative_clean'].tolist()\n",
    "text_account = df_account['narrative_clean'].tolist()\n",
    "#text_transfers = df_money_transfers['narrative_clean'].tolist()\n",
    "\n",
    "cred = word_freq_bigrams(text_cred, top_n=top_n)\n",
    "dept = word_freq_bigrams(text_dept, top_n=top_n)\n",
    "card = word_freq_bigrams(text_card, top_n=top_n)\n",
    "loan = word_freq_bigrams(text_loan, top_n=top_n)\n",
    "mort = word_freq_bigrams(text_mortage, top_n=top_n)\n",
    "acc = word_freq_bigrams(text_account, top_n=top_n)\n",
    "mtr = word_freq_bigrams(money_transfers, top_n=top_n)\n",
    "\n",
    "df_wf = pd.concat([cred, dept, card, loan,mort, acc, mtr], axis=1)\n",
    "cols = ['cred', 'count', 'dept', 'count', 'card', 'count', 'loan', 'count', 'mort', 'count', 'acc', 'count', 'mtr', 'count']\n",
    "df_wf.columns = cols\n",
    "df_wf"
   ]
  },
  {
   "cell_type": "code",
   "execution_count": null,
   "metadata": {},
   "outputs": [],
   "source": []
  },
  {
   "cell_type": "code",
   "execution_count": null,
   "metadata": {},
   "outputs": [],
   "source": []
  },
  {
   "cell_type": "code",
   "execution_count": null,
   "metadata": {},
   "outputs": [],
   "source": []
  }
 ],
 "metadata": {
  "kernelspec": {
   "display_name": "Python 3",
   "language": "python",
   "name": "python3"
  },
  "language_info": {
   "codemirror_mode": {
    "name": "ipython",
    "version": 3
   },
   "file_extension": ".py",
   "mimetype": "text/x-python",
   "name": "python",
   "nbconvert_exporter": "python",
   "pygments_lexer": "ipython3",
   "version": "3.7.4"
  }
 },
 "nbformat": 4,
 "nbformat_minor": 4
}
