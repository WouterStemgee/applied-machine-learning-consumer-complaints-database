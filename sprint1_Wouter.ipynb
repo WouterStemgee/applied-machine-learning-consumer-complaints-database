{
 "cells": [
  {
   "cell_type": "markdown",
   "metadata": {},
   "source": [
    "# Sprint 1: Data analysis and supervised learning"
   ]
  },
  {
   "cell_type": "markdown",
   "metadata": {},
   "source": [
    "## Exploratory Data Analysis"
   ]
  },
  {
   "cell_type": "markdown",
   "metadata": {},
   "source": [
    "Tijdens deze eerste sprint wordt enkel gefocust op het classificeren op basis van de verschillende product en issue categorieën. In de volgende sprints zullen ook de classificatie van sub-producten en sub-issues aan bod komen."
   ]
  },
  {
   "cell_type": "markdown",
   "metadata": {},
   "source": [
    "Inlezen van het CSV bestand naar een DataFrame."
   ]
  },
  {
   "cell_type": "code",
   "execution_count": 1,
   "metadata": {},
   "outputs": [
    {
     "name": "stdout",
     "output_type": "stream",
     "text": [
      "Er zijn 5000 rijen en 18 kolommen\n"
     ]
    }
   ],
   "source": [
    "import numpy as np\n",
    "import matplotlib.pyplot as plt\n",
    "import pandas as pd\n",
    "import seaborn as sns \n",
    "\n",
    "rows_to_read = 5000 # Gewenst aantal rijen inlezen (None = allemaal)\n",
    "\n",
    "complaints = pd.read_csv('data/complaints.csv', delimiter=',', nrows=rows_to_read)\n",
    "\n",
    "rows, cols = complaints.shape\n",
    "\n",
    "print(f'Er zijn {rows} rijen en {cols} kolommen')"
   ]
  },
  {
   "cell_type": "code",
   "execution_count": 2,
   "metadata": {},
   "outputs": [
    {
     "data": {
      "text/html": [
       "<div>\n",
       "<style scoped>\n",
       "    .dataframe tbody tr th:only-of-type {\n",
       "        vertical-align: middle;\n",
       "    }\n",
       "\n",
       "    .dataframe tbody tr th {\n",
       "        vertical-align: top;\n",
       "    }\n",
       "\n",
       "    .dataframe thead th {\n",
       "        text-align: right;\n",
       "    }\n",
       "</style>\n",
       "<table border=\"1\" class=\"dataframe\">\n",
       "  <thead>\n",
       "    <tr style=\"text-align: right;\">\n",
       "      <th></th>\n",
       "      <th>0</th>\n",
       "      <th>1</th>\n",
       "      <th>2</th>\n",
       "      <th>3</th>\n",
       "      <th>4</th>\n",
       "    </tr>\n",
       "  </thead>\n",
       "  <tbody>\n",
       "    <tr>\n",
       "      <th>Date received</th>\n",
       "      <td>07/23/19</td>\n",
       "      <td>07/26/19</td>\n",
       "      <td>06/03/19</td>\n",
       "      <td>07/03/19</td>\n",
       "      <td>07/14/19</td>\n",
       "    </tr>\n",
       "    <tr>\n",
       "      <th>Product</th>\n",
       "      <td>Credit reporting, credit repair services, or o...</td>\n",
       "      <td>Debt collection</td>\n",
       "      <td>Debt collection</td>\n",
       "      <td>Debt collection</td>\n",
       "      <td>Credit reporting, credit repair services, or o...</td>\n",
       "    </tr>\n",
       "    <tr>\n",
       "      <th>Sub-product</th>\n",
       "      <td>Credit reporting</td>\n",
       "      <td>I do not know</td>\n",
       "      <td>I do not know</td>\n",
       "      <td>Other debt</td>\n",
       "      <td>Credit reporting</td>\n",
       "    </tr>\n",
       "    <tr>\n",
       "      <th>Issue</th>\n",
       "      <td>Credit monitoring or identity theft protection...</td>\n",
       "      <td>False statements or representation</td>\n",
       "      <td>Attempts to collect debt not owed</td>\n",
       "      <td>Attempts to collect debt not owed</td>\n",
       "      <td>Improper use of your report</td>\n",
       "    </tr>\n",
       "    <tr>\n",
       "      <th>Sub-issue</th>\n",
       "      <td>Problem canceling credit monitoring or identif...</td>\n",
       "      <td>Attempted to collect wrong amount</td>\n",
       "      <td>Debt was paid</td>\n",
       "      <td>Debt was result of identity theft</td>\n",
       "      <td>Received unsolicited financial product or insu...</td>\n",
       "    </tr>\n",
       "    <tr>\n",
       "      <th>Consumer complaint narrative</th>\n",
       "      <td>I have complained many times that the credit r...</td>\n",
       "      <td>please review the current fraud account and al...</td>\n",
       "      <td>Called multiple times over the years for a deb...</td>\n",
       "      <td>I sent in a letter to the company to have them...</td>\n",
       "      <td>On XX/XX/19 I applied for a Debt Relief Produc...</td>\n",
       "    </tr>\n",
       "    <tr>\n",
       "      <th>Company public response</th>\n",
       "      <td>Company has responded to the consumer and the ...</td>\n",
       "      <td>Company believes it acted appropriately as aut...</td>\n",
       "      <td>None</td>\n",
       "      <td>None</td>\n",
       "      <td>None</td>\n",
       "    </tr>\n",
       "    <tr>\n",
       "      <th>Company</th>\n",
       "      <td>Experian Information Solutions Inc.</td>\n",
       "      <td>Ideal Collection Services, Inc.</td>\n",
       "      <td>ONEMAIN FINANCIAL HOLDINGS, LLC.</td>\n",
       "      <td>Diversified Consultants, Inc.</td>\n",
       "      <td>ClearOne Advantage, LLC</td>\n",
       "    </tr>\n",
       "    <tr>\n",
       "      <th>State</th>\n",
       "      <td>CA</td>\n",
       "      <td>FL</td>\n",
       "      <td>FL</td>\n",
       "      <td>VA</td>\n",
       "      <td>PA</td>\n",
       "    </tr>\n",
       "    <tr>\n",
       "      <th>ZIP code</th>\n",
       "      <td>926XX</td>\n",
       "      <td>333XX</td>\n",
       "      <td>327XX</td>\n",
       "      <td>232XX</td>\n",
       "      <td>191XX</td>\n",
       "    </tr>\n",
       "    <tr>\n",
       "      <th>Tags</th>\n",
       "      <td>None</td>\n",
       "      <td>None</td>\n",
       "      <td>None</td>\n",
       "      <td>None</td>\n",
       "      <td>Older American, Servicemember</td>\n",
       "    </tr>\n",
       "    <tr>\n",
       "      <th>Consumer consent provided?</th>\n",
       "      <td>Consent provided</td>\n",
       "      <td>Consent provided</td>\n",
       "      <td>Consent provided</td>\n",
       "      <td>Consent provided</td>\n",
       "      <td>Consent provided</td>\n",
       "    </tr>\n",
       "    <tr>\n",
       "      <th>Submitted via</th>\n",
       "      <td>Web</td>\n",
       "      <td>Web</td>\n",
       "      <td>Web</td>\n",
       "      <td>Web</td>\n",
       "      <td>Web</td>\n",
       "    </tr>\n",
       "    <tr>\n",
       "      <th>Date sent to company</th>\n",
       "      <td>07/23/19</td>\n",
       "      <td>07/26/19</td>\n",
       "      <td>06/07/19</td>\n",
       "      <td>07/03/19</td>\n",
       "      <td>07/18/19</td>\n",
       "    </tr>\n",
       "    <tr>\n",
       "      <th>Company response to consumer</th>\n",
       "      <td>Closed with explanation</td>\n",
       "      <td>Closed with explanation</td>\n",
       "      <td>Closed with explanation</td>\n",
       "      <td>Closed with explanation</td>\n",
       "      <td>Closed with explanation</td>\n",
       "    </tr>\n",
       "    <tr>\n",
       "      <th>Timely response?</th>\n",
       "      <td>Yes</td>\n",
       "      <td>Yes</td>\n",
       "      <td>Yes</td>\n",
       "      <td>Yes</td>\n",
       "      <td>Yes</td>\n",
       "    </tr>\n",
       "    <tr>\n",
       "      <th>Consumer disputed?</th>\n",
       "      <td>NaN</td>\n",
       "      <td>NaN</td>\n",
       "      <td>NaN</td>\n",
       "      <td>NaN</td>\n",
       "      <td>NaN</td>\n",
       "    </tr>\n",
       "    <tr>\n",
       "      <th>Complaint ID</th>\n",
       "      <td>3315279</td>\n",
       "      <td>3319487</td>\n",
       "      <td>3262794</td>\n",
       "      <td>3295208</td>\n",
       "      <td>3306130</td>\n",
       "    </tr>\n",
       "  </tbody>\n",
       "</table>\n",
       "</div>"
      ],
      "text/plain": [
       "                                                                              0  \\\n",
       "Date received                                                          07/23/19   \n",
       "Product                       Credit reporting, credit repair services, or o...   \n",
       "Sub-product                                                    Credit reporting   \n",
       "Issue                         Credit monitoring or identity theft protection...   \n",
       "Sub-issue                     Problem canceling credit monitoring or identif...   \n",
       "Consumer complaint narrative  I have complained many times that the credit r...   \n",
       "Company public response       Company has responded to the consumer and the ...   \n",
       "Company                                     Experian Information Solutions Inc.   \n",
       "State                                                                        CA   \n",
       "ZIP code                                                                  926XX   \n",
       "Tags                                                                       None   \n",
       "Consumer consent provided?                                     Consent provided   \n",
       "Submitted via                                                               Web   \n",
       "Date sent to company                                                   07/23/19   \n",
       "Company response to consumer                            Closed with explanation   \n",
       "Timely response?                                                            Yes   \n",
       "Consumer disputed?                                                          NaN   \n",
       "Complaint ID                                                            3315279   \n",
       "\n",
       "                                                                              1  \\\n",
       "Date received                                                          07/26/19   \n",
       "Product                                                         Debt collection   \n",
       "Sub-product                                                       I do not know   \n",
       "Issue                                        False statements or representation   \n",
       "Sub-issue                                     Attempted to collect wrong amount   \n",
       "Consumer complaint narrative  please review the current fraud account and al...   \n",
       "Company public response       Company believes it acted appropriately as aut...   \n",
       "Company                                         Ideal Collection Services, Inc.   \n",
       "State                                                                        FL   \n",
       "ZIP code                                                                  333XX   \n",
       "Tags                                                                       None   \n",
       "Consumer consent provided?                                     Consent provided   \n",
       "Submitted via                                                               Web   \n",
       "Date sent to company                                                   07/26/19   \n",
       "Company response to consumer                            Closed with explanation   \n",
       "Timely response?                                                            Yes   \n",
       "Consumer disputed?                                                          NaN   \n",
       "Complaint ID                                                            3319487   \n",
       "\n",
       "                                                                              2  \\\n",
       "Date received                                                          06/03/19   \n",
       "Product                                                         Debt collection   \n",
       "Sub-product                                                       I do not know   \n",
       "Issue                                         Attempts to collect debt not owed   \n",
       "Sub-issue                                                         Debt was paid   \n",
       "Consumer complaint narrative  Called multiple times over the years for a deb...   \n",
       "Company public response                                                    None   \n",
       "Company                                        ONEMAIN FINANCIAL HOLDINGS, LLC.   \n",
       "State                                                                        FL   \n",
       "ZIP code                                                                  327XX   \n",
       "Tags                                                                       None   \n",
       "Consumer consent provided?                                     Consent provided   \n",
       "Submitted via                                                               Web   \n",
       "Date sent to company                                                   06/07/19   \n",
       "Company response to consumer                            Closed with explanation   \n",
       "Timely response?                                                            Yes   \n",
       "Consumer disputed?                                                          NaN   \n",
       "Complaint ID                                                            3262794   \n",
       "\n",
       "                                                                              3  \\\n",
       "Date received                                                          07/03/19   \n",
       "Product                                                         Debt collection   \n",
       "Sub-product                                                          Other debt   \n",
       "Issue                                         Attempts to collect debt not owed   \n",
       "Sub-issue                                     Debt was result of identity theft   \n",
       "Consumer complaint narrative  I sent in a letter to the company to have them...   \n",
       "Company public response                                                    None   \n",
       "Company                                           Diversified Consultants, Inc.   \n",
       "State                                                                        VA   \n",
       "ZIP code                                                                  232XX   \n",
       "Tags                                                                       None   \n",
       "Consumer consent provided?                                     Consent provided   \n",
       "Submitted via                                                               Web   \n",
       "Date sent to company                                                   07/03/19   \n",
       "Company response to consumer                            Closed with explanation   \n",
       "Timely response?                                                            Yes   \n",
       "Consumer disputed?                                                          NaN   \n",
       "Complaint ID                                                            3295208   \n",
       "\n",
       "                                                                              4  \n",
       "Date received                                                          07/14/19  \n",
       "Product                       Credit reporting, credit repair services, or o...  \n",
       "Sub-product                                                    Credit reporting  \n",
       "Issue                                               Improper use of your report  \n",
       "Sub-issue                     Received unsolicited financial product or insu...  \n",
       "Consumer complaint narrative  On XX/XX/19 I applied for a Debt Relief Produc...  \n",
       "Company public response                                                    None  \n",
       "Company                                                 ClearOne Advantage, LLC  \n",
       "State                                                                        PA  \n",
       "ZIP code                                                                  191XX  \n",
       "Tags                                              Older American, Servicemember  \n",
       "Consumer consent provided?                                     Consent provided  \n",
       "Submitted via                                                               Web  \n",
       "Date sent to company                                                   07/18/19  \n",
       "Company response to consumer                            Closed with explanation  \n",
       "Timely response?                                                            Yes  \n",
       "Consumer disputed?                                                          NaN  \n",
       "Complaint ID                                                            3306130  "
      ]
     },
     "execution_count": 2,
     "metadata": {},
     "output_type": "execute_result"
    }
   ],
   "source": [
    "# Uitvoer inverteren voor betere leesbaarheid\n",
    "complaints.head().T"
   ]
  },
  {
   "cell_type": "markdown",
   "metadata": {},
   "source": [
    "Om de data beter te begrijpen maken we een nieuwe DataFrame met slechts 3 kolommen.\n",
    "- Product\n",
    "- Sub-product\n",
    "- Consumer complaint narrative\n",
    "\n",
    "Met deze DataFrame gaan we het aantal klachten voor elke categorie van producten en sub-producten bepalen."
   ]
  },
  {
   "cell_type": "code",
   "execution_count": 3,
   "metadata": {},
   "outputs": [
    {
     "data": {
      "text/html": [
       "<div>\n",
       "<style scoped>\n",
       "    .dataframe tbody tr th:only-of-type {\n",
       "        vertical-align: middle;\n",
       "    }\n",
       "\n",
       "    .dataframe tbody tr th {\n",
       "        vertical-align: top;\n",
       "    }\n",
       "\n",
       "    .dataframe thead th {\n",
       "        text-align: right;\n",
       "    }\n",
       "</style>\n",
       "<table border=\"1\" class=\"dataframe\">\n",
       "  <thead>\n",
       "    <tr style=\"text-align: right;\">\n",
       "      <th></th>\n",
       "      <th>Product</th>\n",
       "      <th>Sub_Product</th>\n",
       "      <th>Issue</th>\n",
       "      <th>Sub_Issue</th>\n",
       "      <th>Narrative</th>\n",
       "    </tr>\n",
       "  </thead>\n",
       "  <tbody>\n",
       "    <tr>\n",
       "      <th>0</th>\n",
       "      <td>Credit reporting, credit repair services, or o...</td>\n",
       "      <td>Credit reporting</td>\n",
       "      <td>Credit monitoring or identity theft protection...</td>\n",
       "      <td>Problem canceling credit monitoring or identif...</td>\n",
       "      <td>I have complained many times that the credit r...</td>\n",
       "    </tr>\n",
       "    <tr>\n",
       "      <th>1</th>\n",
       "      <td>Debt collection</td>\n",
       "      <td>I do not know</td>\n",
       "      <td>False statements or representation</td>\n",
       "      <td>Attempted to collect wrong amount</td>\n",
       "      <td>please review the current fraud account and al...</td>\n",
       "    </tr>\n",
       "    <tr>\n",
       "      <th>2</th>\n",
       "      <td>Debt collection</td>\n",
       "      <td>I do not know</td>\n",
       "      <td>Attempts to collect debt not owed</td>\n",
       "      <td>Debt was paid</td>\n",
       "      <td>Called multiple times over the years for a deb...</td>\n",
       "    </tr>\n",
       "    <tr>\n",
       "      <th>3</th>\n",
       "      <td>Debt collection</td>\n",
       "      <td>Other debt</td>\n",
       "      <td>Attempts to collect debt not owed</td>\n",
       "      <td>Debt was result of identity theft</td>\n",
       "      <td>I sent in a letter to the company to have them...</td>\n",
       "    </tr>\n",
       "    <tr>\n",
       "      <th>4</th>\n",
       "      <td>Credit reporting, credit repair services, or o...</td>\n",
       "      <td>Credit reporting</td>\n",
       "      <td>Improper use of your report</td>\n",
       "      <td>Received unsolicited financial product or insu...</td>\n",
       "      <td>On XX/XX/19 I applied for a Debt Relief Produc...</td>\n",
       "    </tr>\n",
       "  </tbody>\n",
       "</table>\n",
       "</div>"
      ],
      "text/plain": [
       "                                             Product       Sub_Product  \\\n",
       "0  Credit reporting, credit repair services, or o...  Credit reporting   \n",
       "1                                    Debt collection     I do not know   \n",
       "2                                    Debt collection     I do not know   \n",
       "3                                    Debt collection        Other debt   \n",
       "4  Credit reporting, credit repair services, or o...  Credit reporting   \n",
       "\n",
       "                                               Issue  \\\n",
       "0  Credit monitoring or identity theft protection...   \n",
       "1                 False statements or representation   \n",
       "2                  Attempts to collect debt not owed   \n",
       "3                  Attempts to collect debt not owed   \n",
       "4                        Improper use of your report   \n",
       "\n",
       "                                           Sub_Issue  \\\n",
       "0  Problem canceling credit monitoring or identif...   \n",
       "1                  Attempted to collect wrong amount   \n",
       "2                                      Debt was paid   \n",
       "3                  Debt was result of identity theft   \n",
       "4  Received unsolicited financial product or insu...   \n",
       "\n",
       "                                           Narrative  \n",
       "0  I have complained many times that the credit r...  \n",
       "1  please review the current fraud account and al...  \n",
       "2  Called multiple times over the years for a deb...  \n",
       "3  I sent in a letter to the company to have them...  \n",
       "4  On XX/XX/19 I applied for a Debt Relief Produc...  "
      ]
     },
     "execution_count": 3,
     "metadata": {},
     "output_type": "execute_result"
    }
   ],
   "source": [
    "# Nieuwe DataFrame aanmaken met 3 kolommen\n",
    "df = complaints[['Product', 'Sub-product', 'Issue', 'Sub-issue', 'Consumer complaint narrative']].copy()\n",
    "\n",
    "# Kolommen een simpelere naam geven\n",
    "df.columns = ['Product', 'Sub_Product', 'Issue', 'Sub_Issue', 'Narrative'] \n",
    "\n",
    "df.head()"
   ]
  },
  {
   "cell_type": "markdown",
   "metadata": {},
   "source": [
    "### Aantal klachten per categorie van producten"
   ]
  },
  {
   "cell_type": "code",
   "execution_count": 4,
   "metadata": {},
   "outputs": [
    {
     "name": "stdout",
     "output_type": "stream",
     "text": [
      "Aantal product categorieën: 10\n"
     ]
    }
   ],
   "source": [
    "print('Aantal product categorieën:', pd.DataFrame(complaints.Product.unique()).size)"
   ]
  },
  {
   "cell_type": "markdown",
   "metadata": {},
   "source": [
    "Er zijn meer dan 18 verschillende categorieën voor de producten. Sommige zijn echter heel erg gerelateerd aan elkaar. Daarom kan het nuttig zijn om sommige categorieën samen te nemen om de accuraatheid van het te bekomen model te verbeteren.\n",
    "- 'Credit reporting, repair, or other'\n",
    "    - 'Credit reporting, credit repair services, or other personal consumer reports'\n",
    "    - 'Credit reporting'\n",
    "- 'Credit card or prepaid card'\n",
    "    - 'Credit card'\n",
    "    - 'Prepaid card'\n",
    "- 'Payday loan, title loan, or personal loan\n",
    "    - 'Payday loan'\n",
    "- 'Money transfer, virtual currency, or money service'\n",
    "    - 'Money transfer' \n",
    "    - 'Virtual currency'"
   ]
  },
  {
   "cell_type": "code",
   "execution_count": 5,
   "metadata": {},
   "outputs": [],
   "source": [
    "df.replace({'Product': \n",
    "             {'Credit reporting, credit repair services, or other personal consumer reports': \n",
    "              'Credit reporting, repair, or other', \n",
    "              'Credit reporting': 'Credit reporting, repair, or other',\n",
    "             'Credit card': 'Credit card or prepaid card',\n",
    "             'Prepaid card': 'Credit card or prepaid card',\n",
    "             'Payday loan': 'Payday loan, title loan, or personal loan',\n",
    "             'Money transfer': 'Money transfer, virtual currency, or money service',\n",
    "             'Virtual currency': 'Money transfer, virtual currency, or money service'}}, \n",
    "            inplace= True)"
   ]
  },
  {
   "cell_type": "code",
   "execution_count": 6,
   "metadata": {},
   "outputs": [
    {
     "data": {
      "text/html": [
       "<div>\n",
       "<style scoped>\n",
       "    .dataframe tbody tr th:only-of-type {\n",
       "        vertical-align: middle;\n",
       "    }\n",
       "\n",
       "    .dataframe tbody tr th {\n",
       "        vertical-align: top;\n",
       "    }\n",
       "\n",
       "    .dataframe thead th {\n",
       "        text-align: right;\n",
       "    }\n",
       "</style>\n",
       "<table border=\"1\" class=\"dataframe\">\n",
       "  <thead>\n",
       "    <tr style=\"text-align: right;\">\n",
       "      <th></th>\n",
       "      <th>0</th>\n",
       "    </tr>\n",
       "  </thead>\n",
       "  <tbody>\n",
       "    <tr>\n",
       "      <th>0</th>\n",
       "      <td>Credit reporting, repair, or other</td>\n",
       "    </tr>\n",
       "    <tr>\n",
       "      <th>1</th>\n",
       "      <td>Debt collection</td>\n",
       "    </tr>\n",
       "    <tr>\n",
       "      <th>2</th>\n",
       "      <td>Payday loan, title loan, or personal loan</td>\n",
       "    </tr>\n",
       "    <tr>\n",
       "      <th>3</th>\n",
       "      <td>Mortgage</td>\n",
       "    </tr>\n",
       "    <tr>\n",
       "      <th>4</th>\n",
       "      <td>Credit card or prepaid card</td>\n",
       "    </tr>\n",
       "    <tr>\n",
       "      <th>5</th>\n",
       "      <td>Checking or savings account</td>\n",
       "    </tr>\n",
       "    <tr>\n",
       "      <th>6</th>\n",
       "      <td>Student loan</td>\n",
       "    </tr>\n",
       "    <tr>\n",
       "      <th>7</th>\n",
       "      <td>Vehicle loan or lease</td>\n",
       "    </tr>\n",
       "    <tr>\n",
       "      <th>8</th>\n",
       "      <td>Money transfer, virtual currency, or money ser...</td>\n",
       "    </tr>\n",
       "  </tbody>\n",
       "</table>\n",
       "</div>"
      ],
      "text/plain": [
       "                                                   0\n",
       "0                 Credit reporting, repair, or other\n",
       "1                                    Debt collection\n",
       "2          Payday loan, title loan, or personal loan\n",
       "3                                           Mortgage\n",
       "4                        Credit card or prepaid card\n",
       "5                        Checking or savings account\n",
       "6                                       Student loan\n",
       "7                              Vehicle loan or lease\n",
       "8  Money transfer, virtual currency, or money ser..."
      ]
     },
     "execution_count": 6,
     "metadata": {},
     "output_type": "execute_result"
    }
   ],
   "source": [
    "pd.DataFrame(df.Product.unique())"
   ]
  },
  {
   "cell_type": "markdown",
   "metadata": {},
   "source": [
    "Er blijven nu slechts 13 product categorieën over."
   ]
  },
  {
   "cell_type": "markdown",
   "metadata": {},
   "source": [
    "Om het mogelijk te maken om een model te ontwikkelen gaan we elke categorie die in tekstvorm in de dataset staat, gaan voorstellen als een getal. Hiervoor voegen we een nieuwe kolom toe met als naam 'Category_Id'."
   ]
  },
  {
   "cell_type": "code",
   "execution_count": 7,
   "metadata": {},
   "outputs": [
    {
     "data": {
      "text/plain": [
       "{0: 'Credit reporting, repair, or other',\n",
       " 1: 'Debt collection',\n",
       " 2: 'Payday loan, title loan, or personal loan',\n",
       " 3: 'Mortgage',\n",
       " 4: 'Credit card or prepaid card',\n",
       " 5: 'Checking or savings account',\n",
       " 6: 'Student loan',\n",
       " 7: 'Vehicle loan or lease',\n",
       " 8: 'Money transfer, virtual currency, or money service'}"
      ]
     },
     "execution_count": 7,
     "metadata": {},
     "output_type": "execute_result"
    }
   ],
   "source": [
    "df['Category_Id'] = df['Product'].factorize()[0]\n",
    "\n",
    "# Dictionary aanmaken die de 'Category_Id - Product' combinaties bevat\n",
    "categories = dict(df[['Category_Id', 'Product']].drop_duplicates().values)\n",
    "categories"
   ]
  },
  {
   "cell_type": "code",
   "execution_count": 8,
   "metadata": {},
   "outputs": [
    {
     "data": {
      "text/html": [
       "<div>\n",
       "<style scoped>\n",
       "    .dataframe tbody tr th:only-of-type {\n",
       "        vertical-align: middle;\n",
       "    }\n",
       "\n",
       "    .dataframe tbody tr th {\n",
       "        vertical-align: top;\n",
       "    }\n",
       "\n",
       "    .dataframe thead th {\n",
       "        text-align: right;\n",
       "    }\n",
       "</style>\n",
       "<table border=\"1\" class=\"dataframe\">\n",
       "  <thead>\n",
       "    <tr style=\"text-align: right;\">\n",
       "      <th></th>\n",
       "      <th>0</th>\n",
       "      <th>1</th>\n",
       "      <th>2</th>\n",
       "      <th>3</th>\n",
       "      <th>4</th>\n",
       "    </tr>\n",
       "  </thead>\n",
       "  <tbody>\n",
       "    <tr>\n",
       "      <th>Product</th>\n",
       "      <td>Credit reporting, repair, or other</td>\n",
       "      <td>Debt collection</td>\n",
       "      <td>Debt collection</td>\n",
       "      <td>Debt collection</td>\n",
       "      <td>Credit reporting, repair, or other</td>\n",
       "    </tr>\n",
       "    <tr>\n",
       "      <th>Sub_Product</th>\n",
       "      <td>Credit reporting</td>\n",
       "      <td>I do not know</td>\n",
       "      <td>I do not know</td>\n",
       "      <td>Other debt</td>\n",
       "      <td>Credit reporting</td>\n",
       "    </tr>\n",
       "    <tr>\n",
       "      <th>Issue</th>\n",
       "      <td>Credit monitoring or identity theft protection...</td>\n",
       "      <td>False statements or representation</td>\n",
       "      <td>Attempts to collect debt not owed</td>\n",
       "      <td>Attempts to collect debt not owed</td>\n",
       "      <td>Improper use of your report</td>\n",
       "    </tr>\n",
       "    <tr>\n",
       "      <th>Sub_Issue</th>\n",
       "      <td>Problem canceling credit monitoring or identif...</td>\n",
       "      <td>Attempted to collect wrong amount</td>\n",
       "      <td>Debt was paid</td>\n",
       "      <td>Debt was result of identity theft</td>\n",
       "      <td>Received unsolicited financial product or insu...</td>\n",
       "    </tr>\n",
       "    <tr>\n",
       "      <th>Narrative</th>\n",
       "      <td>I have complained many times that the credit r...</td>\n",
       "      <td>please review the current fraud account and al...</td>\n",
       "      <td>Called multiple times over the years for a deb...</td>\n",
       "      <td>I sent in a letter to the company to have them...</td>\n",
       "      <td>On XX/XX/19 I applied for a Debt Relief Produc...</td>\n",
       "    </tr>\n",
       "    <tr>\n",
       "      <th>Category_Id</th>\n",
       "      <td>0</td>\n",
       "      <td>1</td>\n",
       "      <td>1</td>\n",
       "      <td>1</td>\n",
       "      <td>0</td>\n",
       "    </tr>\n",
       "  </tbody>\n",
       "</table>\n",
       "</div>"
      ],
      "text/plain": [
       "                                                             0  \\\n",
       "Product                     Credit reporting, repair, or other   \n",
       "Sub_Product                                   Credit reporting   \n",
       "Issue        Credit monitoring or identity theft protection...   \n",
       "Sub_Issue    Problem canceling credit monitoring or identif...   \n",
       "Narrative    I have complained many times that the credit r...   \n",
       "Category_Id                                                  0   \n",
       "\n",
       "                                                             1  \\\n",
       "Product                                        Debt collection   \n",
       "Sub_Product                                      I do not know   \n",
       "Issue                       False statements or representation   \n",
       "Sub_Issue                    Attempted to collect wrong amount   \n",
       "Narrative    please review the current fraud account and al...   \n",
       "Category_Id                                                  1   \n",
       "\n",
       "                                                             2  \\\n",
       "Product                                        Debt collection   \n",
       "Sub_Product                                      I do not know   \n",
       "Issue                        Attempts to collect debt not owed   \n",
       "Sub_Issue                                        Debt was paid   \n",
       "Narrative    Called multiple times over the years for a deb...   \n",
       "Category_Id                                                  1   \n",
       "\n",
       "                                                             3  \\\n",
       "Product                                        Debt collection   \n",
       "Sub_Product                                         Other debt   \n",
       "Issue                        Attempts to collect debt not owed   \n",
       "Sub_Issue                    Debt was result of identity theft   \n",
       "Narrative    I sent in a letter to the company to have them...   \n",
       "Category_Id                                                  1   \n",
       "\n",
       "                                                             4  \n",
       "Product                     Credit reporting, repair, or other  \n",
       "Sub_Product                                   Credit reporting  \n",
       "Issue                              Improper use of your report  \n",
       "Sub_Issue    Received unsolicited financial product or insu...  \n",
       "Narrative    On XX/XX/19 I applied for a Debt Relief Produc...  \n",
       "Category_Id                                                  0  "
      ]
     },
     "execution_count": 8,
     "metadata": {},
     "output_type": "execute_result"
    }
   ],
   "source": [
    "# Nieuwe DataFrame met de extra kolom weergeven\n",
    "df.head().T"
   ]
  },
  {
   "cell_type": "markdown",
   "metadata": {},
   "source": [
    "Vervolgens gaan we het aantal producten per categorie bepalen en visualiseren in een barplot."
   ]
  },
  {
   "cell_type": "code",
   "execution_count": 9,
   "metadata": {},
   "outputs": [
    {
     "data": {
      "text/html": [
       "<div>\n",
       "<style scoped>\n",
       "    .dataframe tbody tr th:only-of-type {\n",
       "        vertical-align: middle;\n",
       "    }\n",
       "\n",
       "    .dataframe tbody tr th {\n",
       "        vertical-align: top;\n",
       "    }\n",
       "\n",
       "    .dataframe thead th {\n",
       "        text-align: right;\n",
       "    }\n",
       "</style>\n",
       "<table border=\"1\" class=\"dataframe\">\n",
       "  <thead>\n",
       "    <tr style=\"text-align: right;\">\n",
       "      <th></th>\n",
       "      <th>Count</th>\n",
       "    </tr>\n",
       "    <tr>\n",
       "      <th>Product</th>\n",
       "      <th></th>\n",
       "    </tr>\n",
       "  </thead>\n",
       "  <tbody>\n",
       "    <tr>\n",
       "      <th>Checking or savings account</th>\n",
       "      <td>261</td>\n",
       "    </tr>\n",
       "    <tr>\n",
       "      <th>Credit card or prepaid card</th>\n",
       "      <td>447</td>\n",
       "    </tr>\n",
       "    <tr>\n",
       "      <th>Credit reporting, repair, or other</th>\n",
       "      <td>2410</td>\n",
       "    </tr>\n",
       "    <tr>\n",
       "      <th>Debt collection</th>\n",
       "      <td>1026</td>\n",
       "    </tr>\n",
       "    <tr>\n",
       "      <th>Money transfer, virtual currency, or money service</th>\n",
       "      <td>108</td>\n",
       "    </tr>\n",
       "    <tr>\n",
       "      <th>Mortgage</th>\n",
       "      <td>407</td>\n",
       "    </tr>\n",
       "    <tr>\n",
       "      <th>Payday loan, title loan, or personal loan</th>\n",
       "      <td>78</td>\n",
       "    </tr>\n",
       "    <tr>\n",
       "      <th>Student loan</th>\n",
       "      <td>139</td>\n",
       "    </tr>\n",
       "    <tr>\n",
       "      <th>Vehicle loan or lease</th>\n",
       "      <td>124</td>\n",
       "    </tr>\n",
       "  </tbody>\n",
       "</table>\n",
       "</div>"
      ],
      "text/plain": [
       "                                                    Count\n",
       "Product                                                  \n",
       "Checking or savings account                           261\n",
       "Credit card or prepaid card                           447\n",
       "Credit reporting, repair, or other                   2410\n",
       "Debt collection                                      1026\n",
       "Money transfer, virtual currency, or money service    108\n",
       "Mortgage                                              407\n",
       "Payday loan, title loan, or personal loan              78\n",
       "Student loan                                          139\n",
       "Vehicle loan or lease                                 124"
      ]
     },
     "execution_count": 9,
     "metadata": {},
     "output_type": "execute_result"
    }
   ],
   "source": [
    "# Aantal products\n",
    "product_counts = pd.DataFrame({'Count': df.groupby(['Product']).size()})\n",
    "product_counts"
   ]
  },
  {
   "cell_type": "code",
   "execution_count": 10,
   "metadata": {},
   "outputs": [
    {
     "data": {
      "text/plain": [
       "<matplotlib.axes._subplots.AxesSubplot at 0x7f9c72e25d90>"
      ]
     },
     "execution_count": 10,
     "metadata": {},
     "output_type": "execute_result"
    },
    {
     "data": {
      "text/plain": [
       "<Figure size 720x360 with 0 Axes>"
      ]
     },
     "metadata": {},
     "output_type": "display_data"
    },
    {
     "data": {
      "image/png": "[encoded data removed]",
      "text/plain": [
       "<Figure size 432x288 with 1 Axes>"
      ]
     },
     "metadata": {
      "needs_background": "light"
     },
     "output_type": "display_data"
    }
   ],
   "source": [
    "fig = plt.figure(figsize=(10, 5))\n",
    "product_counts.plot.barh(title=\"Aantal klachten per product categorie\", legend=None)"
   ]
  },
  {
   "cell_type": "markdown",
   "metadata": {},
   "source": [
    "De verdeling van de data over de verschillende categorieën is niet gebalanceerd. Dit kan voor problemen zorgen bij het classificeren aangezien de kleine categorieën als uitschieters gezien kunnen worden. We zouden deze categorieën kunnen oversampelen zodat de dataset gebalanceerd wordt, maar aangezien de categorieën die het meest voorkomen ook het meest waarschijnlijk voorkomen tijdens het classificeren, zullen we dit niet doen."
   ]
  },
  {
   "cell_type": "markdown",
   "metadata": {},
   "source": [
    "Om deze categorieën van producten en sub-producten beter te begrijpen, gaan we het verband tussen beiden gaan onderzoeken."
   ]
  },
  {
   "cell_type": "code",
   "execution_count": 11,
   "metadata": {},
   "outputs": [
    {
     "data": {
      "text/html": [
       "<div>\n",
       "<style scoped>\n",
       "    .dataframe tbody tr th:only-of-type {\n",
       "        vertical-align: middle;\n",
       "    }\n",
       "\n",
       "    .dataframe tbody tr th {\n",
       "        vertical-align: top;\n",
       "    }\n",
       "\n",
       "    .dataframe thead th {\n",
       "        text-align: right;\n",
       "    }\n",
       "</style>\n",
       "<table border=\"1\" class=\"dataframe\">\n",
       "  <thead>\n",
       "    <tr style=\"text-align: right;\">\n",
       "      <th></th>\n",
       "      <th></th>\n",
       "      <th>Count</th>\n",
       "    </tr>\n",
       "    <tr>\n",
       "      <th>Product</th>\n",
       "      <th>Sub_Product</th>\n",
       "      <th></th>\n",
       "    </tr>\n",
       "  </thead>\n",
       "  <tbody>\n",
       "    <tr>\n",
       "      <th rowspan=\"4\" valign=\"top\">Checking or savings account</th>\n",
       "      <th>CD (Certificate of Deposit)</th>\n",
       "      <td>1</td>\n",
       "    </tr>\n",
       "    <tr>\n",
       "      <th>Checking account</th>\n",
       "      <td>216</td>\n",
       "    </tr>\n",
       "    <tr>\n",
       "      <th>Other banking product or service</th>\n",
       "      <td>21</td>\n",
       "    </tr>\n",
       "    <tr>\n",
       "      <th>Savings account</th>\n",
       "      <td>23</td>\n",
       "    </tr>\n",
       "    <tr>\n",
       "      <th rowspan=\"6\" valign=\"top\">Credit card or prepaid card</th>\n",
       "      <th>General-purpose credit card or charge card</th>\n",
       "      <td>353</td>\n",
       "    </tr>\n",
       "    <tr>\n",
       "      <th>General-purpose prepaid card</th>\n",
       "      <td>21</td>\n",
       "    </tr>\n",
       "    <tr>\n",
       "      <th>Gift card</th>\n",
       "      <td>2</td>\n",
       "    </tr>\n",
       "    <tr>\n",
       "      <th>Government benefit card</th>\n",
       "      <td>4</td>\n",
       "    </tr>\n",
       "    <tr>\n",
       "      <th>None</th>\n",
       "      <td>1</td>\n",
       "    </tr>\n",
       "    <tr>\n",
       "      <th>Payroll card</th>\n",
       "      <td>2</td>\n",
       "    </tr>\n",
       "  </tbody>\n",
       "</table>\n",
       "</div>"
      ],
      "text/plain": [
       "                                                                        Count\n",
       "Product                     Sub_Product                                      \n",
       "Checking or savings account CD (Certificate of Deposit)                     1\n",
       "                            Checking account                              216\n",
       "                            Other banking product or service               21\n",
       "                            Savings account                                23\n",
       "Credit card or prepaid card General-purpose credit card or charge card    353\n",
       "                            General-purpose prepaid card                   21\n",
       "                            Gift card                                       2\n",
       "                            Government benefit card                         4\n",
       "                            None                                            1\n",
       "                            Payroll card                                    2"
      ]
     },
     "execution_count": 11,
     "metadata": {},
     "output_type": "execute_result"
    }
   ],
   "source": [
    "sub_product_counts = pd.DataFrame({'Count': df.groupby(['Product', 'Sub_Product']).size()})\n",
    "sub_product_counts.head(10)"
   ]
  },
  {
   "cell_type": "code",
   "execution_count": 12,
   "metadata": {},
   "outputs": [
    {
     "data": {
      "text/plain": [
       "<matplotlib.axes._subplots.AxesSubplot at 0x7f9c72d11690>"
      ]
     },
     "execution_count": 12,
     "metadata": {},
     "output_type": "execute_result"
    },
    {
     "data": {
      "image/png": "[encoded data removed]",
      "text/plain": [
       "<Figure size 432x288 with 1 Axes>"
      ]
     },
     "metadata": {
      "needs_background": "light"
     },
     "output_type": "display_data"
    }
   ],
   "source": [
    "sub_product_counts.unstack().plot(kind='barh', stacked=True, legend=None, title=\"Aantal klachten per sub-product categorie\")"
   ]
  },
  {
   "cell_type": "markdown",
   "metadata": {},
   "source": [
    "## Data pre-processing"
   ]
  },
  {
   "cell_type": "markdown",
   "metadata": {},
   "source": [
    "Om tekst als invoer te gebruiken voor algoritmes, moeten we deze gaan converteren naar bruikbare data. We berekenen hiervoor de Term Frequency en Inverse Document Frequency (TF-IDF).\n",
    "- Term Frequency: beschrijft relatief hoeveel keer een gegeven woord in een document voorkomt ten opzichte van het totaal aantal woorden\n",
    "- Inverse Document Frequency: beschrijft het aantal keer een bepaalde term voorkomt over meerdere documenten\n",
    "    - Hoge IDF: term komt slechts voor in een paar documenten\n",
    "    - Lage IDF: term komt in veel documenten voor"
   ]
  },
  {
   "cell_type": "markdown",
   "metadata": {},
   "source": [
    "TfidfVectorizer class wordt geïnitialiseerd met de volgende paramters:\n",
    "- `min_df`: verwijder de termen die in minder dan deze waarde aantal documenten voorkomt\n",
    "- `sublinear_tf`: term frequentie op een logaritmische schaal plaatsen\n",
    "- `stop_words`: verwijder specifieke (vaak voorkomende) stop woorden uit het Engels\n",
    "- `ngram_range`: (1, 2) geeft aan dat zowel termen uit 1 woord (unigram), als termen die uit 2 woorden (bigram) bestaat kunnen gebruikt worden"
   ]
  },
  {
   "cell_type": "markdown",
   "metadata": {},
   "source": [
    "Om dit te realiseren gaan we eerst elke klacht narrative omvormen naar een array van termen (= features)."
   ]
  },
  {
   "cell_type": "code",
   "execution_count": 13,
   "metadata": {},
   "outputs": [
    {
     "name": "stdout",
     "output_type": "stream",
     "text": [
      "De 5000 verschillende klachten worden voorgeteld door 14656 features\n"
     ]
    }
   ],
   "source": [
    "from sklearn.feature_extraction.text import TfidfVectorizer\n",
    "\n",
    "tfidfVector = TfidfVectorizer(sublinear_tf=True, min_df=5, ngram_range=(1, 2), stop_words='english')\n",
    "\n",
    "features = tfidfVector.fit_transform(df['Narrative']).toarray()\n",
    "labels = df.Category_Id\n",
    "\n",
    "print(\"De %d verschillende klachten worden voorgeteld door %d features\" %(features.shape))"
   ]
  },
  {
   "cell_type": "markdown",
   "metadata": {},
   "source": [
    "Vervolgens gaan we voor elke categorie de meest voorkomende termen gaan selecteren aan de hand van de Chi-square verdeling.\n",
    "- Unigrams: termen die slechts uit 1 woord bestaan\n",
    "- Bigrams: termen die uit 2 woorden bestaan\n",
    "\n",
    "De parameters voor de Chi-square verdeling zijn als volgt:\n",
    "- X: features: (Category_Id, [features]) tuples\n",
    "- y: labels (Category_Id)\n",
    "- returns: (chi2_values, pvalues) tuples\n",
    "\n",
    "Hiermee kunnen de Chi-square waarden berekend worden voor elke feature per categorie. Vervolgens kunnen we de features sorteren op de hoogste waarde om zo de features met hoogste frequentie te bepalen. Hier schrijven we telkens voor elke categorie de 3 meest voorkomende features uit."
   ]
  },
  {
   "cell_type": "code",
   "execution_count": 14,
   "metadata": {},
   "outputs": [
    {
     "name": "stdout",
     "output_type": "stream",
     "text": [
      "\n",
      "Credit reporting, repair, or other:\n",
      "\tUnigrams: accounts, reporting, report\n",
      "\tBigrams: xxxx xxxx, credit file, credit report\n",
      "\n",
      "Debt collection:\n",
      "\tUnigrams: recovery, collection, debt\n",
      "\tBigrams: portfolio recovery, collect debt, collection agency\n",
      "\n",
      "Payday loan, title loan, or personal loan:\n",
      "\tUnigrams: ach, loan, payday\n",
      "\tBigrams: 00 loan, pay loan, loan told\n",
      "\n",
      "Mortgage:\n",
      "\tUnigrams: modification, escrow, mortgage\n",
      "\tBigrams: mortgage payment, escrow account, loan modification\n",
      "\n",
      "Credit card or prepaid card:\n",
      "\tUnigrams: amex, citi, card\n",
      "\tBigrams: new card, american express, credit card\n",
      "\n",
      "Checking or savings account:\n",
      "\tUnigrams: savings, deposit, branch\n",
      "\tBigrams: debit card, savings account, checking account\n",
      "\n",
      "Student loan:\n",
      "\tUnigrams: student, repayment, navient\n",
      "\tBigrams: student loans, loan forgiveness, qualifying payments\n",
      "\n",
      "Vehicle loan or lease:\n",
      "\tUnigrams: lease, vehicle, car\n",
      "\tBigrams: consumer usa, santander consumer, paying car\n",
      "\n",
      "Money transfer, virtual currency, or money service:\n",
      "\tUnigrams: coinbase, zelle, paypal\n",
      "\tBigrams: money transfer, paypal account, cash app\n"
     ]
    }
   ],
   "source": [
    "from sklearn.feature_selection import chi2\n",
    "\n",
    "N = 3\n",
    "for Category_Id, Product in sorted(categories.items()):\n",
    "    features_chi2 = chi2(features, labels == Category_Id)\n",
    "    indices = np.argsort(features_chi2[0])\n",
    "    feature_names = np.array(tfidfVector.get_feature_names())[indices]\n",
    "    unigrams = [v for v in feature_names if len(v.split(' ')) == 1]\n",
    "    bigrams = [v for v in feature_names if len(v.split(' ')) == 2]\n",
    "    \n",
    "    print(\"\\n%s:\" %(Product))\n",
    "    print(\"\\tUnigrams: %s\" %(', '.join(unigrams[-N:])))\n",
    "    print(\"\\tBigrams: %s\" %(', '.join(bigrams[-N:])))"
   ]
  },
  {
   "cell_type": "markdown",
   "metadata": {},
   "source": [
    "## Classification Experiments: Multi-Class Text Classification"
   ]
  },
  {
   "cell_type": "markdown",
   "metadata": {},
   "source": [
    "Multi-Classification models die we zullen evalueren:\n",
    "- Random Forest\n",
    "- Linear Support Vector Machine\n",
    "- Multinomial Naive Bayes\n",
    "- Logistic Regression\n",
    "- K-nearest neighbors"
   ]
  },
  {
   "cell_type": "markdown",
   "metadata": {},
   "source": [
    "We evalueren de accuracy van de verschillende classificatie algoritmen aan de hand van cross-validatie:"
   ]
  },
  {
   "cell_type": "markdown",
   "metadata": {},
   "source": [
    "De cross-validatie functie wordt voor elk model met de volgende parameters uitgevoerd:\n",
    "- `estimator`: het object die gebruikt wordt om de data te fitten (het model)\n",
    "- `X`: de features die gefit moeten worden\n",
    "- `y`: de target die we proberen te voorspellen (supervised learning)\n",
    "- `scoring`: het score object die gebruikt moet worden\n",
    "- `cv`: splitting strategie instellen (default = 5) om de data in sequenties van train en test stukken op te delen"
   ]
  },
  {
   "cell_type": "code",
   "execution_count": 19,
   "metadata": {},
   "outputs": [],
   "source": [
    "from sklearn.naive_bayes import MultinomialNB\n",
    "from sklearn.linear_model import LogisticRegression\n",
    "from sklearn.ensemble import RandomForestClassifier\n",
    "from sklearn.svm import LinearSVC\n",
    "from sklearn.neighbors import KNeighborsClassifier\n",
    "from sklearn.model_selection import cross_val_score\n",
    "\n",
    "models = [\n",
    "    RandomForestClassifier(n_estimators=100, max_depth=5, random_state=0),\n",
    "    LinearSVC(),\n",
    "    MultinomialNB(),\n",
    "    LogisticRegression(random_state=0),\n",
    "    KNeighborsClassifier()\n",
    "]\n",
    "\n",
    "CV = 5\n",
    "cv_df = pd.DataFrame(index=range(CV * len(models)))\n",
    "\n",
    "entries = []\n",
    "for model in models:\n",
    "    model_name = model.__class__.__name__\n",
    "    accuracies = cross_val_score(model, features, labels, scoring='accuracy', cv=CV)\n",
    "    for fold_idx, accuracy in enumerate(accuracies):\n",
    "        entries.append((model_name, fold_idx, accuracy))\n",
    "    \n",
    "cv_df = pd.DataFrame(entries, columns=['model_name', 'fold_idx', 'accuracy'])"
   ]
  },
  {
   "cell_type": "code",
   "execution_count": 20,
   "metadata": {},
   "outputs": [
    {
     "data": {
      "text/html": [
       "<div>\n",
       "<style scoped>\n",
       "    .dataframe tbody tr th:only-of-type {\n",
       "        vertical-align: middle;\n",
       "    }\n",
       "\n",
       "    .dataframe tbody tr th {\n",
       "        vertical-align: top;\n",
       "    }\n",
       "\n",
       "    .dataframe thead th {\n",
       "        text-align: right;\n",
       "    }\n",
       "</style>\n",
       "<table border=\"1\" class=\"dataframe\">\n",
       "  <thead>\n",
       "    <tr style=\"text-align: right;\">\n",
       "      <th></th>\n",
       "      <th>Mean Accuracy</th>\n",
       "      <th>Standard deviation</th>\n",
       "    </tr>\n",
       "    <tr>\n",
       "      <th>model_name</th>\n",
       "      <th></th>\n",
       "      <th></th>\n",
       "    </tr>\n",
       "  </thead>\n",
       "  <tbody>\n",
       "    <tr>\n",
       "      <th>KNeighborsClassifier</th>\n",
       "      <td>0.6500</td>\n",
       "      <td>0.045205</td>\n",
       "    </tr>\n",
       "    <tr>\n",
       "      <th>LinearSVC</th>\n",
       "      <td>0.8178</td>\n",
       "      <td>0.009039</td>\n",
       "    </tr>\n",
       "    <tr>\n",
       "      <th>LogisticRegression</th>\n",
       "      <td>0.7912</td>\n",
       "      <td>0.006723</td>\n",
       "    </tr>\n",
       "    <tr>\n",
       "      <th>MultinomialNB</th>\n",
       "      <td>0.6318</td>\n",
       "      <td>0.009203</td>\n",
       "    </tr>\n",
       "    <tr>\n",
       "      <th>RandomForestClassifier</th>\n",
       "      <td>0.4836</td>\n",
       "      <td>0.001342</td>\n",
       "    </tr>\n",
       "  </tbody>\n",
       "</table>\n",
       "</div>"
      ],
      "text/plain": [
       "                        Mean Accuracy  Standard deviation\n",
       "model_name                                               \n",
       "KNeighborsClassifier           0.6500            0.045205\n",
       "LinearSVC                      0.8178            0.009039\n",
       "LogisticRegression             0.7912            0.006723\n",
       "MultinomialNB                  0.6318            0.009203\n",
       "RandomForestClassifier         0.4836            0.001342"
      ]
     },
     "execution_count": 20,
     "metadata": {},
     "output_type": "execute_result"
    }
   ],
   "source": [
    "mean_accuracy = cv_df.groupby('model_name').accuracy.mean()\n",
    "std_accuracy = cv_df.groupby('model_name').accuracy.std()\n",
    "\n",
    "acc = pd.concat([mean_accuracy, std_accuracy], axis= 1, ignore_index=True)\n",
    "acc.columns = ['Mean Accuracy', 'Standard deviation']\n",
    "acc"
   ]
  },
  {
   "cell_type": "code",
   "execution_count": 21,
   "metadata": {},
   "outputs": [
    {
     "data": {
      "image/png": "[encoded data removed]",
      "text/plain": [
       "<Figure size 576x360 with 1 Axes>"
      ]
     },
     "metadata": {
      "needs_background": "light"
     },
     "output_type": "display_data"
    }
   ],
   "source": [
    "plt.figure(figsize=(8,5))\n",
    "sns.boxplot(x='model_name', y='accuracy', data=cv_df, showmeans=True)\n",
    "plt.title(\"Mean Accuracy (cv = 5)\\n\", size=14);"
   ]
  },
  {
   "cell_type": "markdown",
   "metadata": {},
   "source": [
    "Om een classificatie model te bekomen aan de hand van supervised learning, dienen we de originele dataset op te splitsen in train en test subsets. Op die manier kan het model getraind en getest worden op twee verschillende datasets. Zo kunnen we het algoritme gaan testen op een dataset die het algoritme nog niet gezien heeft."
   ]
  },
  {
   "cell_type": "code",
   "execution_count": 22,
   "metadata": {},
   "outputs": [
    {
     "name": "stdout",
     "output_type": "stream",
     "text": [
      "(3750, 14656)\n",
      "(3750,)\n",
      "(1250, 14656)\n",
      "(1250,)\n"
     ]
    }
   ],
   "source": [
    "from sklearn.model_selection import train_test_split\n",
    "\n",
    "X_train, X_test, y_train, y_test = train_test_split(features, labels, test_size=0.25)\n",
    "\n",
    "print(X_train.shape)\n",
    "print(y_train.shape)\n",
    "\n",
    "print(X_test.shape)\n",
    "print(y_test.shape)"
   ]
  },
  {
   "cell_type": "markdown",
   "metadata": {},
   "source": [
    "Nu kunnen we de uitkomsten van classificatie gaan voorspellen op de test subset met het getrainde model."
   ]
  },
  {
   "cell_type": "code",
   "execution_count": 23,
   "metadata": {},
   "outputs": [],
   "source": [
    "model = LinearSVC()\n",
    "model.fit(X_train, y_train)\n",
    "y_pred = model.predict(X_test)"
   ]
  },
  {
   "cell_type": "markdown",
   "metadata": {},
   "source": [
    "Vervolgens gaan we deze voorspellingen gaan vergelijken met onze target en hieruit een rapport genereren die evalueert hoe goed ons classificatie model werkt."
   ]
  },
  {
   "cell_type": "code",
   "execution_count": 24,
   "metadata": {},
   "outputs": [
    {
     "name": "stdout",
     "output_type": "stream",
     "text": [
      "                                                    precision    recall  f1-score   support\n",
      "\n",
      "                Credit reporting, repair, or other       0.89      0.90      0.90       611\n",
      "                                   Debt collection       0.76      0.85      0.80       250\n",
      "         Payday loan, title loan, or personal loan       0.00      0.00      0.00        17\n",
      "                                          Mortgage       0.89      0.95      0.92        98\n",
      "                       Credit card or prepaid card       0.76      0.75      0.76       118\n",
      "                       Checking or savings account       0.75      0.88      0.81        59\n",
      "                                      Student loan       0.77      0.73      0.75        33\n",
      "                             Vehicle loan or lease       0.62      0.24      0.34        34\n",
      "Money transfer, virtual currency, or money service       0.78      0.47      0.58        30\n",
      "\n",
      "                                          accuracy                           0.83      1250\n",
      "                                         macro avg       0.69      0.64      0.65      1250\n",
      "                                      weighted avg       0.82      0.83      0.82      1250\n",
      "\n"
     ]
    }
   ],
   "source": [
    "from sklearn import metrics\n",
    "\n",
    "print(metrics.classification_report(y_test, y_pred, target_names= df['Product'].unique()))"
   ]
  },
  {
   "cell_type": "markdown",
   "metadata": {},
   "source": [
    "Om te gaan visualiseren hoe goed het model de categorieën voorspeld heeft, gaan we een confusion matrix genereren. Indien alle categorieën correct zouden voorspelt zijn, zouden enkel de cellen die op de diagonaal liggen een waarde mogen hebben."
   ]
  },
  {
   "cell_type": "code",
   "execution_count": 29,
   "metadata": {},
   "outputs": [
    {
     "data": {
      "image/png": "[encoded data removed]",
      "text/plain": [
       "<Figure size 576x576 with 2 Axes>"
      ]
     },
     "metadata": {
      "needs_background": "light"
     },
     "output_type": "display_data"
    }
   ],
   "source": [
    "from sklearn.metrics import confusion_matrix\n",
    "\n",
    "conf_mat = confusion_matrix(y_test, y_pred)\n",
    "fig, ax = plt.subplots(figsize=(8,8))\n",
    "sns.heatmap(conf_mat, annot=True, cmap=\"Blues\", fmt='d', xticklabels=categories.values(), yticklabels=categories.values())\n",
    "plt.ylabel('Correcte categorie')\n",
    "plt.xlabel('Voorspelde categorie')\n",
    "plt.title(\"Confusion Matrix\", size=16);"
   ]
  },
  {
   "cell_type": "markdown",
   "metadata": {},
   "source": [
    "De diagonaal is duidelijk zichtbaar waardoor we kunnen besluiten dat ons classificatie model naar behoren werkt."
   ]
  }
 ],
 "metadata": {
  "kernelspec": {
   "display_name": "Python 3",
   "language": "python",
   "name": "python3"
  },
  "language_info": {
   "codemirror_mode": {
    "name": "ipython",
    "version": 3
   },
   "file_extension": ".py",
   "mimetype": "text/x-python",
   "name": "python",
   "nbconvert_exporter": "python",
   "pygments_lexer": "ipython3",
   "version": "3.7.6"
  }
 },
 "nbformat": 4,
 "nbformat_minor": 4
}
