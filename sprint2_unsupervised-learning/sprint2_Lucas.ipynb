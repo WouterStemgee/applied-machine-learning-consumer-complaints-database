{
 "cells": [
  {
   "cell_type": "markdown",
   "metadata": {},
   "source": [
    "# Sprint 2: Unsupervised learning"
   ]
  },
  {
   "cell_type": "markdown",
   "metadata": {},
   "source": [
    "## Data Analysis"
   ]
  },
  {
   "cell_type": "code",
   "execution_count": 76,
   "metadata": {},
   "outputs": [],
   "source": [
    "import numpy as np\n",
    "import pandas as pd\n",
    "import matplotlib.pyplot as plt\n",
    "import seaborn as sns\n",
    "import csv\n",
    "import re, string\n",
    "\n",
    "rows_to_read = 500 # Gewenst aantal rijen inlezen (None = allemaal)\n",
    "\n",
    "complaints = pd.read_csv('./data/complaints.csv', delimiter=',', nrows=rows_to_read)\n",
    "\n",
    "rows, cols = complaints.shape"
   ]
  },
  {
   "cell_type": "code",
   "execution_count": 80,
   "metadata": {},
   "outputs": [
    {
     "data": {
      "text/plain": [
       "9"
      ]
     },
     "execution_count": 80,
     "metadata": {},
     "output_type": "execute_result"
    }
   ],
   "source": [
    "complaints.Product.unique()\n",
    "complaints['Product'].nunique()"
   ]
  },
  {
   "cell_type": "markdown",
   "metadata": {},
   "source": [
    "In totaal zijn er 9 verschillende producten, daarom is het doel om uiteindelijk 9 clusters te bekomen die elk\n",
    "een product categorie voorstellen."
   ]
  },
  {
   "cell_type": "markdown",
   "metadata": {},
   "source": [
    "## Data pre-processing"
   ]
  },
  {
   "cell_type": "code",
   "execution_count": 20,
   "metadata": {},
   "outputs": [
    {
     "data": {
      "text/html": [
       "<div>\n",
       "<style scoped>\n",
       "    .dataframe tbody tr th:only-of-type {\n",
       "        vertical-align: middle;\n",
       "    }\n",
       "\n",
       "    .dataframe tbody tr th {\n",
       "        vertical-align: top;\n",
       "    }\n",
       "\n",
       "    .dataframe thead th {\n",
       "        text-align: right;\n",
       "    }\n",
       "</style>\n",
       "<table border=\"1\" class=\"dataframe\">\n",
       "  <thead>\n",
       "    <tr style=\"text-align: right;\">\n",
       "      <th></th>\n",
       "      <th>Product</th>\n",
       "      <th>Sub_Product</th>\n",
       "      <th>Issue</th>\n",
       "      <th>Sub_Issue</th>\n",
       "      <th>Narrative</th>\n",
       "    </tr>\n",
       "  </thead>\n",
       "  <tbody>\n",
       "    <tr>\n",
       "      <th>0</th>\n",
       "      <td>Credit reporting, credit repair services, or o...</td>\n",
       "      <td>Credit reporting</td>\n",
       "      <td>Credit monitoring or identity theft protection...</td>\n",
       "      <td>Problem canceling credit monitoring or identif...</td>\n",
       "      <td>I have complained many times that the credit r...</td>\n",
       "    </tr>\n",
       "    <tr>\n",
       "      <th>1</th>\n",
       "      <td>Debt collection</td>\n",
       "      <td>I do not know</td>\n",
       "      <td>False statements or representation</td>\n",
       "      <td>Attempted to collect wrong amount</td>\n",
       "      <td>please review the current fraud account and al...</td>\n",
       "    </tr>\n",
       "    <tr>\n",
       "      <th>2</th>\n",
       "      <td>Debt collection</td>\n",
       "      <td>I do not know</td>\n",
       "      <td>Attempts to collect debt not owed</td>\n",
       "      <td>Debt was paid</td>\n",
       "      <td>Called multiple times over the years for a deb...</td>\n",
       "    </tr>\n",
       "    <tr>\n",
       "      <th>3</th>\n",
       "      <td>Debt collection</td>\n",
       "      <td>Other debt</td>\n",
       "      <td>Attempts to collect debt not owed</td>\n",
       "      <td>Debt was result of identity theft</td>\n",
       "      <td>I sent in a letter to the company to have them...</td>\n",
       "    </tr>\n",
       "    <tr>\n",
       "      <th>4</th>\n",
       "      <td>Credit reporting, credit repair services, or o...</td>\n",
       "      <td>Credit reporting</td>\n",
       "      <td>Improper use of your report</td>\n",
       "      <td>Received unsolicited financial product or insu...</td>\n",
       "      <td>On XX/XX/19 I applied for a Debt Relief Produc...</td>\n",
       "    </tr>\n",
       "  </tbody>\n",
       "</table>\n",
       "</div>"
      ],
      "text/plain": [
       "                                             Product       Sub_Product  \\\n",
       "0  Credit reporting, credit repair services, or o...  Credit reporting   \n",
       "1                                    Debt collection     I do not know   \n",
       "2                                    Debt collection     I do not know   \n",
       "3                                    Debt collection        Other debt   \n",
       "4  Credit reporting, credit repair services, or o...  Credit reporting   \n",
       "\n",
       "                                               Issue  \\\n",
       "0  Credit monitoring or identity theft protection...   \n",
       "1                 False statements or representation   \n",
       "2                  Attempts to collect debt not owed   \n",
       "3                  Attempts to collect debt not owed   \n",
       "4                        Improper use of your report   \n",
       "\n",
       "                                           Sub_Issue  \\\n",
       "0  Problem canceling credit monitoring or identif...   \n",
       "1                  Attempted to collect wrong amount   \n",
       "2                                      Debt was paid   \n",
       "3                  Debt was result of identity theft   \n",
       "4  Received unsolicited financial product or insu...   \n",
       "\n",
       "                                           Narrative  \n",
       "0  I have complained many times that the credit r...  \n",
       "1  please review the current fraud account and al...  \n",
       "2  Called multiple times over the years for a deb...  \n",
       "3  I sent in a letter to the company to have them...  \n",
       "4  On XX/XX/19 I applied for a Debt Relief Produc...  "
      ]
     },
     "execution_count": 20,
     "metadata": {},
     "output_type": "execute_result"
    }
   ],
   "source": [
    "complaints_df = complaints[['Product', 'Sub-product', 'Issue', 'Sub-issue', 'Consumer complaint narrative']].copy()\n",
    "\n",
    "# Kolommen een simpelere naam geven\n",
    "complaints_df.columns = ['Product', 'Sub_Product', 'Issue', 'Sub_Issue', 'Narrative'] \n",
    "complaints_df.head()"
   ]
  },
  {
   "cell_type": "code",
   "execution_count": 21,
   "metadata": {},
   "outputs": [],
   "source": [
    "from sklearn.feature_extraction.stop_words import ENGLISH_STOP_WORDS\n",
    "from sklearn.preprocessing import LabelEncoder\n",
    "stop_words = ENGLISH_STOP_WORDS\n",
    "\n",
    "def clean_tokenized(string):\n",
    "    # Omzetten naar lowercase \n",
    "    string =string.lower()\n",
    "    # Alles wat niet gelijk is aan een lowercase of whitespace eruit filteren\n",
    "    string = re.sub(r'[^\\w\\s]','',string)\n",
    "    # Alle getallen eruit filteren\n",
    "    string = re.sub(r'[0-9]|,','',string)\n",
    "    # Returns en newlines eruithalen\n",
    "    string = string.replace('\\r',' ')\n",
    "    string = string.replace('\\n',' ')\n",
    "    # Kaart nummers staan in de tekst als volgt XXX XXX ..., deze eruit filteren\n",
    "    string = re.sub(r'[X|x]{2,}',' ',string)\n",
    "    # de string splitten om de stop woorden er afzonderlijk uit te halen\n",
    "    words = string.split(' ')\n",
    "    no_stop = [w for w in words if w not in stop_words]\n",
    "    return no_stop\n",
    "\n",
    "def clean_string(string):\n",
    "    inp=clean_tokenized(string)\n",
    "    return \" \".join(inp)"
   ]
  },
  {
   "cell_type": "code",
   "execution_count": 26,
   "metadata": {},
   "outputs": [],
   "source": [
    "complaints_df['Narrative_clean'] = complaints_df['Narrative'].apply(clean_string)\n",
    "complaints_df['Narrative_clean_tokenized'] = complaints_df['Narrative'].apply(clean_tokenized)"
   ]
  },
  {
   "cell_type": "code",
   "execution_count": 106,
   "metadata": {},
   "outputs": [
    {
     "name": "stdout",
     "output_type": "stream",
     "text": [
      "(500, 5295)\n",
      "(500,)\n"
     ]
    }
   ],
   "source": [
    "from sklearn.feature_extraction.text import TfidfVectorizer\n",
    "\n",
    "tokens = complaints_df['Narrative_clean_tokenized'].astype('str')\n",
    "\n",
    "#woorden die in meer dan 95% van de narratives voorkomen en woorden die in 5 of minder narratives voorkomen negeren \n",
    "#ook bigrams in rekening nemen\n",
    "tfidf_vectorizer = TfidfVectorizer(ngram_range=(1,2),\n",
    "                                    min_df = 2, \n",
    "                                    max_df = .10)\n",
    "\n",
    "#dit zijn alle features\n",
    "X = tfidf_vectorizer.fit_transform(tokens)\n",
    "#target\n",
    "y = complaints_df.head(10000)['Product'].values\n",
    "\n",
    "print(X.shape)\n",
    "print(y.shape)"
   ]
  },
  {
   "cell_type": "code",
   "execution_count": 107,
   "metadata": {},
   "outputs": [
    {
     "name": "stdout",
     "output_type": "stream",
     "text": [
      "['ability', 'ability obtain', 'able', 'able access', 'able confirm', 'able make', 'able pay', 'able verify', 'absence', 'absence documentation']\n",
      "5295\n",
      "(500, 5295)\n"
     ]
    }
   ],
   "source": [
    "feature_names=tfidf_vectorizer.get_feature_names()\n",
    "print(feature_names[:10])\n",
    "print(len(feature_names))\n",
    "# #documenten,#features names (woorden in woordenboek)\n",
    "print(X.shape)\n"
   ]
  },
  {
   "cell_type": "markdown",
   "metadata": {},
   "source": [
    "## Data normalizeren"
   ]
  },
  {
   "cell_type": "code",
   "execution_count": 120,
   "metadata": {},
   "outputs": [
    {
     "data": {
      "text/plain": [
       "array([[-0.15083835, -0.10845947, -0.20433999, ..., -0.05848265,\n",
       "        -0.0629845 , -0.06904966],\n",
       "       [-0.15083835, -0.10845947, -0.20433999, ..., -0.05848265,\n",
       "        -0.0629845 , -0.06904966],\n",
       "       [-0.15083835, -0.10845947, -0.20433999, ..., -0.05848265,\n",
       "        -0.0629845 , -0.06904966],\n",
       "       ...,\n",
       "       [-0.15083835, -0.10845947, -0.20433999, ..., -0.05848265,\n",
       "        -0.0629845 , -0.06904966],\n",
       "       [-0.15083835, -0.10845947, -0.20433999, ..., -0.05848265,\n",
       "        -0.0629845 , -0.06904966],\n",
       "       [-0.15083835, -0.10845947, -0.20433999, ..., -0.05848265,\n",
       "        -0.0629845 , -0.06904966]])"
      ]
     },
     "execution_count": 120,
     "metadata": {},
     "output_type": "execute_result"
    }
   ],
   "source": [
    "from sklearn.preprocessing import StandardScaler\n",
    "scaler = StandardScaler()\n",
    "X_scaled = scaler.fit_transform(X.toarray())\n",
    "#scaled_data = pd.DataFrame(scaled_data)\n",
    "X_scaled"
   ]
  },
  {
   "cell_type": "markdown",
   "metadata": {},
   "source": [
    "## KMeans Clustering"
   ]
  },
  {
   "cell_type": "markdown",
   "metadata": {},
   "source": [
    "### Niet Genormaliseerd"
   ]
  },
  {
   "cell_type": "code",
   "execution_count": 108,
   "metadata": {},
   "outputs": [],
   "source": [
    "from sklearn.feature_extraction.text import TfidfVectorizer\n",
    "from sklearn.cluster import KMeans\n",
    "# toepassen van kmeans op de woord frequenties per klacht\n",
    "kmeans = KMeans(n_clusters=2).fit(X)"
   ]
  },
  {
   "cell_type": "code",
   "execution_count": 115,
   "metadata": {},
   "outputs": [],
   "source": [
    "# Manier om de clusters te visualizeren (bron labo)\n",
    "def plotClusters2D(data, cluster_labels, cluster_centers = None):  \n",
    "    '''\n",
    "    This function plots the data items, using a different color per cluster. If cluster_centers are provided, these are also plotted.\n",
    "    \n",
    "    Args:\n",
    "    *  data: Numpy array of tuples: [[item1_x, item1_y], [item2_x, item2_y] ,... ]\n",
    "    * cluster_labels: an array of integers containing the cluster number for each data item: \n",
    "    * cluster_centers: optional, an array of tuples containing the feature values of the cluster centers [[center1_x, center1_y], [center2_x,center 2_y]...]\n",
    "    '''\n",
    "    \n",
    "    unique_labels = set(cluster_labels)\n",
    "    colors = [plt.cm.Spectral(each) for each in np.linspace(0, 1, len(unique_labels))]\n",
    "    \n",
    "    for k, col in zip(unique_labels, colors):\n",
    "        if k == -1:\n",
    "          # Black used for points not assigned to a cluster (will be useful for other algorithms, k-means assigns each element to a cluster)\n",
    "          col = [0, 0, 0, 1]        \n",
    "\n",
    "        plt.scatter(data[cluster_labels == k,0],data[cluster_labels == k,1],s=20,c=[col])\n",
    "\n",
    "    if cluster_centers is not None:\n",
    "        plt.scatter(cluster_centers[:, 0], cluster_centers[:, 1], s=250, marker='*', c='red', edgecolor='black')\n",
    "  \n",
    "    plt.xlabel('Feature 1') ;   \n",
    "    plt.ylabel('Feature 2');"
   ]
  },
  {
   "cell_type": "code",
   "execution_count": 118,
   "metadata": {},
   "outputs": [
    {
     "data": {
      "image/png": "[encoded data removed]",
      "text/plain": [
       "<Figure size 432x288 with 1 Axes>"
      ]
     },
     "metadata": {
      "needs_background": "light"
     },
     "output_type": "display_data"
    }
   ],
   "source": [
    "km = KMeans(n_clusters=4, init='k-means++')\n",
    "y_km = km.fit_predict(X)\n",
    "plotClusters2D(X.toarray(),y_km,km.cluster_centers_)\n"
   ]
  },
  {
   "cell_type": "markdown",
   "metadata": {},
   "source": [
    "### Genormaliseerd"
   ]
  },
  {
   "cell_type": "markdown",
   "metadata": {},
   "source": [
    "Normalizatie uitvoeren van tfidf"
   ]
  },
  {
   "cell_type": "code",
   "execution_count": 121,
   "metadata": {},
   "outputs": [
    {
     "data": {
      "image/png": "[encoded data removed]",
      "text/plain": [
       "<Figure size 432x288 with 1 Axes>"
      ]
     },
     "metadata": {
      "needs_background": "light"
     },
     "output_type": "display_data"
    }
   ],
   "source": [
    "km = KMeans(n_clusters=9, init='k-means++')\n",
    "y_km = km.fit_predict(scaled_data)\n",
    "plotClusters2D(X_scaled,y_km,km.cluster_centers_)"
   ]
  },
  {
   "cell_type": "markdown",
   "metadata": {},
   "source": [
    "KMeans is gevoelig aan outliers, daarom wordt gewerkt met een methode die deze beter ondersteunt.\n",
    "\n",
    "**DBSCAN - Density-Based Spatial Clustering** of applicaties met ruis. Dit bepaald de belangrijkste samples met een hoge densiteit en expandeert clusters van hen. Goed voor data die clusters bevat met een zelfde densiteit, daarom is het toepasselijk om analoge complaints te groeperen\n",
    "\n",
    "* **eps**:  komt overeen met de maximale afstand tussen twee samples, die bepaald of de samples in dezelfde cluster liggen\n",
    "      dit is de meest belangerijke parameter voor de distance functie en dataset\n",
    "* **min_samples**: vanaf dit aantal is een groep samples een cluster"
   ]
  },
  {
   "cell_type": "code",
   "execution_count": 132,
   "metadata": {},
   "outputs": [],
   "source": [
    "from sklearn.cluster import DBSCAN\n",
    "import numpy as np\n",
    "clustering = DBSCAN(eps=0.5, min_samples=1).fit(X_scaled)"
   ]
  },
  {
   "cell_type": "code",
   "execution_count": 139,
   "metadata": {},
   "outputs": [
    {
     "data": {
      "image/png": "[encoded data removed]",
      "text/plain": [
       "<Figure size 432x288 with 1 Axes>"
      ]
     },
     "metadata": {
      "needs_background": "light"
     },
     "output_type": "display_data"
    }
   ],
   "source": [
    "plotClusters2D(X_scaled,clustering.labels_)"
   ]
  },
  {
   "cell_type": "code",
   "execution_count": 131,
   "metadata": {},
   "outputs": [
    {
     "data": {
      "text/plain": [
       "<500x5295 sparse matrix of type '<class 'numpy.float64'>'\n",
       "\twith 27369 stored elements in Compressed Sparse Row format>"
      ]
     },
     "execution_count": 131,
     "metadata": {},
     "output_type": "execute_result"
    }
   ],
   "source": [
    "X"
   ]
  },
  {
   "cell_type": "code",
   "execution_count": null,
   "metadata": {},
   "outputs": [],
   "source": []
  }
 ],
 "metadata": {
  "kernelspec": {
   "display_name": "Python 3",
   "language": "python",
   "name": "python3"
  },
  "language_info": {
   "codemirror_mode": {
    "name": "ipython",
    "version": 3
   },
   "file_extension": ".py",
   "mimetype": "text/x-python",
   "name": "python",
   "nbconvert_exporter": "python",
   "pygments_lexer": "ipython3",
   "version": "3.7.6"
  }
 },
 "nbformat": 4,
 "nbformat_minor": 4
}
