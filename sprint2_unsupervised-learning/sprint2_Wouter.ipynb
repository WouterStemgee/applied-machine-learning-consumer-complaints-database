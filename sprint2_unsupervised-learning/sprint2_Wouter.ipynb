{
 "cells": [
  {
   "cell_type": "markdown",
   "metadata": {},
   "source": [
    "# Sprint 2: Unsupervised learning"
   ]
  },
  {
   "cell_type": "markdown",
   "metadata": {},
   "source": [
    "Tijdens deze tweede sprint wordt gefocust op het clusteren van de data. Aan de hand van de verschillende klachtbeschrijvingen trachten we de verschillende categorieën voor de producten en issues te voorspellen zonder de categorieën opvoorhand te specifiëren (unsupervised learning). Op die manier trachten we de klachten op een betere manier te groeperen in vergelijking met de reeds gedefinieërde categorieën in de dataset."
   ]
  },
  {
   "cell_type": "markdown",
   "metadata": {},
   "source": [
    "We zullen in deze sprint met meerdere technieken gaan experimenteren en telkens de onderlinge resultaten gaan vergelijken.\n",
    "1. Topic modeling: LDA (Latent Dirichlet Allocation)\n",
    "2. K-means clustering\n",
    "3. DBScan clustering\n",
    "\n",
    "Voor elke techniek gaan we de data pre-processing en feature extraction apart behandelen aangezien de resultaten van de verschillende technieken hiervan sterk afhankelijk zijn."
   ]
  },
  {
   "cell_type": "markdown",
   "metadata": {},
   "source": [
    "## Inlezen dataset"
   ]
  },
  {
   "cell_type": "markdown",
   "metadata": {},
   "source": [
    "De data exploratie wordt hier beperkt tot enkel het inlezen van de vereiste data. Dit werd reeds tijdens sprint 1 uitvoerig behandeld."
   ]
  },
  {
   "cell_type": "code",
   "execution_count": 29,
   "metadata": {},
   "outputs": [
    {
     "data": {
      "text/html": [
       "<div>\n",
       "<style scoped>\n",
       "    .dataframe tbody tr th:only-of-type {\n",
       "        vertical-align: middle;\n",
       "    }\n",
       "\n",
       "    .dataframe tbody tr th {\n",
       "        vertical-align: top;\n",
       "    }\n",
       "\n",
       "    .dataframe thead th {\n",
       "        text-align: right;\n",
       "    }\n",
       "</style>\n",
       "<table border=\"1\" class=\"dataframe\">\n",
       "  <thead>\n",
       "    <tr style=\"text-align: right;\">\n",
       "      <th></th>\n",
       "      <th>Product</th>\n",
       "      <th>Sub_Product</th>\n",
       "      <th>Issue</th>\n",
       "      <th>Sub_Issue</th>\n",
       "      <th>Narrative</th>\n",
       "    </tr>\n",
       "  </thead>\n",
       "  <tbody>\n",
       "    <tr>\n",
       "      <th>0</th>\n",
       "      <td>Credit reporting, credit repair services, or o...</td>\n",
       "      <td>Credit reporting</td>\n",
       "      <td>Credit monitoring or identity theft protection...</td>\n",
       "      <td>Problem canceling credit monitoring or identif...</td>\n",
       "      <td>I have complained many times that the credit r...</td>\n",
       "    </tr>\n",
       "    <tr>\n",
       "      <th>1</th>\n",
       "      <td>Debt collection</td>\n",
       "      <td>I do not know</td>\n",
       "      <td>False statements or representation</td>\n",
       "      <td>Attempted to collect wrong amount</td>\n",
       "      <td>please review the current fraud account and al...</td>\n",
       "    </tr>\n",
       "    <tr>\n",
       "      <th>2</th>\n",
       "      <td>Debt collection</td>\n",
       "      <td>I do not know</td>\n",
       "      <td>Attempts to collect debt not owed</td>\n",
       "      <td>Debt was paid</td>\n",
       "      <td>Called multiple times over the years for a deb...</td>\n",
       "    </tr>\n",
       "    <tr>\n",
       "      <th>3</th>\n",
       "      <td>Debt collection</td>\n",
       "      <td>Other debt</td>\n",
       "      <td>Attempts to collect debt not owed</td>\n",
       "      <td>Debt was result of identity theft</td>\n",
       "      <td>I sent in a letter to the company to have them...</td>\n",
       "    </tr>\n",
       "    <tr>\n",
       "      <th>4</th>\n",
       "      <td>Credit reporting, credit repair services, or o...</td>\n",
       "      <td>Credit reporting</td>\n",
       "      <td>Improper use of your report</td>\n",
       "      <td>Received unsolicited financial product or insu...</td>\n",
       "      <td>On XX/XX/19 I applied for a Debt Relief Produc...</td>\n",
       "    </tr>\n",
       "  </tbody>\n",
       "</table>\n",
       "</div>"
      ],
      "text/plain": [
       "                                             Product       Sub_Product  \\\n",
       "0  Credit reporting, credit repair services, or o...  Credit reporting   \n",
       "1                                    Debt collection     I do not know   \n",
       "2                                    Debt collection     I do not know   \n",
       "3                                    Debt collection        Other debt   \n",
       "4  Credit reporting, credit repair services, or o...  Credit reporting   \n",
       "\n",
       "                                               Issue  \\\n",
       "0  Credit monitoring or identity theft protection...   \n",
       "1                 False statements or representation   \n",
       "2                  Attempts to collect debt not owed   \n",
       "3                  Attempts to collect debt not owed   \n",
       "4                        Improper use of your report   \n",
       "\n",
       "                                           Sub_Issue  \\\n",
       "0  Problem canceling credit monitoring or identif...   \n",
       "1                  Attempted to collect wrong amount   \n",
       "2                                      Debt was paid   \n",
       "3                  Debt was result of identity theft   \n",
       "4  Received unsolicited financial product or insu...   \n",
       "\n",
       "                                           Narrative  \n",
       "0  I have complained many times that the credit r...  \n",
       "1  please review the current fraud account and al...  \n",
       "2  Called multiple times over the years for a deb...  \n",
       "3  I sent in a letter to the company to have them...  \n",
       "4  On XX/XX/19 I applied for a Debt Relief Produc...  "
      ]
     },
     "execution_count": 29,
     "metadata": {},
     "output_type": "execute_result"
    }
   ],
   "source": [
    "import numpy as np\n",
    "import pandas as pd\n",
    "import matplotlib.pyplot as plt\n",
    "import seaborn as sns\n",
    "\n",
    "rows_to_read = None # Gewenst aantal rijen inlezen (None = allemaal)\n",
    "\n",
    "complaints_df = pd.read_csv('../data/complaints.csv', delimiter=',', nrows=rows_to_read)\n",
    "complaints_df = complaints_df[['Product', 'Sub-product', 'Issue', 'Sub-issue', 'Consumer complaint narrative']].copy()\n",
    "complaints_df.columns = ['Product', 'Sub_Product', 'Issue', 'Sub_Issue', 'Narrative'] \n",
    "complaints_df.head()"
   ]
  },
  {
   "cell_type": "code",
   "execution_count": 30,
   "metadata": {},
   "outputs": [
    {
     "name": "stdout",
     "output_type": "stream",
     "text": [
      "Aantal product categorieën: 18\n"
     ]
    }
   ],
   "source": [
    "product_count = len(complaints_df.Product.unique())\n",
    "print('Aantal product categorieën:', product_count)"
   ]
  },
  {
   "cell_type": "markdown",
   "metadata": {},
   "source": [
    "## 1. Topic modeling: Latent Dirichlet Allocation"
   ]
  },
  {
   "cell_type": "markdown",
   "metadata": {},
   "source": [
    "Topic modeling wordt gebruikt om tekst uit een document te classificeren onder een specifiek onderwerp. Per document wordt een 'topic' bepaald, en per 'topic' worden de woorden bepaald die tot dit onderwerp behoren. LDA neemt aan dat elk document bestaat uit woorden die op een of andere manier gerelateerd zijn aan elkaar, en probeert deze onderliggende verbanden te zoeken."
   ]
  },
  {
   "cell_type": "markdown",
   "metadata": {},
   "source": [
    "### Data pre-processing"
   ]
  },
  {
   "cell_type": "markdown",
   "metadata": {},
   "source": [
    "Tijdens de vorige sprint hebben we gezien dat de dataset zeer ongebalanceerd is. Tijdens uitvoering van het experiment zowel met als zonder balanceren uitvoeren. Hierbij wordt data weggelaten uit de categorieën die het meest voorkomen (undersampling)."
   ]
  },
  {
   "cell_type": "markdown",
   "metadata": {},
   "source": [
    "Klachten worden gefilterd aan de hand van de volgende voorwaarden:\n",
    "- **tokenization**: tekst wordt opgesplitst in een sequentie van woorden zonder punctuatie en alles in lower case\n",
    "- woorden met **minder dan 3 karakters** worden weggelaten\n",
    "- **stopwoorden** worden verwijderd\n",
    "- **werkwoorden in derde persoon** worden veranderd naar de eerste persoon\n",
    "- **werkwoorden in verleden tijd** worden veranderd naar het heden\n",
    "- woorden worden gereduceerd tot hun **stamvorm**\n",
    "- alles wat niet gelijk is aan een lowercase of whitespace eruit filteren, alle getallen eruit filteren, returns en newlines eruithalen, kaartnummers eruit filteren"
   ]
  },
  {
   "cell_type": "code",
   "execution_count": 2,
   "metadata": {},
   "outputs": [
    {
     "name": "stderr",
     "output_type": "stream",
     "text": [
      "[nltk_data] Downloading package wordnet to /home/jovyan/nltk_data...\n",
      "[nltk_data]   Package wordnet is already up-to-date!\n"
     ]
    },
    {
     "data": {
      "text/plain": [
       "True"
      ]
     },
     "execution_count": 2,
     "metadata": {},
     "output_type": "execute_result"
    }
   ],
   "source": [
    "# pip install nltk\n",
    "import nltk\n",
    "nltk.download('wordnet')"
   ]
  },
  {
   "cell_type": "code",
   "execution_count": 3,
   "metadata": {},
   "outputs": [
    {
     "name": "stderr",
     "output_type": "stream",
     "text": [
      "/opt/conda/lib/python3.7/site-packages/sklearn/utils/deprecation.py:144: FutureWarning: The sklearn.feature_extraction.stop_words module is  deprecated in version 0.22 and will be removed in version 0.24. The corresponding classes / functions should instead be imported from sklearn.feature_extraction.text. Anything that cannot be imported from sklearn.feature_extraction.text is now part of the private API.\n",
      "  warnings.warn(message, FutureWarning)\n"
     ]
    }
   ],
   "source": [
    "import re\n",
    "from sklearn.feature_extraction.stop_words import ENGLISH_STOP_WORDS\n",
    "from nltk.stem import WordNetLemmatizer, SnowballStemmer\n",
    "\n",
    "def processing(string):\n",
    "    # omzetten naar lowercase \n",
    "    string = string.lower()\n",
    "    # alles wat niet gelijk is aan een lowercase of whitespace eruit filteren\n",
    "    string = re.sub(r'[^\\w\\s]', '', string)\n",
    "    # alle getallen eruit filteren\n",
    "    string = re.sub(r'[0-9]|,', '', string)\n",
    "    # returns en newlines eruithalen\n",
    "    string = string.replace('\\r', ' ')\n",
    "    string = string.replace('\\n', ' ')\n",
    "    # kaartnummers staan in de tekst als volgt XXX XXX ..., deze eruit filteren\n",
    "    string = re.sub(r'[X|x]{2,}', ' ', string)\n",
    "    # de string splitten om de stopwoorden er afzonderlijk uit te halen\n",
    "    tokens = string.split(' ')\n",
    "    tokens = [w for w in tokens if w not in ENGLISH_STOP_WORDS and len(w) > 3]\n",
    "    ## werkwoord vervoegingen veranderen en woorden reduceren naar stamvorm\n",
    "    result = [SnowballStemmer('english').stem(WordNetLemmatizer().lemmatize(token, pos='v')) for token in tokens]\n",
    "    return ' ' . join(result)"
   ]
  },
  {
   "cell_type": "code",
   "execution_count": 4,
   "metadata": {},
   "outputs": [],
   "source": [
    "complaints_df['Narrative_Processed'] = complaints_df['Narrative'].apply(processing)"
   ]
  },
  {
   "cell_type": "code",
   "execution_count": 5,
   "metadata": {},
   "outputs": [
    {
     "data": {
      "text/html": [
       "<div>\n",
       "<style scoped>\n",
       "    .dataframe tbody tr th:only-of-type {\n",
       "        vertical-align: middle;\n",
       "    }\n",
       "\n",
       "    .dataframe tbody tr th {\n",
       "        vertical-align: top;\n",
       "    }\n",
       "\n",
       "    .dataframe thead th {\n",
       "        text-align: right;\n",
       "    }\n",
       "</style>\n",
       "<table border=\"1\" class=\"dataframe\">\n",
       "  <thead>\n",
       "    <tr style=\"text-align: right;\">\n",
       "      <th></th>\n",
       "      <th>Narrative</th>\n",
       "      <th>Narrative_Processed</th>\n",
       "    </tr>\n",
       "  </thead>\n",
       "  <tbody>\n",
       "    <tr>\n",
       "      <th>0</th>\n",
       "      <td>I have complained many times that the credit r...</td>\n",
       "      <td>complain time credit report experian inaccur j...</td>\n",
       "    </tr>\n",
       "    <tr>\n",
       "      <th>1</th>\n",
       "      <td>please review the current fraud account and al...</td>\n",
       "      <td>review current fraud account fraudul inquir</td>\n",
       "    </tr>\n",
       "    <tr>\n",
       "      <th>2</th>\n",
       "      <td>Called multiple times over the years for a deb...</td>\n",
       "      <td>call multipl time year debt occur previous mar...</td>\n",
       "    </tr>\n",
       "    <tr>\n",
       "      <th>3</th>\n",
       "      <td>I sent in a letter to the company to have them...</td>\n",
       "      <td>send letter compani valid debt special attach ...</td>\n",
       "    </tr>\n",
       "    <tr>\n",
       "      <th>4</th>\n",
       "      <td>On XX/XX/19 I applied for a Debt Relief Produc...</td>\n",
       "      <td>appli debt relief product account execut expla...</td>\n",
       "    </tr>\n",
       "    <tr>\n",
       "      <th>...</th>\n",
       "      <td>...</td>\n",
       "      <td>...</td>\n",
       "    </tr>\n",
       "    <tr>\n",
       "      <th>485696</th>\n",
       "      <td>This account was a payday loan from the XXXX X...</td>\n",
       "      <td>account payday loan year complet request loan ...</td>\n",
       "    </tr>\n",
       "    <tr>\n",
       "      <th>485697</th>\n",
       "      <td>We had a mortgage with XXXX that was discharge...</td>\n",
       "      <td>mortgag discharg chapter bankruptci year compa...</td>\n",
       "    </tr>\n",
       "    <tr>\n",
       "      <th>485698</th>\n",
       "      <td>I have 2003 XXXX financed through United Auto ...</td>\n",
       "      <td>financ unit auto credit payment motor lock sei...</td>\n",
       "    </tr>\n",
       "    <tr>\n",
       "      <th>485699</th>\n",
       "      <td>I was on automatic payment for my car loan. In...</td>\n",
       "      <td>automat payment loan fine print suppos final p...</td>\n",
       "    </tr>\n",
       "    <tr>\n",
       "      <th>485700</th>\n",
       "      <td>I recieved a collections call from an unknown ...</td>\n",
       "      <td>reciev collect unknown compani morn hospit hol...</td>\n",
       "    </tr>\n",
       "  </tbody>\n",
       "</table>\n",
       "<p>485701 rows × 2 columns</p>\n",
       "</div>"
      ],
      "text/plain": [
       "                                                Narrative  \\\n",
       "0       I have complained many times that the credit r...   \n",
       "1       please review the current fraud account and al...   \n",
       "2       Called multiple times over the years for a deb...   \n",
       "3       I sent in a letter to the company to have them...   \n",
       "4       On XX/XX/19 I applied for a Debt Relief Produc...   \n",
       "...                                                   ...   \n",
       "485696  This account was a payday loan from the XXXX X...   \n",
       "485697  We had a mortgage with XXXX that was discharge...   \n",
       "485698  I have 2003 XXXX financed through United Auto ...   \n",
       "485699  I was on automatic payment for my car loan. In...   \n",
       "485700  I recieved a collections call from an unknown ...   \n",
       "\n",
       "                                      Narrative_Processed  \n",
       "0       complain time credit report experian inaccur j...  \n",
       "1             review current fraud account fraudul inquir  \n",
       "2       call multipl time year debt occur previous mar...  \n",
       "3       send letter compani valid debt special attach ...  \n",
       "4       appli debt relief product account execut expla...  \n",
       "...                                                   ...  \n",
       "485696  account payday loan year complet request loan ...  \n",
       "485697  mortgag discharg chapter bankruptci year compa...  \n",
       "485698  financ unit auto credit payment motor lock sei...  \n",
       "485699  automat payment loan fine print suppos final p...  \n",
       "485700  reciev collect unknown compani morn hospit hol...  \n",
       "\n",
       "[485701 rows x 2 columns]"
      ]
     },
     "execution_count": 5,
     "metadata": {},
     "output_type": "execute_result"
    }
   ],
   "source": [
    "complaints_df[['Narrative', 'Narrative_Processed']]"
   ]
  },
  {
   "cell_type": "markdown",
   "metadata": {},
   "source": [
    "### Bag of words (BoW)"
   ]
  },
  {
   "cell_type": "markdown",
   "metadata": {},
   "source": [
    "Om de LDA analyse te starten, moeten we de tekstuele data omvormen naar een simpele vector representatie die voor elke klacht het aantal keer een woord voorkomt gaat gaan tellen (Bag of Words)."
   ]
  },
  {
   "cell_type": "code",
   "execution_count": 6,
   "metadata": {},
   "outputs": [],
   "source": [
    "from sklearn.feature_extraction.text import CountVectorizer\n",
    "\n",
    "count_vectorizer = CountVectorizer()\n",
    "bag_of_words = count_vectorizer.fit_transform(complaints_df['Narrative_Processed'])"
   ]
  },
  {
   "cell_type": "code",
   "execution_count": 7,
   "metadata": {},
   "outputs": [
    {
     "data": {
      "image/png": "[encoded data removed]",
      "text/plain": [
       "<Figure size 1080x667.491 with 1 Axes>"
      ]
     },
     "metadata": {
      "needs_background": "light"
     },
     "output_type": "display_data"
    }
   ],
   "source": [
    "words = count_vectorizer.get_feature_names()\n",
    "total_counts = np.zeros(len(words))\n",
    "for t in bag_of_words:\n",
    "    total_counts += t.toarray()[0]\n",
    "\n",
    "count_dict = (zip(words, total_counts))\n",
    "count_dict = sorted(count_dict, key=lambda x:x[1], reverse=True)[0:10]\n",
    "words = [w[0] for w in count_dict]\n",
    "counts = [w[1] for w in count_dict]\n",
    "x_pos = np.arange(len(words)) \n",
    "\n",
    "plt.figure(2, figsize=(15, 15/1.6180))\n",
    "plt.subplot(title='BoW: 10 meest voorkomende termen')\n",
    "sns.barplot(x_pos, counts)\n",
    "plt.xticks(x_pos, words, rotation=90) \n",
    "plt.xlabel('Woorden')\n",
    "plt.ylabel('Aantal')\n",
    "plt.show()"
   ]
  },
  {
   "cell_type": "markdown",
   "metadata": {},
   "source": [
    "### LDA model training"
   ]
  },
  {
   "cell_type": "code",
   "execution_count": 23,
   "metadata": {},
   "outputs": [
    {
     "data": {
      "text/plain": [
       "LatentDirichletAllocation(batch_size=128, doc_topic_prior=None,\n",
       "                          evaluate_every=-1, learning_decay=0.7,\n",
       "                          learning_method='batch', learning_offset=10.0,\n",
       "                          max_doc_update_iter=100, max_iter=10,\n",
       "                          mean_change_tol=0.001, n_components=18, n_jobs=32,\n",
       "                          perp_tol=0.1, random_state=None,\n",
       "                          topic_word_prior=None, total_samples=1000000.0,\n",
       "                          verbose=0)"
      ]
     },
     "execution_count": 23,
     "metadata": {},
     "output_type": "execute_result"
    }
   ],
   "source": [
    "import os\n",
    "from sklearn.decomposition import LatentDirichletAllocation as LDA\n",
    "\n",
    "lda = LDA(n_components=product_count, n_jobs=os.cpu_count())\n",
    "lda.fit(bag_of_words)"
   ]
  },
  {
   "cell_type": "code",
   "execution_count": 24,
   "metadata": {},
   "outputs": [
    {
     "name": "stdout",
     "output_type": "stream",
     "text": [
      "Topics gevonden met LDA:\n",
      "\n",
      "Topic #0:\n",
      "credit report remov inquiri inform account disput file equifax bureaus transunion experian delet bankruptci item\n",
      "\n",
      "Topic #1:\n",
      "claim citi report alleg document complianc complet collect requir complaint compliant practic fact applic debt\n",
      "\n",
      "Topic #2:\n",
      "bank account check chase money transact america charg card well fargo deposit fund fee debit\n",
      "\n",
      "Topic #3:\n",
      "consum inform report account section agenc verifi block request provid fcra file credit violat requir\n",
      "\n",
      "Topic #4:\n",
      "mortgag loan home modif properti payment escrow time foreclosur servic document hous sale request month\n",
      "\n",
      "Topic #5:\n",
      "credit vehicl tell financ purchas say go leas compani time card want auto know just\n",
      "\n",
      "Topic #6:\n",
      "credit secur report inform address number social equifax freez servic card onlin tri account access\n",
      "\n",
      "Topic #7:\n",
      "charg card insur disput servic cancel receiv credit refund bill purchas pay call time tell\n",
      "\n",
      "Topic #8:\n",
      "debt collect credit account valid report agenc compani origin provid request creditor disput collector inform\n",
      "\n",
      "Topic #9:\n",
      "payment month make balanc pay statement servic receiv appli account fee time custom charg late\n",
      "\n",
      "Topic #10:\n",
      "letter send receiv request state mail date document compani respons copi address complaint write account\n",
      "\n",
      "Topic #11:\n",
      "court file state attorney case legal document record action complaint note properti feder lien fraud\n",
      "\n",
      "Topic #12:\n",
      "account report credit payment late pay balanc date show remov correct day month past open\n",
      "\n",
      "Topic #13:\n",
      "ident report theft account fraudul credit fraud inform victim polic open person file compani steal\n",
      "\n",
      "Topic #14:\n",
      "call phone tell number compani say time ask contact inform work person speak know tri\n",
      "\n",
      "Topic #15:\n",
      "loan payment year month student time navient pay make tell help incom work repay plan\n",
      "\n",
      "Topic #16:\n",
      "credit card score account close report balanc capit pay year charg limit time point month\n",
      "\n",
      "Topic #17:\n",
      "account tell call check say receiv speak email day bank time money ask close transfer\n"
     ]
    }
   ],
   "source": [
    "number_words = 15\n",
    "\n",
    "print(\"Topics gevonden met LDA:\")\n",
    "words = count_vectorizer.get_feature_names()\n",
    "for topic_idx, topic in enumerate(lda.components_):\n",
    "    print(\"\\nTopic #%d:\" % topic_idx)\n",
    "    print(\" \".join([words[i] for i in topic.argsort()[:-number_words - 1:-1]]))"
   ]
  },
  {
   "cell_type": "markdown",
   "metadata": {},
   "source": [
    "## 2. K-means clustering"
   ]
  },
  {
   "cell_type": "markdown",
   "metadata": {},
   "source": [
    "## 3. DBScan clustering"
   ]
  }
 ],
 "metadata": {
  "kernelspec": {
   "display_name": "Python 3",
   "language": "python",
   "name": "python3"
  },
  "language_info": {
   "codemirror_mode": {
    "name": "ipython",
    "version": 3
   },
   "file_extension": ".py",
   "mimetype": "text/x-python",
   "name": "python",
   "nbconvert_exporter": "python",
   "pygments_lexer": "ipython3",
   "version": "3.7.6"
  }
 },
 "nbformat": 4,
 "nbformat_minor": 4
}
