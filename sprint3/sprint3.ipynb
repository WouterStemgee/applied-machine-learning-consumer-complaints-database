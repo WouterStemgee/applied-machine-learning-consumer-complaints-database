{
 "cells": [
  {
   "cell_type": "markdown",
   "metadata": {},
   "source": [
    "# Machine Learning Project - Consumer Complaint Database"
   ]
  },
  {
   "cell_type": "markdown",
   "metadata": {},
   "source": [
    "## Introduction"
   ]
  },
  {
   "cell_type": "markdown",
   "metadata": {},
   "source": [
    "### Input Dataset"
   ]
  },
  {
   "cell_type": "code",
   "execution_count": 2,
   "metadata": {
    "hidden": true
   },
   "outputs": [
    {
     "data": {
      "text/html": [
       "<div>\n",
       "<style scoped>\n",
       "    .dataframe tbody tr th:only-of-type {\n",
       "        vertical-align: middle;\n",
       "    }\n",
       "\n",
       "    .dataframe tbody tr th {\n",
       "        vertical-align: top;\n",
       "    }\n",
       "\n",
       "    .dataframe thead th {\n",
       "        text-align: right;\n",
       "    }\n",
       "</style>\n",
       "<table border=\"1\" class=\"dataframe\">\n",
       "  <thead>\n",
       "    <tr style=\"text-align: right;\">\n",
       "      <th></th>\n",
       "      <th>Date received</th>\n",
       "      <th>Product</th>\n",
       "      <th>Sub-product</th>\n",
       "      <th>Issue</th>\n",
       "      <th>Sub-issue</th>\n",
       "      <th>Consumer complaint narrative</th>\n",
       "      <th>Company public response</th>\n",
       "      <th>Company</th>\n",
       "      <th>State</th>\n",
       "      <th>ZIP code</th>\n",
       "      <th>Tags</th>\n",
       "      <th>Consumer consent provided?</th>\n",
       "      <th>Submitted via</th>\n",
       "      <th>Date sent to company</th>\n",
       "      <th>Company response to consumer</th>\n",
       "      <th>Timely response?</th>\n",
       "      <th>Consumer disputed?</th>\n",
       "      <th>Complaint ID</th>\n",
       "    </tr>\n",
       "  </thead>\n",
       "  <tbody>\n",
       "    <tr>\n",
       "      <th>0</th>\n",
       "      <td>07/23/19</td>\n",
       "      <td>Credit reporting, credit repair services, or o...</td>\n",
       "      <td>Credit reporting</td>\n",
       "      <td>Credit monitoring or identity theft protection...</td>\n",
       "      <td>Problem canceling credit monitoring or identif...</td>\n",
       "      <td>I have complained many times that the credit r...</td>\n",
       "      <td>Company has responded to the consumer and the ...</td>\n",
       "      <td>Experian Information Solutions Inc.</td>\n",
       "      <td>CA</td>\n",
       "      <td>926XX</td>\n",
       "      <td>None</td>\n",
       "      <td>Consent provided</td>\n",
       "      <td>Web</td>\n",
       "      <td>07/23/19</td>\n",
       "      <td>Closed with explanation</td>\n",
       "      <td>Yes</td>\n",
       "      <td>NaN</td>\n",
       "      <td>3315279</td>\n",
       "    </tr>\n",
       "    <tr>\n",
       "      <th>1</th>\n",
       "      <td>07/26/19</td>\n",
       "      <td>Debt collection</td>\n",
       "      <td>I do not know</td>\n",
       "      <td>False statements or representation</td>\n",
       "      <td>Attempted to collect wrong amount</td>\n",
       "      <td>please review the current fraud account and al...</td>\n",
       "      <td>Company believes it acted appropriately as aut...</td>\n",
       "      <td>Ideal Collection Services, Inc.</td>\n",
       "      <td>FL</td>\n",
       "      <td>333XX</td>\n",
       "      <td>None</td>\n",
       "      <td>Consent provided</td>\n",
       "      <td>Web</td>\n",
       "      <td>07/26/19</td>\n",
       "      <td>Closed with explanation</td>\n",
       "      <td>Yes</td>\n",
       "      <td>NaN</td>\n",
       "      <td>3319487</td>\n",
       "    </tr>\n",
       "    <tr>\n",
       "      <th>2</th>\n",
       "      <td>06/03/19</td>\n",
       "      <td>Debt collection</td>\n",
       "      <td>I do not know</td>\n",
       "      <td>Attempts to collect debt not owed</td>\n",
       "      <td>Debt was paid</td>\n",
       "      <td>Called multiple times over the years for a deb...</td>\n",
       "      <td>None</td>\n",
       "      <td>ONEMAIN FINANCIAL HOLDINGS, LLC.</td>\n",
       "      <td>FL</td>\n",
       "      <td>327XX</td>\n",
       "      <td>None</td>\n",
       "      <td>Consent provided</td>\n",
       "      <td>Web</td>\n",
       "      <td>06/07/19</td>\n",
       "      <td>Closed with explanation</td>\n",
       "      <td>Yes</td>\n",
       "      <td>NaN</td>\n",
       "      <td>3262794</td>\n",
       "    </tr>\n",
       "    <tr>\n",
       "      <th>3</th>\n",
       "      <td>07/03/19</td>\n",
       "      <td>Debt collection</td>\n",
       "      <td>Other debt</td>\n",
       "      <td>Attempts to collect debt not owed</td>\n",
       "      <td>Debt was result of identity theft</td>\n",
       "      <td>I sent in a letter to the company to have them...</td>\n",
       "      <td>None</td>\n",
       "      <td>Diversified Consultants, Inc.</td>\n",
       "      <td>VA</td>\n",
       "      <td>232XX</td>\n",
       "      <td>None</td>\n",
       "      <td>Consent provided</td>\n",
       "      <td>Web</td>\n",
       "      <td>07/03/19</td>\n",
       "      <td>Closed with explanation</td>\n",
       "      <td>Yes</td>\n",
       "      <td>NaN</td>\n",
       "      <td>3295208</td>\n",
       "    </tr>\n",
       "    <tr>\n",
       "      <th>4</th>\n",
       "      <td>07/14/19</td>\n",
       "      <td>Credit reporting, credit repair services, or o...</td>\n",
       "      <td>Credit reporting</td>\n",
       "      <td>Improper use of your report</td>\n",
       "      <td>Received unsolicited financial product or insu...</td>\n",
       "      <td>On XX/XX/19 I applied for a Debt Relief Produc...</td>\n",
       "      <td>None</td>\n",
       "      <td>ClearOne Advantage, LLC</td>\n",
       "      <td>PA</td>\n",
       "      <td>191XX</td>\n",
       "      <td>Older American, Servicemember</td>\n",
       "      <td>Consent provided</td>\n",
       "      <td>Web</td>\n",
       "      <td>07/18/19</td>\n",
       "      <td>Closed with explanation</td>\n",
       "      <td>Yes</td>\n",
       "      <td>NaN</td>\n",
       "      <td>3306130</td>\n",
       "    </tr>\n",
       "  </tbody>\n",
       "</table>\n",
       "</div>"
      ],
      "text/plain": [
       "  Date received                                            Product  \\\n",
       "0      07/23/19  Credit reporting, credit repair services, or o...   \n",
       "1      07/26/19                                    Debt collection   \n",
       "2      06/03/19                                    Debt collection   \n",
       "3      07/03/19                                    Debt collection   \n",
       "4      07/14/19  Credit reporting, credit repair services, or o...   \n",
       "\n",
       "        Sub-product                                              Issue  \\\n",
       "0  Credit reporting  Credit monitoring or identity theft protection...   \n",
       "1     I do not know                 False statements or representation   \n",
       "2     I do not know                  Attempts to collect debt not owed   \n",
       "3        Other debt                  Attempts to collect debt not owed   \n",
       "4  Credit reporting                        Improper use of your report   \n",
       "\n",
       "                                           Sub-issue  \\\n",
       "0  Problem canceling credit monitoring or identif...   \n",
       "1                  Attempted to collect wrong amount   \n",
       "2                                      Debt was paid   \n",
       "3                  Debt was result of identity theft   \n",
       "4  Received unsolicited financial product or insu...   \n",
       "\n",
       "                        Consumer complaint narrative  \\\n",
       "0  I have complained many times that the credit r...   \n",
       "1  please review the current fraud account and al...   \n",
       "2  Called multiple times over the years for a deb...   \n",
       "3  I sent in a letter to the company to have them...   \n",
       "4  On XX/XX/19 I applied for a Debt Relief Produc...   \n",
       "\n",
       "                             Company public response  \\\n",
       "0  Company has responded to the consumer and the ...   \n",
       "1  Company believes it acted appropriately as aut...   \n",
       "2                                               None   \n",
       "3                                               None   \n",
       "4                                               None   \n",
       "\n",
       "                               Company State ZIP code  \\\n",
       "0  Experian Information Solutions Inc.    CA    926XX   \n",
       "1      Ideal Collection Services, Inc.    FL    333XX   \n",
       "2     ONEMAIN FINANCIAL HOLDINGS, LLC.    FL    327XX   \n",
       "3        Diversified Consultants, Inc.    VA    232XX   \n",
       "4              ClearOne Advantage, LLC    PA    191XX   \n",
       "\n",
       "                            Tags Consumer consent provided? Submitted via  \\\n",
       "0                           None           Consent provided           Web   \n",
       "1                           None           Consent provided           Web   \n",
       "2                           None           Consent provided           Web   \n",
       "3                           None           Consent provided           Web   \n",
       "4  Older American, Servicemember           Consent provided           Web   \n",
       "\n",
       "  Date sent to company Company response to consumer Timely response?  \\\n",
       "0             07/23/19      Closed with explanation              Yes   \n",
       "1             07/26/19      Closed with explanation              Yes   \n",
       "2             06/07/19      Closed with explanation              Yes   \n",
       "3             07/03/19      Closed with explanation              Yes   \n",
       "4             07/18/19      Closed with explanation              Yes   \n",
       "\n",
       "  Consumer disputed?  Complaint ID  \n",
       "0                NaN       3315279  \n",
       "1                NaN       3319487  \n",
       "2                NaN       3262794  \n",
       "3                NaN       3295208  \n",
       "4                NaN       3306130  "
      ]
     },
     "execution_count": 2,
     "metadata": {},
     "output_type": "execute_result"
    }
   ],
   "source": [
    "import numpy as np\n",
    "import pandas as pd\n",
    "import matplotlib.pyplot as plt\n",
    "import seaborn as sns\n",
    "\n",
    "complaints_source_df = pd.read_csv('../data/complaints.csv', delimiter=',')\n",
    "complaints_source_df.head()"
   ]
  },
  {
   "cell_type": "markdown",
   "metadata": {},
   "source": [
    "## Research Question"
   ]
  },
  {
   "cell_type": "markdown",
   "metadata": {},
   "source": [
    "**\"Kunnen we de reactie op een gegeven klacht gaan voorspellen?\"**"
   ]
  },
  {
   "cell_type": "markdown",
   "metadata": {},
   "source": [
    "### Specification"
   ]
  },
  {
   "cell_type": "markdown",
   "metadata": {},
   "source": [
    "- Predictors: Product, Consumer complaint narrative, Company\n",
    "- Target: Company response to consumer\n",
    "- Sampling rate (training/validation/testing): 55/25/20"
   ]
  },
  {
   "cell_type": "markdown",
   "metadata": {
    "heading_collapsed": true
   },
   "source": [
    "## Exploratory Data Analysis & Pre-processing"
   ]
  },
  {
   "cell_type": "code",
   "execution_count": 3,
   "metadata": {},
   "outputs": [
    {
     "data": {
      "text/html": [
       "<div>\n",
       "<style scoped>\n",
       "    .dataframe tbody tr th:only-of-type {\n",
       "        vertical-align: middle;\n",
       "    }\n",
       "\n",
       "    .dataframe tbody tr th {\n",
       "        vertical-align: top;\n",
       "    }\n",
       "\n",
       "    .dataframe thead th {\n",
       "        text-align: right;\n",
       "    }\n",
       "</style>\n",
       "<table border=\"1\" class=\"dataframe\">\n",
       "  <thead>\n",
       "    <tr style=\"text-align: right;\">\n",
       "      <th></th>\n",
       "      <th>Product</th>\n",
       "      <th>Narrative</th>\n",
       "      <th>Company</th>\n",
       "      <th>Response</th>\n",
       "    </tr>\n",
       "  </thead>\n",
       "  <tbody>\n",
       "    <tr>\n",
       "      <th>0</th>\n",
       "      <td>Credit reporting, credit repair services, or o...</td>\n",
       "      <td>I have complained many times that the credit r...</td>\n",
       "      <td>Experian Information Solutions Inc.</td>\n",
       "      <td>Closed with explanation</td>\n",
       "    </tr>\n",
       "    <tr>\n",
       "      <th>1</th>\n",
       "      <td>Debt collection</td>\n",
       "      <td>please review the current fraud account and al...</td>\n",
       "      <td>Ideal Collection Services, Inc.</td>\n",
       "      <td>Closed with explanation</td>\n",
       "    </tr>\n",
       "    <tr>\n",
       "      <th>2</th>\n",
       "      <td>Debt collection</td>\n",
       "      <td>Called multiple times over the years for a deb...</td>\n",
       "      <td>ONEMAIN FINANCIAL HOLDINGS, LLC.</td>\n",
       "      <td>Closed with explanation</td>\n",
       "    </tr>\n",
       "    <tr>\n",
       "      <th>3</th>\n",
       "      <td>Debt collection</td>\n",
       "      <td>I sent in a letter to the company to have them...</td>\n",
       "      <td>Diversified Consultants, Inc.</td>\n",
       "      <td>Closed with explanation</td>\n",
       "    </tr>\n",
       "    <tr>\n",
       "      <th>4</th>\n",
       "      <td>Credit reporting, credit repair services, or o...</td>\n",
       "      <td>On XX/XX/19 I applied for a Debt Relief Produc...</td>\n",
       "      <td>ClearOne Advantage, LLC</td>\n",
       "      <td>Closed with explanation</td>\n",
       "    </tr>\n",
       "  </tbody>\n",
       "</table>\n",
       "</div>"
      ],
      "text/plain": [
       "                                             Product  \\\n",
       "0  Credit reporting, credit repair services, or o...   \n",
       "1                                    Debt collection   \n",
       "2                                    Debt collection   \n",
       "3                                    Debt collection   \n",
       "4  Credit reporting, credit repair services, or o...   \n",
       "\n",
       "                                           Narrative  \\\n",
       "0  I have complained many times that the credit r...   \n",
       "1  please review the current fraud account and al...   \n",
       "2  Called multiple times over the years for a deb...   \n",
       "3  I sent in a letter to the company to have them...   \n",
       "4  On XX/XX/19 I applied for a Debt Relief Produc...   \n",
       "\n",
       "                               Company                 Response  \n",
       "0  Experian Information Solutions Inc.  Closed with explanation  \n",
       "1      Ideal Collection Services, Inc.  Closed with explanation  \n",
       "2     ONEMAIN FINANCIAL HOLDINGS, LLC.  Closed with explanation  \n",
       "3        Diversified Consultants, Inc.  Closed with explanation  \n",
       "4              ClearOne Advantage, LLC  Closed with explanation  "
      ]
     },
     "execution_count": 3,
     "metadata": {},
     "output_type": "execute_result"
    }
   ],
   "source": [
    "complaints_df = complaints_source_df[['Product', 'Consumer complaint narrative', 'Company', 'Company response to consumer']].copy()\n",
    "complaints_df.columns = ['Product', 'Narrative', 'Company', 'Response'] \n",
    "complaints_df.head()"
   ]
  },
  {
   "cell_type": "markdown",
   "metadata": {},
   "source": [
    "#### Product"
   ]
  },
  {
   "cell_type": "code",
   "execution_count": 4,
   "metadata": {},
   "outputs": [],
   "source": [
    "complaints_df.replace({'Product': \n",
    "             {'Credit reporting, credit repair services, or other personal consumer reports': \n",
    "              'Credit reporting, repair, or other', \n",
    "              'Credit reporting': 'Credit reporting, repair, or other',\n",
    "             'Credit card': 'Credit card or prepaid card',\n",
    "             'Prepaid card': 'Credit card or prepaid card',\n",
    "             'Payday loan': 'Payday loan, title loan, or personal loan',\n",
    "             'Money transfer': 'Money transfer, virtual currency, or money service',\n",
    "             'Virtual currency': 'Money transfer, virtual currency, or money service'}}, \n",
    "            inplace= True)"
   ]
  },
  {
   "cell_type": "code",
   "execution_count": 5,
   "metadata": {},
   "outputs": [
    {
     "name": "stdout",
     "output_type": "stream",
     "text": [
      "Aantal product categorieën: 13\n"
     ]
    },
    {
     "data": {
      "text/plain": [
       "<matplotlib.axes._subplots.AxesSubplot at 0x7f50a365ff10>"
      ]
     },
     "execution_count": 5,
     "metadata": {},
     "output_type": "execute_result"
    },
    {
     "data": {
      "text/plain": [
       "<Figure size 720x360 with 0 Axes>"
      ]
     },
     "metadata": {},
     "output_type": "display_data"
    },
    {
     "data": {
      "image/png": "[encoded data removed]",
      "text/plain": [
       "<Figure size 432x288 with 1 Axes>"
      ]
     },
     "metadata": {
      "needs_background": "light"
     },
     "output_type": "display_data"
    }
   ],
   "source": [
    "product_count = len(complaints_df.Product.unique())\n",
    "print('Aantal product categorieën:', product_count)\n",
    "product_counts = pd.DataFrame({'Count': complaints_df.groupby(['Product']).size()})\n",
    "fig = plt.figure(figsize=(10, 5))\n",
    "product_counts.plot.barh(title=\"Aantal klachten per productcategorie\", legend=None)"
   ]
  },
  {
   "cell_type": "markdown",
   "metadata": {},
   "source": [
    "#### Consumer complaint narrative"
   ]
  },
  {
   "cell_type": "code",
   "execution_count": 11,
   "metadata": {},
   "outputs": [
    {
     "name": "stderr",
     "output_type": "stream",
     "text": [
      "[nltk_data] Downloading package wordnet to /home/jovyan/nltk_data...\n",
      "[nltk_data]   Package wordnet is already up-to-date!\n"
     ]
    }
   ],
   "source": [
    "# pip install nltk\n",
    "\n",
    "import nltk, re\n",
    "nltk.download('wordnet')\n",
    "\n",
    "from sklearn.feature_extraction.text import ENGLISH_STOP_WORDS\n",
    "from nltk.stem import WordNetLemmatizer, SnowballStemmer\n",
    "\n",
    "def processing(string):\n",
    "    string = string.lower()\n",
    "    string = re.sub(r'[^\\w\\s]', '', string)\n",
    "    string = re.sub(r'[0-9]|,', '', string)\n",
    "    string = string.replace('\\r', ' ')\n",
    "    string = string.replace('\\n', ' ')\n",
    "    string = re.sub(r'[X|x]{2,}', ' ', string)\n",
    "    tokens = string.split(' ')\n",
    "    tokens = [w for w in tokens if w not in ENGLISH_STOP_WORDS and len(w) > 3]\n",
    "    result = [SnowballStemmer('english').stem(WordNetLemmatizer().lemmatize(token, pos='v')) for token in tokens]\n",
    "    return ' ' . join(result)"
   ]
  },
  {
   "cell_type": "code",
   "execution_count": 7,
   "metadata": {},
   "outputs": [],
   "source": [
    "# pip install swifter"
   ]
  },
  {
   "cell_type": "code",
   "execution_count": 12,
   "metadata": {},
   "outputs": [
    {
     "data": {
      "application/vnd.jupyter.widget-view+json": {
       "model_id": "a7e6566686364f3f96bb2de2e8e611f2",
       "version_major": 2,
       "version_minor": 0
      },
      "text/plain": [
       "HBox(children=(FloatProgress(value=0.0, description='Pandas Apply', max=485701.0, style=ProgressStyle(descript…"
      ]
     },
     "metadata": {},
     "output_type": "display_data"
    },
    {
     "name": "stdout",
     "output_type": "stream",
     "text": [
      "\n",
      "CPU times: user 16min 58s, sys: 8.97 s, total: 17min 7s\n",
      "Wall time: 17min 2s\n"
     ]
    }
   ],
   "source": [
    "%%time\n",
    "\n",
    "import swifter\n",
    "\n",
    "complaints_df['Narrative_Processed'] = complaints_df['Narrative'].swifter.apply(processing)"
   ]
  },
  {
   "cell_type": "code",
   "execution_count": 10,
   "metadata": {},
   "outputs": [
    {
     "data": {
      "text/html": [
       "<div>\n",
       "<style scoped>\n",
       "    .dataframe tbody tr th:only-of-type {\n",
       "        vertical-align: middle;\n",
       "    }\n",
       "\n",
       "    .dataframe tbody tr th {\n",
       "        vertical-align: top;\n",
       "    }\n",
       "\n",
       "    .dataframe thead th {\n",
       "        text-align: right;\n",
       "    }\n",
       "</style>\n",
       "<table border=\"1\" class=\"dataframe\">\n",
       "  <thead>\n",
       "    <tr style=\"text-align: right;\">\n",
       "      <th></th>\n",
       "      <th>Narrative</th>\n",
       "      <th>Narrative_Processed</th>\n",
       "    </tr>\n",
       "  </thead>\n",
       "  <tbody>\n",
       "    <tr>\n",
       "      <th>0</th>\n",
       "      <td>I have complained many times that the credit r...</td>\n",
       "      <td>complain time credit report experian inaccur j...</td>\n",
       "    </tr>\n",
       "    <tr>\n",
       "      <th>1</th>\n",
       "      <td>please review the current fraud account and al...</td>\n",
       "      <td>review current fraud account fraudul inquir</td>\n",
       "    </tr>\n",
       "    <tr>\n",
       "      <th>2</th>\n",
       "      <td>Called multiple times over the years for a deb...</td>\n",
       "      <td>call multipl time year debt occur previous mar...</td>\n",
       "    </tr>\n",
       "    <tr>\n",
       "      <th>3</th>\n",
       "      <td>I sent in a letter to the company to have them...</td>\n",
       "      <td>send letter compani valid debt special attach ...</td>\n",
       "    </tr>\n",
       "    <tr>\n",
       "      <th>4</th>\n",
       "      <td>On XX/XX/19 I applied for a Debt Relief Produc...</td>\n",
       "      <td>appli debt relief product account execut expla...</td>\n",
       "    </tr>\n",
       "  </tbody>\n",
       "</table>\n",
       "</div>"
      ],
      "text/plain": [
       "                                           Narrative  \\\n",
       "0  I have complained many times that the credit r...   \n",
       "1  please review the current fraud account and al...   \n",
       "2  Called multiple times over the years for a deb...   \n",
       "3  I sent in a letter to the company to have them...   \n",
       "4  On XX/XX/19 I applied for a Debt Relief Produc...   \n",
       "\n",
       "                                 Narrative_Processed  \n",
       "0  complain time credit report experian inaccur j...  \n",
       "1        review current fraud account fraudul inquir  \n",
       "2  call multipl time year debt occur previous mar...  \n",
       "3  send letter compani valid debt special attach ...  \n",
       "4  appli debt relief product account execut expla...  "
      ]
     },
     "execution_count": 10,
     "metadata": {},
     "output_type": "execute_result"
    }
   ],
   "source": [
    "complaints_df[['Narrative','Narrative_Processed']].head()"
   ]
  },
  {
   "cell_type": "markdown",
   "metadata": {},
   "source": [
    "#### Company"
   ]
  },
  {
   "cell_type": "code",
   "execution_count": 14,
   "metadata": {},
   "outputs": [
    {
     "name": "stdout",
     "output_type": "stream",
     "text": [
      "Aantal bedrijven: 4419\n"
     ]
    }
   ],
   "source": [
    "company_count = len(complaints_df.Company.unique())\n",
    "print('Aantal bedrijven:', company_count)"
   ]
  },
  {
   "cell_type": "markdown",
   "metadata": {},
   "source": [
    "#### Response"
   ]
  },
  {
   "cell_type": "code",
   "execution_count": 15,
   "metadata": {},
   "outputs": [
    {
     "name": "stdout",
     "output_type": "stream",
     "text": [
      "Aantal responsen: 7\n"
     ]
    },
    {
     "data": {
      "text/plain": [
       "<matplotlib.axes._subplots.AxesSubplot at 0x7f507c778a90>"
      ]
     },
     "execution_count": 15,
     "metadata": {},
     "output_type": "execute_result"
    },
    {
     "data": {
      "text/plain": [
       "<Figure size 720x360 with 0 Axes>"
      ]
     },
     "metadata": {},
     "output_type": "display_data"
    },
    {
     "data": {
      "image/png": "[encoded data removed]",
      "text/plain": [
       "<Figure size 432x288 with 1 Axes>"
      ]
     },
     "metadata": {
      "needs_background": "light"
     },
     "output_type": "display_data"
    }
   ],
   "source": [
    "response_count = len(complaints_df.Response.unique())\n",
    "print('Aantal responsen:', response_count)\n",
    "response_counts = pd.DataFrame({'Count': complaints_df.groupby(['Response']).size()})\n",
    "fig = plt.figure(figsize=(10, 5))\n",
    "response_counts.plot.barh(title=\"Aantal klachten per responscategorie\", legend=None)"
   ]
  },
  {
   "cell_type": "markdown",
   "metadata": {},
   "source": [
    "## Feature Extraction"
   ]
  },
  {
   "cell_type": "markdown",
   "metadata": {},
   "source": [
    "### Sentiment Analysis"
   ]
  },
  {
   "cell_type": "markdown",
   "metadata": {},
   "source": [
    "sentiment bepalen van de narrative en toevoegen aan de dataset zodat deze gebruikt kan worden als invoer parameter voor het model"
   ]
  },
  {
   "cell_type": "code",
   "execution_count": 63,
   "metadata": {},
   "outputs": [
    {
     "name": "stdout",
     "output_type": "stream",
     "text": [
      "CPU times: user 30.4 s, sys: 972 ms, total: 31.3 s\n",
      "Wall time: 31.3 s\n"
     ]
    }
   ],
   "source": [
    "%%time\n",
    "\n",
    "from sklearn.feature_extraction.text import TfidfVectorizer\n",
    "\n",
    "tfidfVector = TfidfVectorizer(sublinear_tf=True, min_df=5)\n",
    "\n",
    "X = tfidfVector.fit_transform(complaints_df['Narrative_Processed']) # returns document-term matrix (sparse matrix)"
   ]
  },
  {
   "cell_type": "markdown",
   "metadata": {},
   "source": [
    "TODO\n",
    "\n",
    "\n",
    "- overzicht van de sentiment verdeling per product categorie weergeven\n",
    "    - inzicht geven door per voorbeelden per sentiment bij elke categorie een klacht weer te geven"
   ]
  },
  {
   "cell_type": "markdown",
   "metadata": {},
   "source": [
    "### Determine distance for categorical features"
   ]
  },
  {
   "cell_type": "markdown",
   "metadata": {},
   "source": [
    "TODO\n",
    "\n",
    "assets linken aan bedrijf en toevoegen aan de dataset (bedrijven quantificeren op basis van aantal assets), \n",
    "dit normalizeren zodat distance tussen verschillende bedrijven berekend kan worden, deze value kan ook als invoer parameter voor het model gebruikt worden"
   ]
  },
  {
   "cell_type": "markdown",
   "metadata": {},
   "source": [
    "## Classificiation Experiments"
   ]
  },
  {
   "cell_type": "markdown",
   "metadata": {},
   "source": [
    "TODO\n",
    "\n",
    "- cascading classifiers toepassen bij model\n",
    "    - grootste groep van respons (closed with explanation) afzonderlijk bepalen\n",
    "    - vervolgens de andere groepen in rekening brengen\n",
    "    - eventueel dataset verder balanceren op basis van target group verdeling\n",
    "- classifiers test experimenten uitvoeren (Naive Bayes, Decision Tree/Random Forest, SVM, NN)\n",
    "    - inzicht geven van verdelingen bij zowel train/test sets\n",
    "    - confusion matrix met concrete voorbeelden van correct geclassificeerde klachten"
   ]
  },
  {
   "cell_type": "markdown",
   "metadata": {},
   "source": [
    "## Conclusion"
   ]
  }
 ],
 "metadata": {
  "kernelspec": {
   "display_name": "Python 3",
   "language": "python",
   "name": "python3"
  },
  "language_info": {
   "codemirror_mode": {
    "name": "ipython",
    "version": 3
   },
   "file_extension": ".py",
   "mimetype": "text/x-python",
   "name": "python",
   "nbconvert_exporter": "python",
   "pygments_lexer": "ipython3",
   "version": "3.7.6"
  }
 },
 "nbformat": 4,
 "nbformat_minor": 4
}
