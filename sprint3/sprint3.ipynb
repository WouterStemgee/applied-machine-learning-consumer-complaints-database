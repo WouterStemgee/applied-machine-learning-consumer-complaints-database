{
 "cells": [
  {
   "cell_type": "markdown",
   "metadata": {},
   "source": [
    "# Sprint 3: Consumer Complaint Database"
   ]
  },
  {
   "cell_type": "markdown",
   "metadata": {},
   "source": [
    "Groep 10: Lucas Van de Velde, Thomas Devriese, Wouter Stemgée"
   ]
  },
  {
   "cell_type": "markdown",
   "metadata": {},
   "source": [
    "## Introduction"
   ]
  },
  {
   "cell_type": "markdown",
   "metadata": {},
   "source": [
    "Tijdens deze laatste sprint beginnen we vanuit een centrale onderzoeksvraag en trachten we deze zo goed mogelijk te beantwoorden door gebruik te maken van verschillende machine learning technieken. De eerste stap is om deze vraag te definiëren en vervolgens de predictors te gaan bepalen waarmee we het antwoord op deze vraag kunnen beantwoorden."
   ]
  },
  {
   "cell_type": "markdown",
   "metadata": {},
   "source": [
    "## Research Question"
   ]
  },
  {
   "cell_type": "markdown",
   "metadata": {},
   "source": [
    "**\"Kunnen we de reactie op een gegeven klacht gaan voorspellen?\"**\n",
    "\n",
    "Deze centrale onderzoeksvraag probeert te voorspellen hoe een bedrijf op een ongeziene klacht gaat reageren. Om dit te kunnen beantwoorden moeten we enkele onderliggen vragen stellen die invloed kunnen hebben op het eindresultaat. We gaan dus opzoek naar verschillende parameters die dit resultaat kunnen voorspellen.\n",
    "\n",
    "Onderliggende vragen:\n",
    "- \"Heeft de sentiment van een klacht invloed op de reactie van het bedrijf?\"\n",
    "- \"Heeft de historische ratio waarmee een klacht opgelost geraakt in verhouding met het totaal aantal klachten van het bedrijf invloed op de reactie van het bedrijf?\"\n",
    "- \"Heeft de geolocatie van waar de klacht afkomstig is invloed op de reactie van het bedrijf?\"\n",
    "- \"Heeft de productcategorie van de klacht invloed op de reactie van het bedrijf?\"\n",
    "\n",
    "De verschillende antwoorden op deze vragen worden vervolgens gebruikt als input om aan de hand van machine learning een classificatie model te ontwikkelen die de centrale onderzoeksvraag tracht te beantwoorden."
   ]
  },
  {
   "cell_type": "markdown",
   "metadata": {
    "heading_collapsed": true
   },
   "source": [
    "## Exploratory Data Analysis & Data Preprocessing"
   ]
  },
  {
   "cell_type": "markdown",
   "metadata": {},
   "source": [
    "Hier gaan we gaan onderzoeken welke features in de dataset interessant kunnen zijn om te gebruiken. We bekijken of er een verband is tussen de antwoorden op de gestelde onderliggende vragen van hierboven en het uiteindelijke antwoord op de centrale onderzoeksvraag die we wensen te bekomen."
   ]
  },
  {
   "cell_type": "markdown",
   "metadata": {},
   "source": [
    "### Dataset"
   ]
  },
  {
   "cell_type": "markdown",
   "metadata": {},
   "source": [
    "We starten zoals gewoonlijk met het inlezen van de volledige dataset."
   ]
  },
  {
   "cell_type": "code",
   "execution_count": 70,
   "metadata": {
    "hidden": true
   },
   "outputs": [
    {
     "data": {
      "text/html": [
       "<div>\n",
       "<style scoped>\n",
       "    .dataframe tbody tr th:only-of-type {\n",
       "        vertical-align: middle;\n",
       "    }\n",
       "\n",
       "    .dataframe tbody tr th {\n",
       "        vertical-align: top;\n",
       "    }\n",
       "\n",
       "    .dataframe thead th {\n",
       "        text-align: right;\n",
       "    }\n",
       "</style>\n",
       "<table border=\"1\" class=\"dataframe\">\n",
       "  <thead>\n",
       "    <tr style=\"text-align: right;\">\n",
       "      <th></th>\n",
       "      <th>Date received</th>\n",
       "      <th>Product</th>\n",
       "      <th>Sub-product</th>\n",
       "      <th>Issue</th>\n",
       "      <th>Sub-issue</th>\n",
       "      <th>Consumer complaint narrative</th>\n",
       "      <th>Company public response</th>\n",
       "      <th>Company</th>\n",
       "      <th>State</th>\n",
       "      <th>ZIP code</th>\n",
       "      <th>Tags</th>\n",
       "      <th>Consumer consent provided?</th>\n",
       "      <th>Submitted via</th>\n",
       "      <th>Date sent to company</th>\n",
       "      <th>Company response to consumer</th>\n",
       "      <th>Timely response?</th>\n",
       "      <th>Consumer disputed?</th>\n",
       "      <th>Complaint ID</th>\n",
       "    </tr>\n",
       "  </thead>\n",
       "  <tbody>\n",
       "    <tr>\n",
       "      <th>0</th>\n",
       "      <td>07/23/19</td>\n",
       "      <td>Credit reporting, credit repair services, or o...</td>\n",
       "      <td>Credit reporting</td>\n",
       "      <td>Credit monitoring or identity theft protection...</td>\n",
       "      <td>Problem canceling credit monitoring or identif...</td>\n",
       "      <td>I have complained many times that the credit r...</td>\n",
       "      <td>Company has responded to the consumer and the ...</td>\n",
       "      <td>Experian Information Solutions Inc.</td>\n",
       "      <td>CA</td>\n",
       "      <td>926XX</td>\n",
       "      <td>None</td>\n",
       "      <td>Consent provided</td>\n",
       "      <td>Web</td>\n",
       "      <td>07/23/19</td>\n",
       "      <td>Closed with explanation</td>\n",
       "      <td>Yes</td>\n",
       "      <td>NaN</td>\n",
       "      <td>3315279</td>\n",
       "    </tr>\n",
       "    <tr>\n",
       "      <th>1</th>\n",
       "      <td>07/26/19</td>\n",
       "      <td>Debt collection</td>\n",
       "      <td>I do not know</td>\n",
       "      <td>False statements or representation</td>\n",
       "      <td>Attempted to collect wrong amount</td>\n",
       "      <td>please review the current fraud account and al...</td>\n",
       "      <td>Company believes it acted appropriately as aut...</td>\n",
       "      <td>Ideal Collection Services, Inc.</td>\n",
       "      <td>FL</td>\n",
       "      <td>333XX</td>\n",
       "      <td>None</td>\n",
       "      <td>Consent provided</td>\n",
       "      <td>Web</td>\n",
       "      <td>07/26/19</td>\n",
       "      <td>Closed with explanation</td>\n",
       "      <td>Yes</td>\n",
       "      <td>NaN</td>\n",
       "      <td>3319487</td>\n",
       "    </tr>\n",
       "    <tr>\n",
       "      <th>2</th>\n",
       "      <td>06/03/19</td>\n",
       "      <td>Debt collection</td>\n",
       "      <td>I do not know</td>\n",
       "      <td>Attempts to collect debt not owed</td>\n",
       "      <td>Debt was paid</td>\n",
       "      <td>Called multiple times over the years for a deb...</td>\n",
       "      <td>None</td>\n",
       "      <td>ONEMAIN FINANCIAL HOLDINGS, LLC.</td>\n",
       "      <td>FL</td>\n",
       "      <td>327XX</td>\n",
       "      <td>None</td>\n",
       "      <td>Consent provided</td>\n",
       "      <td>Web</td>\n",
       "      <td>06/07/19</td>\n",
       "      <td>Closed with explanation</td>\n",
       "      <td>Yes</td>\n",
       "      <td>NaN</td>\n",
       "      <td>3262794</td>\n",
       "    </tr>\n",
       "    <tr>\n",
       "      <th>3</th>\n",
       "      <td>07/03/19</td>\n",
       "      <td>Debt collection</td>\n",
       "      <td>Other debt</td>\n",
       "      <td>Attempts to collect debt not owed</td>\n",
       "      <td>Debt was result of identity theft</td>\n",
       "      <td>I sent in a letter to the company to have them...</td>\n",
       "      <td>None</td>\n",
       "      <td>Diversified Consultants, Inc.</td>\n",
       "      <td>VA</td>\n",
       "      <td>232XX</td>\n",
       "      <td>None</td>\n",
       "      <td>Consent provided</td>\n",
       "      <td>Web</td>\n",
       "      <td>07/03/19</td>\n",
       "      <td>Closed with explanation</td>\n",
       "      <td>Yes</td>\n",
       "      <td>NaN</td>\n",
       "      <td>3295208</td>\n",
       "    </tr>\n",
       "    <tr>\n",
       "      <th>4</th>\n",
       "      <td>07/14/19</td>\n",
       "      <td>Credit reporting, credit repair services, or o...</td>\n",
       "      <td>Credit reporting</td>\n",
       "      <td>Improper use of your report</td>\n",
       "      <td>Received unsolicited financial product or insu...</td>\n",
       "      <td>On XX/XX/19 I applied for a Debt Relief Produc...</td>\n",
       "      <td>None</td>\n",
       "      <td>ClearOne Advantage, LLC</td>\n",
       "      <td>PA</td>\n",
       "      <td>191XX</td>\n",
       "      <td>Older American, Servicemember</td>\n",
       "      <td>Consent provided</td>\n",
       "      <td>Web</td>\n",
       "      <td>07/18/19</td>\n",
       "      <td>Closed with explanation</td>\n",
       "      <td>Yes</td>\n",
       "      <td>NaN</td>\n",
       "      <td>3306130</td>\n",
       "    </tr>\n",
       "  </tbody>\n",
       "</table>\n",
       "</div>"
      ],
      "text/plain": [
       "  Date received                                            Product  \\\n",
       "0      07/23/19  Credit reporting, credit repair services, or o...   \n",
       "1      07/26/19                                    Debt collection   \n",
       "2      06/03/19                                    Debt collection   \n",
       "3      07/03/19                                    Debt collection   \n",
       "4      07/14/19  Credit reporting, credit repair services, or o...   \n",
       "\n",
       "        Sub-product                                              Issue  \\\n",
       "0  Credit reporting  Credit monitoring or identity theft protection...   \n",
       "1     I do not know                 False statements or representation   \n",
       "2     I do not know                  Attempts to collect debt not owed   \n",
       "3        Other debt                  Attempts to collect debt not owed   \n",
       "4  Credit reporting                        Improper use of your report   \n",
       "\n",
       "                                           Sub-issue  \\\n",
       "0  Problem canceling credit monitoring or identif...   \n",
       "1                  Attempted to collect wrong amount   \n",
       "2                                      Debt was paid   \n",
       "3                  Debt was result of identity theft   \n",
       "4  Received unsolicited financial product or insu...   \n",
       "\n",
       "                        Consumer complaint narrative  \\\n",
       "0  I have complained many times that the credit r...   \n",
       "1  please review the current fraud account and al...   \n",
       "2  Called multiple times over the years for a deb...   \n",
       "3  I sent in a letter to the company to have them...   \n",
       "4  On XX/XX/19 I applied for a Debt Relief Produc...   \n",
       "\n",
       "                             Company public response  \\\n",
       "0  Company has responded to the consumer and the ...   \n",
       "1  Company believes it acted appropriately as aut...   \n",
       "2                                               None   \n",
       "3                                               None   \n",
       "4                                               None   \n",
       "\n",
       "                               Company State ZIP code  \\\n",
       "0  Experian Information Solutions Inc.    CA    926XX   \n",
       "1      Ideal Collection Services, Inc.    FL    333XX   \n",
       "2     ONEMAIN FINANCIAL HOLDINGS, LLC.    FL    327XX   \n",
       "3        Diversified Consultants, Inc.    VA    232XX   \n",
       "4              ClearOne Advantage, LLC    PA    191XX   \n",
       "\n",
       "                            Tags Consumer consent provided? Submitted via  \\\n",
       "0                           None           Consent provided           Web   \n",
       "1                           None           Consent provided           Web   \n",
       "2                           None           Consent provided           Web   \n",
       "3                           None           Consent provided           Web   \n",
       "4  Older American, Servicemember           Consent provided           Web   \n",
       "\n",
       "  Date sent to company Company response to consumer Timely response?  \\\n",
       "0             07/23/19      Closed with explanation              Yes   \n",
       "1             07/26/19      Closed with explanation              Yes   \n",
       "2             06/07/19      Closed with explanation              Yes   \n",
       "3             07/03/19      Closed with explanation              Yes   \n",
       "4             07/18/19      Closed with explanation              Yes   \n",
       "\n",
       "  Consumer disputed?  Complaint ID  \n",
       "0                NaN       3315279  \n",
       "1                NaN       3319487  \n",
       "2                NaN       3262794  \n",
       "3                NaN       3295208  \n",
       "4                NaN       3306130  "
      ]
     },
     "execution_count": 70,
     "metadata": {},
     "output_type": "execute_result"
    }
   ],
   "source": [
    "import numpy as np\n",
    "import pandas as pd\n",
    "import matplotlib.pyplot as plt\n",
    "import seaborn as sns\n",
    "\n",
    "complaints_source_df = pd.read_csv('../data/complaints.csv', delimiter=',')\n",
    "complaints_source_df.head()"
   ]
  },
  {
   "cell_type": "markdown",
   "metadata": {},
   "source": [
    "Vervolgens gaan we enkel de features die we wensen te gebruiken gaan kopiëren naar een nieuwe DataFrame en geven deze een eenvoudiger label."
   ]
  },
  {
   "cell_type": "code",
   "execution_count": 71,
   "metadata": {},
   "outputs": [
    {
     "data": {
      "text/html": [
       "<div>\n",
       "<style scoped>\n",
       "    .dataframe tbody tr th:only-of-type {\n",
       "        vertical-align: middle;\n",
       "    }\n",
       "\n",
       "    .dataframe tbody tr th {\n",
       "        vertical-align: top;\n",
       "    }\n",
       "\n",
       "    .dataframe thead th {\n",
       "        text-align: right;\n",
       "    }\n",
       "</style>\n",
       "<table border=\"1\" class=\"dataframe\">\n",
       "  <thead>\n",
       "    <tr style=\"text-align: right;\">\n",
       "      <th></th>\n",
       "      <th>Product</th>\n",
       "      <th>Narrative</th>\n",
       "      <th>Company</th>\n",
       "      <th>State</th>\n",
       "      <th>Response</th>\n",
       "    </tr>\n",
       "  </thead>\n",
       "  <tbody>\n",
       "    <tr>\n",
       "      <th>0</th>\n",
       "      <td>Credit reporting, credit repair services, or o...</td>\n",
       "      <td>I have complained many times that the credit r...</td>\n",
       "      <td>Experian Information Solutions Inc.</td>\n",
       "      <td>CA</td>\n",
       "      <td>Closed with explanation</td>\n",
       "    </tr>\n",
       "    <tr>\n",
       "      <th>1</th>\n",
       "      <td>Debt collection</td>\n",
       "      <td>please review the current fraud account and al...</td>\n",
       "      <td>Ideal Collection Services, Inc.</td>\n",
       "      <td>FL</td>\n",
       "      <td>Closed with explanation</td>\n",
       "    </tr>\n",
       "    <tr>\n",
       "      <th>2</th>\n",
       "      <td>Debt collection</td>\n",
       "      <td>Called multiple times over the years for a deb...</td>\n",
       "      <td>ONEMAIN FINANCIAL HOLDINGS, LLC.</td>\n",
       "      <td>FL</td>\n",
       "      <td>Closed with explanation</td>\n",
       "    </tr>\n",
       "    <tr>\n",
       "      <th>3</th>\n",
       "      <td>Debt collection</td>\n",
       "      <td>I sent in a letter to the company to have them...</td>\n",
       "      <td>Diversified Consultants, Inc.</td>\n",
       "      <td>VA</td>\n",
       "      <td>Closed with explanation</td>\n",
       "    </tr>\n",
       "    <tr>\n",
       "      <th>4</th>\n",
       "      <td>Credit reporting, credit repair services, or o...</td>\n",
       "      <td>On XX/XX/19 I applied for a Debt Relief Produc...</td>\n",
       "      <td>ClearOne Advantage, LLC</td>\n",
       "      <td>PA</td>\n",
       "      <td>Closed with explanation</td>\n",
       "    </tr>\n",
       "  </tbody>\n",
       "</table>\n",
       "</div>"
      ],
      "text/plain": [
       "                                             Product  \\\n",
       "0  Credit reporting, credit repair services, or o...   \n",
       "1                                    Debt collection   \n",
       "2                                    Debt collection   \n",
       "3                                    Debt collection   \n",
       "4  Credit reporting, credit repair services, or o...   \n",
       "\n",
       "                                           Narrative  \\\n",
       "0  I have complained many times that the credit r...   \n",
       "1  please review the current fraud account and al...   \n",
       "2  Called multiple times over the years for a deb...   \n",
       "3  I sent in a letter to the company to have them...   \n",
       "4  On XX/XX/19 I applied for a Debt Relief Produc...   \n",
       "\n",
       "                               Company State                 Response  \n",
       "0  Experian Information Solutions Inc.    CA  Closed with explanation  \n",
       "1      Ideal Collection Services, Inc.    FL  Closed with explanation  \n",
       "2     ONEMAIN FINANCIAL HOLDINGS, LLC.    FL  Closed with explanation  \n",
       "3        Diversified Consultants, Inc.    VA  Closed with explanation  \n",
       "4              ClearOne Advantage, LLC    PA  Closed with explanation  "
      ]
     },
     "execution_count": 71,
     "metadata": {},
     "output_type": "execute_result"
    }
   ],
   "source": [
    "complaints_df = complaints_source_df[['Product', 'Consumer complaint narrative', 'Company', 'State', 'Company response to consumer']].copy()\n",
    "complaints_df.columns = ['Product', 'Narrative', 'Company', 'State', 'Response'] \n",
    "complaints_df.head()"
   ]
  },
  {
   "cell_type": "markdown",
   "metadata": {},
   "source": [
    "### Features"
   ]
  },
  {
   "cell_type": "markdown",
   "metadata": {},
   "source": [
    "Voor een aantal features gaan we nu gaan onderzoeken of deze relevant zijn voor het oplossen van de centrale onderzoeksvraag. We gaan ook gaan kijken welke processing nodig is voor elke feature om de onderliggende vragen te kunnen gaan beantwoorden. We trachten dit aan te tonen met meerdere visualisaties."
   ]
  },
  {
   "cell_type": "markdown",
   "metadata": {},
   "source": [
    "#### Response"
   ]
  },
  {
   "cell_type": "markdown",
   "metadata": {},
   "source": [
    "De response stelt de reactie voor van het bedrijf op een gegeven klacht. Dit wordt de target van ons classificatie model die de centrale onderzoeksvraag zal beantwoorden. We stellen echter vast dat er enkele responscategorieën amper klachten bevatten. Om een beter classificatie model te kunnen bekomen gaan we daarom enkele categorieën die amper data bevatten gaan elimineren."
   ]
  },
  {
   "cell_type": "code",
   "execution_count": 74,
   "metadata": {},
   "outputs": [
    {
     "name": "stdout",
     "output_type": "stream",
     "text": [
      "Aantal responsen: 7\n"
     ]
    },
    {
     "data": {
      "text/plain": [
       "<matplotlib.axes._subplots.AxesSubplot at 0x247cd215c48>"
      ]
     },
     "execution_count": 74,
     "metadata": {},
     "output_type": "execute_result"
    },
    {
     "data": {
      "text/plain": [
       "<Figure size 720x360 with 0 Axes>"
      ]
     },
     "metadata": {},
     "output_type": "display_data"
    },
    {
     "data": {
      "image/png": "[encoded data removed]",
      "text/plain": [
       "<Figure size 432x288 with 1 Axes>"
      ]
     },
     "metadata": {
      "needs_background": "light"
     },
     "output_type": "display_data"
    }
   ],
   "source": [
    "print('Aantal responsen:', len(complaints_df.Response.unique()))\n",
    "fig = plt.figure(figsize=(10, 5))\n",
    "pd.DataFrame({'Count': complaints_df.groupby(['Response']).size()}).plot.barh(title=\"Aantal klachten per responscategorie\", legend=None)"
   ]
  },
  {
   "cell_type": "code",
   "execution_count": 75,
   "metadata": {},
   "outputs": [],
   "source": [
    "complaints_df.replace({'Response': {'Closed': 'Closed without explanation'}}, inplace= True)\n",
    "complaints_df = complaints_df[complaints_df['Response'].isin(['Closed with non-monetary relief', 'Closed with monetary relief', 'Closed with explanation', 'Closed without explanation'])]"
   ]
  },
  {
   "cell_type": "code",
   "execution_count": 77,
   "metadata": {},
   "outputs": [
    {
     "name": "stdout",
     "output_type": "stream",
     "text": [
      "Aantal responsen: 4\n"
     ]
    },
    {
     "data": {
      "text/plain": [
       "<matplotlib.axes._subplots.AxesSubplot at 0x247cd2cf0c8>"
      ]
     },
     "execution_count": 77,
     "metadata": {},
     "output_type": "execute_result"
    },
    {
     "data": {
      "text/plain": [
       "<Figure size 720x360 with 0 Axes>"
      ]
     },
     "metadata": {},
     "output_type": "display_data"
    },
    {
     "data": {
      "image/png": "[encoded data removed]",
      "text/plain": [
       "<Figure size 432x288 with 1 Axes>"
      ]
     },
     "metadata": {
      "needs_background": "light"
     },
     "output_type": "display_data"
    }
   ],
   "source": [
    "print('Aantal responsen:', len(complaints_df.Response.unique())) \n",
    "fig = plt.figure(figsize=(10, 5))\n",
    "pd.DataFrame({'Count': complaints_df.groupby(['Response']).size()}).plot.barh(title=\"Aantal klachten per responscategorie\", legend=None)"
   ]
  },
  {
   "cell_type": "markdown",
   "metadata": {},
   "source": [
    "Vervolgens valt het ook op dat de data zeer **ongebalanceerd is**. Eventueel kunnen we de data gaan balanceren indien de het classificatie model hier niet goed op zou werken. We zullen het model zowel op de ongebalanceerde als op de gebalanceerde dataset trainen en kijken wat de beste resultaten geeft. Indien dit niet zou werken kunnen we ook nog proberen om de kleinere categorieën een **zwaarder gewicht** te geven ten opzichte van de grotere categorieën tijdens het trainen."
   ]
  },
  {
   "cell_type": "code",
   "execution_count": 78,
   "metadata": {},
   "outputs": [],
   "source": [
    "def sampling_k_elements(category, k=120000):\n",
    "    if len(category) < k:\n",
    "        return category\n",
    "    return category.sample(k)\n",
    "\n",
    "complaints_balanced_df = complaints_df.groupby('Response').apply(sampling_k_elements).reset_index(drop=True)"
   ]
  },
  {
   "cell_type": "code",
   "execution_count": 154,
   "metadata": {},
   "outputs": [
    {
     "name": "stdout",
     "output_type": "stream",
     "text": [
      "Aantal responsen: 4\n"
     ]
    },
    {
     "data": {
      "text/plain": [
       "<Figure size 720x360 with 0 Axes>"
      ]
     },
     "metadata": {},
     "output_type": "display_data"
    },
    {
     "data": {
      "image/png": "[encoded data removed]",
      "text/plain": [
       "<Figure size 432x288 with 1 Axes>"
      ]
     },
     "metadata": {
      "needs_background": "light"
     },
     "output_type": "display_data"
    }
   ],
   "source": [
    "print('Aantal responsen:', len(complaints_balanced_df.Response.unique()))\n",
    "fig = plt.figure(figsize=(10, 5))\n",
    "pd.DataFrame({'Count': complaints_balanced_df.groupby(['Response']).size()}).plot.barh(title=\"Aantal klachten per responscategorie\", legend=None)"
   ]
  },
  {
   "cell_type": "code",
   "execution_count": 161,
   "metadata": {},
   "outputs": [
    {
     "data": {
      "image/png": "[encoded data removed]",
      "text/plain": [
       "<Figure size 432x288 with 1 Axes>"
      ]
     },
     "metadata": {},
     "output_type": "display_data"
    }
   ],
   "source": [
    "labels = complaints_balanced_df['Response'].value_counts().index\n",
    "sizes = complaints_balanced_df['Response'].value_counts().values\n",
    "patches, texts = plt.pie(sizes)\n",
    "plt.legend(patches, labels)\n",
    "plt.show()"
   ]
  },
  {
   "cell_type": "markdown",
   "metadata": {},
   "source": [
    "#### Product"
   ]
  },
  {
   "cell_type": "markdown",
   "metadata": {},
   "source": [
    "De eerste feature is de product categorie van de klacht. Zoals in de vorige sprints nemen we opnieuw alle klachten uit sterk gerelateerde product categorieën samen binnen overkoepelende product categorieën."
   ]
  },
  {
   "cell_type": "code",
   "execution_count": 72,
   "metadata": {},
   "outputs": [],
   "source": [
    "complaints_df.replace({'Product': \n",
    "             {'Credit reporting, credit repair services, or other personal consumer reports': \n",
    "              'Credit reporting, repair, or other', \n",
    "              'Credit reporting': 'Credit reporting, repair, or other',\n",
    "             'Credit card': 'Credit card or prepaid card',\n",
    "             'Prepaid card': 'Credit card or prepaid card',\n",
    "             'Payday loan': 'Payday loan, title loan, or personal loan',\n",
    "             'Money transfer': 'Money transfer, virtual currency, or money service',\n",
    "             'Virtual currency': 'Money transfer, virtual currency, or money service'}}, \n",
    "            inplace= True)"
   ]
  },
  {
   "cell_type": "code",
   "execution_count": 73,
   "metadata": {},
   "outputs": [
    {
     "name": "stdout",
     "output_type": "stream",
     "text": [
      "Aantal product categorieën: 13\n"
     ]
    },
    {
     "data": {
      "text/plain": [
       "<matplotlib.axes._subplots.AxesSubplot at 0x247f644d048>"
      ]
     },
     "execution_count": 73,
     "metadata": {},
     "output_type": "execute_result"
    },
    {
     "data": {
      "text/plain": [
       "<Figure size 720x360 with 0 Axes>"
      ]
     },
     "metadata": {},
     "output_type": "display_data"
    },
    {
     "data": {
      "image/png": "[encoded data removed]",
      "text/plain": [
       "<Figure size 432x288 with 1 Axes>"
      ]
     },
     "metadata": {
      "needs_background": "light"
     },
     "output_type": "display_data"
    }
   ],
   "source": [
    "product_count = len(complaints_df.Product.unique())\n",
    "print('Aantal product categorieën:', product_count)\n",
    "product_counts = pd.DataFrame({'Count': complaints_df.groupby(['Product']).size()})\n",
    "fig = plt.figure(figsize=(10, 5))\n",
    "product_counts.plot.barh(title=\"Aantal klachten per product categorie\", legend=None)"
   ]
  },
  {
   "cell_type": "markdown",
   "metadata": {},
   "source": [
    "Deze data is ongebalanceerd, maar aangezien we in deze sprint geen classificatie gaan doen tussen de verschillende product categorieën is het niet zinvol om dit te gaan balanceren. Deze feature wordt hier nu louter beschouwd als categorische data."
   ]
  },
  {
   "cell_type": "markdown",
   "metadata": {},
   "source": [
    "Vervolgens gaan we onderzoeken of het zinvol is om de product categorie in rekening te brengen bij het voorspellen van de responsen van de bedrijven. Dit doen we door per product categorie de verdeling van de verschillende reacties te gaan visualiseren."
   ]
  },
  {
   "cell_type": "code",
   "execution_count": 141,
   "metadata": {},
   "outputs": [
    {
     "data": {
      "text/plain": [
       "<matplotlib.axes._subplots.AxesSubplot at 0x24708d49d08>"
      ]
     },
     "execution_count": 141,
     "metadata": {},
     "output_type": "execute_result"
    },
    {
     "data": {
      "image/png": "[encoded data removed]",
      "text/plain": [
       "<Figure size 1008x432 with 1 Axes>"
      ]
     },
     "metadata": {
      "needs_background": "light"
     },
     "output_type": "display_data"
    }
   ],
   "source": [
    "product_response_counts = pd.DataFrame({'Count': complaints_df.groupby(['Product', 'Response']).size()})\n",
    "product_response_counts.unstack().plot(kind='barh', figsize=(14,6), stacked=True, title=\"Respons verdeling per product categorie\")"
   ]
  },
  {
   "cell_type": "markdown",
   "metadata": {},
   "source": [
    "Een aantal zaken vallen ons op bij het bestuderen van deze grafiek:\n",
    "- Er zijn slechts 3 categorieën waarbij het respons \"Closed without explanation\" voorkomt, namelijk: \"Mortgage\", \"Debt collection\" en \"Bank account or service\"\n",
    "- Bij de categorie \"Credit card or prepaid card\" is de verhouding waarmee de reactie \"Closed with monetary relief\" voorkomt veel groter dan bij de overige product categorieën\n",
    "- Elke product categorie heeft over het algemeen een redelijk gelijklopende verdeling over de verschillende responses\n",
    "- De grootste respons categorie \"Closed with explanation\" is over alle product categorieën heen steeds de grootste"
   ]
  },
  {
   "cell_type": "markdown",
   "metadata": {},
   "source": [
    "Het lijkt ons dus wel interessant om de product categorie op te nemen in het classificatie model aangezien hier toch waarschijnlijk enkele verbanden in de data te vinden zijn."
   ]
  },
  {
   "cell_type": "markdown",
   "metadata": {},
   "source": [
    "#### Consumer complaint narrative"
   ]
  },
  {
   "cell_type": "markdown",
   "metadata": {},
   "source": [
    "De tweede feature is de consumer complaint narrative. Voor elke klacht wordt de narrative gebruikt als een document in de vorm van tekstuele data. Deze documenten wensen we te gebruiken om een sentiment analyse uit te voeren en zo de eerste onderliggende vraag te gaan beantwoorden. Om dit mogelijk te maken gaan we net zoals in de vorige sprints heel wat processing gaan uitvoeren op deze documenten.\n",
    "\n",
    "We gaan als volgt te werk:\n",
    "1. alle woorden omvormen naar lowercase\n",
    "2. alle symbolen, cijfers, URL's en whitespace/newlines verwijderen\n",
    "3. alle symbolen (\"XXX\") die afkomstig zijn van anonimiseren van de data (kredietkaart gegevens) verwijderen\n",
    "4. document opsplitsen in verschillende tokens\n",
    "5. stopwoorden en woorden korter dan 3 karakters verwijderen\n",
    "6. woorden omvormen naar stamvorm en lemmatisering toepassen met behulp van de nltk library\n",
    "\n",
    "Dit proces is dus volledig analoog als bij onze vorige sprints."
   ]
  },
  {
   "cell_type": "code",
   "execution_count": 5,
   "metadata": {},
   "outputs": [],
   "source": [
    "# pip install nltk"
   ]
  },
  {
   "cell_type": "code",
   "execution_count": 6,
   "metadata": {},
   "outputs": [
    {
     "name": "stderr",
     "output_type": "stream",
     "text": [
      "[nltk_data] Downloading package wordnet to\n",
      "[nltk_data]     C:\\Users\\woute\\AppData\\Roaming\\nltk_data...\n",
      "[nltk_data]   Package wordnet is already up-to-date!\n"
     ]
    }
   ],
   "source": [
    "import nltk, re\n",
    "nltk.download('wordnet')\n",
    "\n",
    "from sklearn.feature_extraction.text import ENGLISH_STOP_WORDS\n",
    "from nltk.stem import WordNetLemmatizer, SnowballStemmer\n",
    "\n",
    "def processing(string):\n",
    "    string = string.lower()\n",
    "    string = re.sub(r'@\\S+|https?:\\S+|http?:\\S', ' ', string)\n",
    "    string = re.sub(r'[^A-Za-z0-9]+', ' ', string)\n",
    "    string = re.sub(r'[^\\w\\s]', '', string)\n",
    "    string = re.sub(r'[0-9]|,', '', string)\n",
    "    string = string.replace(r'\\r', ' ')\n",
    "    string = string.replace(r'\\n', ' ')\n",
    "    string = re.sub(r'[X|x]{2,}', ' ', string)\n",
    "    tokens = string.split(' ')\n",
    "    tokens = [w for w in tokens if w not in ENGLISH_STOP_WORDS and len(w) > 2]\n",
    "    result = [SnowballStemmer('english').stem(WordNetLemmatizer().lemmatize(token, pos='v')) for token in tokens]\n",
    "    return ' ' . join(result)"
   ]
  },
  {
   "cell_type": "markdown",
   "metadata": {},
   "source": [
    "Vervolgens gaan we de processing toepassen met ondersteuning voor multithreading. Hiervoor maken we gebruik van de swifter library. Op die manier wordt de processing in parallele batches uitgevoerd die deze stap wat versnelt. De uitvoer van deze processing wordt opgeslagen in een nieuwe kolom met label 'Narrative_Processed'. **We zullen later bepalen of het gunstig is om de processed narrative te gebruiken in plaats van de oorspronkelijke narrative bij het testen van ons uiteindelijke classificatie model**."
   ]
  },
  {
   "cell_type": "code",
   "execution_count": 7,
   "metadata": {},
   "outputs": [],
   "source": [
    "# pip install swifter"
   ]
  },
  {
   "cell_type": "code",
   "execution_count": 8,
   "metadata": {},
   "outputs": [
    {
     "data": {
      "application/vnd.jupyter.widget-view+json": {
       "model_id": "60a492aed68647938d3f2de7f99b430f",
       "version_major": 2,
       "version_minor": 0
      },
      "text/plain": [
       "HBox(children=(FloatProgress(value=0.0, description='Pandas Apply', max=485701.0, style=ProgressStyle(descript…"
      ]
     },
     "metadata": {},
     "output_type": "display_data"
    },
    {
     "name": "stdout",
     "output_type": "stream",
     "text": [
      "\n",
      "Wall time: 11min 24s\n"
     ]
    }
   ],
   "source": [
    "%%time\n",
    "\n",
    "import swifter\n",
    "\n",
    "complaints_df['Narrative_Processed'] = complaints_df['Narrative'].swifter.apply(processing)"
   ]
  },
  {
   "cell_type": "code",
   "execution_count": 9,
   "metadata": {},
   "outputs": [
    {
     "data": {
      "text/html": [
       "<div>\n",
       "<style scoped>\n",
       "    .dataframe tbody tr th:only-of-type {\n",
       "        vertical-align: middle;\n",
       "    }\n",
       "\n",
       "    .dataframe tbody tr th {\n",
       "        vertical-align: top;\n",
       "    }\n",
       "\n",
       "    .dataframe thead th {\n",
       "        text-align: right;\n",
       "    }\n",
       "</style>\n",
       "<table border=\"1\" class=\"dataframe\">\n",
       "  <thead>\n",
       "    <tr style=\"text-align: right;\">\n",
       "      <th></th>\n",
       "      <th>Narrative</th>\n",
       "      <th>Narrative_Processed</th>\n",
       "    </tr>\n",
       "  </thead>\n",
       "  <tbody>\n",
       "    <tr>\n",
       "      <th>0</th>\n",
       "      <td>I have complained many times that the credit r...</td>\n",
       "      <td>complain time credit report experian inaccur j...</td>\n",
       "    </tr>\n",
       "    <tr>\n",
       "      <th>1</th>\n",
       "      <td>please review the current fraud account and al...</td>\n",
       "      <td>review current fraud account fraudul inquir</td>\n",
       "    </tr>\n",
       "    <tr>\n",
       "      <th>2</th>\n",
       "      <td>Called multiple times over the years for a deb...</td>\n",
       "      <td>call multipl time year debt occur previous mar...</td>\n",
       "    </tr>\n",
       "    <tr>\n",
       "      <th>3</th>\n",
       "      <td>I sent in a letter to the company to have them...</td>\n",
       "      <td>send letter compani valid debt special ask att...</td>\n",
       "    </tr>\n",
       "    <tr>\n",
       "      <th>4</th>\n",
       "      <td>On XX/XX/19 I applied for a Debt Relief Produc...</td>\n",
       "      <td>appli debt relief product account execut expla...</td>\n",
       "    </tr>\n",
       "  </tbody>\n",
       "</table>\n",
       "</div>"
      ],
      "text/plain": [
       "                                           Narrative  \\\n",
       "0  I have complained many times that the credit r...   \n",
       "1  please review the current fraud account and al...   \n",
       "2  Called multiple times over the years for a deb...   \n",
       "3  I sent in a letter to the company to have them...   \n",
       "4  On XX/XX/19 I applied for a Debt Relief Produc...   \n",
       "\n",
       "                                 Narrative_Processed  \n",
       "0  complain time credit report experian inaccur j...  \n",
       "1        review current fraud account fraudul inquir  \n",
       "2  call multipl time year debt occur previous mar...  \n",
       "3  send letter compani valid debt special ask att...  \n",
       "4  appli debt relief product account execut expla...  "
      ]
     },
     "execution_count": 9,
     "metadata": {},
     "output_type": "execute_result"
    }
   ],
   "source": [
    "complaints_df[['Narrative', 'Narrative_Processed']].head()"
   ]
  },
  {
   "cell_type": "markdown",
   "metadata": {},
   "source": [
    "#### Company"
   ]
  },
  {
   "cell_type": "markdown",
   "metadata": {},
   "source": [
    "TODO Thomas: ratio berekenen voor elk bedrijf\n",
    "- verhouding soorten reacties van bedrijf ten opzichte van het totaal aantal klachten van dat bedrijf\n",
    "- dit visualiseren\n",
    "- een ratio parameter genereren per klacht om te gebruiken als invoer voor het classificatie model"
   ]
  },
  {
   "cell_type": "code",
   "execution_count": 10,
   "metadata": {},
   "outputs": [
    {
     "name": "stdout",
     "output_type": "stream",
     "text": [
      "Aantal bedrijven: 4419\n"
     ]
    },
    {
     "data": {
      "text/plain": [
       "array(['Experian Information Solutions Inc.',\n",
       "       'Ideal Collection Services, Inc.',\n",
       "       'ONEMAIN FINANCIAL HOLDINGS, LLC.', ..., 'Homes By Hunt LLC',\n",
       "       'Maxitransfers Corporation', 'Reliable Auto Finance, Inc.'],\n",
       "      dtype=object)"
      ]
     },
     "execution_count": 10,
     "metadata": {},
     "output_type": "execute_result"
    }
   ],
   "source": [
    "company_count = len(complaints_df.Company.unique())\n",
    "print('Aantal bedrijven:', company_count)\n",
    "\n",
    "complaints_df.Company.unique()"
   ]
  },
  {
   "cell_type": "markdown",
   "metadata": {},
   "source": [
    "#### State"
   ]
  },
  {
   "cell_type": "markdown",
   "metadata": {},
   "source": [
    "TODO Lucas: invloed geografische oorsprong van klacht\n",
    "- verschillende states die dicht bij elkaar nemen onder eenzelfde regio definiëren\n",
    "- plotten voor elke regio welke reacties er voorkomen en hieruit een conclusie trekken of er een significante correlatie is tussen de regio en de reactie van bedrijven"
   ]
  },
  {
   "cell_type": "markdown",
   "metadata": {},
   "source": [
    "## Extended Feature Extraction"
   ]
  },
  {
   "cell_type": "markdown",
   "metadata": {},
   "source": [
    "Aangezien we een predictor wensen te gebruiken die niet rechtstreeks uit de dataset te bekomen is, moeten we hier dus nog een aanvullende feature extraction gaan uitvoeren. De predictor die we wensen te bekomen uit de eerste onderliggende vraag is de sentiment score van elke klacht. Dit gaan we bekomen door een sentiment analyse over de hele dataset uit te voeren."
   ]
  },
  {
   "cell_type": "markdown",
   "metadata": {},
   "source": [
    "### Sentiment Analysis"
   ]
  },
  {
   "cell_type": "markdown",
   "metadata": {},
   "source": [
    "Om een sentiment analyse te kunnen doen, hebben we een dataset nodig die tekstuele data bevat en waarvan elk document gelabeld is volgens de polariteit van de sentiment. Hiervoor maken we gebruik van een grote dataset die een verzameling is van 1.6M Twitter berichten. Deze tweets zijn gelabeld volgens sentiment. Vervolgens kunnen we een model trainen die dan gebruikt kan worden om voor elke klacht in de consumer complaint database een sentiment score te gaan bepalen.\n",
    "\n",
    "Deze dataset hebben we verkregen via de website van Sentiment140. Deze dataset mag gebruikt worden op voorwaarde dat de originele bron vermeld wordt.\n",
    "\n",
    "Dataset: http://help.sentiment140.com/for-students/"
   ]
  },
  {
   "cell_type": "markdown",
   "metadata": {
    "_uuid": "563b3c44f1092dba0b853747b098e00509098cca"
   },
   "source": [
    "#### Data Exploration - Twitter Sentiment Analysis Dataset"
   ]
  },
  {
   "cell_type": "markdown",
   "metadata": {},
   "source": [
    "Om de dataset te gaan gebruiken moeten we deze eerst gaan verkennen."
   ]
  },
  {
   "cell_type": "markdown",
   "metadata": {},
   "source": [
    "De dataset bevat 6 features:\n",
    "- **target**: de polariteit van de tweet (0 = negatief, 4 = positief)\n",
    "- **ids**: de index van the tweet (0 - 1599999)\n",
    "- **date**: de datum van de tweet (Formaat: Sat May 16 23:58:44 UTC 2009)\n",
    "- **flag**: de query van de tweet, indien er geen query is staat er 'NO_QUERY'\n",
    "- **user**: de gebruiker die de tweet geschreven heeft\n",
    "- **text**: de tekst van de tweet\n",
    "\n",
    "Voor ons zijn enkel de 'target' en 'text' features van belang. We gaan deze dus gaan selecteren om hierop verder te werken."
   ]
  },
  {
   "cell_type": "code",
   "execution_count": 12,
   "metadata": {
    "_uuid": "bba8f91cd70de4f5ea0fb0870ae2029b6e3dcc24"
   },
   "outputs": [],
   "source": [
    "filename = \"../data/sentiment_analysis/input/twitter_dataset.csv\"\n",
    "twitter_source_df = pd.read_csv(filename, encoding=\"ISO-8859-1\", names=[\"target\", \"ids\", \"date\", \"flag\", \"user\", \"text\"])"
   ]
  },
  {
   "cell_type": "code",
   "execution_count": 13,
   "metadata": {
    "_uuid": "936d499c00c4f1648bc16ca9d283c3b39be7fb10"
   },
   "outputs": [
    {
     "name": "stdout",
     "output_type": "stream",
     "text": [
      "Twitter dataset grootte: (1600000, 6)\n"
     ]
    }
   ],
   "source": [
    "print(\"Twitter dataset grootte:\", twitter_source_df.shape)"
   ]
  },
  {
   "cell_type": "code",
   "execution_count": 14,
   "metadata": {},
   "outputs": [
    {
     "data": {
      "text/html": [
       "<div>\n",
       "<style scoped>\n",
       "    .dataframe tbody tr th:only-of-type {\n",
       "        vertical-align: middle;\n",
       "    }\n",
       "\n",
       "    .dataframe tbody tr th {\n",
       "        vertical-align: top;\n",
       "    }\n",
       "\n",
       "    .dataframe thead th {\n",
       "        text-align: right;\n",
       "    }\n",
       "</style>\n",
       "<table border=\"1\" class=\"dataframe\">\n",
       "  <thead>\n",
       "    <tr style=\"text-align: right;\">\n",
       "      <th></th>\n",
       "      <th>target</th>\n",
       "      <th>ids</th>\n",
       "      <th>date</th>\n",
       "      <th>flag</th>\n",
       "      <th>user</th>\n",
       "      <th>text</th>\n",
       "    </tr>\n",
       "  </thead>\n",
       "  <tbody>\n",
       "    <tr>\n",
       "      <th>0</th>\n",
       "      <td>0</td>\n",
       "      <td>1467810369</td>\n",
       "      <td>Mon Apr 06 22:19:45 PDT 2009</td>\n",
       "      <td>NO_QUERY</td>\n",
       "      <td>_TheSpecialOne_</td>\n",
       "      <td>@switchfoot http://twitpic.com/2y1zl - Awww, t...</td>\n",
       "    </tr>\n",
       "    <tr>\n",
       "      <th>1</th>\n",
       "      <td>0</td>\n",
       "      <td>1467810672</td>\n",
       "      <td>Mon Apr 06 22:19:49 PDT 2009</td>\n",
       "      <td>NO_QUERY</td>\n",
       "      <td>scotthamilton</td>\n",
       "      <td>is upset that he can't update his Facebook by ...</td>\n",
       "    </tr>\n",
       "    <tr>\n",
       "      <th>2</th>\n",
       "      <td>0</td>\n",
       "      <td>1467810917</td>\n",
       "      <td>Mon Apr 06 22:19:53 PDT 2009</td>\n",
       "      <td>NO_QUERY</td>\n",
       "      <td>mattycus</td>\n",
       "      <td>@Kenichan I dived many times for the ball. Man...</td>\n",
       "    </tr>\n",
       "    <tr>\n",
       "      <th>3</th>\n",
       "      <td>0</td>\n",
       "      <td>1467811184</td>\n",
       "      <td>Mon Apr 06 22:19:57 PDT 2009</td>\n",
       "      <td>NO_QUERY</td>\n",
       "      <td>ElleCTF</td>\n",
       "      <td>my whole body feels itchy and like its on fire</td>\n",
       "    </tr>\n",
       "    <tr>\n",
       "      <th>4</th>\n",
       "      <td>0</td>\n",
       "      <td>1467811193</td>\n",
       "      <td>Mon Apr 06 22:19:57 PDT 2009</td>\n",
       "      <td>NO_QUERY</td>\n",
       "      <td>Karoli</td>\n",
       "      <td>@nationwideclass no, it's not behaving at all....</td>\n",
       "    </tr>\n",
       "  </tbody>\n",
       "</table>\n",
       "</div>"
      ],
      "text/plain": [
       "   target         ids                          date      flag  \\\n",
       "0       0  1467810369  Mon Apr 06 22:19:45 PDT 2009  NO_QUERY   \n",
       "1       0  1467810672  Mon Apr 06 22:19:49 PDT 2009  NO_QUERY   \n",
       "2       0  1467810917  Mon Apr 06 22:19:53 PDT 2009  NO_QUERY   \n",
       "3       0  1467811184  Mon Apr 06 22:19:57 PDT 2009  NO_QUERY   \n",
       "4       0  1467811193  Mon Apr 06 22:19:57 PDT 2009  NO_QUERY   \n",
       "\n",
       "              user                                               text  \n",
       "0  _TheSpecialOne_  @switchfoot http://twitpic.com/2y1zl - Awww, t...  \n",
       "1    scotthamilton  is upset that he can't update his Facebook by ...  \n",
       "2         mattycus  @Kenichan I dived many times for the ball. Man...  \n",
       "3          ElleCTF    my whole body feels itchy and like its on fire   \n",
       "4           Karoli  @nationwideclass no, it's not behaving at all....  "
      ]
     },
     "execution_count": 14,
     "metadata": {},
     "output_type": "execute_result"
    }
   ],
   "source": [
    "twitter_source_df.head()"
   ]
  },
  {
   "cell_type": "code",
   "execution_count": 15,
   "metadata": {},
   "outputs": [
    {
     "data": {
      "text/html": [
       "<div>\n",
       "<style scoped>\n",
       "    .dataframe tbody tr th:only-of-type {\n",
       "        vertical-align: middle;\n",
       "    }\n",
       "\n",
       "    .dataframe tbody tr th {\n",
       "        vertical-align: top;\n",
       "    }\n",
       "\n",
       "    .dataframe thead th {\n",
       "        text-align: right;\n",
       "    }\n",
       "</style>\n",
       "<table border=\"1\" class=\"dataframe\">\n",
       "  <thead>\n",
       "    <tr style=\"text-align: right;\">\n",
       "      <th></th>\n",
       "      <th>target</th>\n",
       "      <th>text</th>\n",
       "    </tr>\n",
       "  </thead>\n",
       "  <tbody>\n",
       "    <tr>\n",
       "      <th>0</th>\n",
       "      <td>0</td>\n",
       "      <td>@switchfoot http://twitpic.com/2y1zl - Awww, t...</td>\n",
       "    </tr>\n",
       "    <tr>\n",
       "      <th>1</th>\n",
       "      <td>0</td>\n",
       "      <td>is upset that he can't update his Facebook by ...</td>\n",
       "    </tr>\n",
       "    <tr>\n",
       "      <th>2</th>\n",
       "      <td>0</td>\n",
       "      <td>@Kenichan I dived many times for the ball. Man...</td>\n",
       "    </tr>\n",
       "    <tr>\n",
       "      <th>3</th>\n",
       "      <td>0</td>\n",
       "      <td>my whole body feels itchy and like its on fire</td>\n",
       "    </tr>\n",
       "    <tr>\n",
       "      <th>4</th>\n",
       "      <td>0</td>\n",
       "      <td>@nationwideclass no, it's not behaving at all....</td>\n",
       "    </tr>\n",
       "    <tr>\n",
       "      <th>...</th>\n",
       "      <td>...</td>\n",
       "      <td>...</td>\n",
       "    </tr>\n",
       "    <tr>\n",
       "      <th>1599995</th>\n",
       "      <td>4</td>\n",
       "      <td>Just woke up. Having no school is the best fee...</td>\n",
       "    </tr>\n",
       "    <tr>\n",
       "      <th>1599996</th>\n",
       "      <td>4</td>\n",
       "      <td>TheWDB.com - Very cool to hear old Walt interv...</td>\n",
       "    </tr>\n",
       "    <tr>\n",
       "      <th>1599997</th>\n",
       "      <td>4</td>\n",
       "      <td>Are you ready for your MoJo Makeover? Ask me f...</td>\n",
       "    </tr>\n",
       "    <tr>\n",
       "      <th>1599998</th>\n",
       "      <td>4</td>\n",
       "      <td>Happy 38th Birthday to my boo of alll time!!! ...</td>\n",
       "    </tr>\n",
       "    <tr>\n",
       "      <th>1599999</th>\n",
       "      <td>4</td>\n",
       "      <td>happy #charitytuesday @theNSPCC @SparksCharity...</td>\n",
       "    </tr>\n",
       "  </tbody>\n",
       "</table>\n",
       "<p>1600000 rows × 2 columns</p>\n",
       "</div>"
      ],
      "text/plain": [
       "         target                                               text\n",
       "0             0  @switchfoot http://twitpic.com/2y1zl - Awww, t...\n",
       "1             0  is upset that he can't update his Facebook by ...\n",
       "2             0  @Kenichan I dived many times for the ball. Man...\n",
       "3             0    my whole body feels itchy and like its on fire \n",
       "4             0  @nationwideclass no, it's not behaving at all....\n",
       "...         ...                                                ...\n",
       "1599995       4  Just woke up. Having no school is the best fee...\n",
       "1599996       4  TheWDB.com - Very cool to hear old Walt interv...\n",
       "1599997       4  Are you ready for your MoJo Makeover? Ask me f...\n",
       "1599998       4  Happy 38th Birthday to my boo of alll time!!! ...\n",
       "1599999       4  happy #charitytuesday @theNSPCC @SparksCharity...\n",
       "\n",
       "[1600000 rows x 2 columns]"
      ]
     },
     "execution_count": 15,
     "metadata": {},
     "output_type": "execute_result"
    }
   ],
   "source": [
    "twitter_df = twitter_source_df[['target', 'text']].copy()\n",
    "twitter_df"
   ]
  },
  {
   "cell_type": "markdown",
   "metadata": {},
   "source": [
    "Om de betekenis van de target beter te benadrukken vervangen we deze door de bijpassend sentiment:\n",
    "- 0 = NEGATIVE\n",
    "- 4 = POSITIVE"
   ]
  },
  {
   "cell_type": "code",
   "execution_count": 16,
   "metadata": {
    "_uuid": "14074b59106cb9550440839e48b832223fc9502f"
   },
   "outputs": [],
   "source": [
    "decode_map = {0: \"NEGATIVE\", 4: \"POSITIVE\"}\n",
    "\n",
    "def decode_sentiment(label):\n",
    "    return decode_map[int(label)]\n",
    "\n",
    "twitter_df.target = twitter_df.target.apply(lambda x: decode_sentiment(x))"
   ]
  },
  {
   "cell_type": "code",
   "execution_count": 17,
   "metadata": {},
   "outputs": [
    {
     "data": {
      "text/html": [
       "<div>\n",
       "<style scoped>\n",
       "    .dataframe tbody tr th:only-of-type {\n",
       "        vertical-align: middle;\n",
       "    }\n",
       "\n",
       "    .dataframe tbody tr th {\n",
       "        vertical-align: top;\n",
       "    }\n",
       "\n",
       "    .dataframe thead th {\n",
       "        text-align: right;\n",
       "    }\n",
       "</style>\n",
       "<table border=\"1\" class=\"dataframe\">\n",
       "  <thead>\n",
       "    <tr style=\"text-align: right;\">\n",
       "      <th></th>\n",
       "      <th>target</th>\n",
       "      <th>text</th>\n",
       "    </tr>\n",
       "  </thead>\n",
       "  <tbody>\n",
       "    <tr>\n",
       "      <th>0</th>\n",
       "      <td>NEGATIVE</td>\n",
       "      <td>@switchfoot http://twitpic.com/2y1zl - Awww, t...</td>\n",
       "    </tr>\n",
       "    <tr>\n",
       "      <th>1</th>\n",
       "      <td>NEGATIVE</td>\n",
       "      <td>is upset that he can't update his Facebook by ...</td>\n",
       "    </tr>\n",
       "    <tr>\n",
       "      <th>2</th>\n",
       "      <td>NEGATIVE</td>\n",
       "      <td>@Kenichan I dived many times for the ball. Man...</td>\n",
       "    </tr>\n",
       "    <tr>\n",
       "      <th>3</th>\n",
       "      <td>NEGATIVE</td>\n",
       "      <td>my whole body feels itchy and like its on fire</td>\n",
       "    </tr>\n",
       "    <tr>\n",
       "      <th>4</th>\n",
       "      <td>NEGATIVE</td>\n",
       "      <td>@nationwideclass no, it's not behaving at all....</td>\n",
       "    </tr>\n",
       "  </tbody>\n",
       "</table>\n",
       "</div>"
      ],
      "text/plain": [
       "     target                                               text\n",
       "0  NEGATIVE  @switchfoot http://twitpic.com/2y1zl - Awww, t...\n",
       "1  NEGATIVE  is upset that he can't update his Facebook by ...\n",
       "2  NEGATIVE  @Kenichan I dived many times for the ball. Man...\n",
       "3  NEGATIVE    my whole body feels itchy and like its on fire \n",
       "4  NEGATIVE  @nationwideclass no, it's not behaving at all...."
      ]
     },
     "execution_count": 17,
     "metadata": {},
     "output_type": "execute_result"
    }
   ],
   "source": [
    "twitter_df.head()"
   ]
  },
  {
   "cell_type": "markdown",
   "metadata": {},
   "source": [
    "Vervolgens gaan we de distributie van de tweets gaan visualiseren. We kunnen vaststellen dat de dataset perfect gebalanceerd is met de helft positieve en de andere helft negatieve tweets."
   ]
  },
  {
   "cell_type": "code",
   "execution_count": 18,
   "metadata": {
    "_uuid": "19eb327803192f31cce3512aacb232f4d6b38715"
   },
   "outputs": [
    {
     "data": {
      "text/plain": [
       "Text(0.5, 1.0, 'Twitter dataset sentiment distributie')"
      ]
     },
     "execution_count": 18,
     "metadata": {},
     "output_type": "execute_result"
    },
    {
     "data": {
      "image/png": "[encoded data removed]",
      "text/plain": [
       "<Figure size 216x216 with 1 Axes>"
      ]
     },
     "metadata": {
      "needs_background": "light"
     },
     "output_type": "display_data"
    }
   ],
   "source": [
    "from collections import Counter\n",
    "\n",
    "target_count = Counter(twitter_df.target)\n",
    "\n",
    "plt.figure(figsize=(3,3))\n",
    "plt.bar(target_count.keys(), target_count.values())\n",
    "plt.title(\"Twitter dataset sentiment distributie\")"
   ]
  },
  {
   "cell_type": "markdown",
   "metadata": {},
   "source": [
    "#### Data Preprocessing - Twitter Sentiment Analysis Dataset"
   ]
  },
  {
   "cell_type": "markdown",
   "metadata": {},
   "source": [
    "Om de tekst van de tweets bruikbaar te maken gaan we een analoge processing toepassen als bij de consumer complaint narrative.\n",
    "\n",
    "Hierbij gaan we als volgt te werk:\n",
    "1. Verwijder alle gebruikersnamen (@...), URL's en overbodige whitespace\n",
    "2. Verwijder alle stopwoorden\n",
    "3. Optioneel: converteer alle woorden naar hun stamvorm (we hebben vastgesteld dat dit echter slechtere resultaten geeft voor het model)"
   ]
  },
  {
   "cell_type": "code",
   "execution_count": 23,
   "metadata": {},
   "outputs": [
    {
     "name": "stderr",
     "output_type": "stream",
     "text": [
      "[nltk_data] Downloading package stopwords to\n",
      "[nltk_data]     C:\\Users\\woute\\AppData\\Roaming\\nltk_data...\n",
      "[nltk_data]   Package stopwords is already up-to-date!\n"
     ]
    },
    {
     "data": {
      "text/plain": [
       "True"
      ]
     },
     "execution_count": 23,
     "metadata": {},
     "output_type": "execute_result"
    }
   ],
   "source": [
    "nltk.download('stopwords')"
   ]
  },
  {
   "cell_type": "code",
   "execution_count": 25,
   "metadata": {},
   "outputs": [],
   "source": [
    "import nltk\n",
    "from nltk.corpus import stopwords\n",
    "from nltk.stem import SnowballStemmer\n",
    "\n",
    "stop_words = stopwords.words(\"english\")\n",
    "stemmer = SnowballStemmer(\"english\")\n",
    "TEXT_CLEANING_RE = \"@\\S+|https?:\\S+|http?:\\S|[^A-Za-z0-9]+\"\n",
    "\n",
    "def twitter_processing(text, stem=False):\n",
    "    text = re.sub(TEXT_CLEANING_RE, ' ', str(text).lower()).strip()\n",
    "    tokens = []\n",
    "    for token in text.split():\n",
    "        if token not in stop_words:\n",
    "            if stem:\n",
    "                tokens.append(stemmer.stem(token))\n",
    "            else:\n",
    "                tokens.append(token)\n",
    "    return \" \".join(tokens)"
   ]
  },
  {
   "cell_type": "code",
   "execution_count": 26,
   "metadata": {
    "_uuid": "f7f3e77ab9291d14687c49e71ba9b2b1e3323432"
   },
   "outputs": [
    {
     "data": {
      "application/vnd.jupyter.widget-view+json": {
       "model_id": "b1502fd1f5b94b4c8b2c047bd728022c",
       "version_major": 2,
       "version_minor": 0
      },
      "text/plain": [
       "HBox(children=(FloatProgress(value=0.0, description='Pandas Apply', max=1600000.0, style=ProgressStyle(descrip…"
      ]
     },
     "metadata": {},
     "output_type": "display_data"
    },
    {
     "name": "stdout",
     "output_type": "stream",
     "text": [
      "\n",
      "Wall time: 38.3 s\n"
     ]
    }
   ],
   "source": [
    "%%time\n",
    "\n",
    "import swifter\n",
    "\n",
    "twitter_df['tokens'] = twitter_df['text'].swifter.apply(twitter_processing)"
   ]
  },
  {
   "cell_type": "code",
   "execution_count": 27,
   "metadata": {},
   "outputs": [
    {
     "data": {
      "text/html": [
       "<div>\n",
       "<style scoped>\n",
       "    .dataframe tbody tr th:only-of-type {\n",
       "        vertical-align: middle;\n",
       "    }\n",
       "\n",
       "    .dataframe tbody tr th {\n",
       "        vertical-align: top;\n",
       "    }\n",
       "\n",
       "    .dataframe thead th {\n",
       "        text-align: right;\n",
       "    }\n",
       "</style>\n",
       "<table border=\"1\" class=\"dataframe\">\n",
       "  <thead>\n",
       "    <tr style=\"text-align: right;\">\n",
       "      <th></th>\n",
       "      <th>target</th>\n",
       "      <th>text</th>\n",
       "      <th>tokens</th>\n",
       "    </tr>\n",
       "  </thead>\n",
       "  <tbody>\n",
       "    <tr>\n",
       "      <th>0</th>\n",
       "      <td>NEGATIVE</td>\n",
       "      <td>@switchfoot http://twitpic.com/2y1zl - Awww, t...</td>\n",
       "      <td>awww bummer shoulda got david carr third day</td>\n",
       "    </tr>\n",
       "    <tr>\n",
       "      <th>1</th>\n",
       "      <td>NEGATIVE</td>\n",
       "      <td>is upset that he can't update his Facebook by ...</td>\n",
       "      <td>upset update facebook texting might cry result...</td>\n",
       "    </tr>\n",
       "    <tr>\n",
       "      <th>2</th>\n",
       "      <td>NEGATIVE</td>\n",
       "      <td>@Kenichan I dived many times for the ball. Man...</td>\n",
       "      <td>dived many times ball managed save 50 rest go ...</td>\n",
       "    </tr>\n",
       "    <tr>\n",
       "      <th>3</th>\n",
       "      <td>NEGATIVE</td>\n",
       "      <td>my whole body feels itchy and like its on fire</td>\n",
       "      <td>whole body feels itchy like fire</td>\n",
       "    </tr>\n",
       "    <tr>\n",
       "      <th>4</th>\n",
       "      <td>NEGATIVE</td>\n",
       "      <td>@nationwideclass no, it's not behaving at all....</td>\n",
       "      <td>behaving mad see</td>\n",
       "    </tr>\n",
       "    <tr>\n",
       "      <th>...</th>\n",
       "      <td>...</td>\n",
       "      <td>...</td>\n",
       "      <td>...</td>\n",
       "    </tr>\n",
       "    <tr>\n",
       "      <th>1599995</th>\n",
       "      <td>POSITIVE</td>\n",
       "      <td>Just woke up. Having no school is the best fee...</td>\n",
       "      <td>woke school best feeling ever</td>\n",
       "    </tr>\n",
       "    <tr>\n",
       "      <th>1599996</th>\n",
       "      <td>POSITIVE</td>\n",
       "      <td>TheWDB.com - Very cool to hear old Walt interv...</td>\n",
       "      <td>thewdb com cool hear old walt interviews</td>\n",
       "    </tr>\n",
       "    <tr>\n",
       "      <th>1599997</th>\n",
       "      <td>POSITIVE</td>\n",
       "      <td>Are you ready for your MoJo Makeover? Ask me f...</td>\n",
       "      <td>ready mojo makeover ask details</td>\n",
       "    </tr>\n",
       "    <tr>\n",
       "      <th>1599998</th>\n",
       "      <td>POSITIVE</td>\n",
       "      <td>Happy 38th Birthday to my boo of alll time!!! ...</td>\n",
       "      <td>happy 38th birthday boo alll time tupac amaru ...</td>\n",
       "    </tr>\n",
       "    <tr>\n",
       "      <th>1599999</th>\n",
       "      <td>POSITIVE</td>\n",
       "      <td>happy #charitytuesday @theNSPCC @SparksCharity...</td>\n",
       "      <td>happy charitytuesday thenspcc sparkscharity sp...</td>\n",
       "    </tr>\n",
       "  </tbody>\n",
       "</table>\n",
       "<p>1600000 rows × 3 columns</p>\n",
       "</div>"
      ],
      "text/plain": [
       "           target                                               text  \\\n",
       "0        NEGATIVE  @switchfoot http://twitpic.com/2y1zl - Awww, t...   \n",
       "1        NEGATIVE  is upset that he can't update his Facebook by ...   \n",
       "2        NEGATIVE  @Kenichan I dived many times for the ball. Man...   \n",
       "3        NEGATIVE    my whole body feels itchy and like its on fire    \n",
       "4        NEGATIVE  @nationwideclass no, it's not behaving at all....   \n",
       "...           ...                                                ...   \n",
       "1599995  POSITIVE  Just woke up. Having no school is the best fee...   \n",
       "1599996  POSITIVE  TheWDB.com - Very cool to hear old Walt interv...   \n",
       "1599997  POSITIVE  Are you ready for your MoJo Makeover? Ask me f...   \n",
       "1599998  POSITIVE  Happy 38th Birthday to my boo of alll time!!! ...   \n",
       "1599999  POSITIVE  happy #charitytuesday @theNSPCC @SparksCharity...   \n",
       "\n",
       "                                                    tokens  \n",
       "0             awww bummer shoulda got david carr third day  \n",
       "1        upset update facebook texting might cry result...  \n",
       "2        dived many times ball managed save 50 rest go ...  \n",
       "3                         whole body feels itchy like fire  \n",
       "4                                         behaving mad see  \n",
       "...                                                    ...  \n",
       "1599995                      woke school best feeling ever  \n",
       "1599996           thewdb com cool hear old walt interviews  \n",
       "1599997                    ready mojo makeover ask details  \n",
       "1599998  happy 38th birthday boo alll time tupac amaru ...  \n",
       "1599999  happy charitytuesday thenspcc sparkscharity sp...  \n",
       "\n",
       "[1600000 rows x 3 columns]"
      ]
     },
     "execution_count": 27,
     "metadata": {},
     "output_type": "execute_result"
    }
   ],
   "source": [
    "twitter_df"
   ]
  },
  {
   "cell_type": "markdown",
   "metadata": {},
   "source": [
    "#### Feature Extraction: Word2Vec - Twitter Sentiment Analysis Dataset"
   ]
  },
  {
   "cell_type": "markdown",
   "metadata": {},
   "source": [
    "Om de features uit de tekst te halen gaan we een Word2Vec model ontwikkelen. Om nadien de accuraatheid te kunnen evalueren splitsen we de dataset op in een training (0.8) en test dataset (0.2). Er wordt een random state variabele ingesteld om consistente resultaten te krijgen bij het trainen en testen van het model."
   ]
  },
  {
   "cell_type": "code",
   "execution_count": 28,
   "metadata": {
    "_uuid": "d2b1179c968e3f3910c790ecf0c5b2cbb34b0e68"
   },
   "outputs": [
    {
     "name": "stdout",
     "output_type": "stream",
     "text": [
      "Training dataset grootte: (1280000, 3)\n",
      "Test dataset grootte: (320000, 3)\n"
     ]
    }
   ],
   "source": [
    "from sklearn.model_selection import train_test_split\n",
    "\n",
    "TRAIN_SIZE = 0.8\n",
    "\n",
    "df_train, df_test = train_test_split(twitter_df, test_size=1-TRAIN_SIZE, random_state=42)\n",
    "print(\"Training dataset grootte:\", df_train.shape)\n",
    "print(\"Test dataset grootte:\", df_test.shape)"
   ]
  },
  {
   "cell_type": "markdown",
   "metadata": {},
   "source": [
    "Word2Vec gaat de tweets omzetten naar 'word embeddings'. Dit is een vector representatie van de corpus van elke tweet. Deze woord vectoren kunnen in een vector ruimte voorgesteld worden waardoor het algoritme sterk gerelateerde woorden kan gaan detecteren op basis van hoe sterk de context van de woorden in de corpus van de documenten overeenkomt.\n",
    "\n",
    "We beginnen met de training dataset in te lezen naar Word2Vec waardoor deze de documenten kan gebruiken om een vocabularium te genereren. We maken hier opnieuw gebruik van multithreading om het proces te versnellen."
   ]
  },
  {
   "cell_type": "code",
   "execution_count": 29,
   "metadata": {},
   "outputs": [],
   "source": [
    "# pip install gensim"
   ]
  },
  {
   "cell_type": "code",
   "execution_count": 30,
   "metadata": {
    "_uuid": "8e19b9f25801ba86420decc266d2b3e6fb44f1ea"
   },
   "outputs": [
    {
     "name": "stdout",
     "output_type": "stream",
     "text": [
      "Aantal woorden in vocabularium: 30369\n"
     ]
    }
   ],
   "source": [
    "import gensim\n",
    "import multiprocessing\n",
    "from gensim.models import Word2Vec\n",
    "\n",
    "W2V_SIZE = 300\n",
    "W2V_WINDOW = 7\n",
    "W2V_MIN_COUNT = 10\n",
    "\n",
    "w2v_model = Word2Vec(size=W2V_SIZE, window=W2V_WINDOW, min_count=W2V_MIN_COUNT, workers=multiprocessing.cpu_count())\n",
    "documents = [_text.split() for _text in df_train.tokens] \n",
    "w2v_model.build_vocab(documents)\n",
    "\n",
    "vocab = w2v_model.wv.vocab.keys()\n",
    "print(\"Aantal woorden in vocabularium:\", len(vocab))"
   ]
  },
  {
   "cell_type": "markdown",
   "metadata": {
    "_uuid": "72a5628ca81fd4b8983c12d93ae0bf950b86b6ae"
   },
   "source": [
    "Vervolgens gaan we het Word2Vec model gaan trainen op deze documenten. We gaan hiervoor 32 keer (epochs) doorheen de training dataset."
   ]
  },
  {
   "cell_type": "code",
   "execution_count": 31,
   "metadata": {
    "_uuid": "68c3e4a5ba07cac3dee67f78ecdd1404c7f83f14"
   },
   "outputs": [
    {
     "name": "stdout",
     "output_type": "stream",
     "text": [
      "Wall time: 2min 56s\n"
     ]
    },
    {
     "data": {
      "text/plain": [
       "(263129627, 295270528)"
      ]
     },
     "execution_count": 31,
     "metadata": {},
     "output_type": "execute_result"
    }
   ],
   "source": [
    "%%time\n",
    "\n",
    "W2V_EPOCH = 32\n",
    "\n",
    "w2v_model.train(documents, total_examples=len(documents), epochs=W2V_EPOCH)"
   ]
  },
  {
   "cell_type": "markdown",
   "metadata": {},
   "source": [
    "Om de werking van het Word2Vec model te illustreren, gaan we hier enkele gerelateerde woorden uitschrijven van een gegeven positief en negatief woord."
   ]
  },
  {
   "cell_type": "code",
   "execution_count": 32,
   "metadata": {
    "_uuid": "27cc2651c74227115d8bfd8c40e5618048e05edd"
   },
   "outputs": [
    {
     "data": {
      "text/plain": [
       "[('great', 0.6949321627616882),\n",
       " ('bad', 0.5556972026824951),\n",
       " ('goood', 0.5408994555473328),\n",
       " ('gooood', 0.5163300037384033),\n",
       " ('nice', 0.496670126914978),\n",
       " ('rough', 0.4827740788459778),\n",
       " ('wonderful', 0.4776894152164459),\n",
       " ('goooooood', 0.47443002462387085),\n",
       " ('fantastic', 0.4577442705631256),\n",
       " ('shitty', 0.455949991941452)]"
      ]
     },
     "execution_count": 32,
     "metadata": {},
     "output_type": "execute_result"
    }
   ],
   "source": [
    "w2v_model.wv.most_similar(\"good\")"
   ]
  },
  {
   "cell_type": "code",
   "execution_count": 33,
   "metadata": {},
   "outputs": [
    {
     "data": {
      "text/plain": [
       "[('terrible', 0.5634722709655762),\n",
       " ('horrible', 0.5604308843612671),\n",
       " ('good', 0.5556972026824951),\n",
       " ('awful', 0.5326348543167114),\n",
       " ('shitty', 0.5082992315292358),\n",
       " ('crappy', 0.4417520761489868),\n",
       " ('like', 0.4400200843811035),\n",
       " ('worse', 0.4201677143573761),\n",
       " ('sad', 0.4091266095638275),\n",
       " ('worst', 0.4023205637931824)]"
      ]
     },
     "execution_count": 33,
     "metadata": {},
     "output_type": "execute_result"
    }
   ],
   "source": [
    "w2v_model.wv.most_similar(\"bad\")"
   ]
  },
  {
   "cell_type": "markdown",
   "metadata": {},
   "source": [
    "De gerelateerde woorden liggen vooral binnen dezelfde sentiment klasse. Toch valt het op dat er ook nog woorden uit de andere klasse als gerelateerd naar boven komen, dit is wel verwacht aangezien Word2Vec betekenis geeft aan de woorden op basis van de context en deze woorden vaak elkaar kunnen vervangen in dezelfde zin. Dit zou echter geen probleem mogen geven bij het trainen van ons neuraal netwerk aangezien dit slechts uitzonderingen zijn."
   ]
  },
  {
   "cell_type": "markdown",
   "metadata": {},
   "source": [
    "Als tweede illustratie gaan we vragen aan het model om het woord dat niet in het rijtje past eruit te filteren. Dit werkt ook goed."
   ]
  },
  {
   "cell_type": "code",
   "execution_count": 34,
   "metadata": {},
   "outputs": [
    {
     "data": {
      "text/plain": [
       "'cereal'"
      ]
     },
     "execution_count": 34,
     "metadata": {},
     "output_type": "execute_result"
    }
   ],
   "source": [
    "w2v_model.wv.doesnt_match(\"breakfast cereal dinner lunch\".split())"
   ]
  },
  {
   "cell_type": "markdown",
   "metadata": {
    "_uuid": "e13563644468037258598637b49373ca96b9b879"
   },
   "source": [
    "#### Deep Learning Model - Twitter Sentiment Analysis Dataset"
   ]
  },
  {
   "cell_type": "code",
   "execution_count": 35,
   "metadata": {},
   "outputs": [],
   "source": [
    "# pip install keras"
   ]
  },
  {
   "cell_type": "code",
   "execution_count": 36,
   "metadata": {
    "_uuid": "6852bc709a7cd20173cbeeb218505078f8f37c57"
   },
   "outputs": [
    {
     "name": "stderr",
     "output_type": "stream",
     "text": [
      "Using TensorFlow backend.\n"
     ]
    },
    {
     "name": "stdout",
     "output_type": "stream",
     "text": [
      "Totaal aantal woorden: 290419\n"
     ]
    }
   ],
   "source": [
    "from keras.preprocessing.text import Tokenizer\n",
    "\n",
    "tokenizer = Tokenizer()\n",
    "tokenizer.fit_on_texts(df_train.tokens)\n",
    "\n",
    "word_count = len(tokenizer.word_index) + 1\n",
    "print(\"Totaal aantal woorden:\", word_count)"
   ]
  },
  {
   "cell_type": "markdown",
   "metadata": {},
   "source": [
    "Om een neuraal netwerk te bekomen, moeten we nu de tokens van de tekst in sequenties gaan onderverdelen waarvan het totaal aantal karakters gelijk is aan het aantal input neuronen van de eerste laag van ons netwerk. We kiezen voor deze laag een input dimensie van 300 neuronen. Documenten die korter zijn dan 300 karakters worden hierbij aangevuld door padding toe te voegen. Ter info: de lengte van een tweet is maximaal 280 karakters, dus is hier een marge in rekening gebracht."
   ]
  },
  {
   "cell_type": "code",
   "execution_count": 37,
   "metadata": {
    "_uuid": "45de439df3015030c71f84c2d170346936a1d68f"
   },
   "outputs": [],
   "source": [
    "from keras.preprocessing.sequence import pad_sequences\n",
    "\n",
    "SEQUENCE_LENGTH = 300\n",
    "\n",
    "x_train = pad_sequences(tokenizer.texts_to_sequences(df_train.tokens), maxlen=SEQUENCE_LENGTH)\n",
    "x_test = pad_sequences(tokenizer.texts_to_sequences(df_test.tokens), maxlen=SEQUENCE_LENGTH)"
   ]
  },
  {
   "cell_type": "markdown",
   "metadata": {},
   "source": [
    "De uitvoer van ons neuraal netwerk is de sentiment score en dit is een waarde tussen 0 en 1. Om de target (y) in te stellen moeten we deze gaan transformeren aan de hand van een LabelEncoder. Hiermee worden de waarden 'NEGATIVE' en 'POSITIVE' omgezet naar 0 of 1. Dit doen we zowel bij de targets van de training als bij de test dataset."
   ]
  },
  {
   "cell_type": "code",
   "execution_count": 38,
   "metadata": {
    "_uuid": "04239a9bef76e7922fd86098a5601dfde8ee4665"
   },
   "outputs": [
    {
     "name": "stdout",
     "output_type": "stream",
     "text": [
      "x_train (1280000, 300)\n",
      "y_train (1280000, 1)\n",
      "x_test (320000, 300)\n",
      "y_test (320000, 1)\n"
     ]
    }
   ],
   "source": [
    "from sklearn.preprocessing import LabelEncoder\n",
    "\n",
    "encoder = LabelEncoder()\n",
    "encoder.fit(df_train.target.tolist())\n",
    "\n",
    "y_train = encoder.transform(df_train.target.tolist())\n",
    "y_test = encoder.transform(df_test.target.tolist())\n",
    "\n",
    "y_train = y_train.reshape(-1,1)\n",
    "y_test = y_test.reshape(-1,1)\n",
    "\n",
    "print(\"x_train\", x_train.shape)\n",
    "print(\"y_train\", y_train.shape)\n",
    "print(\"x_test\", x_test.shape)\n",
    "print(\"y_test\", y_test.shape)"
   ]
  },
  {
   "cell_type": "markdown",
   "metadata": {},
   "source": [
    "Als we nu de waarden van de target gaan uitschrijven krijgen we inderdaad enkel nog de waarden 0 of 1."
   ]
  },
  {
   "cell_type": "code",
   "execution_count": 39,
   "metadata": {
    "_uuid": "232533fb27b7be99d9b8c2f8fb22c9c6bf121a6f"
   },
   "outputs": [
    {
     "name": "stdout",
     "output_type": "stream",
     "text": [
      "[[1]\n",
      " [1]\n",
      " [1]\n",
      " ...\n",
      " [0]\n",
      " [0]\n",
      " [0]]\n"
     ]
    }
   ],
   "source": [
    "print(y_train[:])"
   ]
  },
  {
   "cell_type": "markdown",
   "metadata": {
    "_uuid": "233c0ea94055a03e2e7df3e2a13d036ec963484f"
   },
   "source": [
    "Om het Word2Vec model te gebruiken in ons neuraal netwerk gaan we als eerste laag een Embedding layer gebruiken. Deze laag representeert de bekomen matrix van ons Word2Vec model en heeft dus dezelfde dimensies. Deze laag is dan ook niet trainbaar aangezien deze al opvoorhand aan de hand van Word2Vec getraind is."
   ]
  },
  {
   "cell_type": "code",
   "execution_count": 43,
   "metadata": {
    "_uuid": "9ab488374b59e3f30f8b1ea92767d853c4846bac"
   },
   "outputs": [
    {
     "name": "stdout",
     "output_type": "stream",
     "text": [
      "(290419, 300)\n"
     ]
    }
   ],
   "source": [
    "from keras.layers import Embedding\n",
    "\n",
    "embedding_matrix = np.zeros((word_count, W2V_SIZE))\n",
    "\n",
    "for word, i in tokenizer.word_index.items():\n",
    "    if word in w2v_model.wv:\n",
    "        embedding_matrix[i] = w2v_model.wv[word]\n",
    "print(embedding_matrix.shape)\n",
    "\n",
    "embedding_layer = Embedding(word_count, W2V_SIZE, weights=[embedding_matrix], input_length=SEQUENCE_LENGTH, trainable=False)"
   ]
  },
  {
   "cell_type": "markdown",
   "metadata": {},
   "source": [
    "Vervolgens gaan we ons neuraal netwerk gaan construeren. Het netwerk is opgebouwd uit 4 lagen:\n",
    "1. **Embedding layer**: input laag, gebruikt voor het mappen van de Word2Vec word embeddings.\n",
    "2. **Dropout layer**: deze laag zou het overfitten van het netwerk moeten reduceren doordat er willekeurig uitvoer van de vorige laag weggelaten wordt (regulariseren), op die manier verhinderen we dat het netwerk ongewenste patronen tussen de neuronen zou gaan leren.\n",
    "3. **LSTM layer**: Long short-term memory laag heeft feedback verbindingen (terugkoppeling) met vorige lagen (wat niet het geval is bij standaard feed-forward netwerken), op die manier kunnen we sequenties van data (tekst) beter gaan verwerken. In deze laag wordt ook dropout toegepast om overfitting tegen te gaan.\n",
    "4. **Dense layer**: output laag, deze laag is een dense laag met slechts 1 uitvoer paramater die de sentiment score gaat voorstellen. Als activatie functie gebruiken we een sigmoid functie waardoor de uitvoer tussen 0 en 1 ligt. Voor negatieve sentiment zal deze waarde dichter bij 0 liggen en voor positieve sentiment dichter bij 1."
   ]
  },
  {
   "cell_type": "code",
   "execution_count": 44,
   "metadata": {
    "_uuid": "e775ef4f1b74e6412457181383c39f2df554ef3f"
   },
   "outputs": [
    {
     "name": "stdout",
     "output_type": "stream",
     "text": [
      "Model: \"sequential_2\"\n",
      "_________________________________________________________________\n",
      "Layer (type)                 Output Shape              Param #   \n",
      "=================================================================\n",
      "embedding_2 (Embedding)      (None, 300, 300)          87125700  \n",
      "_________________________________________________________________\n",
      "dropout_1 (Dropout)          (None, 300, 300)          0         \n",
      "_________________________________________________________________\n",
      "lstm_1 (LSTM)                (None, 100)               160400    \n",
      "_________________________________________________________________\n",
      "dense_1 (Dense)              (None, 1)                 101       \n",
      "=================================================================\n",
      "Total params: 87,286,201\n",
      "Trainable params: 160,501\n",
      "Non-trainable params: 87,125,700\n",
      "_________________________________________________________________\n"
     ]
    }
   ],
   "source": [
    "from keras.layers import Dense, Dropout, LSTM\n",
    "from keras.models import Sequential\n",
    "\n",
    "model = Sequential()\n",
    "model.add(embedding_layer)\n",
    "model.add(Dropout(0.5))\n",
    "model.add(LSTM(100, dropout=0.2, recurrent_dropout=0.2))\n",
    "model.add(Dense(1, activation='sigmoid'))\n",
    "\n",
    "model.summary()"
   ]
  },
  {
   "cell_type": "markdown",
   "metadata": {},
   "source": [
    "Vervolgens gaan we het model gaan compileren. Aangezien onze targets binair zijn (0 of 1) gaan we een binaire loss functie gaan gebruiken. Als optimizer gaan we het \"Adam\" algoritme gebruiken die een standaard learning rate van 0.001 heeft. Als metrics van het model willen we de accuracy weten."
   ]
  },
  {
   "cell_type": "code",
   "execution_count": 45,
   "metadata": {
    "_uuid": "1331e08d590bb2aa2033706c8faca217afc0f1c3"
   },
   "outputs": [],
   "source": [
    "model.compile(loss='binary_crossentropy', optimizer=\"adam\", metrics=['accuracy'])"
   ]
  },
  {
   "cell_type": "markdown",
   "metadata": {
    "_uuid": "c7733127cb8b380e0c807268903bf4d03ef92542"
   },
   "source": [
    "Om inzicht te krijgen in de inwendige state van het model tijdens het trainen, gaan we enkele callbacks gaan toevoegen. Deze zullen periodiek enkele statistieken uitprinten en  parameters tunen (learning rate). Ook is het mogelijk om het trainen op die manier vroegtijdig te stoppen indien deze geen winst meer boekt.\n",
    "- **ReduceLROnPlateau**: deze callback verlaagt de learning rate zodra de loss niet meer verandert.\n",
    "- **EarlyStopping**: deze callback stopt de training wanneer de accuracy niet meer verbetert."
   ]
  },
  {
   "cell_type": "code",
   "execution_count": 46,
   "metadata": {
    "_uuid": "a688df590386f5748da6fe00b01904fe6c71619e"
   },
   "outputs": [],
   "source": [
    "from keras.callbacks import ReduceLROnPlateau, EarlyStopping\n",
    "\n",
    "callbacks = [ReduceLROnPlateau(monitor='val_loss', patience=5, cooldown=0), EarlyStopping(monitor='val_accuracy', min_delta=1e-4, patience=5)]"
   ]
  },
  {
   "cell_type": "markdown",
   "metadata": {},
   "source": [
    "Nu gaan we het model effectief gaan trainen. Om dit proces te versnellen gaan we gebruik maken van de CUDA bibliotheek van Nvidia. Hiervoor hebben we de vereiste drivers geinstalleerd. Vervolgens testen we of tensorflow (waarrond Keras gebouwd is) effectief de grafische kaart gaat aanspreken."
   ]
  },
  {
   "cell_type": "code",
   "execution_count": 47,
   "metadata": {},
   "outputs": [
    {
     "data": {
      "text/plain": [
       "[name: \"/device:CPU:0\"\n",
       " device_type: \"CPU\"\n",
       " memory_limit: 268435456\n",
       " locality {\n",
       " }\n",
       " incarnation: 8228990236659688884,\n",
       " name: \"/device:GPU:0\"\n",
       " device_type: \"GPU\"\n",
       " memory_limit: 6686252073\n",
       " locality {\n",
       "   bus_id: 1\n",
       "   links {\n",
       "   }\n",
       " }\n",
       " incarnation: 12274349819508669817\n",
       " physical_device_desc: \"device: 0, name: GeForce GTX 1070, pci bus id: 0000:01:00.0, compute capability: 6.1\"]"
      ]
     },
     "execution_count": 47,
     "metadata": {},
     "output_type": "execute_result"
    }
   ],
   "source": [
    "from tensorflow.python.client import device_lib\n",
    "\n",
    "device_lib.list_local_devices()"
   ]
  },
  {
   "cell_type": "markdown",
   "metadata": {},
   "source": [
    "Nu Keras gebruik kan maken van onze GPU gaan we het model gaan trainen op onze train dataset met de fit functie. We gaan 8 keer over de dataset gaan (epochs) en gebruiken een batch grootte van 1024. Dit blijkt een goede afweging te zijn tussen het vereiste geheugen om het model te trainen en de snelheid waarmee het model traint. Om de train dataset te valideren gaan we deze verder opsplitsen in een derde validatie dataset (0.10)."
   ]
  },
  {
   "cell_type": "code",
   "execution_count": 48,
   "metadata": {
    "_uuid": "2b659d390c6577dc5cdb6b6297934279b4e801d5"
   },
   "outputs": [
    {
     "name": "stdout",
     "output_type": "stream",
     "text": [
      "Train on 1152000 samples, validate on 128000 samples\n",
      "Epoch 1/8\n",
      "1152000/1152000 [==============================] - 297s 257us/step - loss: 0.5084 - accuracy: 0.7472 - val_loss: 0.4659 - val_accuracy: 0.7787\n",
      "Epoch 2/8\n",
      "1152000/1152000 [==============================] - 296s 257us/step - loss: 0.4832 - accuracy: 0.7641 - val_loss: 0.4568 - val_accuracy: 0.7837\n",
      "Epoch 3/8\n",
      "1152000/1152000 [==============================] - 296s 257us/step - loss: 0.4759 - accuracy: 0.7694 - val_loss: 0.4534 - val_accuracy: 0.7862\n",
      "Epoch 4/8\n",
      "1152000/1152000 [==============================] - 296s 257us/step - loss: 0.4721 - accuracy: 0.7718 - val_loss: 0.4505 - val_accuracy: 0.7883\n",
      "Epoch 5/8\n",
      "1152000/1152000 [==============================] - 295s 256us/step - loss: 0.4694 - accuracy: 0.7737 - val_loss: 0.4482 - val_accuracy: 0.7895\n",
      "Epoch 6/8\n",
      "1152000/1152000 [==============================] - 296s 257us/step - loss: 0.4679 - accuracy: 0.7744 - val_loss: 0.4469 - val_accuracy: 0.7893\n",
      "Epoch 7/8\n",
      "1152000/1152000 [==============================] - 298s 259us/step - loss: 0.4664 - accuracy: 0.7750 - val_loss: 0.4458 - val_accuracy: 0.7900\n",
      "Epoch 8/8\n",
      "1152000/1152000 [==============================] - 306s 266us/step - loss: 0.4650 - accuracy: 0.7759 - val_loss: 0.4462 - val_accuracy: 0.7901\n",
      "Wall time: 39min 40s\n"
     ]
    }
   ],
   "source": [
    "%%time\n",
    "\n",
    "EPOCHS = 8\n",
    "BATCH_SIZE = 1024\n",
    "\n",
    "history = model.fit(x_train, y_train, batch_size=BATCH_SIZE, epochs=EPOCHS, validation_split=0.1, verbose=1, callbacks=callbacks)"
   ]
  },
  {
   "cell_type": "markdown",
   "metadata": {},
   "source": [
    "#### Model Evaluation - Twitter Sentiment Analysis Dataset"
   ]
  },
  {
   "cell_type": "markdown",
   "metadata": {
    "_uuid": "267258196d96796ac69a7b8c466314bcf5d6ee42"
   },
   "source": [
    "Nu we een getraind model hebben gaan we deze gaan evalueren. Dit gaan we doen door een evaluatie score te bepalen van ons model aan de hand van de test dataset."
   ]
  },
  {
   "cell_type": "code",
   "execution_count": 49,
   "metadata": {
    "_uuid": "98ecd8f1b8b74594c3ea775dd68a094e92458022"
   },
   "outputs": [
    {
     "name": "stdout",
     "output_type": "stream",
     "text": [
      "320000/320000 [==============================] - 31s 96us/step\n",
      "Model accuracy: 0.7908218502998352\n",
      "Model loss: 0.4448554313659668\n"
     ]
    }
   ],
   "source": [
    "score = model.evaluate(x_test, y_test, batch_size=BATCH_SIZE)\n",
    "\n",
    "print(\"Model accuracy:\", score[1])\n",
    "print(\"Model loss:\", score[0])"
   ]
  },
  {
   "cell_type": "markdown",
   "metadata": {},
   "source": [
    "Vervolgens gaan we onderzoeken of er eventueel overfitting of underfitting gebeurd is. Hiervoor plotten we de accuracy en loss van het trainingsproces doorheen de verschillende epochs."
   ]
  },
  {
   "cell_type": "code",
   "execution_count": 50,
   "metadata": {
    "_uuid": "40c72cd1e9d6c4fd799cbba7c813765ac4039dfc"
   },
   "outputs": [
    {
     "data": {
      "image/png": "[encoded data removed]",
      "text/plain": [
       "<Figure size 432x288 with 1 Axes>"
      ]
     },
     "metadata": {
      "needs_background": "light"
     },
     "output_type": "display_data"
    },
    {
     "data": {
      "image/png": "[encoded data removed]",
      "text/plain": [
       "<Figure size 432x288 with 1 Axes>"
      ]
     },
     "metadata": {
      "needs_background": "light"
     },
     "output_type": "display_data"
    }
   ],
   "source": [
    "acc = history.history['accuracy']\n",
    "val_acc = history.history['val_accuracy']\n",
    "loss = history.history['loss']\n",
    "val_loss = history.history['val_loss']\n",
    " \n",
    "epochs = range(len(acc))\n",
    " \n",
    "plt.plot(epochs, acc, 'b', label='Training acc')\n",
    "plt.plot(epochs, val_acc, 'r', label='Validation acc')\n",
    "plt.title('Training en validation accuracy')\n",
    "plt.legend()\n",
    " \n",
    "plt.figure()\n",
    " \n",
    "plt.plot(epochs, loss, 'b', label='Training loss')\n",
    "plt.plot(epochs, val_loss, 'r', label='Validation loss')\n",
    "plt.title('Training en validation loss')\n",
    "plt.legend()\n",
    " \n",
    "plt.show()"
   ]
  },
  {
   "cell_type": "markdown",
   "metadata": {},
   "source": [
    "De accuracy en loss van de validatie dataset volgt een zeer gelijkaardig trainingsverloop als dat van de train dataset. We kunnen besluiten dat er geen overfitting of underfitting is gebeurd."
   ]
  },
  {
   "cell_type": "markdown",
   "metadata": {},
   "source": [
    "Om het model verder te gaan evalueren gaan we een confusion matrix construeren. Deze visualisatie geeft een goed beeld van hoe goed het model werkt."
   ]
  },
  {
   "cell_type": "code",
   "execution_count": 51,
   "metadata": {
    "_uuid": "a57dc6f6211c144491a70f533225edfa95a2dc66"
   },
   "outputs": [
    {
     "name": "stdout",
     "output_type": "stream",
     "text": [
      "320000/320000 [==============================] - 31s 96us/step\n"
     ]
    },
    {
     "data": {
      "image/png": "[encoded data removed]",
      "text/plain": [
       "<Figure size 360x360 with 2 Axes>"
      ]
     },
     "metadata": {
      "needs_background": "light"
     },
     "output_type": "display_data"
    }
   ],
   "source": [
    "import itertools\n",
    "from sklearn.metrics import confusion_matrix\n",
    "\n",
    "def decode_sentiment(score):\n",
    "    return \"NEGATIVE\" if score < 0.5 else \"POSITIVE\"\n",
    "\n",
    "def plot_confusion_matrix(cm, classes, title='Confusion Matrix', cmap=plt.cm.Blues):\n",
    "    cm = cm.astype('float') / cm.sum(axis=1)[:, np.newaxis]\n",
    "\n",
    "    plt.imshow(cm, interpolation='nearest', cmap=cmap)\n",
    "    plt.title(title, fontsize=30)\n",
    "    plt.colorbar()\n",
    "    tick_marks = np.arange(len(classes))\n",
    "    plt.xticks(tick_marks, classes, rotation=90, fontsize=22)\n",
    "    plt.yticks(tick_marks, classes, fontsize=22)\n",
    "\n",
    "    fmt = '.2f'\n",
    "    thresh = cm.max() / 2.\n",
    "    for i, j in itertools.product(range(cm.shape[0]), range(cm.shape[1])):\n",
    "        plt.text(j, i, format(cm[i, j], fmt), horizontalalignment=\"center\", color=\"white\" if cm[i, j] > thresh else \"black\")\n",
    "        \n",
    "    plt.ylabel('Verwacht label', fontsize=25)\n",
    "    plt.xlabel('Voorspeld label', fontsize=25)\n",
    "\n",
    "y_pred_1d = []    \n",
    "y_test_1d = list(df_test.target)\n",
    "    \n",
    "scores = model.predict(x_test, verbose=1, batch_size=1024)\n",
    "y_pred_1d = [decode_sentiment(score) for score in scores]\n",
    "    \n",
    "cnf_matrix = confusion_matrix(y_test_1d, y_pred_1d)\n",
    "\n",
    "plt.figure(figsize=(5,5))\n",
    "plot_confusion_matrix(cnf_matrix, classes=df_train.target.unique(), title=\"Confusion Matrix\")\n",
    "plt.show()"
   ]
  },
  {
   "cell_type": "code",
   "execution_count": 52,
   "metadata": {
    "_uuid": "a7fe05b7caa1c984ff1deb0be2f7c6bc043df9f5"
   },
   "outputs": [
    {
     "name": "stdout",
     "output_type": "stream",
     "text": [
      "              precision    recall  f1-score   support\n",
      "\n",
      "    NEGATIVE       0.80      0.78      0.79    159494\n",
      "    POSITIVE       0.78      0.80      0.79    160506\n",
      "\n",
      "    accuracy                           0.79    320000\n",
      "   macro avg       0.79      0.79      0.79    320000\n",
      "weighted avg       0.79      0.79      0.79    320000\n",
      "\n"
     ]
    }
   ],
   "source": [
    "from sklearn.metrics import classification_report\n",
    "\n",
    "print(classification_report(y_test_1d, y_pred_1d))"
   ]
  },
  {
   "cell_type": "code",
   "execution_count": 53,
   "metadata": {
    "_uuid": "5cf76e6e09f8a60ed25947932b94c772eda44d23"
   },
   "outputs": [
    {
     "name": "stdout",
     "output_type": "stream",
     "text": [
      "0.790821875\n"
     ]
    }
   ],
   "source": [
    "from sklearn.metrics import accuracy_score\n",
    "\n",
    "print(accuracy_score(y_test_1d, y_pred_1d))"
   ]
  },
  {
   "cell_type": "markdown",
   "metadata": {
    "_uuid": "4f014c32f3833db282e1a075c526604f34e3158c"
   },
   "source": [
    "Nu we het model geëvalueerd hebben en we tevreden zijn met de behaalde accuracy, gaan we het model gaan exporteren zodat deze later opnieuw kan ingeladen worden. Dit is nuttig aangezien het trainen van het model heel wat tijd in beslag neemt en op die manier kan deze stap dus eenvoudig overgeslagen worden in de toekomst bij het verder ontwikkelen."
   ]
  },
  {
   "cell_type": "code",
   "execution_count": 59,
   "metadata": {
    "_uuid": "3b2b3ad5b592977b404acfa1c9ad303a62837255"
   },
   "outputs": [],
   "source": [
    "KERAS_MODEL = \"../data/sentiment_analysis/model/model.h5\"\n",
    "WORD2VEC_MODEL = \"../data/sentiment_analysis/model/model.w2v\"\n",
    "\n",
    "model.save(KERAS_MODEL)\n",
    "w2v_model.save(WORD2VEC_MODEL)"
   ]
  },
  {
   "cell_type": "markdown",
   "metadata": {},
   "source": [
    "#### Predicting Complaints Sentiment"
   ]
  },
  {
   "cell_type": "markdown",
   "metadata": {},
   "source": [
    "Nu kunnen we terug gaan naar onze Customer Complaint Dataset. Hier gaan we nu voor elke klacht een sentiment score gaan berekenen aan de hand van ons deep learning model. Deze score gaan we gaan toevoegen aan onze oorspronkelijke dataset zodat deze verder gebruikt kan worden om een classificatie model te ontwikkelen die antwoord kan geven op onze centrale onderzoeksvraag."
   ]
  },
  {
   "cell_type": "markdown",
   "metadata": {},
   "source": [
    "We laden eerst de opgeslagen modellen terug in het geheugen."
   ]
  },
  {
   "cell_type": "code",
   "execution_count": 60,
   "metadata": {},
   "outputs": [],
   "source": [
    "from keras.models import load_model \n",
    "from gensim.models import Word2Vec \n",
    "\n",
    "w2v_model = Word2Vec.load('../data/sentiment_analysis/model/model.w2v')\n",
    "model = load_model('../data/sentiment_analysis/model/model.h5') "
   ]
  },
  {
   "cell_type": "markdown",
   "metadata": {},
   "source": [
    "Nu gaan we voor alle klachten de sentiment score gaan bepalen en deze vervolgens toevoegen aan de oorspronkelijke dataset. We gaan hiervoor de oorspronkelijke narrative gaan gebruiken aangezien dit betere resultaten blijkt te geven dan indien we de processed narrative zouden gebruiken. Dit heeft waarschijnlijk te maken met het feit dat we voor de processing op het Word2Vec model gekozen hebben om geen stemming te gebruiken aangezien dit een hogere accuracy gaf."
   ]
  },
  {
   "cell_type": "code",
   "execution_count": 61,
   "metadata": {},
   "outputs": [],
   "source": [
    "SEQUENCE_LENGTH = 300 \n",
    "\n",
    "def predict(text):\n",
    "    x_test = pad_sequences(tokenizer.texts_to_sequences([text]), maxlen=SEQUENCE_LENGTH)\n",
    "    score = model.predict([x_test])[0]\n",
    "    return score[0]"
   ]
  },
  {
   "cell_type": "code",
   "execution_count": 67,
   "metadata": {},
   "outputs": [
    {
     "data": {
      "text/html": [
       "<div>\n",
       "<style scoped>\n",
       "    .dataframe tbody tr th:only-of-type {\n",
       "        vertical-align: middle;\n",
       "    }\n",
       "\n",
       "    .dataframe tbody tr th {\n",
       "        vertical-align: top;\n",
       "    }\n",
       "\n",
       "    .dataframe thead th {\n",
       "        text-align: right;\n",
       "    }\n",
       "</style>\n",
       "<table border=\"1\" class=\"dataframe\">\n",
       "  <thead>\n",
       "    <tr style=\"text-align: right;\">\n",
       "      <th></th>\n",
       "      <th>Product</th>\n",
       "      <th>Narrative</th>\n",
       "      <th>Company</th>\n",
       "      <th>State</th>\n",
       "      <th>Response</th>\n",
       "      <th>Narrative_Processed</th>\n",
       "      <th>Sentiment_Score</th>\n",
       "    </tr>\n",
       "  </thead>\n",
       "  <tbody>\n",
       "    <tr>\n",
       "      <th>0</th>\n",
       "      <td>Credit reporting, repair, or other</td>\n",
       "      <td>I have complained many times that the credit r...</td>\n",
       "      <td>Experian Information Solutions Inc.</td>\n",
       "      <td>CA</td>\n",
       "      <td>Closed with explanation</td>\n",
       "      <td>complain time credit report experian inaccur j...</td>\n",
       "      <td>0.155694</td>\n",
       "    </tr>\n",
       "    <tr>\n",
       "      <th>1</th>\n",
       "      <td>Debt collection</td>\n",
       "      <td>please review the current fraud account and al...</td>\n",
       "      <td>Ideal Collection Services, Inc.</td>\n",
       "      <td>FL</td>\n",
       "      <td>Closed with explanation</td>\n",
       "      <td>review current fraud account fraudul inquir</td>\n",
       "      <td>0.514699</td>\n",
       "    </tr>\n",
       "    <tr>\n",
       "      <th>2</th>\n",
       "      <td>Debt collection</td>\n",
       "      <td>Called multiple times over the years for a deb...</td>\n",
       "      <td>ONEMAIN FINANCIAL HOLDINGS, LLC.</td>\n",
       "      <td>FL</td>\n",
       "      <td>Closed with explanation</td>\n",
       "      <td>call multipl time year debt occur previous mar...</td>\n",
       "      <td>0.303124</td>\n",
       "    </tr>\n",
       "    <tr>\n",
       "      <th>3</th>\n",
       "      <td>Debt collection</td>\n",
       "      <td>I sent in a letter to the company to have them...</td>\n",
       "      <td>Diversified Consultants, Inc.</td>\n",
       "      <td>VA</td>\n",
       "      <td>Closed with explanation</td>\n",
       "      <td>send letter compani valid debt special ask att...</td>\n",
       "      <td>0.451214</td>\n",
       "    </tr>\n",
       "    <tr>\n",
       "      <th>4</th>\n",
       "      <td>Credit reporting, repair, or other</td>\n",
       "      <td>On XX/XX/19 I applied for a Debt Relief Produc...</td>\n",
       "      <td>ClearOne Advantage, LLC</td>\n",
       "      <td>PA</td>\n",
       "      <td>Closed with explanation</td>\n",
       "      <td>appli debt relief product account execut expla...</td>\n",
       "      <td>0.292630</td>\n",
       "    </tr>\n",
       "    <tr>\n",
       "      <th>...</th>\n",
       "      <td>...</td>\n",
       "      <td>...</td>\n",
       "      <td>...</td>\n",
       "      <td>...</td>\n",
       "      <td>...</td>\n",
       "      <td>...</td>\n",
       "      <td>...</td>\n",
       "    </tr>\n",
       "    <tr>\n",
       "      <th>485696</th>\n",
       "      <td>Debt collection</td>\n",
       "      <td>This account was a payday loan from the XXXX X...</td>\n",
       "      <td>Second Round Limited Partnership</td>\n",
       "      <td>ID</td>\n",
       "      <td>Closed</td>\n",
       "      <td>account payday loan year complet request loan ...</td>\n",
       "      <td>0.746436</td>\n",
       "    </tr>\n",
       "    <tr>\n",
       "      <th>485697</th>\n",
       "      <td>Mortgage</td>\n",
       "      <td>We had a mortgage with XXXX that was discharge...</td>\n",
       "      <td>Seterus, Inc.</td>\n",
       "      <td>MD</td>\n",
       "      <td>Closed with explanation</td>\n",
       "      <td>mortgag discharg chapter bankruptci year ago c...</td>\n",
       "      <td>0.243441</td>\n",
       "    </tr>\n",
       "    <tr>\n",
       "      <th>485698</th>\n",
       "      <td>Consumer Loan</td>\n",
       "      <td>I have 2003 XXXX financed through United Auto ...</td>\n",
       "      <td>United PanAm Financial Corp.</td>\n",
       "      <td>TX</td>\n",
       "      <td>Closed with non-monetary relief</td>\n",
       "      <td>financ unit auto credit payment motor lock sei...</td>\n",
       "      <td>0.298219</td>\n",
       "    </tr>\n",
       "    <tr>\n",
       "      <th>485699</th>\n",
       "      <td>Consumer Loan</td>\n",
       "      <td>I was on automatic payment for my car loan. In...</td>\n",
       "      <td>NISSAN MOTOR ACCEPTANCE CORPORATION</td>\n",
       "      <td>IL</td>\n",
       "      <td>Closed with explanation</td>\n",
       "      <td>automat payment car loan fine print suppos fin...</td>\n",
       "      <td>0.109625</td>\n",
       "    </tr>\n",
       "    <tr>\n",
       "      <th>485700</th>\n",
       "      <td>Debt collection</td>\n",
       "      <td>I recieved a collections call from an unknown ...</td>\n",
       "      <td>CMRE Financial Services, Inc.</td>\n",
       "      <td>CA</td>\n",
       "      <td>Closed with explanation</td>\n",
       "      <td>reciev collect unknown compani morn hospit hol...</td>\n",
       "      <td>0.128671</td>\n",
       "    </tr>\n",
       "  </tbody>\n",
       "</table>\n",
       "<p>485701 rows × 7 columns</p>\n",
       "</div>"
      ],
      "text/plain": [
       "                                   Product  \\\n",
       "0       Credit reporting, repair, or other   \n",
       "1                          Debt collection   \n",
       "2                          Debt collection   \n",
       "3                          Debt collection   \n",
       "4       Credit reporting, repair, or other   \n",
       "...                                    ...   \n",
       "485696                     Debt collection   \n",
       "485697                            Mortgage   \n",
       "485698                       Consumer Loan   \n",
       "485699                       Consumer Loan   \n",
       "485700                     Debt collection   \n",
       "\n",
       "                                                Narrative  \\\n",
       "0       I have complained many times that the credit r...   \n",
       "1       please review the current fraud account and al...   \n",
       "2       Called multiple times over the years for a deb...   \n",
       "3       I sent in a letter to the company to have them...   \n",
       "4       On XX/XX/19 I applied for a Debt Relief Produc...   \n",
       "...                                                   ...   \n",
       "485696  This account was a payday loan from the XXXX X...   \n",
       "485697  We had a mortgage with XXXX that was discharge...   \n",
       "485698  I have 2003 XXXX financed through United Auto ...   \n",
       "485699  I was on automatic payment for my car loan. In...   \n",
       "485700  I recieved a collections call from an unknown ...   \n",
       "\n",
       "                                    Company State  \\\n",
       "0       Experian Information Solutions Inc.    CA   \n",
       "1           Ideal Collection Services, Inc.    FL   \n",
       "2          ONEMAIN FINANCIAL HOLDINGS, LLC.    FL   \n",
       "3             Diversified Consultants, Inc.    VA   \n",
       "4                   ClearOne Advantage, LLC    PA   \n",
       "...                                     ...   ...   \n",
       "485696     Second Round Limited Partnership    ID   \n",
       "485697                        Seterus, Inc.    MD   \n",
       "485698         United PanAm Financial Corp.    TX   \n",
       "485699  NISSAN MOTOR ACCEPTANCE CORPORATION    IL   \n",
       "485700        CMRE Financial Services, Inc.    CA   \n",
       "\n",
       "                               Response  \\\n",
       "0               Closed with explanation   \n",
       "1               Closed with explanation   \n",
       "2               Closed with explanation   \n",
       "3               Closed with explanation   \n",
       "4               Closed with explanation   \n",
       "...                                 ...   \n",
       "485696                           Closed   \n",
       "485697          Closed with explanation   \n",
       "485698  Closed with non-monetary relief   \n",
       "485699          Closed with explanation   \n",
       "485700          Closed with explanation   \n",
       "\n",
       "                                      Narrative_Processed  Sentiment_Score  \n",
       "0       complain time credit report experian inaccur j...         0.155694  \n",
       "1             review current fraud account fraudul inquir         0.514699  \n",
       "2       call multipl time year debt occur previous mar...         0.303124  \n",
       "3       send letter compani valid debt special ask att...         0.451214  \n",
       "4       appli debt relief product account execut expla...         0.292630  \n",
       "...                                                   ...              ...  \n",
       "485696  account payday loan year complet request loan ...         0.746436  \n",
       "485697  mortgag discharg chapter bankruptci year ago c...         0.243441  \n",
       "485698  financ unit auto credit payment motor lock sei...         0.298219  \n",
       "485699  automat payment car loan fine print suppos fin...         0.109625  \n",
       "485700  reciev collect unknown compani morn hospit hol...         0.128671  \n",
       "\n",
       "[485701 rows x 7 columns]"
      ]
     },
     "execution_count": 67,
     "metadata": {},
     "output_type": "execute_result"
    }
   ],
   "source": [
    "import swifter\n",
    "\n",
    "complaints_df['Sentiment_Score'] = complaints_df['Narrative'].swifter.apply(predict)\n",
    "\n",
    "complaints_df"
   ]
  },
  {
   "cell_type": "markdown",
   "metadata": {},
   "source": [
    "We geven de verdeling van de klachten weer in een histogram."
   ]
  },
  {
   "cell_type": "code",
   "execution_count": 84,
   "metadata": {},
   "outputs": [
    {
     "data": {
      "text/plain": [
       "<matplotlib.axes._subplots.AxesSubplot at 0x2470a149d88>"
      ]
     },
     "execution_count": 84,
     "metadata": {},
     "output_type": "execute_result"
    },
    {
     "data": {
      "image/png": "[encoded data removed]",
      "text/plain": [
       "<Figure size 432x288 with 1 Axes>"
      ]
     },
     "metadata": {
      "needs_background": "light"
     },
     "output_type": "display_data"
    }
   ],
   "source": [
    "sns.distplot(complaints_df['Sentiment_Score'])"
   ]
  },
  {
   "cell_type": "markdown",
   "metadata": {},
   "source": [
    "We kunnen hieruit duidelijk afleiden dat de klachten voornamelijk negatief zijn, wat dus ook te verwachten was van klachten. Dit bevestigd dat het model voor onze sentiment analyse naar behoren werkt."
   ]
  },
  {
   "cell_type": "markdown",
   "metadata": {},
   "source": [
    "We gaan nu deze verdeling eens verder gaan onderzoeken door een negatieve klacht en een \"positieve\" klacht te gaan uitlezen. We verdelen daarom de scores in meerdere kwantielen en lezen een klacht uit het eerste en laatste kwantiel uit."
   ]
  },
  {
   "cell_type": "code",
   "execution_count": 133,
   "metadata": {},
   "outputs": [],
   "source": [
    "complaints_quantile_df['Sentiment_Quantile'] = pd.qcut(complaints_df['Sentiment_Score'], q=[0, .2, .4, .6, .8, 1], labels=False, precision=0)"
   ]
  },
  {
   "cell_type": "markdown",
   "metadata": {},
   "source": [
    "**Negatieve klacht:**"
   ]
  },
  {
   "cell_type": "code",
   "execution_count": 118,
   "metadata": {},
   "outputs": [
    {
     "data": {
      "text/plain": [
       "[\"XXXX Getting a fraud alert doing something I do almost every day and for which there is supposed to be a note in my file. Citibank is marking my XXXX purchases as fraudulent. I buy a lot of books.almost every day because I read a, lot of books. 80 this year so far. So this is NOT unusual activity on my account. And when I called about it they wanted data I had already input. SS number, pin, account number, atm card and my password. Plus my mother 's maiden name. Only 2 of those should have been enough for something they never should have denied in the first place.\"]"
      ]
     },
     "execution_count": 118,
     "metadata": {},
     "output_type": "execute_result"
    }
   ],
   "source": [
    "list(complaints_quantile_df[complaints_quantile_df['Sentiment_Quantile'].isin(['1'])].sample(1).Narrative)"
   ]
  },
  {
   "cell_type": "markdown",
   "metadata": {},
   "source": [
    "**Positieve klacht:**"
   ]
  },
  {
   "cell_type": "code",
   "execution_count": 117,
   "metadata": {},
   "outputs": [
    {
     "data": {
      "text/plain": [
       "['XXXX late fee. Paid in full on the due date as evidenced by receipt from other credit card company which paid this balance. Have since received another bill, with another late fee on top the late fee originally charged. this additional fee was now for {$26.00}. total bill now {$51.00} consisting of fees. I have spoken to citibank, to no avail. I feel these fees are incorrect and unjust and would like them removed.. My funds are limited, and hoping for your help in resolving this issue. Thank you.']"
      ]
     },
     "execution_count": 117,
     "metadata": {},
     "output_type": "execute_result"
    }
   ],
   "source": [
    "list(complaints_quantile_df[complaints_quantile_df['Sentiment_Quantile'].isin(['4'])].sample(1).Narrative)"
   ]
  },
  {
   "cell_type": "markdown",
   "metadata": {},
   "source": [
    "Nu we de sentiment score voor alle klachten bepaald hebben gaan we de volledige dataset gaan opslaan zodat deze later opnieuw kan ingeladen worden."
   ]
  },
  {
   "cell_type": "code",
   "execution_count": null,
   "metadata": {},
   "outputs": [],
   "source": [
    "complaints_df.to_csv('../data/complaints_with_sentiment_score.csv')"
   ]
  },
  {
   "cell_type": "markdown",
   "metadata": {},
   "source": [
    "## Classificiation Model"
   ]
  },
  {
   "cell_type": "markdown",
   "metadata": {},
   "source": [
    "Nu we alle predictors bepaald hebben kunnen we het classificatie model gaan ontwikkelen."
   ]
  },
  {
   "cell_type": "markdown",
   "metadata": {},
   "source": [
    "- X: features matrix construeren\n",
    "    - sentiment score (0..1)\n",
    "    - product (categorical): 1 hot transformation\n",
    "    - response ratios (0..1) depending on company\n",
    "- y: target vector construeren\n",
    "    - reponse:\n",
    "        - multi label classifications: label gebruiken\n",
    "        - NN: 1 hot transformation"
   ]
  },
  {
   "cell_type": "markdown",
   "metadata": {},
   "source": [
    "### Specification"
   ]
  },
  {
   "cell_type": "markdown",
   "metadata": {},
   "source": [
    "- **Predictors**: Sentiment_Score, Product (13x), Response_Ratio (4x), Geolocation_Ratio (4x)\n",
    "- **Target**: Company response to consumer\n",
    "- **Sampling rate** (training/validation/testing): 60/20/20"
   ]
  },
  {
   "cell_type": "markdown",
   "metadata": {},
   "source": [
    "### Feature Transformation & Label Encodings"
   ]
  },
  {
   "cell_type": "code",
   "execution_count": null,
   "metadata": {},
   "outputs": [],
   "source": []
  },
  {
   "cell_type": "markdown",
   "metadata": {},
   "source": [
    "## Conclusion"
   ]
  },
  {
   "cell_type": "markdown",
   "metadata": {},
   "source": []
  },
  {
   "cell_type": "markdown",
   "metadata": {},
   "source": [
    "-------------------------------------------------------------------------------------------------------------------------------------------------------------------------------------------------------------------------"
   ]
  },
  {
   "cell_type": "markdown",
   "metadata": {},
   "source": [
    "Werkverdeling"
   ]
  },
  {
   "cell_type": "markdown",
   "metadata": {},
   "source": [
    "-------------------------------------------------------------------------------------------------------------------------------------------------------------------------------------------------------------------------"
   ]
  },
  {
   "cell_type": "markdown",
   "metadata": {},
   "source": [
    "## Notes"
   ]
  },
  {
   "cell_type": "markdown",
   "metadata": {},
   "source": [
    "Om de opgeslagen dataset met de sentiment scores opnieuw in te laden gebruiken we de volgende functie. Dit is nuttig om de dataset opnieuw in het geheugen te krijgen zonder de voorgaande voorspellingen opnieuw te moeten uitvoeren."
   ]
  },
  {
   "cell_type": "code",
   "execution_count": null,
   "metadata": {},
   "outputs": [],
   "source": [
    "# read dataset with sentiment scores\n",
    "complaints_sentiment_source_df = pd.read_csv('../data/complaints_with_sentiment_score.csv', delimiter=',')\n",
    "\n",
    "# append sentiment score to original dataframe\n",
    "complaints_df['Sentiment_Score'] = complaints_sentiment_source_df['Narrative sentiment score']\n",
    "complaints_df"
   ]
  },
  {
   "cell_type": "markdown",
   "metadata": {},
   "source": [
    "-------------------------------------------------------------------------------------------------------------------------------------------------------------------------------------------------------------------------"
   ]
  },
  {
   "cell_type": "markdown",
   "metadata": {},
   "source": [
    "TODO\n",
    "- eventueel dataset verder balanceren op basis van target group verdeling\n",
    "- classifiers test experimenten uitvoeren (Naive Bayes, Decision Tree/Random Forest, SVM, NN)\n",
    "    - inzicht geven van verdelingen bij zowel train/test sets\n",
    "    - confusion matrix met concrete voorbeelden van correct geclassificeerde klachten"
   ]
  }
 ],
 "metadata": {
  "kernelspec": {
   "display_name": "Python 3",
   "language": "python",
   "name": "python3"
  },
  "language_info": {
   "codemirror_mode": {
    "name": "ipython",
    "version": 3
   },
   "file_extension": ".py",
   "mimetype": "text/x-python",
   "name": "python",
   "nbconvert_exporter": "python",
   "pygments_lexer": "ipython3",
   "version": "3.7.7"
  }
 },
 "nbformat": 4,
 "nbformat_minor": 4
}
