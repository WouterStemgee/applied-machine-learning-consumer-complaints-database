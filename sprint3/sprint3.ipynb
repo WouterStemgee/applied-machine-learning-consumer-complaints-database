{
 "cells": [
  {
   "cell_type": "markdown",
   "metadata": {},
   "source": [
    "# Sprint 3: Consumer Complaint Database"
   ]
  },
  {
   "cell_type": "markdown",
   "metadata": {},
   "source": [
    "Groep 10: Lucas Van de Velde, Thomas Devriese, Wouter Stemgée"
   ]
  },
  {
   "cell_type": "markdown",
   "metadata": {},
   "source": [
    "## Introduction"
   ]
  },
  {
   "cell_type": "markdown",
   "metadata": {},
   "source": [
    "Tijdens deze laatste sprint beginnen we vanuit een centrale onderzoeksvraag en trachten we deze zo goed mogelijk te beantwoorden door gebruik te maken van verschillende machine learning technieken. De eerste stap is om deze vraag te definiëren en vervolgens de predictors te gaan bepalen waarmee we het antwoord op deze vraag kunnen beantwoorden."
   ]
  },
  {
   "cell_type": "markdown",
   "metadata": {},
   "source": [
    "## Research Question"
   ]
  },
  {
   "cell_type": "markdown",
   "metadata": {},
   "source": [
    "**\"Kunnen we de reactie op een gegeven klacht gaan voorspellen?\"**\n",
    "\n",
    "Deze centrale onderzoeksvraag probeert te voorspellen hoe een bedrijf op een ongeziene klacht gaat reageren. Om dit te kunnen beantwoorden moeten we enkele onderliggen vragen stellen die invloed kunnen hebben op het eindresultaat. We gaan dus opzoek naar verschillende parameters die dit resultaat kunnen voorspellen.\n",
    "\n",
    "Onderliggende vragen:\n",
    "- \"Heeft de sentiment van een klacht invloed op de reactie van het bedrijf?\"\n",
    "- \"Heeft de historische ratio waarmee een klacht opgelost geraakt in verhouding met het totaal aantal klachten van het bedrijf invloed op de reactie van het bedrijf?\"\n",
    "- \"Heeft de geolocatie van waar de klacht afkomstig is invloed op de reactie van het bedrijf?\"\n",
    "- \"Heeft de productcategorie van de klacht invloed op de reactie van het bedrijf?\"\n",
    "\n",
    "De verschillende antwoorden op deze vragen worden vervolgens gebruikt als input om aan de hand van machine learning een classificatie model te ontwikkelen die de centrale onderzoeksvraag tracht te beantwoorden."
   ]
  },
  {
   "cell_type": "markdown",
   "metadata": {},
   "source": [
    "## Exploratory Data Analysis & Data Preprocessing"
   ]
  },
  {
   "cell_type": "markdown",
   "metadata": {},
   "source": [
    "Hier gaan we gaan onderzoeken welke features in de dataset interessant kunnen zijn om te gebruiken. We bekijken of er een verband is tussen de antwoorden op de gestelde onderliggende vragen van hierboven en het uiteindelijke antwoord op de centrale onderzoeksvraag die we wensen te bekomen."
   ]
  },
  {
   "cell_type": "markdown",
   "metadata": {},
   "source": [
    "### Dataset"
   ]
  },
  {
   "cell_type": "markdown",
   "metadata": {},
   "source": [
    "We starten zoals gewoonlijk met het inlezen van de volledige dataset."
   ]
  },
  {
   "cell_type": "code",
   "execution_count": 12,
   "metadata": {},
   "outputs": [
    {
     "data": {
      "text/html": [
       "<div>\n",
       "<style scoped>\n",
       "    .dataframe tbody tr th:only-of-type {\n",
       "        vertical-align: middle;\n",
       "    }\n",
       "\n",
       "    .dataframe tbody tr th {\n",
       "        vertical-align: top;\n",
       "    }\n",
       "\n",
       "    .dataframe thead th {\n",
       "        text-align: right;\n",
       "    }\n",
       "</style>\n",
       "<table border=\"1\" class=\"dataframe\">\n",
       "  <thead>\n",
       "    <tr style=\"text-align: right;\">\n",
       "      <th></th>\n",
       "      <th>Date received</th>\n",
       "      <th>Product</th>\n",
       "      <th>Sub-product</th>\n",
       "      <th>Issue</th>\n",
       "      <th>Sub-issue</th>\n",
       "      <th>Consumer complaint narrative</th>\n",
       "      <th>Company public response</th>\n",
       "      <th>Company</th>\n",
       "      <th>State</th>\n",
       "      <th>ZIP code</th>\n",
       "      <th>Tags</th>\n",
       "      <th>Consumer consent provided?</th>\n",
       "      <th>Submitted via</th>\n",
       "      <th>Date sent to company</th>\n",
       "      <th>Company response to consumer</th>\n",
       "      <th>Timely response?</th>\n",
       "      <th>Consumer disputed?</th>\n",
       "      <th>Complaint ID</th>\n",
       "    </tr>\n",
       "  </thead>\n",
       "  <tbody>\n",
       "    <tr>\n",
       "      <td>0</td>\n",
       "      <td>07/23/19</td>\n",
       "      <td>Credit reporting, credit repair services, or o...</td>\n",
       "      <td>Credit reporting</td>\n",
       "      <td>Credit monitoring or identity theft protection...</td>\n",
       "      <td>Problem canceling credit monitoring or identif...</td>\n",
       "      <td>I have complained many times that the credit r...</td>\n",
       "      <td>Company has responded to the consumer and the ...</td>\n",
       "      <td>Experian Information Solutions Inc.</td>\n",
       "      <td>CA</td>\n",
       "      <td>926XX</td>\n",
       "      <td>None</td>\n",
       "      <td>Consent provided</td>\n",
       "      <td>Web</td>\n",
       "      <td>07/23/19</td>\n",
       "      <td>Closed with explanation</td>\n",
       "      <td>Yes</td>\n",
       "      <td>NaN</td>\n",
       "      <td>3315279</td>\n",
       "    </tr>\n",
       "    <tr>\n",
       "      <td>1</td>\n",
       "      <td>07/26/19</td>\n",
       "      <td>Debt collection</td>\n",
       "      <td>I do not know</td>\n",
       "      <td>False statements or representation</td>\n",
       "      <td>Attempted to collect wrong amount</td>\n",
       "      <td>please review the current fraud account and al...</td>\n",
       "      <td>Company believes it acted appropriately as aut...</td>\n",
       "      <td>Ideal Collection Services, Inc.</td>\n",
       "      <td>FL</td>\n",
       "      <td>333XX</td>\n",
       "      <td>None</td>\n",
       "      <td>Consent provided</td>\n",
       "      <td>Web</td>\n",
       "      <td>07/26/19</td>\n",
       "      <td>Closed with explanation</td>\n",
       "      <td>Yes</td>\n",
       "      <td>NaN</td>\n",
       "      <td>3319487</td>\n",
       "    </tr>\n",
       "    <tr>\n",
       "      <td>2</td>\n",
       "      <td>06/03/19</td>\n",
       "      <td>Debt collection</td>\n",
       "      <td>I do not know</td>\n",
       "      <td>Attempts to collect debt not owed</td>\n",
       "      <td>Debt was paid</td>\n",
       "      <td>Called multiple times over the years for a deb...</td>\n",
       "      <td>None</td>\n",
       "      <td>ONEMAIN FINANCIAL HOLDINGS, LLC.</td>\n",
       "      <td>FL</td>\n",
       "      <td>327XX</td>\n",
       "      <td>None</td>\n",
       "      <td>Consent provided</td>\n",
       "      <td>Web</td>\n",
       "      <td>06/07/19</td>\n",
       "      <td>Closed with explanation</td>\n",
       "      <td>Yes</td>\n",
       "      <td>NaN</td>\n",
       "      <td>3262794</td>\n",
       "    </tr>\n",
       "    <tr>\n",
       "      <td>3</td>\n",
       "      <td>07/03/19</td>\n",
       "      <td>Debt collection</td>\n",
       "      <td>Other debt</td>\n",
       "      <td>Attempts to collect debt not owed</td>\n",
       "      <td>Debt was result of identity theft</td>\n",
       "      <td>I sent in a letter to the company to have them...</td>\n",
       "      <td>None</td>\n",
       "      <td>Diversified Consultants, Inc.</td>\n",
       "      <td>VA</td>\n",
       "      <td>232XX</td>\n",
       "      <td>None</td>\n",
       "      <td>Consent provided</td>\n",
       "      <td>Web</td>\n",
       "      <td>07/03/19</td>\n",
       "      <td>Closed with explanation</td>\n",
       "      <td>Yes</td>\n",
       "      <td>NaN</td>\n",
       "      <td>3295208</td>\n",
       "    </tr>\n",
       "    <tr>\n",
       "      <td>4</td>\n",
       "      <td>07/14/19</td>\n",
       "      <td>Credit reporting, credit repair services, or o...</td>\n",
       "      <td>Credit reporting</td>\n",
       "      <td>Improper use of your report</td>\n",
       "      <td>Received unsolicited financial product or insu...</td>\n",
       "      <td>On XX/XX/19 I applied for a Debt Relief Produc...</td>\n",
       "      <td>None</td>\n",
       "      <td>ClearOne Advantage, LLC</td>\n",
       "      <td>PA</td>\n",
       "      <td>191XX</td>\n",
       "      <td>Older American, Servicemember</td>\n",
       "      <td>Consent provided</td>\n",
       "      <td>Web</td>\n",
       "      <td>07/18/19</td>\n",
       "      <td>Closed with explanation</td>\n",
       "      <td>Yes</td>\n",
       "      <td>NaN</td>\n",
       "      <td>3306130</td>\n",
       "    </tr>\n",
       "  </tbody>\n",
       "</table>\n",
       "</div>"
      ],
      "text/plain": [
       "  Date received                                            Product  \\\n",
       "0      07/23/19  Credit reporting, credit repair services, or o...   \n",
       "1      07/26/19                                    Debt collection   \n",
       "2      06/03/19                                    Debt collection   \n",
       "3      07/03/19                                    Debt collection   \n",
       "4      07/14/19  Credit reporting, credit repair services, or o...   \n",
       "\n",
       "        Sub-product                                              Issue  \\\n",
       "0  Credit reporting  Credit monitoring or identity theft protection...   \n",
       "1     I do not know                 False statements or representation   \n",
       "2     I do not know                  Attempts to collect debt not owed   \n",
       "3        Other debt                  Attempts to collect debt not owed   \n",
       "4  Credit reporting                        Improper use of your report   \n",
       "\n",
       "                                           Sub-issue  \\\n",
       "0  Problem canceling credit monitoring or identif...   \n",
       "1                  Attempted to collect wrong amount   \n",
       "2                                      Debt was paid   \n",
       "3                  Debt was result of identity theft   \n",
       "4  Received unsolicited financial product or insu...   \n",
       "\n",
       "                        Consumer complaint narrative  \\\n",
       "0  I have complained many times that the credit r...   \n",
       "1  please review the current fraud account and al...   \n",
       "2  Called multiple times over the years for a deb...   \n",
       "3  I sent in a letter to the company to have them...   \n",
       "4  On XX/XX/19 I applied for a Debt Relief Produc...   \n",
       "\n",
       "                             Company public response  \\\n",
       "0  Company has responded to the consumer and the ...   \n",
       "1  Company believes it acted appropriately as aut...   \n",
       "2                                               None   \n",
       "3                                               None   \n",
       "4                                               None   \n",
       "\n",
       "                               Company State ZIP code  \\\n",
       "0  Experian Information Solutions Inc.    CA    926XX   \n",
       "1      Ideal Collection Services, Inc.    FL    333XX   \n",
       "2     ONEMAIN FINANCIAL HOLDINGS, LLC.    FL    327XX   \n",
       "3        Diversified Consultants, Inc.    VA    232XX   \n",
       "4              ClearOne Advantage, LLC    PA    191XX   \n",
       "\n",
       "                            Tags Consumer consent provided? Submitted via  \\\n",
       "0                           None           Consent provided           Web   \n",
       "1                           None           Consent provided           Web   \n",
       "2                           None           Consent provided           Web   \n",
       "3                           None           Consent provided           Web   \n",
       "4  Older American, Servicemember           Consent provided           Web   \n",
       "\n",
       "  Date sent to company Company response to consumer Timely response?  \\\n",
       "0             07/23/19      Closed with explanation              Yes   \n",
       "1             07/26/19      Closed with explanation              Yes   \n",
       "2             06/07/19      Closed with explanation              Yes   \n",
       "3             07/03/19      Closed with explanation              Yes   \n",
       "4             07/18/19      Closed with explanation              Yes   \n",
       "\n",
       "  Consumer disputed?  Complaint ID  \n",
       "0                NaN       3315279  \n",
       "1                NaN       3319487  \n",
       "2                NaN       3262794  \n",
       "3                NaN       3295208  \n",
       "4                NaN       3306130  "
      ]
     },
     "execution_count": 12,
     "metadata": {},
     "output_type": "execute_result"
    }
   ],
   "source": [
    "import numpy as np\n",
    "import pandas as pd\n",
    "import matplotlib.pyplot as plt\n",
    "import seaborn as sns\n",
    "\n",
    "complaints_source_df = pd.read_csv('../data/complaints.csv', delimiter=',')\n",
    "complaints_source_df.head()"
   ]
  },
  {
   "cell_type": "markdown",
   "metadata": {},
   "source": [
    "Vervolgens gaan we enkel de features die we wensen te gebruiken gaan kopiëren naar een nieuwe DataFrame en geven deze een eenvoudiger label."
   ]
  },
  {
   "cell_type": "code",
   "execution_count": 67,
   "metadata": {},
   "outputs": [
    {
     "data": {
      "text/html": [
       "<div>\n",
       "<style scoped>\n",
       "    .dataframe tbody tr th:only-of-type {\n",
       "        vertical-align: middle;\n",
       "    }\n",
       "\n",
       "    .dataframe tbody tr th {\n",
       "        vertical-align: top;\n",
       "    }\n",
       "\n",
       "    .dataframe thead th {\n",
       "        text-align: right;\n",
       "    }\n",
       "</style>\n",
       "<table border=\"1\" class=\"dataframe\">\n",
       "  <thead>\n",
       "    <tr style=\"text-align: right;\">\n",
       "      <th></th>\n",
       "      <th>Complaint ID</th>\n",
       "      <th>Product</th>\n",
       "      <th>Narrative</th>\n",
       "      <th>Company</th>\n",
       "      <th>State</th>\n",
       "      <th>Response</th>\n",
       "    </tr>\n",
       "  </thead>\n",
       "  <tbody>\n",
       "    <tr>\n",
       "      <td>0</td>\n",
       "      <td>3315279</td>\n",
       "      <td>Credit reporting, credit repair services, or o...</td>\n",
       "      <td>I have complained many times that the credit r...</td>\n",
       "      <td>Experian Information Solutions Inc.</td>\n",
       "      <td>CA</td>\n",
       "      <td>Closed with explanation</td>\n",
       "    </tr>\n",
       "    <tr>\n",
       "      <td>1</td>\n",
       "      <td>3319487</td>\n",
       "      <td>Debt collection</td>\n",
       "      <td>please review the current fraud account and al...</td>\n",
       "      <td>Ideal Collection Services, Inc.</td>\n",
       "      <td>FL</td>\n",
       "      <td>Closed with explanation</td>\n",
       "    </tr>\n",
       "    <tr>\n",
       "      <td>2</td>\n",
       "      <td>3262794</td>\n",
       "      <td>Debt collection</td>\n",
       "      <td>Called multiple times over the years for a deb...</td>\n",
       "      <td>ONEMAIN FINANCIAL HOLDINGS, LLC.</td>\n",
       "      <td>FL</td>\n",
       "      <td>Closed with explanation</td>\n",
       "    </tr>\n",
       "    <tr>\n",
       "      <td>3</td>\n",
       "      <td>3295208</td>\n",
       "      <td>Debt collection</td>\n",
       "      <td>I sent in a letter to the company to have them...</td>\n",
       "      <td>Diversified Consultants, Inc.</td>\n",
       "      <td>VA</td>\n",
       "      <td>Closed with explanation</td>\n",
       "    </tr>\n",
       "    <tr>\n",
       "      <td>4</td>\n",
       "      <td>3306130</td>\n",
       "      <td>Credit reporting, credit repair services, or o...</td>\n",
       "      <td>On XX/XX/19 I applied for a Debt Relief Produc...</td>\n",
       "      <td>ClearOne Advantage, LLC</td>\n",
       "      <td>PA</td>\n",
       "      <td>Closed with explanation</td>\n",
       "    </tr>\n",
       "  </tbody>\n",
       "</table>\n",
       "</div>"
      ],
      "text/plain": [
       "   Complaint ID                                            Product  \\\n",
       "0       3315279  Credit reporting, credit repair services, or o...   \n",
       "1       3319487                                    Debt collection   \n",
       "2       3262794                                    Debt collection   \n",
       "3       3295208                                    Debt collection   \n",
       "4       3306130  Credit reporting, credit repair services, or o...   \n",
       "\n",
       "                                           Narrative  \\\n",
       "0  I have complained many times that the credit r...   \n",
       "1  please review the current fraud account and al...   \n",
       "2  Called multiple times over the years for a deb...   \n",
       "3  I sent in a letter to the company to have them...   \n",
       "4  On XX/XX/19 I applied for a Debt Relief Produc...   \n",
       "\n",
       "                               Company State                 Response  \n",
       "0  Experian Information Solutions Inc.    CA  Closed with explanation  \n",
       "1      Ideal Collection Services, Inc.    FL  Closed with explanation  \n",
       "2     ONEMAIN FINANCIAL HOLDINGS, LLC.    FL  Closed with explanation  \n",
       "3        Diversified Consultants, Inc.    VA  Closed with explanation  \n",
       "4              ClearOne Advantage, LLC    PA  Closed with explanation  "
      ]
     },
     "execution_count": 67,
     "metadata": {},
     "output_type": "execute_result"
    }
   ],
   "source": [
    "complaints_df = complaints_source_df[['Complaint ID', 'Product', 'Consumer complaint narrative', 'Company', 'State', 'Company response to consumer']].copy()\n",
    "complaints_df.columns = ['Complaint ID', 'Product', 'Narrative', 'Company', 'State', 'Response'] \n",
    "complaints_df.head()"
   ]
  },
  {
   "cell_type": "markdown",
   "metadata": {},
   "source": [
    "### Features"
   ]
  },
  {
   "cell_type": "markdown",
   "metadata": {},
   "source": [
    "Voor een aantal features gaan we nu gaan onderzoeken of deze relevant zijn voor het oplossen van de centrale onderzoeksvraag. We gaan ook gaan kijken welke processing nodig is voor elke feature om de onderliggende vragen te kunnen gaan beantwoorden. We trachten dit aan te tonen met meerdere visualisaties."
   ]
  },
  {
   "cell_type": "markdown",
   "metadata": {},
   "source": [
    "#### Response"
   ]
  },
  {
   "cell_type": "markdown",
   "metadata": {},
   "source": [
    "De response stelt de reactie voor van het bedrijf op een gegeven klacht. Dit wordt de target van ons classificatie model die de centrale onderzoeksvraag zal beantwoorden. We stellen echter vast dat er enkele responscategorieën amper klachten bevatten. Om een beter classificatie model te kunnen bekomen gaan we daarom enkele categorieën die amper data bevatten gaan elimineren."
   ]
  },
  {
   "cell_type": "code",
   "execution_count": 68,
   "metadata": {},
   "outputs": [
    {
     "name": "stdout",
     "output_type": "stream",
     "text": [
      "Aantal responsen: 7\n"
     ]
    },
    {
     "data": {
      "text/plain": [
       "<matplotlib.axes._subplots.AxesSubplot at 0x25425249c48>"
      ]
     },
     "execution_count": 68,
     "metadata": {},
     "output_type": "execute_result"
    },
    {
     "data": {
      "text/plain": [
       "<Figure size 720x360 with 0 Axes>"
      ]
     },
     "metadata": {},
     "output_type": "display_data"
    },
    {
     "data": {
      "image/png": "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\n",
      "text/plain": [
       "<Figure size 432x288 with 1 Axes>"
      ]
     },
     "metadata": {
      "needs_background": "light"
     },
     "output_type": "display_data"
    }
   ],
   "source": [
    "print('Aantal responsen:', len(complaints_df.Response.unique()))\n",
    "fig = plt.figure(figsize=(10, 5))\n",
    "pd.DataFrame({'Count': complaints_df.groupby(['Response']).size()}).plot.barh(title=\"Aantal klachten per responscategorie\", legend=None)"
   ]
  },
  {
   "cell_type": "code",
   "execution_count": 69,
   "metadata": {},
   "outputs": [],
   "source": [
    "complaints_df.replace({'Response': {'Closed': 'Closed without explanation'}}, inplace= True)\n",
    "complaints_df = complaints_df[complaints_df['Response'].isin(['Closed with non-monetary relief',\n",
    "                                                              'Closed with monetary relief', 'Closed with explanation',\n",
    "                                                              'Closed without explanation', 'Untimely response'])]"
   ]
  },
  {
   "cell_type": "code",
   "execution_count": 70,
   "metadata": {},
   "outputs": [
    {
     "name": "stdout",
     "output_type": "stream",
     "text": [
      "Aantal responsen: 5\n"
     ]
    },
    {
     "data": {
      "text/plain": [
       "<matplotlib.axes._subplots.AxesSubplot at 0x2542529f348>"
      ]
     },
     "execution_count": 70,
     "metadata": {},
     "output_type": "execute_result"
    },
    {
     "data": {
      "text/plain": [
       "<Figure size 720x360 with 0 Axes>"
      ]
     },
     "metadata": {},
     "output_type": "display_data"
    },
    {
     "data": {
      "image/png": "iVBORw0KGgoAAAANSUhEUgAAAhsAAAEICAYAAAD2jTYVAAAABHNCSVQICAgIfAhkiAAAAAlwSFlzAAALEgAACxIB0t1+/AAAADh0RVh0U29mdHdhcmUAbWF0cGxvdGxpYiB2ZXJzaW9uMy4xLjEsIGh0dHA6Ly9tYXRwbG90bGliLm9yZy8QZhcZAAAgAElEQVR4nO3debxVVf3/8ddbQHCEELQbDjcNZ5ASB5QUc6jUHL5fDA2/ipU2m5YVphVa/sKsHLIc8quYs+Y8fHNGyAEEmRE1CUPFOQGHHPDz+2Ovq5vjOeeee72bc7n3/Xw8zuPus/baa33W3hf256y997mKCMzMzMyKskq9AzAzM7OOzcmGmZmZFcrJhpmZmRXKyYaZmZkVysmGmZmZFcrJhpmZmRXKyYaZFULSMElPV1kfkj7V0nUt6H+cpF99lDbM8iTNkTSs3nGsjJxsmHVAksZL+rek7m3Y5hhJl7ZVe/XWFgmNrViSFkjao179R8RWETG+Xv2vzJxsmHUwkhqBzwIB7FfXYOwjk9S1LepY63n/fnRONsw6nsOAh4BxwOH5FZL2kTRN0hJJCyWNya1rTJ/2D5f0L0kvSTohrfsC8FNghKTXJM1I5UdIelTSUknzJX2jNQFLGpri2a3Muoox57Z9QNKraf2o3OqPSbo1xTdJ0iZpmwlp/Yw0nhGpfF9J01NbD0gamOtngaTjJM2UtFjSVZJ6VBjPKEn3S/pDqjtP0u659T0l/a+kRZKekfQrSV1Ktj1d0ivAmDLtj5H0V0mXSloCjJK0iqTRkp6U9LKkqyX1TvV7pLovp7E9LGm9tG68pF9LmpxivbFpu7R+v3T54NVUd4ta9omkPpJuSdu9ImmipFXSug0kXSfpxRTT2al8E0n3pLKXJF0mqVdadwmwIXBzOmY/TuU75o7/DOUuc0j6pKQJ6fjfJemPys3O1TC2n0iaCbwuqatyMyvV9reVERF++eVXB3oB/wC+DWwLvAOsl1s3DBhA9kFjIPA8cEBa10g2G/JnYDVgG+AtYIu0fgxwaUlf+wCbAAJ2Bd4APpPr6+kqcQbwKeDzwEJg+9J1NcS8IbAUOAToBqwDDErrxgGvANsDXYHLgCvL9ZHefwZ4AdgB6EKWqC0Auqf1C4DJwCeA3sCjwDcrjG0U8C5wbIprBLAY6J3W3wCcB6wBrJva/UbJtt9Lca9Wpv0x6dgekPbLasAxZEnm+kD31P4Vqf43gJuB1dPYtgXWTuvGA88AW6d4rm06zsCmwOvAnmkcPyb7/Vq1uX0C/Bo4N23XjWy2Tan/GcDpqb8ewNC0zadSX92BvsAE4IzcuBcAe+Te9wNeBvZO+2HP9L5vWv8g8FtgVWAosKSFY5sObNB0DPL9V9vffpX5N1HvAPzyy6+2e6X/UN8B+qT384Bjq9Q/Azg9LTeSnYDXz62fDByclsdQkmyUae8G4PtpeRjNJxvHA08BA8qs+1QNMR8PXF+h3jjggtz7vYF5lfoAzgF+WdLGY8CuaXkBcGhu3W+Acyv0PQp4FlDJvvwfYD2yJG613LpDgHtz2/6rmf08BphQUvYosHvufUP6XegKfBV4ABhYpq3xwNjc+y2Bt8mSgp8BV+fWrUKWmAxrbp8AJwM3lh5HYAjwItC1ht/nA4BpufcLWD7Z+AlwSck2t5MlihuSJW2r59ZdygfJRi1j+2pJ2+/3X21/t+TfbGd5+TKKWcdyOHBHRLyU3l9O7lKKpB0k3ZumrxcD3wT6lLTxXG75DWDNSp1J+qKkh9I0+atkJ/TS9qo5huw//FlV+qgW8wbAk1Xar3kswEbAD9OU+qtpPBuQfWpvTXvPRDoLJU+ltjYi+yS9KNfPeWQzHE0WVmm3Up2NgOtzbT4KLCNLbi4hOwlfKelZSb+R1K1CW0+l+PqkeJ9qWhER76W6/XL1K+2T08hmCu5QdoltdCrfAHgqIt4tHZCkdSVdmS4tLSFLDqr9Pm0EHFRyzIaSnfg/AbwSEW9UGGctY6t2HKrtbyvhZMOsg5C0GvBlYFdJz0l6jmwafxtJ26RqlwM3ARtERE+yaW7V2MVyfyJa2ZMu15JNU68XEb2A21rQHsBBwAGSjqlSp1rMC8ku47SFhcApEdEr91o9Iq5oZXv9JOX3xYZksx0LyWY2+uT6WTsitsrVreXPcZfWWQh8sST+HhHxTES8ExEnRcSWwE7AvmT39jTZoCTOd4CXUrwbNa1I49mAbAagenARSyPihxGxMfAl4AfK7ltZCGyo8jdd/jqNa2BErA0cyvK/T+XGfEnJmNeIiLHAIqC3pNUrjLOWsVU7DhX3d5VtOi0nG2YdxwFkn6y2BAal1xbARD44saxF9mnvP5K2B77SgvafBxqbbvIjuw7enWxK/F1JXwT2amHMzwK7A0dL+naFOtVivgzYQ9KX0w1860ga1ILxbJx7/2fgm2kmRZLWUHZz6lotHFOTdcnG1U3SQWTH4raIWATcAfxO0trpRsNNJO3ayn6anAucImkjAEl9Je2flneTNEDZTahLyJKJZbltD5W0ZToxnwz8NSKWAVcD+0jaPc2E/JAsUXqguWCU3Wz7qXQSX5L6W0Z2OWkRMDbt4x6Sdk6brQW8BrwqqR/wo5JmS4/ZpcCXJH1eUpfU1jBJ60fEU8AUYIykVSUNIUt6mrR6bEnF/W0f5mTDrOM4HLgoIv4VEc81vYCzgZHpk+S3gZMlLQV+TvYfbq2uST9flvRIRCwFjk5t/JssCbippUFHxL/IEo6fSPp6mSoVY07b7k12oniF7Ia+bcq0Uc4Y4OI0Df7liJgCHEm2v/5NdglgVEvHkzMJ6E82Q3AKMDwiXk7rDiNL1uamvv5KNvX/UZxJtv/vSPvqIbKbXQE+nvpYQjbdfx/ZibrJJWT3uDxHdsPm0QAR8RjZ7MIf0ji+BHwpIt6uIZ7+wF1kycODwJ8iYnxKYr5EdjPov4CnyW6gBTiJ7EbdxcCtwHUlbf4aODEds+MiYiGwP9mTUi+SzTb8iA/ObSPJ7hF5GfgVcBVZQvFRxwbV97eV0PKXFM3M7KNS9vjt1yNiaL1jaY6k8WQ3TV5Q71iKJukqspuEf1HvWDobz2yYmVmHJGm7dIlqFWXfFbM/2RNTtoL5W9HMzKyj+jjZpZh1yC7XfCsiptU3pM7Jl1HMzMysUL6MYmZmZoXyZRTrdPr06RONjY31DsPMbKUxderUlyKib2u3d7JhnU5jYyNTpkypdxhmZisNSU81X6syX0YxMzOzQjnZMDMzs0I52TAzM7NCOdkwMzOzQjnZMDMzs0I52TAzM7NCOdkwMzOzQjnZMDMzs0I52TAzM7NCOdmwTmfWM4tpHH1rvcMwM+s0nGyYmZlZoZxsmJmZWaGcbJiZmVmhnGyYmZlZoZxsmJmZWaGcbJiZmVmhnGyYmZlZoZxsFExSo6TZJWVjJB3XzHaDJO2de7+fpNFtFNN4SYPboi0zM7PmONlovwYB7ycbEXFTRIytYzwASOpS7xjMzGzl4mSjztIsw6mSJkt6XNJnJa0KnAyMkDRd0ghJoySdnbYZJ+kcSfdKmi9pV0kXSnpU0rhc23tJelDSI5KukbRmSd9fk3R67v2Rkn5fJsbXJJ0saRIwRNK2ku6TNFXS7ZIaUr2jJc2VNFPSlalsjKRLJN0j6QlJR6ZySTpN0mxJsySNSOXD0j75q6R5ki6TpLRubK7936ayvpKulfRweu3clsfHzMw+uq71DsAA6BoR26fLJr+IiD0k/RwYHBHfBZA0qmSbjwGfA/YDbgZ2Br4OPCxpEPA0cCKwR0S8LuknwA/IkpgmVwIzJf04It4BjgC+USa+NYDZEfFzSd2A+4D9I+LFlCScAnwVGA18MiLektQrt/1AYMfUzjRJtwJDyGZvtgH6pLgnpPqfBrYCngXuB3aWNBc4ENg8IiLX/pnA6RHxd0kbArcDW5QOQNJRwFEAXdbuW2aIZmZWFCcbxYsayq9LP6cCjTW2e3M66c4Cno+IWQCS5qQ21ge2BO5PEwOrAg8uF0CWhNwD7CvpUaBbUzsllgHXpuXNgK2BO1O7XYBFad1M4DJJNwA35La/MSLeBN6UdC+wPTAUuCIilgHPS7oP2A5YAkyOiKfTeKan8TwE/Ae4ICUrt6S29wC2TLEArC1prYhYWjLW84HzAbo39K90TMzMrABONor3MtksRF5v4J+592+ln8uo/Zg0bfNebrnpfdfU1p0RcUgz7VwA/BSYB1xUoc5/UlIAIGBORAwpU28fYBey2ZafSdoqlZee3CO1U0l+PMvIZn7elbQ9sDtwMPBdspmdVYAhKZkxM7N2yPdsFCwiXgMWSdodQFJv4AvA35vZdCmw1kfo+iGyyw+fSv2uLmnTMvFNAjYAvgJcUUO7jwF9JQ1J7XaTtJWkVYANIuJe4MdAL6DpHpH9JfWQtA4wDHgYmEB2T0oXSX3JkpTJlTpN95v0jIjbgGPILsEA3EGWeDTVG1RmczMzqyPPbKwYhwF/lPS79P6kiHiymW3uBUanywi/bmmH6X6KUcAVkrqn4hOBx8tUvxoYFBH/rqHdtyUNB86S1JPsd+iM1O6lqUxk91G8mi5vTAZuBTYEfhkRz0q6nuy+jRlkMx0/jojnJG1eoeu1gBsl9UjtH5vKjybbtzNTLBOAbzY3DjMzW3EU4cvXnZ2kW8iSg7sLaHsM8FpE/Lat226t7g39o+HwM1gwdp96h2JmtlKQNDUiWv39TL6M0olJ6iXpceDNIhINMzMz8GWUTi0iXgU+dB9HG/cxpsj2zcys/fPMhpmZmRXKyYaZmZkVysmGmZmZFcrJhnU6A/r19JMoZmYrkJMNMzMzK5STDTMzMyuUkw0zMzMrlJMNMzMzK5STDTMzMyuUkw0zMzMrlJMNMzMzK5STDTMzMyuUkw0zMzMrlJMNMzMzK5STDTMzMyuUkw0zMzMrlJMNMzMzK5STDTMzMyuUkw0zMzMrlJMNMzMzK5STDTMzMyuUkw0zMzMrlJMNMzMzK5STDTMzMyuUkw0zMzMrlJMN63RmPbOYxtG30jj61nqHYmbWKTjZMDMzs0I52TAzM7NCOdkwMzOzQjnZMDMzs0I52TAzM7NCOdkwMzOzQq20yYakj0u6UtKTkuZKuk3SppIaJc0usN9Rks5uxXaDJZ2VlodJ2im3bpyk4W0U3zGSVm+Ltqr0MUbScW3cZi9J3869/4Skv7ZlH2ZmVh8rZbIhScD1wPiI2CQitgR+CqxX38gqi4gpEXF0ejsM2KlK9Y/iGKDQZKMgvYD3k42IeDYi2iQBMzOz+lopkw1gN+CdiDi3qSAipkfExHwlST0kXSRplqRpknZL5VtJmixpuqSZkvqn8kNz5edJ6pLKj5D0uKT7gJ3LBZT66KXMy5IOS+WXSNojzWbcIqkR+CZwbOrns6mJXSQ9IGl+0yxHaus0SbNT+yNS+TBJt+T6PjvNuBwNfAK4V9K9ZWLcVtJ9kqZKul1Sg6Sukh6WNCzV+bWkU9LyAkmnpn0yWdKnyrR5ZNp+hqRrm2ZV0mzNWWXGtKakuyU9ksa0f2pqLLBJ2ien5WeoqhzHUZKuk/Q3SU9I+k25Y2NmZvW1siYbWwNTa6j3HYCIGAAcAlwsqQfZyf7MiBgEDAaelrQFMALYOZUvA0ZKagBOIksy9gS2rNDX/anOVsB8oCmJ2BF4qKlSRCwAzgVOj4hBuQSpARgK7Et24gX4L2AQsA2wB3BaiqesiDgLeBbYLSJ2y6+T1A34AzA8IrYFLgROiYh3gVHAOZL2BL6QxttkSURsD5wNnFGm2+siYruI2AZ4FPhabl25Mf0HODAiPkOWNP4uzVSNBp5M++RHJX1UOo6k/TMCGACMkLRBpf1jZmb10bXeARRsKNkJloiYJ+kpYFPgQeAESeuTnSyfkLQ7sC3wcHbuYzXgBWAHsss1LwJIuiq1UWoisAvwFHAOcJSkfsArEfFaarOaGyLiPWCupKbLQUOBKyJiGfB8mlnZDljSin2xGVmSdmeKpQuwCCAi5ki6BLgZGBIRb+e2uyL38/Qy7W4t6Vdkl0HWBG5vZkwC/p+kXYD3gH40f/mr0nEEuDsiFgNImgtsBCwsbUDSUcBRAF3W7ttMd2Zm1pZW1pmNOWSJQXPKnuEj4nJgP+BN4HZJn0t1L06frAdFxGYRMaZpkxr6mkA2m/FZYDzwIjCcLAmpxVtl4q6UobzL8seuR4V6eQLm5MY3ICL2yq0fALzKh0/8UWG5yTjgu2nW4aSSWMqNaSTQF9g2zSA9X0P81TK1fB/LqJBAR8T5ETE4IgZ3Wb1nM92ZmVlbWlmTjXuA7pKObCqQtJ2kXUvqTSA7uSFpU2BD4DFJGwPz02WHm4CBwN3AcEnrpvq9JW0ETAKGSVonXYo4qFxAEbEQ6AP0j4j5wN+B4yifbCwF1qphnBPILg10kdSXbOZkMtnsyZaSukvqCexeQ9uPAX0lDUnj6yZpq7T8X8A6qf2zJPXKbTci9/PBMu2uBSxK+2ZkDWPqCbwQEe+key82aiZuqHAca+jLzMzagZUy2YiIAA4E9lT26OscYAzZ/Qp5fwK6SJoFXAWMioi3yE6csyVNBzYH/hIRc4ETgTskzQTuBBoiYlFq+0HgLuCRKqFNAh5PyxPJLhH8vUy9m4EDS24QLed6YCYwgyzB+nFEPJcSm6vTusuAabltzgf+r/QG0XRpZDhwqqQZwHRgJ0l9yO6n+FpEPE52b8aZuU27S5oEfB84tkyMP0vjvhOYV2UsTS4DBkuaQpZAzEvxvQzcn26GPa1km0rH0czMVgLKzttmHyZpATA4Il6qdyxtqXtD/2g4PLvXdcHYfeocjZlZ+ydpakQMbu32K+XMhpmZma08OvrTKPYRRERjvWMwM7OVn2c2zMzMrFBONszMzKxQTjbMzMysUL5nwzqdAf16MsVPoZiZrTCe2TAzM7NCOdkwMzOzQjnZMDMzs0I52TAzM7NCOdkwMzOzQjnZMDMzs0I52TAzM7NCOdkwMzOzQjnZMDMzs0I52TAzM7NCOdkwMzOzQtWUbEhaXdLPJP05ve8vad9iQzMzM7OOoNaZjYuAt4Ah6f3TwK8KicjMzMw6lFqTjU0i4jfAOwAR8SagwqIyMzOzDqPWZONtSasBASBpE7KZDjMzM7OqutZY7xfA34ANJF0G7AyMKiooMzMz6zhqSjYi4k5JjwA7kl0++X5EvFRoZGZmZtYh1Po0ys7AfyLiVqAX8FNJGxUamZmZmXUItd6zcQ7whqRtgB8BTwF/KSwqMzMz6zBqTTbejYgA9gfOiogzgbWKC8vMzMw6ilpvEF0q6XjgUGAXSV2AbsWFZWZmZh1FrcnGCOArwNci4jlJGwKnFReWWXFmPbOYxtG31juMVlswdp96h2Bm1iK1Po3yHPD73Pt/4Xs2zMzMrAa1Po3yX5KekLRY0hJJSyUtKTo4MzMzW/nVehnlN8CXIuLRIoMxMzOzjqfWp1Ged6JhZmZmrVHrzMYUSVcBN5D7mygRcV0hUZmZmVmHUWuysTbwBrBXriwAJxtmZmZWVa1PoxxRdCBmZmbWMdX6NMr6kq6X9IKk5yVdK2n9Zrb5uKQrJT0paa6k2yRtKqlR0uy2Cb9sv6Mknd2K7QZLOistD5O0U27dOEnD2zLO9kzSAZK2rHMM7/+e5I9NM9tcIWmmpGOLj9DMzGpV62WUi4DLgYPS+0NT2Z7lKksScD1wcUQcnMoGAesBCz9KwEWJiCnAlPR2GPAa8EDdAqqvA4BbgLm1biCpa0S825JOat2m5NhUauvjwE4R4T8QaGbWztT6NErfiLgoIt5Nr3FA3yr1dwPeiYhzmwoiYnpETMxXktRD0kWSZkmaJmm3VL6VpMmSpqdPqv1T+aG58vPS16Yj6QhJj0u6D9i5XECpj17KvCzpsFR+iaQ90mzGLZIagW8Cx6Z+Ppua2EXSA5Lml5vlSJ/EH5X0Z0lzJN0habW0bpCkh9JYrpf0sVQ+XtKpaUyP5/oqbXu8pNMlTUh9bCfpuvTdJ7/K1fuBpNnpdUwNcW0i6W+SpkqaKGnzNKOzH3BaGv8mko6U9LCkGWlWa/W0/ThJv5d0b6r/hKS+ad0qkv4hqU/JWMZIOl/SHcBfJHWRdFpqf6akb5QZ/zBJt6TlNSRdmOpPk7R/qnYHsG7JMTMzs3ag1mTjpXSi75JehwIvV6m/NTC1hna/AxARA4BDgIsl9SA72Z8ZEYOAwcDTkrYg+9r0nVP5MmCkpAbgJLIkY0+g0vT//anOVsB8oOmEtCPwUFOliFgAnAucHhGDcglSAzAU2BcYW6GP/sAfI2Ir4FXgv1P5X4CfRMRAYBbwi9w2XSNie+CYkvJSb0fELim2G8n23dbAKEnrSNoWOALYIY3pSEmfbiau84HvRcS2wHHAnyLiAeAm4Edp/E8C10XEdhGxDfAo8LVcXJsCe0TEscClwMhUvgcwIyJeKjOWbYH9I+Irqa3FEbEdsF2K+5NV9sMJwD2p/m5kSc4aZAnSkyXH7H2SjpI0RdKUZW8srtK8mZm1tVovo3wVOBs4Pb2/P5V9VEOBPwBExDxJT5GdvB4ETlB2X8h1EfGEpN3JTlIPSwJYDXiB7OQ6PiJeBFD2iO6mZfqaCOwCPAWcAxwlqR/wSkS8ltqs5oaIeA+YK2m9CnX+GRHT0/JUoFFST6BXRNyXyi8Grsltc12+fpX+b0o/ZwFzImIRgKT5wAZk+/L6iHg9lV9HllDdVCGuNYGdgGtyY+9eoe+t0wxKL2BN4PbcumsiYllavpAsETqD7PfjokpjiYg30/JewMDcbFFPsuTo8Qrb7gXsJ+m49L4HsCHwZoX6AETE+WTJFd0b+ke1umZm1rZqfRrlX2SfHGs1B6jlhsqyZ/iIuFzSJGAf4HZJX091L46I45drQDqA7DHc5kwgmw3YkOzT8YEpxg99Cq7grdxypcwkX2cZWUJUa7vLSMdD0kXAp4FnI2LvknrvlfTzXtquWrZULq5VgFfTLFFzxgEHRMQMSaPI7mlp8nrTQkQsVHYD8efIksCRlPd6bllksyv5BIZ0OascAf8dEY/VWN/MzOqs1qdRNpZ0s6QXlT2RcqOkjatscg/QXdKRuTa2k7RrSb0JpBOSpE3JEoHHUtvzI+Issk/mA4G7geGS1k31e0vaCJgEDEuXErrxwU2sy4mIhUAfoH9EzAf+TnbpoFyysRRYq+pOqVFELAb+nbuP4H+A+6psQkQckS4H7F2tXokJwAGSVk+XFQ6kSiIVEUuAf0o6CLKbeiVtk1aXjn8tYFHav5USiCYXkF1OuTo341HN7cC3Utsoe2JpjWbqf09pOiZ3qcjMzNqpWu/ZuBy4muy+hU+QXQa4olLliAiyk92eyh59nQOMAZ4tqfonoIukWcBVwKiIeIvs3ozZkqYDmwN/iYi5wInAHZJmAncCDelywhiySy93AY9UGcckPpienwj0I0s6St0MHNiGNxseTnZvwUxgEHByG7S5nIh4hGwGYjLZOC+IiGnNbDYS+JqkGWSzUU03W14J/CjdgLkJ8LPU5p3AvGbavInsUkulSyilLiB76uURZY+6nkf1GbdfAt2Aman+L2vsx8zM6kRZXtBMJWlSROxQUvZQROxYWGS2UpI0mOzm2nb7REj3hv7RcPgZ9Q6j1RaM3afeIZhZJyNpakQMbu32td4geq+k0WSfeINs5uFWSb0BIuKV1gZgHUf6HfkWzV9qMTOzTqTWZGNE+ln6HQhfJUs+qt2/YZ1ERIyl8mPBZmbWSdX6NEq17z0wMzMzq6jWp1EOkrRWWj5R2bdX+ikAMzMza1atT6P8LCKWShoKfJ7si6nObWYbMzMzs5rv2Wj6voR9gHMi4kZJY4oJyaxYA/r1ZIqf6DAzW2Fqndl4RtJ5wJeB2yR1b8G2ZmZm1onVmjB8meybG78QEa8CvYEfFRaVmZmZdRg1JRsR8QbZHz0bmoreBZ4oKigzMzPrOGp9GuUXwE+Apj+C1o3s71+YmZmZVVXrZZQDyf7q6+sAEfEsbfSHyszMzKxjqzXZeDv9cbUAaOavcpqZmZm9r9Zk4+r0NEqv9Gfj7yL7a51mZmZmVdX6deW/lbQnsATYDPh5RNxZaGRmZmbWIdT6pV6k5OJOAEldJI2MiMsKi8zMzMw6hKqXUSStLel4SWdL2kuZ7wLzyb57w8zMzKyq5mY2LgH+DTwIfJ3si7xWBfaPiOkFx2ZmZmYdQHPJxsYRMQBA0gXAS8CGEbG08MjMzMysQ2juaZR3mhYiYhnwTycaZmZm1hLNzWxsI2lJWhawWnovICJi7UKjMzMzs5Ve1WQjIrqsqEDMzMysY/KfiTczM7NCOdkwMzOzQjnZMDMzs0I52TAzM7NCOdkwMzOzQjnZMDMzs0LV/IfYzDqKWc8spnH0rW3a5oKx+7Rpe2ZmHYlnNszMzKxQTjbMzMysUE42zMzMrFBONszMzKxQTjbMzMysUE42zMzMrFArZbIh6eOSrpT0pKS5km6TtKmkRkmzC+x3lKSzW7HdYElnpeVhknbKrRsnaXhbxtkWJP20HcQwRtJxaflkSXs0U39zSdMlTZO0yYqJ0szMmrPSJRuSBFwPjI+ITSJiS+CnwHr1jayyiJgSEUent8OAnapUby9anGxI6lLUNhHx84i4q5lqBwA3RsSnI+LJlsZiZmbFWOmSDWA34J2IOLepICKmR8TEfCVJPSRdJGlW+qS7WyrfStLk9Al4pqT+qfzQXPl5TSdBSUdIelzSfcDO5QJKffRS5mVJh6XySyTtkWYzbpHUCHwTODb189nUxC6SHpA0v9wsR5qxmSfpAkmzJV2W2r1f0hOStk/1eku6IY3rIUkDU/kYSRdKGp/6ODrX9ofGLWkssFoquyzVu0HSVElzJB2V2/61NOswCThR0vW5dXtKuq7MeBZI+rmkvwMHSdpE0t9S+xMlbV5mm/dngCRtK+m+VP92SQ2S9gaOAb4u6d5yx8nMzOpjZUw2tgam1lDvOwARMQA4BLhYUg+yk/2ZETEIGAw8LWkLYASwcypfBoyU1ACcRJZk7AlsWaGv+1OdrYD5QFMSsSPwUFOliFgAnAucHhGDcglSAzAU2B8KO7QAAA9QSURBVBcYW6GPTwFnAgOBzYGvpG2O44NZiJOAaRExMJX9Jbf95sDnge2BX0jqVmncETEaeDPFODJt/9WI2Dbts6MlrZPK1wBmR8QOwMnAFpL6pnVHABdVGM9/ImJoRFwJnA98L7V/HPCnCtsgqRvwB2B4qn8hcEpE3MYH+3a3StubmdmK15G/rnwo2UmJiJgn6SlgU+BB4ARJ6wPXRcQTknYHtgUezq7SsBrwArAD2eWaFwEkXZXaKDUR2AV4CjgHOEpSP+CViHgttVnNDRHxHjBXUqXLQf+MiFkpjjnA3RERkmYBjbkx/3ca8z2S1pHUM627NSLeAt6S9ALZZadK4y7naEkHpuUNgP7Ay2QJyrWpz5B0CXCopIuAIcBhFdq7Ko1lTbLLStfk9lP3CtsAbEaWcN6Z6ncBFlWpT+rnKOAogC5r922mtpmZtaWVMdmYA9RyQ2XZM3xEXJ6m/PcBbpf09VT34og4frkGpAOAqKGvCWQzKRsCJwAHphgnVtso563m4i6p817u/Xt8cBzLbdsUf377ZWmbsuMuJWkYsAcwJCLekDQe6JFW/yciluWqXwTcDPwHuCYi3q3Q7Ovp5yrAq2lmpRYC5kTEkBrrAxAR55PNoNC9oX8tx9TMzNrIyngZ5R6gu6QjmwokbSdp15J6E4CRaf2mZInAY5I2BuZHxFnATWSXJe4GhktaN9XvLWkjYBIwLM0QdAMOKhdQRCwE+gD9I2I+8HeyywHlko2lwFqtG3qz8mMeBrwUEUuq1K80boB30pgBegL/TonG5mSXh8qKiGeBZ4ETgXHNBZzi+6ekg1IMkrRNlU0eA/pKGpLqd5O0VXP9mJlZ/ax0yUZEBNnMwZ7KHn2dA4whO8Hl/Qnoki4zXAWMSpcRRgCzJU0nu4/hLxExl+zkeIekmcCdQENELEptPwjcBTxSJbRJwONpeSLQjyzpKHUzcGDJDaJtZQwwOI1hLHB4tcqVxp1Wnw/MTDeI/g3omur8ktx9KBVcBixM7ddiJPA1STPIZq72rxLz22SzRqem+tNZOZ7uMTPrtJSdu83ajrLvIpkWEf9b71jK6d7QPxoOP6NN2/SfmDezjkzS1IgY3NrtV8Z7NqwdkzSV7H6MH9Y7FjMzax+cbFibSo+jmpmZvW+lu2fDzMzMVi5ONszMzKxQTjbMzMysUL5nwzqdAf16MsVPj5iZrTCe2TAzM7NCOdkwMzOzQjnZMDMzs0I52TAzM7NCOdkwMzOzQjnZMDMzs0I52TAzM7NCOdkwMzOzQjnZMDMzs0I52TAzM7NCOdkwMzOzQjnZMDMzs0I52TAzM7NCOdkwMzOzQjnZMDMzs0I52TAzM7NCOdkwMzOzQjnZMDMzs0I52TAzM7NCOdkwMzOzQjnZMDMzs0J1rXcAZivarGcW0zj61nqHYWa2wiwYu09d+/fMhpmZmRXKyYaZmZkVysmGmZmZFcrJhpmZmRXKyYaZmZkVysmGmZmZFcrJhpmZmRWqUycbkj4u6UpJT0qaK+k2SZtKapQ0u8B+R0k6uxXbDZZ0VloeJmmn3Lpxkoa3ZZzNxDJe0uA2bnOQpL1z7/eTNLot+zAzsxWv036plyQB1wMXR8TBqWwQsB6wsJ6xVRIRU4Ap6e0w4DXggboF1PYGAYOB2wAi4ibgprpGZGZmH1lnntnYDXgnIs5tKoiI6RExMV9JUg9JF0maJWmapN1S+VaSJkuaLmmmpP6p/NBc+XmSuqTyIyQ9Luk+YOdyAaU+einzsqTDUvklkvZIsxm3SGoEvgkcm/r5bGpiF0kPSJpfaZajXHySNpL0hKQ+klaRNFHSXmmGZ56ki9MY/ypp9TJtniNpiqQ5kk7KlS+QdJKkR9LYNk/l26c4p6Wfm0laFTgZGJFiG5GfAUox3p3iuFvShql8nKSzmhu3mZnVT2dONrYGptZQ7zsAETEAOAS4WFIPspP9mRHR9Gn8aUlbACOAnVP5MmCkpAbgJLIkY09gywp93Z/qbAXMB5qSiB2Bh5oqRcQC4Fzg9IgYlEuQGoChwL7A2NLGK8UXEU8Bp6Y2fwjMjYg70mabAedHxEBgCfDtMnGfEBGDgYHArpIG5ta9FBGfAc4Bjktl84BdIuLTwM+B/xcRb6flq9KYrirp42zgLymOy4CzcuuqjjuN/aiUEE1Z9sbiclXMzKwgnTnZqNVQ4BKAiJgHPAVsCjwI/FTST4CNIuJNYHdgW+BhSdPT+42BHYDxEfFiOqmWnkibTAR2Sa9zgAGS+gGvRMRrNcR6Q0S8FxFzyS4HlaoUHxFxAbAWWRJ1XG6bhRFxf1q+NO2PUl+W9AgwjSxRyidT16WfU4HGtNwTuCbdF3N62qY5Q4DL0/IlJXE0N24i4vyIGBwRg7us3rOG7szMrK105mRjDtmJtzkqVxgRlwP7AW8Ct0v6XKp7cfpkPigiNouIMU2b1NDXBLLZjM8C44EXgeFkSUgt3mom7orxpcsj66d6a+a2KY17ufeSPkmWnOyeZh1uBXqUiWkZH9wj9Evg3ojYGvhSSf1a5eNobtxmZlZHnTnZuAfoLunIpgJJ20nataTeBGBkWr8psCHwmKSNgfkRcRbZTYwDgbuB4ZLWTfV7S9oImAQMk7SOpG7AQeUCioiFQB+gf0TMB/5OdiIvl2wsJZuJaIlK8UF2GeUysksZf85ts6GkIWn5kBRT3trA68BiSesBX6whjp7AM2l5VK682pgeAA5OyyPLxGFmZu1Up002IiKAA4E9lT36OgcYAzxbUvVPQBdJs8guf4yKiLfI7n2YnS5HbE52P8Fc4ETgDkkzgTuBhohYlNp+ELgLeKRKaJOAx9PyRKAf5U+sNwMHltwg2tyYy8aXEqztgFMj4jLgbUlHpM0eBQ5P9XuTXd7JtzmD7PLJHOBCsvtOmvMb4NeS7ge65MrvBbZsukG0ZJujgSNSHP8DfL+WMZuZWf0pO+eafVh66uWWdLmjw+je0D8aDj+j3mGYma0wC8bu85G2lzQ1PQjQKp12ZsPMzMxWjE77pV7WvPSIbYea1TAzsxXPMxtmZmZWKCcbZmZmVignG2ZmZlYo37Nhnc6Afj2Z8hHvzDYzs9p5ZsPMzMwK5WTDzMzMCuVkw8zMzArlZMPMzMwK5WTDzMzMCuVkw8zMzArlZMPMzMwK5WTDzMzMCuVkw8zMzArlZMPMzMwKpYiodwxmK5SkpcBj9Y6jij7AS/UOohntPcb2Hh84xrbQ3uOD9h9jrfFtFBF9W9uJ/zaKdUaPRcTgegdRiaQp7Tk+aP8xtvf4wDG2hfYeH7T/GFdUfL6MYmZmZoVysmFmZmaFcrJhndH59Q6gGe09Pmj/Mbb3+MAxtoX2Hh+0/xhXSHy+QdTMzMwK5ZkNMzMzK5STDTMzMyuUkw3rNCR9QdJjkv4hafQK6G+BpFmSpkuaksp6S7pT0hPp58dSuSSdlWKbKekzuXYOT/WfkHR4rnzb1P4/0raqIaYLJb0gaXaurPCYKvXRghjHSHom7cvpkvbOrTs+9feYpM/nysseb0mflDQpxXKVpFVTeff0/h9pfWOF+DaQdK+kRyXNkfT99rYfq8TYLvajpB6SJkuakeI7qbVttlXcLYhxnKR/5vbhoHod51S3i6Rpkm5pb/twORHhl18d/gV0AZ4ENgZWBWYAWxbc5wKgT0nZb4DRaXk0cGpa3hv4P0DAjsCkVN4bmJ9+fiwtfyytmwwMSdv8H/DFGmLaBfgMMHtFxlSpjxbEOAY4rkzdLdOx7A58Mh3jLtWON3A1cHBaPhf4Vlr+NnBuWj4YuKpCfA3AZ9LyWsDjKY52sx+rxNgu9mMa15ppuRswKe2bFrXZlnG3IMZxwPAy9ev17+UHwOXALa05LkXuw+XibIv/VP3yq72/0j/o23PvjweOL7jPBXw42XgMaEjLDWRfMAZwHnBIaT3gEOC8XPl5qawBmJcrX65eM3E1svyJvPCYKvXRghjHUP4kudxxBG5Px7rs8U7/qb8EdC39vWjaNi13TfVUw/68EdizPe7HMjG2u/0IrA48AuzQ0jbbMu5m9l8+xnGUTzZW+HEG1gfuBj4H3NKa47Ki9qEvo1hn0Q9YmHv/dCorUgB3SJoq6ahUtl5ELAJIP9dtJr5q5U+XKW+NFRFTpT5a4rtpevrC3LRyS2NcB3g1It4tE+P726T1i1P9itJU9KfJPvW2y/1YEiO0k/2Ypv+nAy8Ad5J9im5pm20Z94eUxhgRTfvwlLQPT5fUvTTGGmNpi+N8BvBj4L30vjXHpdB92MTJhnUW5e5niIL73DkiPgN8EfiOpF2q1K0UX0vL21J7iukcYBNgELAI+F0qb8sYWxS/pDWBa4FjImJJpXptHGOLlImx3ezHiFgWEYPIPp1vD2zRijYL3belMUramuzT/ebAdmSXRn7SxjHWRNK+wAsRMTVfXKXNuuzDJk42rLN4Gtgg93594NkiO4yIZ9PPF4Dryf5DfV5SA0D6+UIz8VUrX79MeWusiJgq9VGTiHg+/cf/HvBnsn3ZmhhfAnpJ6lpSvlxbaX1P4JVy8UjqRnYSvywirmtmjHXZj+VibG/7McX0KjCe7D6HlrbZlnFXlIvxCxGxKDJvARfR+n34UY/zzsB+khYAV5JdSjmjyvjqug+dbFhn8TDQP91FvSrZDVI3FdWZpDUkrdW0DOwFzE59Hp6qHU52LZ1Ufli6o31HYHGaPr0d2EvSx9KU915k10cXAUsl7ZjuYD8s11ZLrYiYKvVRk6b/eJMDyfZlU7sHpzvtPwn0J7vpruzxjuwi873A8ArjbYpxOHBPql8ai4D/BR6NiN/nVrWb/VgpxvayHyX1ldQrLa8G7AE82oo22zLu0n1YLsZ5uSRAwAEl+3CFHeeIOD4i1o+IxjS+eyJiZHvah6UB++VXp3iR3S3+ONm14RMK7mtjsru3ZwBzmvoju955N/BE+tk7lQv4Y4ptFjA419ZXgX+k1xG58sFk/9E9CZxNbTczXkE2ff4O2SeXr62ImCr10YIYL0kxzEz/OTbk6p+Q+nuM3BM5lY53OjaTU+zXAN1TeY/0/h9p/cYV4htKNm08E5ieXnu3p/1YJcZ2sR+BgcC0FMds4OetbbOt4m5BjPekfTgbuJQPnlipy7+XVH8YHzyN0m72Yf7lrys3MzOzQvkyipmZmRXKyYaZmZkVysmGmZmZFcrJhpmZmRXKyYaZmZkVysmGmZmZFcrJhpmZmRXq/wMRlZSD0y3TdgAAAABJRU5ErkJggg==\n",
      "text/plain": [
       "<Figure size 432x288 with 1 Axes>"
      ]
     },
     "metadata": {
      "needs_background": "light"
     },
     "output_type": "display_data"
    }
   ],
   "source": [
    "print('Aantal responsen:', len(complaints_df.Response.unique())) \n",
    "fig = plt.figure(figsize=(10, 5))\n",
    "pd.DataFrame({'Count': complaints_df.groupby(['Response']).size()}).plot.barh(title=\"Aantal klachten per responscategorie\", legend=None)"
   ]
  },
  {
   "cell_type": "markdown",
   "metadata": {},
   "source": [
    "Vervolgens valt het ook op dat de data zeer **ongebalanceerd is**. Eventueel kunnen we de data gaan balanceren indien de het classificatie model hier niet goed op zou werken. We zullen het model zowel op de ongebalanceerde als op de gebalanceerde dataset trainen en kijken wat de beste resultaten geeft. Indien dit niet zou werken kunnen we ook nog proberen om de kleinere categorieën een **zwaarder gewicht** te geven ten opzichte van de grotere categorieën tijdens het trainen."
   ]
  },
  {
   "cell_type": "code",
   "execution_count": 71,
   "metadata": {},
   "outputs": [],
   "source": [
    "def sampling_k_elements(category, k=120000):\n",
    "    if len(category) < k:\n",
    "        return category\n",
    "    return category.sample(k)\n",
    "\n",
    "complaints_balanced_df = complaints_df.groupby('Response').apply(sampling_k_elements).reset_index(drop=True)"
   ]
  },
  {
   "cell_type": "code",
   "execution_count": 72,
   "metadata": {},
   "outputs": [
    {
     "name": "stdout",
     "output_type": "stream",
     "text": [
      "Aantal responsen: 5\n"
     ]
    },
    {
     "data": {
      "text/plain": [
       "<matplotlib.axes._subplots.AxesSubplot at 0x254252eb088>"
      ]
     },
     "execution_count": 72,
     "metadata": {},
     "output_type": "execute_result"
    },
    {
     "data": {
      "text/plain": [
       "<Figure size 720x360 with 0 Axes>"
      ]
     },
     "metadata": {},
     "output_type": "display_data"
    },
    {
     "data": {
      "image/png": "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\n",
      "text/plain": [
       "<Figure size 432x288 with 1 Axes>"
      ]
     },
     "metadata": {
      "needs_background": "light"
     },
     "output_type": "display_data"
    }
   ],
   "source": [
    "print('Aantal responsen:', len(complaints_balanced_df.Response.unique()))\n",
    "fig = plt.figure(figsize=(10, 5))\n",
    "pd.DataFrame({'Count': complaints_balanced_df.groupby(['Response']).size()}).plot.barh(title=\"Aantal klachten per responscategorie\", legend=None)"
   ]
  },
  {
   "cell_type": "code",
   "execution_count": 73,
   "metadata": {},
   "outputs": [
    {
     "data": {
      "image/png": "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\n",
      "text/plain": [
       "<Figure size 432x288 with 1 Axes>"
      ]
     },
     "metadata": {},
     "output_type": "display_data"
    }
   ],
   "source": [
    "labels = complaints_balanced_df['Response'].value_counts().index\n",
    "sizes = complaints_balanced_df['Response'].value_counts().values\n",
    "patches, texts = plt.pie(sizes)\n",
    "plt.legend(patches, labels)\n",
    "plt.show()"
   ]
  },
  {
   "cell_type": "markdown",
   "metadata": {},
   "source": [
    "#### Product"
   ]
  },
  {
   "cell_type": "markdown",
   "metadata": {},
   "source": [
    "De tweede feature is de productcategorie van de klacht. Zoals in de vorige sprints nemen we opnieuw alle klachten uit sterk gerelateerde product categorieën samen binnen overkoepelende product categorieën."
   ]
  },
  {
   "cell_type": "code",
   "execution_count": 74,
   "metadata": {},
   "outputs": [],
   "source": [
    "complaints_df.replace({'Product': \n",
    "             {'Credit reporting, credit repair services, or other personal consumer reports': \n",
    "              'Credit reporting, repair, or other', \n",
    "              'Credit reporting': 'Credit reporting, repair, or other',\n",
    "             'Credit card': 'Credit card or prepaid card',\n",
    "             'Prepaid card': 'Credit card or prepaid card',\n",
    "             'Payday loan': 'Payday loan, title loan, or personal loan',\n",
    "             'Money transfer': 'Money transfer, virtual currency, or money service',\n",
    "             'Virtual currency': 'Money transfer, virtual currency, or money service'}}, \n",
    "            inplace= True)"
   ]
  },
  {
   "cell_type": "code",
   "execution_count": 75,
   "metadata": {},
   "outputs": [
    {
     "name": "stdout",
     "output_type": "stream",
     "text": [
      "Aantal product categorieën: 13\n"
     ]
    },
    {
     "data": {
      "text/plain": [
       "<matplotlib.axes._subplots.AxesSubplot at 0x2542530eac8>"
      ]
     },
     "execution_count": 75,
     "metadata": {},
     "output_type": "execute_result"
    },
    {
     "data": {
      "text/plain": [
       "<Figure size 720x360 with 0 Axes>"
      ]
     },
     "metadata": {},
     "output_type": "display_data"
    },
    {
     "data": {
      "image/png": "iVBORw0KGgoAAAANSUhEUgAAAnYAAAEICAYAAADSlLnVAAAABHNCSVQICAgIfAhkiAAAAAlwSFlzAAALEgAACxIB0t1+/AAAADh0RVh0U29mdHdhcmUAbWF0cGxvdGxpYiB2ZXJzaW9uMy4xLjEsIGh0dHA6Ly9tYXRwbG90bGliLm9yZy8QZhcZAAAgAElEQVR4nOzde7zlc7348dfLkBmMESEkuyT3MdijI2TUpJJC1AhlqKSSdI5K6dTQOaV00kViOK7HLdeUypRrhJk9FzOu9YuRUCjGXUzv3x/fz+I7y1r7MrP37Jnt/Xw81mOv9fl+Lu/vd62Z/d6fz/e7vkYEKaWUUkpp6bfMYAeQUkoppZT6RyZ2KaWUUkpDRCZ2KaWUUkpDRCZ2KaWUUkpDRCZ2KaWUUkpDRCZ2KaWUUkpDRCZ2KaU0BKjj1L90sz3UN/V1Wx/GP139r0Xp45VKnaheP9hxLKnUHdS7BjuOpUUmdimltIjUa9RH1eX7sc9J6v/1V3+DrT+Sx9Q9da46fgD67faPhoEWEb+LiA0Ha/ylTSZ2KaW0CNQOYAcggPcPajBpkanLDmb7tKA8nn2XiV1KKS2ajwI3AacD+9c3qO9VZ6qPq/epk2rbOsos1v7qn9VH1CPLtncDXwEmqE+qt5TyA9Q71CfUu9VPLkzA6vYlnp1abGsbc63t79XHyvaJtc2vVi8v8d2srl/aXFe231L2Z0Ip31WdVfr6vTq6Ns5c9XB1tjpPPV8d3mZ/Jqo3qD8qde9U31HbPkr9X/VB9X71v9RhTW2PU/8BTGrR/yT1whLDE+oMdYumWL+kzgaeUpdVNy4zuY+pt6nvr9VfTb2sHOOpwPq1bY3PxbK1smvUj9def6L2Obhd3Uo9C3g98PNyjL/Y5ljtVo754+qfymet7WdLXRH4FbB26fdJdW11GfWI0sff1Z+qq9bG+ah6b9n2n9ZmE9Xl1e+rD5TH9y2z3ZbZwXI8/wqcZtOMYRn/IvVh9R710Fb7+ooVEfnIRz7ykY+FfAD/D/g0sDXwPLBmbds4YHOqP6JHA38Ddi/bOqhm+U4GRgBbAM8BG5ftk4D/axrrvVRJgMCOwNPAVrWx/tJNnAG8CXgXcB+wTfO2XsT8euAJ4MPAcsBqwJiy7XTgH8A2wLLA2cB5rcYor7cCHgLeAgyjSornAsuX7XOBqcDawKrAHcDBbfZtIvAC8PkS1wRgHrBq2X4pcBKwIrBG6feTTW0/W+Ie0aL/SeW93av0fzhwD7BcLdZZwLrlvVyufC6+ArwKeHs5bhuW+ucBPy3xbAbcD1zf9LlYtjb+NcDHy/MPlvpjy+fgTcB6tTjGd/MZ2KYcl3eW93cdYKOF+WwBh1H9QfM6YPlyfM8t2zYBngS2L/v/3XL8xpftR5e2awCrA78HvlEb6wXg26XfEfXxS9zTga+Vvt8I3A28a7D/L1hSHoMeQD7ykY98LK2P8ovreeA15fWdwOe7qf994LjyvPEL/HW17VOBvcvzSTQldi36uxT4XHn+sl++TXUD+DJwL7B5i21v6kXMXwYuaVPvdOCU2utdgDvbjQH8pPHLvFZ2F7BjeT4X2K+27TvAiW3Gngg8ANh0LD8CrEmVMI+obfswcHWt7Z97OM6TgJtqr5cBHgR2qMV6YG37DsBfgWVqZeeWfoaVz8xGtW3fpPeJ3RWN97xFnHPpPrE7qfFe9uKz3e1niyrRfkft9Vplv5alSrrOrW1bAfgnLyV2fwJ2qW1/FzC3NtY/geG17S+OT/WHwJ+bYvkycFpv9uuV8Mi165RSWnj7A1Mi4pHy+pxSdhyA+hbgGKpZmVdRzUBc0NTHX2vPnwZWajeY+h7g68CbqZKLFYA5fYj3MODMiGjbpoeY16X6pdxOr/cFWA/YX/1srexVVDN07fqrb2t2f5Tf8sW9pf56VDNoD6qNbctQzVo21J+382KdiPhXWRpcu9X2Un5fRPyrKZ51qGaolm2qf28vxm/o6T3oqe0vW21YiM/WesAlan0f51Ml0muz4PF6Wv17rd7aLLjPjfeq4eGIeLabcddWH6uVDQN+102sryh5jl1KKS0EdQTwIWBH9a/lfKDPA1vUzr86B7gMWDciRgEnUi119UY9SaGcg3QR1bLWmhGxCtUv6d72B9Uy3u7qYd3U6S7m+6idD7aI7gP+OyJWqT1WiIhzF7K/daxlblTLxg+UcZ6jmlVtjLNyRGxaq7vAsW5j3cYTdRmqJcgH2vTxALBuqVeP537gYaqlxnWbtjU8VX6uUCt7be15d+9BT/vRsm0vPlut+r0PeE/T+zc8Iu6nms18Xa3/EVTL9g0PUCVoDY33qjf7cR9wT9O4IyNil27avKJkYpdSSgtnd6oZik2AMeWxMdXMwUdLnZHAPyLiWXUbYJ8+9P83oKOWHDRmzx4GXigzLDv3MeYHgHcAh6qfblOnu5jPBsarHyoXCKymjunD/ryx9vpk4GD1LVZWtLpwY2Qf96lhDar9Wk79INV78cuIeBCYAvyPunI56X99dcc+9r+1+oFyUcNhVMniTW3q3kyVoH2xxDMOeB/VOYfzgYuBSeoK6ibULrqJiIepEsD91GHqgSyYjJ0CHK5uXY7bm9RGktR8jJv9L3CA+o5yHNZRN6Lnz9bfgNXUUbWyE4H/boytrq7uVrZdCLxPfav6KuAoFvwD5Fzgq6XNa6iWbnv71T5TgcfLxRUjyjHaTB3by/ZDXiZ2KaW0cPanOq/nzxHx18YDOB7YtyQAnwaOVp+g+uX10z7031j+/Ls6IyKeAA4tfTxKlXBd1tegI+LPVMndl6xdaVnTNubSdhfgP6gulJhFddFHb0wCzrC6SvRDEdEFfILqeD1KdbHBxL7uT83NwAbAI8B/A3tFRGP576NUycvtZawLqc4J64ufUV2U8SjVuXsfiIjnW1WMiH9SffXNe0o8JwAfjYg7S5VDqJap/0p1buJpTV18AvgC8HdgU6qLCxp9X1D27xyqCzIupbq4BOBbVAnTY+rhLeKaChxAdarAPOBaqgsvuv1slbjPBe4ufa8N/KDUmVI+KzdRnf9GRNxGdTHKeVSzd09QXSjzXOnyv4AuYDbVcu+MUtajkhi/j+oPqXuoju8pwKju2r2SuOApCSmllNLSxeorVz4eEdsPUP+TqC782G8g+h/q1JWAx4ANIuKewY5nqMsZu5RSSin1K/V9Zal5Rapz9+ZQXbWbBlgmdimllFLqb7tRndP5ANUS+d6RS4SLRS7FppRSSikNETljl1JKKaU0ROQXFKeUBtxrXvOa6OjoGOwwUkppqTJ9+vRHImL1vrTJxC6lNOA6Ojro6uoa7DBSSmmpovblriRALsWmlFJKKQ0ZmdillFJKKQ0RmdillFJKKQ0ReY5dSmnAzbl/Hh1HXL5Qbece895+jiallIaunLFLSw31GvVdTWWHqSd006ZDvbXNtqPV8d20Haf+og/xtR1rMKkT1eMHO46UUkoDLxO7tDQ5F9i7qWzvUt5nEfG1iPjtIke1hCk3n08ppfQKlIldWppcCOyqLg/VDBmwNnB9ef0FdZo6Wz2q1m6YerJ6mzpFHVHqn67uVZ6PVX+v3qJOVUfWB1ZXVE8t/c9Ud+suUHW4epo6p9TfqRGz+jt1Rnm8tZSPKzOSF6p3qmertuh3jHpT2cdL1FeX8mvUb6rXAp/rJq7V1YvKfkxTtyvl25T9n1l+bljKNy3HY1YZc4NSvl+t/CR1WHfHI6WU0uKRiV1aakTE34GpwLtL0d7A+RER6s5U9yPcBhgDbK2+rdTbAPhxRGwKPAbsWe9XfRVwPvC5iNgCGA880zT8kcBVETEW2Ak4ttzcup3PlJg3Bz4MnKEOBx4C3hkRWwETgB/W2mwJHAZsArwR2K5Fv2cCX4qI0VQ31f56bdsqEbFjRPxPN3H9ADiu7MeewCml/E7gbRGxJfA14Jul/GDgBxExBugE/qJuXGLfrpTPB/ZtHkg9SO1Su+Y/Pa+bkFJKKfWXXLJJS5vGcuzPys8DS/nO5TGzvF6JKqH7M3BPRMwq5dOBjqY+NwQejIhpABHxOEDThNnOwPvVw8vr4cDrgTvaxLk98KPS353lSybfDNwLHK82EqI319pMjYi/lLFnlTivb2xUR1Elb9eWojOAC2rtz28TS914YJPavq1cZidHUSWfGwABLFe23wgcqb4OuDgi/qi+A9gamFb6GUGVsC4gIiYDkwGWX2uDvCl1SiktBpnYpaXNpcD31K2AERExo5QLfCsiTqpXLsu1z9WK5lMlIgtUo0pmuiOwZ0Tc1cs4X7aMWnwe+BuwBdWM+bO1bc1x9vXf51O9qLMMsG1ELDAjqf4IuDoi9ijH7BqAiDhHvRl4L3CF+nGqfTsjIr7cx/hSSikNsFyKTUuViHiSKuk4lQUvmrgCOFBdCUBdR12jl93eCaytji1tR7a4AOEK4LON897ULXvo8zrK8qT6ZqrZvbuoZsYejIh/AR8Ben1uWkTMAx5VdyhFHwGu7aZJK1OAQxovyswhJa77y/OJte1vBO6OiB8ClwGjgSuBvRrHV11VXa+PcaSUUhoAOWOXlkbnAhdTu0I2IqaUc79uLLnXk8B+VDNf3YqIf6oTgB+VCyueoVqyrPsG8H1gdknu5gK7dtPtCcCJ6hzgBWBiRDxn9dUsF6kfBK6md7NsdfuXflcA7gYO6GP7Q4Efq7Op/v1fR3Ue3XeolmL/HbiqVn8CsJ/6PPBX4OiI+If6VWCKugzwPNU5hW3vabj5OqPoyu+jSymlAWdEnvqSUhpYnZ2d0dXVNdhhpJTSUkWdHhGdfWmTS7EppZRSSkNEJnYppZRSSkNEJnYppZRSSkNEJnYppZRSSkNEJnYppZRSSkNEJnYppZRSSkNEfo9dSmnAzbl/Hh1HXD7YYfTZ3PzuvZTSUiZn7FLqR+qR6m3qbHWW+pZSflj5UuG+9vfkIsQyUV27zbbT1b0Wtu+UUkpLpkzsUuon6rZUd6PYKiJGU9294r6y+TCgz4ndIpoItEzsUkopDU2Z2KXUf9YCHomI5wAi4pGIeEA9lCrBulq9GhaciVP3Uk8vz9+g3qhOU79R71z9QimfrR5VyjrUO9STy0zhFHVEmY3rBM4uM4cj2gWtvkOdqc5RT1WXL+VfK+Pdqk6u3Sf3GvXb6lT1D7V716aUUhpkmdil1H+mAOuWZOcEdUeAiPgh8ACwU0Ts1EMfPwB+EhFjqe7NCoC6M7ABsA0wBthafVvZvAHw44jYFHgM2DMiLgS6gH0jYkxEPNNqMHU4cDowISI2pzrv9lNl8/ERMTYiNgNGsOC9cZeNiG2oZiK/3qbvg9QutWv+0/N62O2UUkr9IRO7lPpJRDwJbA0cBDwMnK9O7GM32wHnludn1cp3Lo+ZwAxgI6qEDuCeiJhVnk8HOvow3oal/R/K6zOARsK4k3qzOgd4O7Bprd3FPY0XEZMjojMiOoetMKoPIaWUUlpYeVVsSv0oIuYD1wDXlIRof6oZsZdVrT0f3s22BoFvRcRJCxRqB/BcrWg+1exab9mysJrJOwHojIj71ElNcTbGnE/+P5JSSkuMnLFLqZ+oG6ob1IrGAPeW508AI2vb/qZurC4D7FErvwHYuzzft1Z+BXCgulIZax11jR5Cah6zlTuBDvVN5fVHgGt5KYl7pIyZV9CmlNJSIP/STqn/rAT8SF0FeAH4f1TLsgCTgV+pD5bz7I4AfkF11eytpS3A54Bz1M8BFzU6jogp6sbAjeUahieB/ahmzNo5HThRfQbYttV5dhHxrHoAcIG6LDANODEinlNPBuYAc0t5SimlJZwRrVZ9Ukqp/3R2dkZXV9dgh5FSSksVdXpEdPalTS7FppRSSikNEZnYpZRSSikNEZnYpZRSSikNEZnYpZRSSikNEZnYpZRSSikNEZnYpZRSSikNEZnYpZRSSikNEfkFxSmlATfn/nl0HHH5QrWde8x7+zmalFIaunLGbiGp89VZ6q3qBeoK/dDnJPXwJaWfPoz3labXvy8/O9R9auXj1F/0od8O9db+i/SVSX2yL+UppZSWXpnYLbxnImJMRGwG/BM4eLADGkQLJHYR8dbytAPY52W1l2Lltlv92d+w/uwvpZTSK1smdv3jd8CbANRL1enqbepBpexj6nGNyuon1O+V50eqd6m/BTZsqjNNvUW9SF1BHaneoy5X6qyszm28bkUdo96kzlYvUV/drv9Sfrr6Q/X36t1qtzd/V48BRpTZy7NLWWMm6Bhgh7Lt803tVlRPLTHMVHfrYZzh6mnqnFJ/p1Leof5OnVEeby3l49Rr1AvVO9WzLTdZ7WaM9dQry7G6Un197Zh8T70a+HZTm4nqz9Rfl/fx67Vt+6lTy/6f1Eji1CfVo9WbgW3VY9Tby7jf7UUsL3t/1JVKvRnlGHV7PJv2QfVYq9nnOeqE7vosx/wO9eTyOZ+ijujteCmllAZOJnaLqMzgvIfqZukAB0bE1kAncKi6GnAe8P5aAnYAcJq6NbA3sCXwAWBsreuLI2JsRGwB3AF8LCKeAK4BGicd7Q1cFBHPdxPimcCXImJ0ibGReLys/1qbtYDtgV2pkrO2IuIIXpq93Ldp8xHA78q245q2HQlcFRFjgZ2AY9UVuxnqM2W8zYEPA2eow4GHgHdGxFbABOCHtTZbAocBmwBvBLbrbl+A44Ezy7E6u6mvNwPjI+I/WrTbBtgXGAN8UO1UNy7xbBcRY4D5pQ7AisCtEfEW4HZgD2DTMu5/9SKWVu/Ps8Ae5TjsBPxPT4lszQdK7FsA46nei7V66HMD4McRsSnwGLBnc6fqQWqX2jX/6Xm9DCWllNKiyMRu4Y1QZwFdwJ+B/y3lh6q3ADcB6wIbRMRTwFXArupGwHIRMQfYAbgkIp6OiMeBy2r9b1ZmouZQJQSblvJTqBJDys/T2gWojgJWiYhrS9EZwNt66B/g0oj4V0TcDqzZl4PSBzsDR5RjeA0wHHh9N/W3B84CiIg7gXupkq3lgJPLflxAlcQ1TI2Iv0TEv4BZVEvD3dkWOKc8P6uM2XBBRMxv0+43EfH3iHgGuLi0ewewNTCt7OM7qJJLqJK8i8rzx6kSqFPUDwBP9yKWVu+PwDfV2cBvgXXo/Xu3PXBuRMyPiL8B11L9kdFdn/dExKzyfDotjm1ETI6IzojoHLbCqF6GklJKaVHkVbEL75kyE/MidRzVjMe2EfG0eg1VwgJVQvYV4E4WTMaiTf+nA7tHxC3qRGAcQETcUJbCdgSGRcTCXlzQsv/iufpuLWT/PRHYMyLu6kP9Vj4P/I1qtmkZqiSpob4f8+n7573+3jzVy3qN1wJnRMSXW9R/tpEkRsQL6jZUid/ewCHA23sYo9X7sy+wOrB1RDyvzuWlz15P2h3b7vpsPra5FJtSSkuAnLHrX6OAR0tStxHwb40NEXEz1QzePsC5pfg6YA91hDoSeF+tr5HAg2X5tnmJ88zSR9vZujLmPOBRdYdS9BGq2Zie+m9JvbPNpudtfZ7fE2WcVq4APttY2lO37GH46xpxqm+mmt27i+qYP1hm5T4C9HgxgvotdY8Wm35PlVxRxrq+p76Kd6qrlvPMdgduAK4E9lLXKGOuqq7XIpaVgFER8UuqZePGHwt9jWUU8FBJwHYCXjZWN64DJqjD1NWpZnWnLmKfKaWUBkHO2PWvXwMHl6Wru6iWY+t+CoyJiEcBImKGej7VMuG9VBdhNPwncHMpn8OCCdLZVOdinUvP9gdOtLo44m5eWsbtrv+XUV9D+5mdycBsdUbTeXazgRfK0vTpwMzatm8A3y/tBOZSnTPWzgllP+YALwATI+I59QTgIvWDwNV0P7PWsDkLLns3HAqcqn4BeJiXjlVPrqdaLn0TcE5EdAGoXwWmqMsAz1OdJ3hvU9uRwM/K+YJSzUAuTCxnAz9Xu6g+T+2S8FYuoVr6vYVqZvCLEfFXq4thFrbPBWy+zii68vvoUkppwBnRbiUw9Ter73A7LiKuXMR+9gJ2i4iP9E9kvRpzV+CNEfHDHisv4dQrIuJd/dTXRKAzIg7pj/6Gqs7Ozujq6hrsMFJKaamiTo+Izr60yRm7xUBdhWpp65Z+SOp+RHUV7i79EVtvRUSvv1h4SddfSV1KKaW0pMnEbjGIiMeoruDsj74+2x/9pP4REadTLTOnlFJKgy4vnkgppZRSGiIysUsppZRSGiIysUsppZRSGiIysUsppZRSGiIysUsppZRSGiIysUsppZRSGiIysUtLDPV16s/UP6p/Un+gvqpsG6PuUqs7ST28H8feSJ2lzlTXV3/fX333YuxT1E16qHON2qcvqVyEeN6vHrE4xkoppdS/MrFLS4RyW7GLgUsjYgOq7/1bCfjvUmUM/filzGrzPWV3B34WEVtGxJ8i4q39NVZPIuLjEXH74hoPQG37HZYRcVlEHLM440kppdQ/MrFLS4q3A89GxGkAETGf6r6pB6orA0dT3ah+ljqhtNmkzGTdrR7a6EjdT51a6p7USOLUJ9Wj1Zup7o3aqL8LcBjwcfXqRt3yc1wZ40L1TvXskoSifk2dpt6qTq6VX6N+u8TwB3WHUj5M/a46R52tfrZWv7M8/4napd6mHtXTQVOPUW8v/X23lK2uXlRim6ZuV8onlTinAGeqN6ub1vq6Rt1anageX8rWVC9RbymPt3Z3jFNKKQ2uTOzSkmJTYHq9ICIeB/4MdABfA86PiDERcX6pshHwLmAb4OvqcurGwARgu4gYA8wH9i31VwRujYi3RMT1tXF+CZxIdR/fnVrEtiVV4rcJ8EZgu1J+fESMjYjNgBHArrU2y0bENqXd10vZQcAbgC0jYjRwdouxjiz3BRwN7KiObn24QF0V2APYtPT3X2XTD8q+jAX2BE6pNdua6j7D+wDnAR8qfa0FrB0RC7wHwA+BayNiC2Ar4LYejnE9voNKktr18MMPt9uNlFJK/ShvKZaWFALRh3KAyyPiOeA59SFgTeAdVMnLtDKBNgJ4qNSfD1y0ELFNjYi/AKizqBLN64Gd1C8CKwCrArcBPy9tLi4/p5f6AOOBEyPiBYCI+EeLsT6kHkT1b3MtqmRydpu4HgeeBU5RLwca9/MdTzWb2ai3sjqyPL8sIp4pz38K/IYq8fwQcEGLMd4OfLTEOx+Yp36E9sf4RRExGZgM0NnZ2e49TCml1I8ysUtLituoZpdeVJZg1wX+RJVINHuu9nw+1edZ4IyI+HKL+s+W5KSvXjaOOhw4AeiMiPvUScDwFm0acUH3SSrqG4DDgbER8ah6elOfC4iIF9RtqJLZvYFDqBKxZYBtawlco3+Ap2rt71f/XmYFJwCfbDdWc6i0P8YppZQGUS7FpiXFlcAK6kfhxYsb/gc4PSKeBp4ARnbTvt7PXuoapZ9V1fUGIN5GwvWIuhKwVy/aTAEObly4UJZS61amSrzmqWsC7+muszLuqLKUfBjVBSaNcQ6p1RvTonnDecAXSz9zWmy/EvhU6WdYSbYX1zFOKaXUR5nYpSVCRATV+WIfVP8I/IFqmfErpcrVVMuL9YsnWvVzO/BVYIo6m2qpca0BiPcx4GRgDnApMK0XzU6hOmdwtnoLsE9Tn7cAM6lmL08Fbuihv5HAL8p+Xkt1sQnAoUBnuaDiduDgbvq4kGq276dttn+Oasl5DtWy8qaL6xinlFLqO6vfpymlNHA6Ozujq6trsMNIKaWlijq9XFDXazljl1JKKaU0RGRil1JKKaU0RGRil1JKKaU0RGRil1JKKaU0RGRil1JKKaU0RGRil1JKKaU0ROSdJ1JKA27O/fPoOOLywQ4jLaS5x7x3sENIKfVSztiltARRQz2r9npZ9WH1F921a9HPGHWX/o8wpZTSkiwTu5SWLE8Bm6kjyut3Avf3pYNyy7IxQCZ2KaX0CpOJXUpLnl8BjbWvDwPnNjaU+7JeWm4XdpM6upRPUierU4AzgaOBCY1bsKmrq79RZ6gnqfeqryltL1Wnq7epB9XG+pj6B/Ua9WT1+FK+unqROq08tls8hyWllFJPMrFLaclzHrC3OhwYDdxc23YUMDMiRlPdR/fM2ratgd0iYh/ga8D5ETEmIs4Hvg5cFRFbAZcAr6+1OzAitgY6gUPV1dS1gf8E/o1q1nCjWv0fAMdFxFhgT6p74KaUUloC5MUTKS1hImK22kE1W/fLps3bUyVTRMRVJQkbVbZdFhHPtOl2e2CP0u7X6qO1bYeqe5Tn6wIbAK8Fro2IfwCoFwBvLnXGA5uojfYrqyMj4on6gGX27yCAYSuv3ptdTymltIgysUtpyXQZ8F1gHLBardwWdaP8fKqb/lq1Qx1HlahtGxFPq9cAw9vVL5Yp9dslkVVQEZOByQDLr7VBdFc3pZRS/8il2JSWTKcCR0fEnKby64B94cWk7JGIeLxF+yeAkbXX1wMfKu12Bl5dykcBj5akbiOqpVeAqcCO6qvLxRh71vqaAhzSeKGO6fvupZRSGgiZ2KW0BIqIv0TED1psmgR0qrOBY4D923RxNdVy6Sx1AtW5eTurM4D3AA9SJX+/BpYt/X0DuKmMfz/wTarz+34L3A7MK30f2ohBvR04eFH3N6WUUv8wIldIUhrq1OWB+RHxgrot8JOI6HamTV0pIp4sM3aXAKdGxCULM35nZ2d0dXUtTNOUUnrFUqdHRGdf2uQ5dim9Mrwe+Km6DPBP4BO9aDNJHU91zt0U4NIBjC+llFI/yMQupVeAiPgjsGUf2xw+QOGklFIaIHmOXUoppZTSEJGJXUoppZTSEJGJXUoppZTSEJGJXUoppZTSEJGJXUoppZTSEJGJXUppwM25fx4dR1xOxxGXD3YoKaU0pGVil1KhhnpW7fWy6sPqLwYpnq8spnGOVW9Tj10c46WUUho4mdil9JKngM3UEeX1O4H7BzGelomdlf78t/tJYKuI+EJvKpc7UaSUUloCZWKX0oJ+Bby3PP8wcG5jg7qqemm5R+pN6uhSPkk9Vb1GvVs9tNZmP3VquWfrSeow9WPqcbU6n1C/Vw9CPQYYUdqdrXaod6gnADOAddWfqF1ltu2oWtu56lHqDHWOulEp37H0N0udqY5ULwNWBG5WJ6irqxep08pju9o+TlanAGeqm9b2a7a6QQy8g/QAACAASURBVL++CymllBZKrxK7cp/JHstSGgLOA/ZWhwOjgZtr244CZkbEaKrZtDNr2zYC3gVsA3xdXU7dGJgAbFfuyzof2LeM8X51udL2AOC0ehARcQTwTESMiYh9S/GGwJkRsWVE3AscWe4hOBrYsZFoFo9ExFbAT4DGHSQOBz5TYtmh9P/+2jjnAz8AjouIscCewCm1PrcGdouIfYCDgR+UvjqBvzQfSPWgknh2zX96XotDnVJKqb/1dknlRmCrXpSltFSLiNlqB9Vs3S+bNm9PlewQEVepq6mjyrbLI+I54Dn1IWBN4B1UydA0FWAE8FBEPKVeBeyq3gEsFxFzehHevRFxU+31h9SDqP4drwVsAswu2y4uP6cDHyjPbwC+p54NXBwRL0vGgPHAJiVegJXVkeX5ZRHxTHl+I3Ck+rrS1x+bO4qIycBkgOXX2iB6sX8ppZQWUbeJnfpaYB2qJaEtgcb/9isDKwxwbCkNlsuA7wLjgNVq5bao20hYnquVzaf6tyVwRkR8uUW7U6hm/e6kabauG0+9GIi+gWoGbmxEPKqeDgyv1W3E04iFiDhGvRzYBbhJHR8RdzaNsQywbS2Ba4y3wPgRcY56M9Wy9RXqxyPiql7uR0oppQHS01Lsu6h+wb0O+J/a4/O0ObE7pSHgVODoFrNo11EtpaKOo1rufLybfq4E9lLXKG1WVdcDiIibgXWBfaidx9fk+dpybbOVqRKteeqawHt62il1/YiYExHfBrqolo+bTQEOqbUZ06avNwJ3R8QPqRLh0a3qpZRSWry6nbGLiDOAM9Q9I+KixRRTSoOqLFH+oMWmScBp6mzgaWD/Hvq5Xf0qMKVcxfo88Bng3lLlp8CYiHi0TReTgdnqDODIpr5vUWcCtwF3Uy2z9uQwdSeqWbzbqS4UaXYo8OOyj8tSJbMHt6g3AdhPfR74K3B0L8ZPKaU0wIzo+dQX9ZvAdyLisfL61cB/RMRXBzi+lIas8v14x0XElYMdy0Dr7OyMrq6uwQ4jpZSWKur0cpFcr/X2607e00jqAMoMwy59GSilVFFXUf9AdTXqkE/qUkopLT69vSp2mLp8ueqP8gWu+XUnKS2E8kfSmwc7jpRSSkNPbxO7/wOuVE+jugrwQOCMAYsqpZRSSin1Wa8Su4j4jjqH6nu5BL4REVcMaGQppZRSSqlPen3Px4j4Fa2voksppZRSSkuAXiV26hO89EWsrwKWA56KiJUHKrCUUkoppdQ3vV2KHVl/re5OdU/MlFJKKaW0hOj1UmxdRFyqHtHfwaSUhqY598+j44jL+9xu7jHvHYBoUkpp6OrV99ipH6g99lKP4aWl2XZtQj2r9npZ9eHypayLnbpYboGmHqveph47gGOsrV7YZluHus8i9n+N2qcvRExDh3qKuslgx5FSSqnvejtj977a8xeAucBuPbR5CthMHVFuKP5O4P4+R9h/vgJ8s7nQ6u7mRsS/+mmcTwKrN77zryfqshHxQl8GiIgHgL1a9QV0UN1/9Jy+9DnQ1GERMb/d6yXNwrwvS5Pujn9EfHxxx5NSSql/9GrGLiIOqD0+ERH/HREP9aLpr4DGWsqHqd3svNwQ/VJ1tnqTOrqUT1JPLbNGd6uH1trsp05VZ6knqcPUj6nH1ep8Qv1ePYgywziitDu7zGrdoZ4AzADWVX+idpXZtqNqbeeqR6kz1DnqRqV8x9LfLHWmOlK9DFgRuFmdoK6uXqROK4/tavs4WZ0CnNnu4KnfVj9dez1J/Y8S/62lbKJ6gfpzqhu4HwPsUOL6fNl+fK2PX5Qb2NNun7uJZ6z6e/WW8j6M7KH/J9Wj1ZuBbcux/Jp6PfBBdX311+p09Xe1Y3u6+sMy1t3qXrX+v1jeh1vUY0ofM2rbN1Cn97Af66lXls/elerra+N+T70a+HZTm4nl8/pz9R71EPXfy3t/k7pqqTemvJ6tXmJ1+73GLOi3y3H7g7pDKR9mNcs7rbT5ZCk/S92tNv7Z6vubYlpLva6817fW+txZvbF8Zi9QVyrl9eP/RXVqra8Oq/vDLjBjq7679HOLemUpW9Hq3+i0sv89/ZGXUkppMel2xk79Ed0suUbEoe22FecBX7Nafh0NnArsULYdBcyMiN3Vt1MlOGPKto2AnYCRwF3qT4A3Ud14fLuIeN4qKdu3jDFb/WJEPA8cQDVrVo/zCPWQiBhT9qsD2BA4ICI+XcqOjIh/qMOovox5dETMLl08EhFblSTrcODj5ednIuKG8ovz2Yh4v/pkbZxzqO4Fen1JHq4ANi59bg1sX2Yzuzt+3wdOKK8/BLyblyfk2wKjS/zjgMMjYtcSw8Ru+u9unxegvgo4H5gQEdPUlYHuYocqyb01Ir5W+oDqOG1fXl8JHBwRf1TfUvbz7aXtWsD2VJ+Fy4AL1fcAuwNviYin1VVL/PPUMRExi+r9P72HuI4HzoyIM9QDgR+WfqG6I8T4NrNZmwFbAsOB/wd8KSK2tPrD4qNU79WZwGcj4lr1aODrwGGl/bIRsY26SykfD3wMmBcRY9XlgRusEv5TgM8DP1NHAW8F9m+KZx/gioj47/IerqC+Bvhq2Yen1C8B/w4cXdrUj/8E9Y0RcTfVv62f1jtXVwdOBt4WEfc0klfgSOCqiDhQXQWYqv42Ip5qan8QcBDAsJVXb3E4U0op9beelmIbd+3eDtiE6hc7wAeBbmdFACJidkmiPgz8smnz9sCepd5V6mrlFxjA5WUp8zn1IWBNqi9H3hqYVhKEEcBD5ZfXVcCu6h3AchExp6fYgHsj4qba6w+VX0TLUiUVmwCNJOfi8nM68IHy/Abge+rZwMUR8ZcWY4wHNinxAqysNq4wvqyHpI6ImKmuoa4NrA48GhF/Lse07jcR8Y/u+mqju31utiHwYERMK7E9Di8ma+3MBy5qKju/tFuJKlm5oNZH/TZ1l5bl8dvVNUvZeOC0iHi6xNDY51OAA9R/p0pQerpie1teeh/PAr5T23ZBN0vEV0fEE8AT6jzg56V8DjC6fH5XiYhrS/kZwAW19vXPUUd5vnNp25iVHAVsEBFT1B+ra5RYL2qxNDwNOFVdjup4zVJ3pHofbyjH9VXAjbU259ee/5Tqj4VjqI7bhKb+/w24LiLugQWO987A+9XDy+vhwOuBO+qNI2IyMBlg+bU26Pac3JRSSv2j28QuIs6AF2d9diozYqgnUi379cZlwHeBccBqtfJWGUHjP//6+WnzS5wCZ0TEl1u0O4XqHLo7gdN6GdeLswvqG6hm4MZGxKPq6VS/rBoa8TRiISKOUS8HdgFuUsdHxJ1NYywDbNucwJVfuE/ROxdSnU/3WqoZvG73pYUXWHCGb3iJoad9biatZ29b9l882yJJasS6DPBYY3azhfpnwNrPVjFcRDUDdhUwPSL+3qbPdup9dncs6zH9q/b6X/TufNWXfY6o9umzbe7kchbVrPTeVLfxW0BEXKe+jep0h7OsLth5lCrR/3CbGOr7dz5VYn1x1V38saluu+MtsGdE3NVmjJRSSoOkV+fYAWtTLYs2rFTKeuNU4OgWs2jXUf3SoiwfPtKYBWrjSmCvMoPROEdvPYCIuBlYl2pp6tw27Z8vMxutrEz1C29emR16T087pa4fEXMi4ttUM5sbtag2BTik1qZlEqOu0zh/qYXzqH6x70WV5PXkCRZ8r+YCY9Rl1HV5aTarr/t8J7C2OrbEPNLqYo12/XervNf3qB8s/alu0UOzKcCB6gqlzaqlr2eplrl/Qi2xV7+l7tGin99THVOoPoPX9ybmnkTEPOBRy7luwEeAa7tpAlXcn2p8NtU3qyuWbadTlnEj4rbmhuXz/1BEnAz8L7AVcBOwnfqmUmcF9c1t4v0TVZL5nyw4k9dwI7Bj+SPgxeNdYv6s5S8Udcse9jGllNJi0turYo8BZlqdVA6wIzCpNw3LEuUPWmyaBJxmdcL207z8/KHmfm5XvwpMUZcBngc+A9xbqvwUGBMRj7bpYjLVuXgzqM4Rqvd9izoTuA24m2qZtSeHqTtR/WK8nda3WzsU+HHZx2WpktmDW9Rbi2rm62Ui4rayfHt/RDzYi7hmAy+ot1AlBt8H7qFaLryV6mKRPu9zRPxTnQD8SB1BdX7d+NLuZf330r7AT8r7uhxVEntLNzH8uiTHXeo/qZb3G19jczbVkmV9JnlzqhnjZodSLWF+AXiY6ry8/rI/cGJJPu/uRd+nUC3LziiJ0sOU8/0i4m/l9IJL27QdB3xBfR54EvhoRDxcZtjPLefsQXXO3R/a9HE+cCzwhuYNpa+DgIvLv7mHqK5u/wbV52p2iXkusGt3O7n5OqPoyu+kSymlAWdE7059UV8LvIVqaWZqRPx1IAPrK6sLNI6LiHYzX0ss9RDgzxHRKglJvVDO9xoVEf9ZK7siIt41iGEtkpIczgG2KrOBS63Ozs7o6urquWJKKaUXqdMjok/fK9uXO09sw0tXtAYvnTg+qBpX5QG3LI1JHUBEHN9zrdSOegmwPi9dUQvAUp7Ujac6jeF7S3tSl1JKafHpVWJn9T1wY6mWuwAOVd/a5kKGxSoiHqP6ior0ChURrc6jW6pFxG+prjRNKaWUeq23M3a7UJ2/9i8A9QxgJjDoiV1KKaWUUqr09qpYgFVqz0e1rZVSSimllAZFb2fsvsVLV8UKvI2crUsppZRSWqL0mNiVrzO4nupb6MdSJXZfWtKuik0ppZRSeqXrMbGLiFAvjYitaf2dYCmllFJKaQnQ26XYm9SxjfuEppRSX8y5fx4dR1w+2GGkNOjm5hd1pwHW24sndqJK7v6kzlbnlLsppDTkqfPVWept6i3qv5c7MXTXZlz50uxW277Sqnwh4pqoHl+eTypf0tzXPlZRP117vbbam1vXpZRSWgL1dsaux3unpjSEPRMRYwDKvYrPoboy/OsL2d9XgG/2U2yLahXg08AJABHxANV9iVNKKS2Fepp1GK4eBnwBeDfV/UrvbTwWS4QpLUEi4iHgIOAQK8PUY9VpZTb7k7XqK6uXqLerJ6rLlC/7HlFmAM9u7l99tzqjzAxeWcpWVS8t/d+kju4uRnV99dfqdPV36kalfM0Szy3l8Vaq+0CvX+I5Vu1Qby31h6unlRn6meXeyI2ZwovLGH9Uv9MfxzallNKi62nG7gzgeeB3VLN2mwCfG+igUlqSRcTdZSl2DWA3YF5EjFWXB25Qp5Sq21D9m7kX+DXwgYg4Qj2kMQNYp64OnAy8LSLuUVctm44CZkbE7urbgTOBl7WvmQwcHBF/VN9CNRv3duCHwLURsYc6DFgJOALYrDYj2VHr5zNlfzcvyeEUtXGXlzHAlsBzwF3qjyLivqb9OYgqCWbYyqt3E25KKaX+0lNit0lEbA6g/i/VPVlTStXX/gDsDIxWG8uXo4ANgH8CUyPibgD1XGB7oLvz1/4NuC4i7gGIiH+U8u2BPUvZVepqassvCVdXAt4KXFB9UxEAy5efbwc+WvqZD8xTX91NPNsDPyr171Tv5aXb913ZuIetejuwHrBAYhcRk6mSTJZfa4PoZpyUUkr9pKfE7vnGk4h4ofaLIqVXLPWNwHzgIaoE77MRcUVTnXFAczLTU3Jjmzqt/uG162sZ4LFWM4ILobt/8M/Vns+n9+frppRSGkA9XRW7hfp4eTxBNTPxuPqE+vjiCDClJUlZLj0ROD4iArgC+JS6XNn+ZnXFUn0b9Q1l2XYC1Rd9AzzfqN/kRmBH9Q2lr8ZS7HXAvqVsHPBIRLT891fK71E/WOqrblE2Xwl8qpQPU1cGngBGttnd+rhvBl4P3NX24KSUUhp03f6VHRHDFlcgKS3BRqizgOWAF4CzgO+VbacAHcAMqynth4Hdy7YbqS5O2JwqSbqklE8GZqszImLfxiAR8XA5L+3ikgw+BLwTmAScZvUVQ08D+/cQ777AT9SvlpjPA26hOj92svoxqlm2T0XEjeoN5YKJXwE/rvVzAnCiOqfs98SIeG5hZu43X2cUXfn9XSmlNOCsJh1SSmngdHZ2RldX12CHkVJKSxV1ekR09qVNb7+gOKWUUkopLeEysUsppZRSGiIysUsppZRSGiIysUsppZRSGiIysUsppZRSGiIysUsppZRSGiLy2+JTSgNuzv3z6Dji8sEOI6WUFqu5g/D9nTljN4Sor1XPU/+k3q7+snbT9oXpb6J6fHl+sPrRWvna/RX3Qsa2ivrp2uu11e7uw7rEUY9Wxw/i+B3qPrXXL77fKaWUlk6Z2A0R5a4HlwDXRMT6EbEJ8BVgzaZ6C3U3kYg4MSLOLC8nAj0mduqAzAiXfVgFeDGxi4gHImKvgRivNm6/7k9EfC0ifttinEW640sf4uwA9umpUh/GzTvVpJTSIMvEbujYCXg+Ik5sFETErIj4nTpOvVo9B5gDoO6nTlVnqSc1fimrB6h/UK8Ftmv0pU5SD1f3AjqBs0vbEfUg1GvUb5b2n1NXVy9Sp5XHdrX+zlKvUv+ofqKUqx6r3qrOUSeU8uZ9OAZYv8RwbJl9urXUnaherP669P2dWnwfK/t3jXpyTzNUpa8L1J8DU0rZF8q+zFaPKmUd6p3qGaX8QnWFsu1rpf6t6uSShKOeXo4n6txS73rgg93Es6p6aRnjJnV07XhOVqcAZza1aXlMyzHcoRzDz5eytdsct53VG9UZ5Xis1Je4U0opLR55jt3QsRkwvZvt2wCbRcQ96sZUN6XfLiKeV08A9lV/AxwFbA3MA64GZtY7iYgL1UOAwyOi3T2iVomIHQFKInZcRFyvvh64Ati41BsN/BuwIjBTvRzYFhgDbAG8BpimXtdiHzrK8zFlnI6mGMYAWwLPAXepP6K6P+p/AlsBTwBXUd1DtSfbAqMj4h/qzsAGJRaBy9S3AX8GNgQ+FhE3qKdSzSh+Fzg+Io4ucZ4F7Ar8vMU4z0bE9j3EchQwMyJ2V99OlcSNKdu2BraPiGea2nyA1sf0CKr3cdcS20RaH7dngK8C4yPiKfVLwL8DR/ch7pRSSotBJnavHFMj4p7y/B1UScC0Mnk0guqG82+hWsp9GEA9H1iYc/TOrz0fD2ziSzeOX1kdWZ7/rCQhz6hXUyVL2wPnRsR84G9l5m8s8HjTPvTkyoiYV/bjdmA9qqTm2oj4Rym/oJf795tGG2Dn8mgkvCtRJXp/Bu6LiBtK+f8Bh1IldjupXwRWAFYFbqN1Ynd+i7Jm2wN7AkTEVepq6qiy7bIWSV2jTbtj2qzVcVsF2AS4obyPrwJu7Clu9SDgIIBhK6/ei11LKaW0qDKxGzpuA7o7x+yp2nOBMyLiy/UK6u5A9EMs9bGWAbZtTjhKgtA8VpTYetNvT56rPZ9P9Vnvru/uNB+7b0XESfUKZcbwZfujDgdOADoj4j51EjC8F+O002ofGuO2a9+X/W533H4TER9u06bluBExGZgMsPxaG/TH5yqllFIP8hy7oeMqYPnGuWoA6lh1xxZ1rwT2Utco9VZV1wNuBsaVWaDlaH/O1BPAyDbbmk0BDqnFNKa2bTd1uLoaMA6YBlwHTFCHqasDbwOmLmIMDVOBHdVXW11gsGctrj3Ub/WijyuAA2vnmK3TOI7A69Vty/MPA9fzUhL3SGnTqws81EPKknez64B9S51xwCMR0WrmrblNq2Pa22N4E7Cd+qYy7gouwtXWKaWUBk4mdkNERASwB/BOq687uQ2YBDzQou7tVOdMTVFnA78B1oqIB0ubG4HfAjPaDHc6cKItLp5o4VCgs5zsfztwcG3bVOByqsThGxHxANWVvbOpzn27CvhiRPy1xT78nWpp8Fb12B5iaLS5H/gmVQL7W+B2qnMJAdan9dJkcx9TgHOAG9U5wIW8lBzdAexfjumqwE8i4jHgZKoLPi6lSl57YyPg7y3KJ1GOJ9XFD/v3oq92x3Q28IJ6S+3iiZcpS/MTgXPLuDeV+FJKKS1hrPKBlBavsiT5ZER8dzGPu1JEPFlm7C4BTo2IS9T/Az7fOL9wIfrtAH4REZv1U5y/AD4QEf/sj/4GW2dnZ3R1tbvWJqWUUivq9Ijo7EubPMcuvdJMsvpS4OFUy8SXAkTEfoMaVZPGlaoppZRSX2RilwZFREwapHEPH6B+51J95UxKKaU0aPIcu5RSSimlISITu5RSSimlISITu5RSSimlISITu5RSSimlISITu5RSSimlISKvik0pDbg598+j44jLBzuMV6S5x7x3sENIKS1GOWOX+kx9rXpeucPF7eovF+UWU+pE9fjy/GD1o7Xytfsr7t6MvzRSO9Ufttk2V33NAI9/utqrW6WllFIaWDljl/pEleqODWdExN6lbAywJvCHWr1hETG/r/1HxIm1lxOBW2lxW7SFVeI3Iv7VT/0tGxEvLES7hTo+rUREF7BYbuuwsPubUkpp8cgZu9RXOwHP1xOwiJgVEb9Tx6lXq+dQ3RsVdT91armv7EnqsFJ+gPoH9Vpgu0Zf6iT18DID1Amc3eqetOqb1N+W+5zOUNdXV1KvLK/nqLuVuh3qHeoJVPe/Xbfd+E1jrKpeWu5ze5M6uhbjZHUKcGZTm3HqdeolZTbzRHWZsu1J9Wj1ZmBbdWv1WnW6eoW6Vql3jfp99fflXrjblPJtStnM8nPD2pi/KM9XU6eUOicBttm3d5fjdIt6ZQ/9T1QvUH9OdX9h1ePL/l0OrNHN5yWllNJilIld6qvNgOndbN8GODIiNlE3BiYA20XEGGA+sG9JYI6iSqjeCWzS3ElEXEg1C7VvRIyJiGeaqpwN/DgitgDeCjwIPAvsERFbUSWg/1Nm6AA2BM6MiC2Bf/Y0fnEU/7+9e4+2sq73Pf7+BAgpiJhoxDZR0zwaibJQySvqMHW3U4LStscwGzq65247irKUY+X2smt77HIM26Z2OGqoFKUmJgKVAi7kruIt2hslL4loKib4PX8834kPizkX6zoXzD6vMeZYz/w9z/P7fZ/fnGus7/r9fs+csDAi3g98nU2TuJHAKRHxzzX64F+B4cDewEeyfAdgWUQcCswDvg+Mj4iRwLXAd0p17BARHwA+m/sAHgGOymu4ELikStsXAb/PY6YD7255gKTBwDXAuOy/j7ah/tHAhIg4FhhL0Z/DgXMo+n8zks6V1CypecOra6sdYmZmXcxTsdbV5kfEH3P7OIoE6IHMr94OPAscCsyKiOcAJN0MtHmNnqQBwNCImAYQEeuyvA9wiaSjgDeBoRRTxAB/ioi5ud3W9o8AxmUbM3M0bGDum14l2Sz3wZNZ941Zzy0Uie2tecx7KZLku7NvelEkpxU3ZrtzJO0oaSdgAHC9pH2AAPpUafsoMpGMiNslralyzGHAnMrrFBEvZPnAVuq/u3TcUcCNOZX8tKSZ1TohIiYDkwH6Dtknqh1jZmZdy4mdtddyoLWF8q+UtkWxFu9r5QMknUqROHRU1elF4AxgMDAyIt6QtBLoVyUu2th+tXYq57Wsr7W6K8/XldbVCVgeEaPbUce3gHsjYqykYcCsNp7bkmoc01r9Hek/MzOrM0/FWnvNBPpKOqdSIGmUpKOrHHsPMF7SrnnczpL2oJiGPCZHwPrw1lRgSy9TjFJtIiJeAlZlgoikvpK2pxhxejaTujHAHjXqbWv7cyiSRSQdAzyfbW/JIZL2zLV1pwG/r3LMCmCwpNFZfx9JB5T2n5blRwBrI2JtXt9Tuf+sNsR8EjCoyjH3A0dL2jOP2znL21J/pY3TJfXKafUxrRxrZmZ15BE7a5eICEljgSslTaRY17YSOI9i6rN87EOSvkGx4P5twBvA5yJirqRJFAnGaoobGnpVae464GpJrwGjW0x9ngn8WNLFWe9HKdbd/UpSM7CIYs1YtWtY3cb2JwE/lbQEeBWYULtnNnE/cCnFGrQ5FHcRt4zhbypuELkqp3d7A1dSjIgCrJF0H7AjcHaWXU4xVfpligS7mv8F3CjpQWA28F9V2n5O0rnAbfm6PEux1rAt9ZPXcyzFDTKPZjutGj50IM3+PDUzs26nCM+omHWVHNk7PyI+1Ik6ZmUddfkIk3poamqK5uaGuRwzs7qQtCAimtpzjqdizczMzBqEp2LNulBEzKL2TQ1treOYrojFzMz+/njEzszMzKxBOLEzMzMzaxBO7MzMzMwahBM7MzMzswbhxM7MzMysQfiuWDPrdkufWsuwibd3qo6V/oBjM7Mt8oidWRWS3inpJklPSHpI0h2S9u3puDpD0jBJy3o6DjMz6z5O7MxakCSKr82aFRF7R8T+wNeB3Xo2svaR5BF5M7O/M07szDY3BngjIq6uFETEooj4nQpXSFomaamk06D4KjFJsyTdIukRSVMyQUTSpTnqt0TSv2fZdfldseTzv5bqmS3p55IezXPPkDQ/29s7jxss6VZJD+Tj8CyfJGmypBnADW25WEkjJM3N+KZJGpTl52Tdi7Ot7UuxXyXpPklPlq/DzMx6lhM7s829D1hQY99HgBHAgcDxwBWShuS+g4DzgP2BvYDDJe0MjAUOiIj3A99uQ/sHAl8ChgNnAvtGxCHAT4Av5DH/G/iPiBgFjMt9FSOBUyLin9vQFhQJ4FczvqXARVl+W0SMiogDgYeBT5XOGQIcAXwIuLRapZLOldQsqXnDq2vbGIqZmXWGp2rM2ucI4MaI2AA8I2k2MAp4CZgfEasAJC0ChgFzgXXATyTdDvy6DW08EBGrs54ngBlZvpRiNBGKpHL/HBQE2FHSgNyeHhGvteViJA0EdoqI2Vl0PTA1t98n6dvATkB/4K7Sqb+IiDeBhyRVnaKOiMnAZIC+Q/aJtsRjZmad48TObHPLgVrTi6pRDvB6aXsD0Dsi1ks6BDgOOB34PHAssJ4cMc8p2+1q1PNm6fmbvPU7+zZgdMsELhO9V1qJsT2uA06NiMWSzgKOqRFja31iZmZ15KlYs83NBPpKOqdSIGmUpKOBOcBpknpJGgwcBcyvVZGk/sDAxQXNtwAAEcJJREFUiLiDYpp2RO5aSTFlCnAK0KedMc6gSBIr7Yxo5diaImItsEbSkVl0JlAZvRsArJbUBzijI/WbmVl9ecTOrIWICEljgSslTaSYSl1JkZjNAUYDi4EAvhIRf5a0X43qBgC/lNSPYmTrX7L8miyfD9xD+0fZvgj8UNISit/jOcCn23DeeyWtKj3/F2ACcHXeHPEk8Mnc901gHvAnimngAXTQ8KEDafbn0JmZdTtFeOmLmXWvpqamaG5u7ukwzMy2KZIWRERTe87xVKyZmZlZg3BiZ2ZmZtYgnNiZmZmZNQgndmZmZmYNwomdmZmZWYNwYmdmZmbWIJzYmZmZmTUIf0CxmXW7pU+tZdjE23s6DABW+oOSzayBecTONiHpnZJukvSEpIck3SFpX0nHSGrLF9hvqf6q9Uj6cH7LwzZL0rsk3dLTcdSLpBGSTu7pOMzM7C0esbON8svopwHXR8TpWTYC2K27246I6cD07m6nQlLviFjflXVGxNPA+K6scys3AmgC7ujpQMzMrOAROysbA7wREVdXCiJiUUT8Lp/2l3SLpEckTclEEEkjJc2WtEDSXZKGZPl7JP1W0mJJD0rau9yYpFGSFkraS9JZkn6Q5ddJukrSfZKelDQ+y98m6UeSlkv6dY4mbpZI5UjSXElLJE2TNCjLZ0m6RNJs4Estzjla0qJ8LJQ0QFJ/Sfdk7EslnZLHXibps6VzJ0n6V0nDJC3LsrMk3SbpN5Iek3R56fhPSXo047mmdN0flbQs+2tOleuqGk/u+0Re72JJP8uy3fL6F+fjA1n+5WxnmaTzsmxj7Pn8fEmTSv12maT5GfeRkrYDLgZOyz47bfO3k5mZ1ZtH7KzsfcCCVvYfBBwAPA38AThc0jzg+8ApEfFc/oH/DnA2MAW4NCKmSepH8Y/E7gCZZFTO+y9JR7VoawhwBLAfxUjeLcBHgGHAcGBX4GHg2ipx3gB8ISJmS7oYuAg4L/ftFBFHVznnfOBzEfEHSf2BdVk+NiJekrQLMFfSdOAm4ErgR3nMx4AT2fwfpRHZZ68DKyR9H9gAfBM4GHgZmAkszuMvBD4YEU9J2qlKjOtqxLM/cAFweEQ8L2nnPP4qYHZEjJXUiyIxHwl8EjgUEDAvE901Vdor6x0Rh+TU60URcbykC4GmiPh8tRMknQucC9Brx8FbqN7MzLqCEztrj/kRsQpA0iKKJOtFioTw7hzA6wWsljQAGBoR0wAiYl2eB/A/gMnACTl9Wc0vIuJN4CFJlangI4CpWf5nSfe2PEnSQIrkbXYWXQ9MLR1yc432/gB8T9IU4LaIWCWpD3BJJp1vAkOB3SJioaRdJb0LGAysyeR0WIs674mItRnXQ8AewC4UydYLWT4V2LcUw3WSfg7cViVGVYsHOBa4JSKeB6jUneWfyLINwFpJRwDTIuKVbP824Ei2PA1eiWcBxeu+RRExmeJ1pu+QfaIt55iZWec4sbOy5bS+Ruz10vYGivePgOURMbp8oKQdW6lnNdCPYjSrVmJXbkstfnbGK9UKI+JSSbcDJ1OMhB0PHEaRuI2MiDckrcy4oRhBHA+8k2IEr5pa/VVVRHxa0qHAPwKLJI2IiL+UDjmjRjwC2po41Wp/PZuOOPZrsb9yLZXrMDOzrZDX2FnZTKCvpHMqBSrWwVWbuqxYAQyWNDqP7yPpgIh4CVgl6dQs7ytp+zznRYrk5RJJx7Qjvt8D41SstdsN2OzcHCFbI+nILDoTmN3yuJYk7R0RSyPiMqCZYgp4IPBsJlFjKEbcKm4CTqdI7tpzJ+x84GhJgyT1Bsa1iGFeRFwIPE9OW5fUiuce4GOS3pH17Fwq/0yW9cpkew5wqqTtJe0AjAV+BzwD7CrpHZL6Ah9qw7W8DAxox7WbmVk383/etlFEhKSxwJUqPnpkHbCSYn3a0Brn/E3FDQxX5TRob4r1Z8spkqof5zq3N4CPls57RtI/AXdKOruNId4KHAcsAx4F5gFrqxw3Abg6E8knKdaUbcl5mSxtAB4C7qRIWn4lqRlYBDxSin95Tjc/FRGr2xg/uX7ukoz96Wyrcg1XSNqHYlTtHt5ae1cxpVo8Gct3gNmSNgALgbMobhCZLOlTeV2fiYj7JV1HkWAC/CQiFgLk6zQP+GP5WltxLzAxp+X/LSJqTXMzfOhAmv35cWZm3U4RXvpi2w5J/SPirzk6NZ/ihoE/93Rc7VG6ht4UHy9zbWUtYqNqamqK5ubmng7DzGybImlBRDS15xyP2Nm25td5x+h2wLe2taQuTco1fP2AGcAvejgeMzNrEE7sbJsSEcf0dAydFRHn93QMZmbWmHzzhJmZmVmDcGJnZmZm1iCc2JmZmZk1CCd2ZmZmZg3CN0+YWbdb+tRahk28vS5trfTn5ZnZ3zGP2FldSdogaZGkxZIelPSBTtQ1S1K7Pt+np0n6ek/HsCWSmiRd1dNxmJlZ+zmxs3p7LSJGRMSBwNeAf+vpgOqsU4mdpF5dEUR+OHJVEdEcEV/sinbMzKy+nNhZT9oRWAPFtzFIuidH8ZZKOiXLh0l6WNI1kpZLmiHp7eVK8rtjr5f07ZYNSLpQ0gOSlkmaLElZ/h5Jvy2NHO6d5V/J9hdLujTLRkiaK2mJpGmSBmX5xhFDSbtIWpnbZ0m6TdJvJD0m6fIsvxR4e45YTqkS68ez7WWSLiuV/1XSxZLmAaNbnPNFSQ9lbDdl2Q6Srs3rXljqy7MkTZX0K2CGpJslnVyq6zpJ4yQdI+nXpdflpxnXEknjsvwESfdn302V1L+Nr7mZmXUjJ3ZWb5XE5hHgJ8C3snwdMDYiDgbGAN+tJGHAPsAPI+IA4EVgXKm+3hTfofpoRHyjSns/iIhREfE+4O289eX2U7LOA4EPAKslnQScChya5ZfnsTcAX42I9wNLgYvacJ0jgNOA4cBpknaPiIm8NWJ5RvlgSe8CLgOOzXNHSTo1d+8ALIuIQyPi9y3amQgclLF9OssuAGZGxCiKvrxC0g65bzQwISKOBW7KGJG0HcX38N7Rov5vAmsjYni2MVPSLsA3gOPz9WoGvtyyAySdK6lZUvOGV6t9pa+ZmXU1J3ZWb5XEZj/gROCGTOAEXCJpCfBbYCiwW57zx4hYlNsLgGGl+n5MkfR8p0Z7YyTNk7SUImk6QNIAYGjl+1kjYl1EvAocD/w0t4mIFyQNBHaKiNlZ3/XAUW24znsiYm1ErAMeAvbYwvGjgFkR8VxErKdIPCvtbABurXHeEmCKpP8JrM+yE4CJkhYBsyi+uuzdue/uiHght+8EjpXUFzgJmBMRr7Wo/3jgh5UnEbEGOAzYH/hDtjGh2vVFxOSIaIqIpl7bD9zC5ZuZWVfwXbHWYyLi/hz9GQycnD9HRsQbOa3ZLw99vXTaBoqRt4r7KJK372YStZGkfsCPgKaI+G9Jk7JOUZ2AaMclrOetf476tdjXMuYt/a7ViglgXURsqLHvHykSwA8D35R0QNY1LiJWbNKAdCjwSuV5RKyTNAv4IMXI3Y014mrZJ6JIED/eSsxmZtYDPGJnPUbSfkAv4C/AQODZTOrGsOURror/pJg+nFrlhoBKsvV8rgEbDxARLwGrKlOdkvpK2h6YAZyd20jaOSLWAmskHZl1nQlURu9WAiNze3wb431DUp8q5fOAo3OtXi/g46V2qpL0NmD3iLgX+AqwE9AfuAv4Qmk94UGtVHMT8EngyDyvpRnA50ttDgLmAodLek+WbS9p39ZiNTOz+nBiZ/VWWWO3CLiZYr3XBoqpxyZJzcAZwCNtrTAivgc8CPwsk51K+YvANRTr4n4BPFA67Uzgizn1ex/wzoj4DTAdaM74zs9jJ1CsU1tCsf7t4iz/d+Azku4DdmljuJOBJS1vnoiI1RR3Cd8LLAYejIhfbqGuXsD/zWnmhcB/5DV/C+iT7SzjrXWM1cygGPH7bUT8rcr+bwOD8oaOxcCYiHgOOAu4MftkLrDfFmI1M7M6UER7Zp7MzNqvqakpmpubezoMM7NtiqQFEdGuz2v1iJ2ZmZlZg3BiZ2ZmZtYgnNiZmZmZNQivsTOzbifpZWDFFg/c+uwCPN/TQXSA464vx11ff09x7xERg9tzgj/HzszqYUV7FwBvDSQ1O+76cdz15bjrq15xeyrWzMzMrEE4sTMzMzNrEE7szKweJvd0AB3kuOvLcdeX466vusTtmyfMzMzMGoRH7MzMzMwahBM7MzMzswbhxM7Muo2kEyWtkPS4pIk9FMPuku6V9LCk5ZK+lOWTJD0laVE+Ti6d87WMeYWkD27peiTtKWmepMck3Sxpuy6KfaWkpRlfc5btLOnubOtuSYOyXJKuytiWSDq4VM+EPP4xSRNK5SOz/sfzXHVBzO8t9ekiSS9JOm9r7G9J10p6VtKyUlm392+tNjoZ9xWSHsnYpknaKcuHSXqt1O9XdzS+1vqgE3F3+/tCUt98/njuH9YFcd9cinmlpEVZ3vP9HRF++OGHH13+AHoBTwB7AdsBi4H9eyCOIcDBuT0AeBTYH5gEnF/l+P0z1r7AnnkNvVq7HuDnwOm5fTXwmS6KfSWwS4uyy4GJuT0RuCy3TwbuBAQcBszL8p2BJ/PnoNwelPvmA6PznDuBk7rhPfBnYI+tsb+Bo4CDgWX17N9abXQy7hOA3rl9WSnuYeXjWtTTrvhq9UEn4+729wXwWeDq3D4duLmzcbfY/13gwq2lvz1iZ2bd5RDg8Yh4MiL+BtwEnFLvICJidUQ8mNsvAw8DQ1s55RTgpoh4PSL+CDxOcS1Vryf/6z4WuCXPvx44tXuuZmN811dp6xTghijMBXaSNAT4IHB3RLwQEWuAu4ETc9+OEXF/FH9FbuiGuI8DnoiIP23henqkvyNiDvBClXi6u39rtdHhuCNiRkSsz6dzgX9orY4OxlerDzocdyu68n1Rvp5bgOMqo2WdjTvr+RhwY2t11LO/ndiZWXcZCvx36fkqWk+oul1OwRwEzMuiz+cUx7Wl6bBacdcqfwfwYumPaldeZwAzJC2QdG6W7RYRq6FIWoFdOxj30NxuWd6VTmfTP3hbe39Dffq3Vhtd5WyKkZ6KPSUtlDRb0pFZ1pH4uut3urvfFxvPyf1r8/iucCTwTEQ8Virr0f52Ymdm3aXaf8Q99vlKkvoDtwLnRcRLwP8B9gZGAKspplOgdtztLe8Kh0fEwcBJwOckHdXKsVtT3OT6pg8DU7NoW+jv1mwTcUq6AFgPTMmi1cC7I+Ig4MvA/5O0Ywfj645rqsf7ojtfi4+z6T8vPd7fTuzMrLusAnYvPf8H4OmeCERSH4qkbkpE3AYQEc9ExIaIeBO4hmKKB2rHXav8eYopkt4tyjstIp7On88C0zLGZyrTMfnz2Q7GvYpNp+u6+vU5CXgwIp7Ja9jq+zvVo39rtdEpKm7c+BBwRk73kVOZf8ntBRTr0/btYHxd/jtdp/fFxnNy/0DaPiVcU9b1EeDm0vX0eH87sTOz7vIAsE/eqbYdxbTc9HoHkWtg/hN4OCK+Vyovr1UZC1TueJsOnJ530u0J7EOx6Lnq9eQf0HuB8Xn+BOCXXRD3DpIGVLYpFscvy/gqd16W25oOfCLvpDsMWJvTOncBJ0galNNcJwB35b6XJR2WffSJroi7ZJORjK29v0vq0b+12ugwSScCXwU+HBGvlsoHS+qV23tR9O+THYyvVh90Ju56vC/K1zMemFlJfDvpeOCRiNg4xbpV9Hdb7rDwww8//OjIg+Kurkcp/mu9oIdiOIJi+mIJsCgfJwM/A5Zm+XRgSOmcCzLmFZTuFK11PRR36M2nWOA9FejbBXHvRXHH32JgeaU9irVB9wCP5c+ds1zADzO2pUBTqa6zM7bHgU+Wypso/pA+AfyA/DaiLoh9e+AvwMBS2VbX3xSJ52rgDYrRkU/Vo39rtdHJuB+nWI9VeY9X7gIdl++fxcCDwD91NL7W+qATcXf7+wLol88fz/17dTbuLL8O+HSLY3u8v/2VYmZmZmYNwlOxZmZmZg3CiZ2ZmZlZg3BiZ2ZmZtYgnNiZmZmZNQgndmZmZmYNwomdmZmZWYNwYmdmZmbWIP4/QyHViVB5eDEAAAAASUVORK5CYII=\n",
      "text/plain": [
       "<Figure size 432x288 with 1 Axes>"
      ]
     },
     "metadata": {
      "needs_background": "light"
     },
     "output_type": "display_data"
    }
   ],
   "source": [
    "product_count = len(complaints_df.Product.unique())\n",
    "print('Aantal product categorieën:', product_count)\n",
    "product_counts = pd.DataFrame({'Count': complaints_df.groupby(['Product']).size()})\n",
    "fig = plt.figure(figsize=(10, 5))\n",
    "product_counts.plot.barh(title=\"Aantal klachten per product categorie\", legend=None)"
   ]
  },
  {
   "cell_type": "markdown",
   "metadata": {},
   "source": [
    "Deze data is ongebalanceerd, maar aangezien we in deze sprint geen classificatie gaan doen tussen de verschillende product categorieën is het niet zinvol om dit te gaan balanceren. Deze feature wordt hier nu louter beschouwd als categorische data."
   ]
  },
  {
   "cell_type": "markdown",
   "metadata": {},
   "source": [
    "Vervolgens gaan we onderzoeken of het zinvol is om de product categorie in rekening te brengen bij het voorspellen van de responsen van de bedrijven. Dit doen we door per product categorie de verdeling van de verschillende reacties te gaan visualiseren."
   ]
  },
  {
   "cell_type": "code",
   "execution_count": 76,
   "metadata": {},
   "outputs": [
    {
     "data": {
      "text/plain": [
       "<matplotlib.axes._subplots.AxesSubplot at 0x254253be988>"
      ]
     },
     "execution_count": 76,
     "metadata": {},
     "output_type": "execute_result"
    },
    {
     "data": {
      "image/png": "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\n",
      "text/plain": [
       "<Figure size 1008x432 with 1 Axes>"
      ]
     },
     "metadata": {
      "needs_background": "light"
     },
     "output_type": "display_data"
    }
   ],
   "source": [
    "product_response_counts = pd.DataFrame({'Count': complaints_df.groupby(['Product', 'Response']).size()})\n",
    "product_response_counts.unstack().plot(kind='barh', figsize=(14,6), stacked=True, title=\"Respons verdeling per product categorie\")"
   ]
  },
  {
   "cell_type": "markdown",
   "metadata": {},
   "source": [
    "Een aantal zaken vallen ons op bij het bestuderen van deze grafiek:\n",
    "- Er zijn slechts 3 categorieën waarbij het respons \"Closed without explanation\" voorkomt, namelijk: \"Mortgage\", \"Debt collection\" en \"Bank account or service\"\n",
    "- Bij de categorie \"Credit card or prepaid card\" is de verhouding waarmee de reactie \"Closed with monetary relief\" voorkomt veel groter dan bij de overige product categorieën\n",
    "- Elke product categorie heeft over het algemeen een redelijk gelijklopende verdeling over de verschillende responses\n",
    "- De grootste respons categorie \"Closed with explanation\" is over alle product categorieën heen steeds de grootste"
   ]
  },
  {
   "cell_type": "markdown",
   "metadata": {},
   "source": [
    "Het lijkt ons dus wel interessant om de product categorie op te nemen in het classificatie model aangezien hier toch waarschijnlijk enkele verbanden in de data te vinden zijn."
   ]
  },
  {
   "cell_type": "markdown",
   "metadata": {},
   "source": [
    "#### Consumer complaint narrative"
   ]
  },
  {
   "cell_type": "markdown",
   "metadata": {},
   "source": [
    "De derde feature is de consumer complaint narrative. Voor elke klacht wordt de narrative gebruikt als een document in de vorm van tekstuele data. Deze documenten wensen we te gebruiken om een sentiment analyse uit te voeren en zo de eerste onderliggende vraag te gaan beantwoorden. Om dit mogelijk te maken gaan we net zoals in de vorige sprints heel wat processing gaan uitvoeren op deze documenten.\n",
    "\n",
    "We gaan als volgt te werk:\n",
    "1. alle woorden omvormen naar lowercase\n",
    "2. alle symbolen, cijfers, URL's en whitespace/newlines verwijderen\n",
    "3. alle symbolen (\"XXX\") die afkomstig zijn van anonimiseren van de data (kredietkaart gegevens) verwijderen\n",
    "4. document opsplitsen in verschillende tokens\n",
    "5. stopwoorden en woorden korter dan 3 karakters verwijderen\n",
    "6. woorden omvormen naar stamvorm en lemmatisering toepassen met behulp van de nltk library\n",
    "\n",
    "Dit proces is dus volledig analoog als bij onze vorige sprints."
   ]
  },
  {
   "cell_type": "code",
   "execution_count": 5,
   "metadata": {},
   "outputs": [],
   "source": [
    "# pip install nltk"
   ]
  },
  {
   "cell_type": "code",
   "execution_count": 6,
   "metadata": {},
   "outputs": [
    {
     "name": "stderr",
     "output_type": "stream",
     "text": [
      "[nltk_data] Downloading package wordnet to\n",
      "[nltk_data]     C:\\Users\\woute\\AppData\\Roaming\\nltk_data...\n",
      "[nltk_data]   Package wordnet is already up-to-date!\n"
     ]
    }
   ],
   "source": [
    "import nltk, re\n",
    "nltk.download('wordnet')\n",
    "\n",
    "from sklearn.feature_extraction.text import ENGLISH_STOP_WORDS\n",
    "from nltk.stem import WordNetLemmatizer, SnowballStemmer\n",
    "\n",
    "def processing(string):\n",
    "    string = string.lower()\n",
    "    string = re.sub(r'@\\S+|https?:\\S+|http?:\\S', ' ', string)\n",
    "    string = re.sub(r'[^A-Za-z0-9]+', ' ', string)\n",
    "    string = re.sub(r'[^\\w\\s]', '', string)\n",
    "    string = re.sub(r'[0-9]|,', '', string)\n",
    "    string = string.replace(r'\\r', ' ')\n",
    "    string = string.replace(r'\\n', ' ')\n",
    "    string = re.sub(r'[X|x]{2,}', ' ', string)\n",
    "    tokens = string.split(' ')\n",
    "    tokens = [w for w in tokens if w not in ENGLISH_STOP_WORDS and len(w) > 2]\n",
    "    result = [SnowballStemmer('english').stem(WordNetLemmatizer().lemmatize(token, pos='v')) for token in tokens]\n",
    "    return ' ' . join(result)"
   ]
  },
  {
   "cell_type": "markdown",
   "metadata": {},
   "source": [
    "Vervolgens gaan we de processing toepassen met ondersteuning voor multithreading. Hiervoor maken we gebruik van de swifter library. Op die manier wordt de processing in parallele batches uitgevoerd die deze stap wat versnelt. De uitvoer van deze processing wordt opgeslagen in een nieuwe kolom met label 'Narrative_Processed'. **We zullen later bepalen of het gunstig is om de processed narrative te gebruiken in plaats van de oorspronkelijke narrative bij het testen van ons uiteindelijke classificatie model**."
   ]
  },
  {
   "cell_type": "code",
   "execution_count": 7,
   "metadata": {},
   "outputs": [],
   "source": [
    "# pip install swifter"
   ]
  },
  {
   "cell_type": "code",
   "execution_count": 8,
   "metadata": {},
   "outputs": [
    {
     "data": {
      "application/vnd.jupyter.widget-view+json": {
       "model_id": "60a492aed68647938d3f2de7f99b430f",
       "version_major": 2,
       "version_minor": 0
      },
      "text/plain": [
       "HBox(children=(FloatProgress(value=0.0, description='Pandas Apply', max=485701.0, style=ProgressStyle(descript…"
      ]
     },
     "metadata": {},
     "output_type": "display_data"
    },
    {
     "name": "stdout",
     "output_type": "stream",
     "text": [
      "\n",
      "Wall time: 11min 24s\n"
     ]
    }
   ],
   "source": [
    "%%time\n",
    "\n",
    "import swifter\n",
    "\n",
    "complaints_df['Narrative_Processed'] = complaints_df['Narrative'].swifter.apply(processing)"
   ]
  },
  {
   "cell_type": "code",
   "execution_count": 9,
   "metadata": {},
   "outputs": [
    {
     "data": {
      "text/html": [
       "<div>\n",
       "<style scoped>\n",
       "    .dataframe tbody tr th:only-of-type {\n",
       "        vertical-align: middle;\n",
       "    }\n",
       "\n",
       "    .dataframe tbody tr th {\n",
       "        vertical-align: top;\n",
       "    }\n",
       "\n",
       "    .dataframe thead th {\n",
       "        text-align: right;\n",
       "    }\n",
       "</style>\n",
       "<table border=\"1\" class=\"dataframe\">\n",
       "  <thead>\n",
       "    <tr style=\"text-align: right;\">\n",
       "      <th></th>\n",
       "      <th>Narrative</th>\n",
       "      <th>Narrative_Processed</th>\n",
       "    </tr>\n",
       "  </thead>\n",
       "  <tbody>\n",
       "    <tr>\n",
       "      <th>0</th>\n",
       "      <td>I have complained many times that the credit r...</td>\n",
       "      <td>complain time credit report experian inaccur j...</td>\n",
       "    </tr>\n",
       "    <tr>\n",
       "      <th>1</th>\n",
       "      <td>please review the current fraud account and al...</td>\n",
       "      <td>review current fraud account fraudul inquir</td>\n",
       "    </tr>\n",
       "    <tr>\n",
       "      <th>2</th>\n",
       "      <td>Called multiple times over the years for a deb...</td>\n",
       "      <td>call multipl time year debt occur previous mar...</td>\n",
       "    </tr>\n",
       "    <tr>\n",
       "      <th>3</th>\n",
       "      <td>I sent in a letter to the company to have them...</td>\n",
       "      <td>send letter compani valid debt special ask att...</td>\n",
       "    </tr>\n",
       "    <tr>\n",
       "      <th>4</th>\n",
       "      <td>On XX/XX/19 I applied for a Debt Relief Produc...</td>\n",
       "      <td>appli debt relief product account execut expla...</td>\n",
       "    </tr>\n",
       "  </tbody>\n",
       "</table>\n",
       "</div>"
      ],
      "text/plain": [
       "                                           Narrative  \\\n",
       "0  I have complained many times that the credit r...   \n",
       "1  please review the current fraud account and al...   \n",
       "2  Called multiple times over the years for a deb...   \n",
       "3  I sent in a letter to the company to have them...   \n",
       "4  On XX/XX/19 I applied for a Debt Relief Produc...   \n",
       "\n",
       "                                 Narrative_Processed  \n",
       "0  complain time credit report experian inaccur j...  \n",
       "1        review current fraud account fraudul inquir  \n",
       "2  call multipl time year debt occur previous mar...  \n",
       "3  send letter compani valid debt special ask att...  \n",
       "4  appli debt relief product account execut expla...  "
      ]
     },
     "execution_count": 9,
     "metadata": {},
     "output_type": "execute_result"
    }
   ],
   "source": [
    "complaints_df[['Narrative', 'Narrative_Processed']].head()"
   ]
  },
  {
   "cell_type": "markdown",
   "metadata": {},
   "source": [
    "#### Company"
   ]
  },
  {
   "cell_type": "markdown",
   "metadata": {},
   "source": [
    "Een andere feature die interessant lijkt is het bedrijf waarnaar de klacht verstuurd is, samen met de response van dat bedrijf op de klacht. Op basis van eerdere observaties kunnen we voor elk bedrijf de verhoudingen zoeken van de soorten reacties ten opzichte van het totaal aantal klachten van dat bedrijf.\n",
    "Deze ratio's kunnen we vervolgens gebruiken als invoer voor een classificatiemodel dat kan voorspellen wat de reactie zal zijn, gegeven het bedrijf."
   ]
  },
  {
   "cell_type": "code",
   "execution_count": 77,
   "metadata": {},
   "outputs": [
    {
     "name": "stdout",
     "output_type": "stream",
     "text": [
      "Aantal bedrijven: 4419\n"
     ]
    }
   ],
   "source": [
    "company_count = len(complaints_df.Company.unique())\n",
    "print('Aantal bedrijven:', company_count)"
   ]
  },
  {
   "cell_type": "markdown",
   "metadata": {},
   "source": [
    "Om te beginnen willen we voor een aantal bedrijven de verhouding tussen de soorten responses visualiseren. Omdat er zeer veel verschillende bedrijven in de dataset zitten en om een mooi overzicht te bekomen, houden we het hier bij de 10 meest voorkomende.\n",
    "Daarnaast maken we gebruik van de gebalanceerde dataset die eerder geconstrueerd is en die ook enkel de belangrijkste soorten responses bevat."
   ]
  },
  {
   "cell_type": "code",
   "execution_count": 78,
   "metadata": {},
   "outputs": [
    {
     "name": "stdout",
     "output_type": "stream",
     "text": [
      "['Experian Information Solutions Inc.', 'EQUIFAX, INC.', 'TRANSUNION INTERMEDIATE HOLDINGS, INC.', 'CITIBANK, N.A.', 'BANK OF AMERICA, NATIONAL ASSOCIATION', 'WELLS FARGO & COMPANY', 'JPMORGAN CHASE & CO.', 'CAPITAL ONE FINANCIAL CORPORATION', 'SYNCHRONY FINANCIAL', 'Navient Solutions, LLC.']\n"
     ]
    },
    {
     "data": {
      "text/html": [
       "<div>\n",
       "<style scoped>\n",
       "    .dataframe tbody tr th:only-of-type {\n",
       "        vertical-align: middle;\n",
       "    }\n",
       "\n",
       "    .dataframe tbody tr th {\n",
       "        vertical-align: top;\n",
       "    }\n",
       "\n",
       "    .dataframe thead th {\n",
       "        text-align: right;\n",
       "    }\n",
       "</style>\n",
       "<table border=\"1\" class=\"dataframe\">\n",
       "  <thead>\n",
       "    <tr style=\"text-align: right;\">\n",
       "      <th></th>\n",
       "      <th></th>\n",
       "      <th>Count</th>\n",
       "    </tr>\n",
       "    <tr>\n",
       "      <th>Company</th>\n",
       "      <th>Response</th>\n",
       "      <th></th>\n",
       "    </tr>\n",
       "  </thead>\n",
       "  <tbody>\n",
       "    <tr>\n",
       "      <td rowspan=\"4\" valign=\"top\">BANK OF AMERICA, NATIONAL ASSOCIATION</td>\n",
       "      <td>Closed with explanation</td>\n",
       "      <td>3219</td>\n",
       "    </tr>\n",
       "    <tr>\n",
       "      <td>Closed with monetary relief</td>\n",
       "      <td>3639</td>\n",
       "    </tr>\n",
       "    <tr>\n",
       "      <td>Closed with non-monetary relief</td>\n",
       "      <td>1392</td>\n",
       "    </tr>\n",
       "    <tr>\n",
       "      <td>Closed without explanation</td>\n",
       "      <td>98</td>\n",
       "    </tr>\n",
       "    <tr>\n",
       "      <td rowspan=\"4\" valign=\"top\">CAPITAL ONE FINANCIAL CORPORATION</td>\n",
       "      <td>Closed with explanation</td>\n",
       "      <td>3198</td>\n",
       "    </tr>\n",
       "    <tr>\n",
       "      <td>Closed with monetary relief</td>\n",
       "      <td>1187</td>\n",
       "    </tr>\n",
       "    <tr>\n",
       "      <td>Closed with non-monetary relief</td>\n",
       "      <td>1311</td>\n",
       "    </tr>\n",
       "    <tr>\n",
       "      <td>Closed without explanation</td>\n",
       "      <td>10</td>\n",
       "    </tr>\n",
       "    <tr>\n",
       "      <td rowspan=\"2\" valign=\"top\">CITIBANK, N.A.</td>\n",
       "      <td>Closed with explanation</td>\n",
       "      <td>3428</td>\n",
       "    </tr>\n",
       "    <tr>\n",
       "      <td>Closed with monetary relief</td>\n",
       "      <td>3198</td>\n",
       "    </tr>\n",
       "  </tbody>\n",
       "</table>\n",
       "</div>"
      ],
      "text/plain": [
       "                                                                       Count\n",
       "Company                               Response                              \n",
       "BANK OF AMERICA, NATIONAL ASSOCIATION Closed with explanation           3219\n",
       "                                      Closed with monetary relief       3639\n",
       "                                      Closed with non-monetary relief   1392\n",
       "                                      Closed without explanation          98\n",
       "CAPITAL ONE FINANCIAL CORPORATION     Closed with explanation           3198\n",
       "                                      Closed with monetary relief       1187\n",
       "                                      Closed with non-monetary relief   1311\n",
       "                                      Closed without explanation          10\n",
       "CITIBANK, N.A.                        Closed with explanation           3428\n",
       "                                      Closed with monetary relief       3198"
      ]
     },
     "execution_count": 78,
     "metadata": {},
     "output_type": "execute_result"
    }
   ],
   "source": [
    "counts = complaints_balanced_df.groupby('Company').count().reset_index()\n",
    "biggest_companies = counts.sort_values(by='Response', ascending=False).head(10)['Company'].to_list()\n",
    "print(biggest_companies)\n",
    "complaints_filtered = complaints_balanced_df[complaints_balanced_df['Company'].isin(biggest_companies)]\n",
    "response_counts = pd.DataFrame({'Count': complaints_filtered.groupby(['Company', 'Response']).size()})\n",
    "response_counts.head(10)"
   ]
  },
  {
   "cell_type": "code",
   "execution_count": 79,
   "metadata": {},
   "outputs": [
    {
     "data": {
      "text/plain": [
       "<matplotlib.axes._subplots.AxesSubplot at 0x25405150708>"
      ]
     },
     "execution_count": 79,
     "metadata": {},
     "output_type": "execute_result"
    },
    {
     "data": {
      "image/png": "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\n",
      "text/plain": [
       "<Figure size 1008x432 with 1 Axes>"
      ]
     },
     "metadata": {
      "needs_background": "light"
     },
     "output_type": "display_data"
    }
   ],
   "source": [
    "response_counts.unstack().plot(kind='bar', figsize=(14,6), stacked=True, title=\"Aantal klachten per bedrijf\")"
   ]
  },
  {
   "cell_type": "markdown",
   "metadata": {},
   "source": [
    "Zo te zien zijn er drie categorieën van responses die overheersen, maar binnen die drie soorten zijn er wel enkele interessante verdelingen die verschillen van bedrijf tot bedrijf."
   ]
  },
  {
   "cell_type": "markdown",
   "metadata": {},
   "source": [
    "Nu worden aan de complaints dataset kolommen toegevoegd die voor elke klacht de kans tonen dat een specifieke response gegeven wordt, op basis van het bedrijf waarnaar de klacht gestuurd werd. Voor elk type response is er een kolom toegevoegd."
   ]
  },
  {
   "cell_type": "markdown",
   "metadata": {},
   "source": [
    "| Kolom  | Response |\n",
    "| ------- | -------- |\n",
    "| 1 | Closed with explanation |\n",
    "| 2 | Closed with non-monetary relief |\n",
    "| 3 | Closed with monetary relief |\n",
    "| 4 | Closed without explanation |\n",
    "| 5 | Untimely response |"
   ]
  },
  {
   "cell_type": "code",
   "execution_count": 80,
   "metadata": {},
   "outputs": [
    {
     "data": {
      "text/html": [
       "<div>\n",
       "<style scoped>\n",
       "    .dataframe tbody tr th:only-of-type {\n",
       "        vertical-align: middle;\n",
       "    }\n",
       "\n",
       "    .dataframe tbody tr th {\n",
       "        vertical-align: top;\n",
       "    }\n",
       "\n",
       "    .dataframe thead th {\n",
       "        text-align: right;\n",
       "    }\n",
       "</style>\n",
       "<table border=\"1\" class=\"dataframe\">\n",
       "  <thead>\n",
       "    <tr style=\"text-align: right;\">\n",
       "      <th></th>\n",
       "      <th>Complaint ID</th>\n",
       "      <th>Product</th>\n",
       "      <th>Narrative</th>\n",
       "      <th>Company</th>\n",
       "      <th>State</th>\n",
       "      <th>Response</th>\n",
       "      <th>Closed with explanation</th>\n",
       "      <th>Closed with non-monetary relief</th>\n",
       "      <th>Closed with monetary relief</th>\n",
       "      <th>Closed without explanation</th>\n",
       "      <th>Untimely response</th>\n",
       "    </tr>\n",
       "  </thead>\n",
       "  <tbody>\n",
       "    <tr>\n",
       "      <td>0</td>\n",
       "      <td>3315279</td>\n",
       "      <td>Credit reporting, repair, or other</td>\n",
       "      <td>I have complained many times that the credit r...</td>\n",
       "      <td>Experian Information Solutions Inc.</td>\n",
       "      <td>CA</td>\n",
       "      <td>Closed with explanation</td>\n",
       "      <td>60.68</td>\n",
       "      <td>38.55</td>\n",
       "      <td>0.73</td>\n",
       "      <td>0.04</td>\n",
       "      <td>0.0</td>\n",
       "    </tr>\n",
       "    <tr>\n",
       "      <td>1</td>\n",
       "      <td>3259329</td>\n",
       "      <td>Credit reporting, repair, or other</td>\n",
       "      <td>According to the Fair Credit Reporting Act, Se...</td>\n",
       "      <td>Experian Information Solutions Inc.</td>\n",
       "      <td>HI</td>\n",
       "      <td>Closed with non-monetary relief</td>\n",
       "      <td>60.68</td>\n",
       "      <td>38.55</td>\n",
       "      <td>0.73</td>\n",
       "      <td>0.04</td>\n",
       "      <td>0.0</td>\n",
       "    </tr>\n",
       "    <tr>\n",
       "      <td>2</td>\n",
       "      <td>3266929</td>\n",
       "      <td>Credit reporting, repair, or other</td>\n",
       "      <td>EXPERIAN HAS SOME INFORMATION ON MY CREDIT REP...</td>\n",
       "      <td>Experian Information Solutions Inc.</td>\n",
       "      <td>FL</td>\n",
       "      <td>Closed with non-monetary relief</td>\n",
       "      <td>60.68</td>\n",
       "      <td>38.55</td>\n",
       "      <td>0.73</td>\n",
       "      <td>0.04</td>\n",
       "      <td>0.0</td>\n",
       "    </tr>\n",
       "    <tr>\n",
       "      <td>3</td>\n",
       "      <td>3222896</td>\n",
       "      <td>Credit reporting, repair, or other</td>\n",
       "      <td>Accounts added and/or created unbeknownst to m...</td>\n",
       "      <td>Experian Information Solutions Inc.</td>\n",
       "      <td>FL</td>\n",
       "      <td>Closed with non-monetary relief</td>\n",
       "      <td>60.68</td>\n",
       "      <td>38.55</td>\n",
       "      <td>0.73</td>\n",
       "      <td>0.04</td>\n",
       "      <td>0.0</td>\n",
       "    </tr>\n",
       "    <tr>\n",
       "      <td>4</td>\n",
       "      <td>3289721</td>\n",
       "      <td>Credit reporting, repair, or other</td>\n",
       "      <td>I do not own this debt and demand that you imm...</td>\n",
       "      <td>Experian Information Solutions Inc.</td>\n",
       "      <td>GA</td>\n",
       "      <td>Closed with explanation</td>\n",
       "      <td>60.68</td>\n",
       "      <td>38.55</td>\n",
       "      <td>0.73</td>\n",
       "      <td>0.04</td>\n",
       "      <td>0.0</td>\n",
       "    </tr>\n",
       "    <tr>\n",
       "      <td>...</td>\n",
       "      <td>...</td>\n",
       "      <td>...</td>\n",
       "      <td>...</td>\n",
       "      <td>...</td>\n",
       "      <td>...</td>\n",
       "      <td>...</td>\n",
       "      <td>...</td>\n",
       "      <td>...</td>\n",
       "      <td>...</td>\n",
       "      <td>...</td>\n",
       "      <td>...</td>\n",
       "    </tr>\n",
       "    <tr>\n",
       "      <td>485694</td>\n",
       "      <td>2005685</td>\n",
       "      <td>Debt collection</td>\n",
       "      <td>NorAm Capital Holdings, Inc. \\ncollecting for ...</td>\n",
       "      <td>NorAm Capital Holdings, Inc.</td>\n",
       "      <td>CA</td>\n",
       "      <td>Closed without explanation</td>\n",
       "      <td>0.00</td>\n",
       "      <td>0.00</td>\n",
       "      <td>0.00</td>\n",
       "      <td>100.00</td>\n",
       "      <td>0.0</td>\n",
       "    </tr>\n",
       "    <tr>\n",
       "      <td>485695</td>\n",
       "      <td>3038874</td>\n",
       "      <td>Payday loan, title loan, or personal loan</td>\n",
       "      <td>fbi is involved and cc the matter- even thru f...</td>\n",
       "      <td>3D Financial, LP</td>\n",
       "      <td>AZ</td>\n",
       "      <td>Closed with explanation</td>\n",
       "      <td>100.00</td>\n",
       "      <td>0.00</td>\n",
       "      <td>0.00</td>\n",
       "      <td>0.00</td>\n",
       "      <td>0.0</td>\n",
       "    </tr>\n",
       "    <tr>\n",
       "      <td>485696</td>\n",
       "      <td>3073029</td>\n",
       "      <td>Mortgage</td>\n",
       "      <td>Please See Attachments Based on my experience,...</td>\n",
       "      <td>Homes By Hunt LLC</td>\n",
       "      <td>LA</td>\n",
       "      <td>Closed with explanation</td>\n",
       "      <td>100.00</td>\n",
       "      <td>0.00</td>\n",
       "      <td>0.00</td>\n",
       "      <td>0.00</td>\n",
       "      <td>0.0</td>\n",
       "    </tr>\n",
       "    <tr>\n",
       "      <td>485697</td>\n",
       "      <td>2365852</td>\n",
       "      <td>Money transfers</td>\n",
       "      <td>I send some money to XXXX through XXXX And my ...</td>\n",
       "      <td>Maxitransfers Corporation</td>\n",
       "      <td>GA</td>\n",
       "      <td>Closed with explanation</td>\n",
       "      <td>100.00</td>\n",
       "      <td>0.00</td>\n",
       "      <td>0.00</td>\n",
       "      <td>0.00</td>\n",
       "      <td>0.0</td>\n",
       "    </tr>\n",
       "    <tr>\n",
       "      <td>485698</td>\n",
       "      <td>3151675</td>\n",
       "      <td>Credit reporting, repair, or other</td>\n",
       "      <td>Hi, my name is XXXX XXXX and On XX/XX/XXXX XXX...</td>\n",
       "      <td>Reliable Auto Finance, Inc.</td>\n",
       "      <td>MI</td>\n",
       "      <td>Closed with explanation</td>\n",
       "      <td>100.00</td>\n",
       "      <td>0.00</td>\n",
       "      <td>0.00</td>\n",
       "      <td>0.00</td>\n",
       "      <td>0.0</td>\n",
       "    </tr>\n",
       "  </tbody>\n",
       "</table>\n",
       "<p>485699 rows × 11 columns</p>\n",
       "</div>"
      ],
      "text/plain": [
       "        Complaint ID                                    Product  \\\n",
       "0            3315279         Credit reporting, repair, or other   \n",
       "1            3259329         Credit reporting, repair, or other   \n",
       "2            3266929         Credit reporting, repair, or other   \n",
       "3            3222896         Credit reporting, repair, or other   \n",
       "4            3289721         Credit reporting, repair, or other   \n",
       "...              ...                                        ...   \n",
       "485694       2005685                            Debt collection   \n",
       "485695       3038874  Payday loan, title loan, or personal loan   \n",
       "485696       3073029                                   Mortgage   \n",
       "485697       2365852                            Money transfers   \n",
       "485698       3151675         Credit reporting, repair, or other   \n",
       "\n",
       "                                                Narrative  \\\n",
       "0       I have complained many times that the credit r...   \n",
       "1       According to the Fair Credit Reporting Act, Se...   \n",
       "2       EXPERIAN HAS SOME INFORMATION ON MY CREDIT REP...   \n",
       "3       Accounts added and/or created unbeknownst to m...   \n",
       "4       I do not own this debt and demand that you imm...   \n",
       "...                                                   ...   \n",
       "485694  NorAm Capital Holdings, Inc. \\ncollecting for ...   \n",
       "485695  fbi is involved and cc the matter- even thru f...   \n",
       "485696  Please See Attachments Based on my experience,...   \n",
       "485697  I send some money to XXXX through XXXX And my ...   \n",
       "485698  Hi, my name is XXXX XXXX and On XX/XX/XXXX XXX...   \n",
       "\n",
       "                                    Company State  \\\n",
       "0       Experian Information Solutions Inc.    CA   \n",
       "1       Experian Information Solutions Inc.    HI   \n",
       "2       Experian Information Solutions Inc.    FL   \n",
       "3       Experian Information Solutions Inc.    FL   \n",
       "4       Experian Information Solutions Inc.    GA   \n",
       "...                                     ...   ...   \n",
       "485694         NorAm Capital Holdings, Inc.    CA   \n",
       "485695                     3D Financial, LP    AZ   \n",
       "485696                    Homes By Hunt LLC    LA   \n",
       "485697            Maxitransfers Corporation    GA   \n",
       "485698          Reliable Auto Finance, Inc.    MI   \n",
       "\n",
       "                               Response  Closed with explanation  \\\n",
       "0               Closed with explanation                    60.68   \n",
       "1       Closed with non-monetary relief                    60.68   \n",
       "2       Closed with non-monetary relief                    60.68   \n",
       "3       Closed with non-monetary relief                    60.68   \n",
       "4               Closed with explanation                    60.68   \n",
       "...                                 ...                      ...   \n",
       "485694       Closed without explanation                     0.00   \n",
       "485695          Closed with explanation                   100.00   \n",
       "485696          Closed with explanation                   100.00   \n",
       "485697          Closed with explanation                   100.00   \n",
       "485698          Closed with explanation                   100.00   \n",
       "\n",
       "        Closed with non-monetary relief  Closed with monetary relief  \\\n",
       "0                                 38.55                         0.73   \n",
       "1                                 38.55                         0.73   \n",
       "2                                 38.55                         0.73   \n",
       "3                                 38.55                         0.73   \n",
       "4                                 38.55                         0.73   \n",
       "...                                 ...                          ...   \n",
       "485694                             0.00                         0.00   \n",
       "485695                             0.00                         0.00   \n",
       "485696                             0.00                         0.00   \n",
       "485697                             0.00                         0.00   \n",
       "485698                             0.00                         0.00   \n",
       "\n",
       "        Closed without explanation  Untimely response  \n",
       "0                             0.04                0.0  \n",
       "1                             0.04                0.0  \n",
       "2                             0.04                0.0  \n",
       "3                             0.04                0.0  \n",
       "4                             0.04                0.0  \n",
       "...                            ...                ...  \n",
       "485694                      100.00                0.0  \n",
       "485695                        0.00                0.0  \n",
       "485696                        0.00                0.0  \n",
       "485697                        0.00                0.0  \n",
       "485698                        0.00                0.0  \n",
       "\n",
       "[485699 rows x 11 columns]"
      ]
     },
     "execution_count": 80,
     "metadata": {},
     "output_type": "execute_result"
    }
   ],
   "source": [
    "#Aantal voorkomens van een bepaalde response tellen per bedrijf\n",
    "c = pd.DataFrame({'Count': complaints_df.groupby(['Company', 'Response']).size()})\n",
    "#Dit aantal omzetten in een percentage tegenover het aantal klachten per bedrijf\n",
    "perc = c.groupby(level=0).apply(lambda x: round(100 * x / float(x.sum()),2)).reset_index()\n",
    "#De responses pivoteren tot kolommen\n",
    "gepivoteerd = perc.pivot_table('Count', ['Company'], 'Response')\n",
    "#De kolommen opnieuw ordenen van meest naar minst voorkomend\n",
    "gepivoteerd = gepivoteerd.reindex(['Closed with explanation', 'Closed with non-monetary relief', 'Closed with monetary relief',\n",
    "                                   'Closed without explanation', 'Untimely response'], axis=1).reset_index()\n",
    "#De complaints mergen met de percentages om een duidelijk overzicht te bekomen\n",
    "merged_df = pd.merge(complaints_df, gepivoteerd, on='Company', how='inner')\n",
    "#NaN vervangen door 0\n",
    "merged_df = merged_df.fillna(0)\n",
    "merged_df"
   ]
  },
  {
   "cell_type": "code",
   "execution_count": 81,
   "metadata": {},
   "outputs": [],
   "source": [
    "merged_df.to_csv('../data/complaints_with_response_ratio.csv')"
   ]
  },
  {
   "cell_type": "markdown",
   "metadata": {},
   "source": [
    "#### State"
   ]
  },
  {
   "cell_type": "markdown",
   "metadata": {},
   "source": [
    "TODO Lucas: invloed geografische oorsprong van klacht\n",
    "- verschillende states die dicht bij elkaar nemen onder eenzelfde regio definiëren\n",
    "- plotten voor elke regio welke reacties er voorkomen en hieruit een conclusie trekken of er een significante correlatie is tussen de regio en de reactie van bedrijven"
   ]
  },
  {
   "cell_type": "markdown",
   "metadata": {},
   "source": [
    "## Extended Feature Extraction"
   ]
  },
  {
   "cell_type": "markdown",
   "metadata": {},
   "source": [
    "Aangezien we een predictor wensen te gebruiken die niet rechtstreeks uit de dataset te bekomen is, moeten we hier dus nog een aanvullende feature extraction gaan uitvoeren. De predictor die we wensen te bekomen uit de eerste onderliggende vraag is de sentiment score van elke klacht. Dit gaan we bekomen door een sentiment analyse over de hele dataset uit te voeren."
   ]
  },
  {
   "cell_type": "markdown",
   "metadata": {},
   "source": [
    "### Sentiment Analysis"
   ]
  },
  {
   "cell_type": "markdown",
   "metadata": {},
   "source": [
    "Om een sentiment analyse te kunnen doen, hebben we een dataset nodig die tekstuele data bevat en waarvan elk document gelabeld is volgens de polariteit van de sentiment. Hiervoor maken we gebruik van een grote dataset die een verzameling is van 1.6M Twitter berichten. Deze tweets zijn gelabeld volgens sentiment. Vervolgens kunnen we een model trainen die dan gebruikt kan worden om voor elke klacht in de consumer complaint database een sentiment score te gaan bepalen.\n",
    "\n",
    "Deze dataset hebben we verkregen via de website van Sentiment140. Deze dataset mag gebruikt worden op voorwaarde dat de originele bron vermeld wordt.\n",
    "\n",
    "Dataset: http://help.sentiment140.com/for-students/"
   ]
  },
  {
   "cell_type": "markdown",
   "metadata": {
    "_uuid": "563b3c44f1092dba0b853747b098e00509098cca"
   },
   "source": [
    "#### Data Exploration - Twitter Sentiment Analysis Dataset"
   ]
  },
  {
   "cell_type": "markdown",
   "metadata": {},
   "source": [
    "Om de dataset te gaan gebruiken moeten we deze eerst gaan verkennen."
   ]
  },
  {
   "cell_type": "markdown",
   "metadata": {},
   "source": [
    "De dataset bevat 6 features:\n",
    "- **target**: de polariteit van de tweet (0 = negatief, 4 = positief)\n",
    "- **ids**: de index van the tweet (0 - 1599999)\n",
    "- **date**: de datum van de tweet (Formaat: Sat May 16 23:58:44 UTC 2009)\n",
    "- **flag**: de query van de tweet, indien er geen query is staat er 'NO_QUERY'\n",
    "- **user**: de gebruiker die de tweet geschreven heeft\n",
    "- **text**: de tekst van de tweet\n",
    "\n",
    "Voor ons zijn enkel de 'target' en 'text' features van belang. We gaan deze dus gaan selecteren om hierop verder te werken."
   ]
  },
  {
   "cell_type": "code",
   "execution_count": 12,
   "metadata": {
    "_uuid": "bba8f91cd70de4f5ea0fb0870ae2029b6e3dcc24"
   },
   "outputs": [],
   "source": [
    "filename = \"../data/sentiment_analysis/input/twitter_dataset.csv\"\n",
    "twitter_source_df = pd.read_csv(filename, encoding=\"ISO-8859-1\", names=[\"target\", \"ids\", \"date\", \"flag\", \"user\", \"text\"])"
   ]
  },
  {
   "cell_type": "code",
   "execution_count": 13,
   "metadata": {
    "_uuid": "936d499c00c4f1648bc16ca9d283c3b39be7fb10"
   },
   "outputs": [
    {
     "name": "stdout",
     "output_type": "stream",
     "text": [
      "Twitter dataset grootte: (1600000, 6)\n"
     ]
    }
   ],
   "source": [
    "print(\"Twitter dataset grootte:\", twitter_source_df.shape)"
   ]
  },
  {
   "cell_type": "code",
   "execution_count": 14,
   "metadata": {},
   "outputs": [
    {
     "data": {
      "text/html": [
       "<div>\n",
       "<style scoped>\n",
       "    .dataframe tbody tr th:only-of-type {\n",
       "        vertical-align: middle;\n",
       "    }\n",
       "\n",
       "    .dataframe tbody tr th {\n",
       "        vertical-align: top;\n",
       "    }\n",
       "\n",
       "    .dataframe thead th {\n",
       "        text-align: right;\n",
       "    }\n",
       "</style>\n",
       "<table border=\"1\" class=\"dataframe\">\n",
       "  <thead>\n",
       "    <tr style=\"text-align: right;\">\n",
       "      <th></th>\n",
       "      <th>target</th>\n",
       "      <th>ids</th>\n",
       "      <th>date</th>\n",
       "      <th>flag</th>\n",
       "      <th>user</th>\n",
       "      <th>text</th>\n",
       "    </tr>\n",
       "  </thead>\n",
       "  <tbody>\n",
       "    <tr>\n",
       "      <th>0</th>\n",
       "      <td>0</td>\n",
       "      <td>1467810369</td>\n",
       "      <td>Mon Apr 06 22:19:45 PDT 2009</td>\n",
       "      <td>NO_QUERY</td>\n",
       "      <td>_TheSpecialOne_</td>\n",
       "      <td>@switchfoot http://twitpic.com/2y1zl - Awww, t...</td>\n",
       "    </tr>\n",
       "    <tr>\n",
       "      <th>1</th>\n",
       "      <td>0</td>\n",
       "      <td>1467810672</td>\n",
       "      <td>Mon Apr 06 22:19:49 PDT 2009</td>\n",
       "      <td>NO_QUERY</td>\n",
       "      <td>scotthamilton</td>\n",
       "      <td>is upset that he can't update his Facebook by ...</td>\n",
       "    </tr>\n",
       "    <tr>\n",
       "      <th>2</th>\n",
       "      <td>0</td>\n",
       "      <td>1467810917</td>\n",
       "      <td>Mon Apr 06 22:19:53 PDT 2009</td>\n",
       "      <td>NO_QUERY</td>\n",
       "      <td>mattycus</td>\n",
       "      <td>@Kenichan I dived many times for the ball. Man...</td>\n",
       "    </tr>\n",
       "    <tr>\n",
       "      <th>3</th>\n",
       "      <td>0</td>\n",
       "      <td>1467811184</td>\n",
       "      <td>Mon Apr 06 22:19:57 PDT 2009</td>\n",
       "      <td>NO_QUERY</td>\n",
       "      <td>ElleCTF</td>\n",
       "      <td>my whole body feels itchy and like its on fire</td>\n",
       "    </tr>\n",
       "    <tr>\n",
       "      <th>4</th>\n",
       "      <td>0</td>\n",
       "      <td>1467811193</td>\n",
       "      <td>Mon Apr 06 22:19:57 PDT 2009</td>\n",
       "      <td>NO_QUERY</td>\n",
       "      <td>Karoli</td>\n",
       "      <td>@nationwideclass no, it's not behaving at all....</td>\n",
       "    </tr>\n",
       "  </tbody>\n",
       "</table>\n",
       "</div>"
      ],
      "text/plain": [
       "   target         ids                          date      flag  \\\n",
       "0       0  1467810369  Mon Apr 06 22:19:45 PDT 2009  NO_QUERY   \n",
       "1       0  1467810672  Mon Apr 06 22:19:49 PDT 2009  NO_QUERY   \n",
       "2       0  1467810917  Mon Apr 06 22:19:53 PDT 2009  NO_QUERY   \n",
       "3       0  1467811184  Mon Apr 06 22:19:57 PDT 2009  NO_QUERY   \n",
       "4       0  1467811193  Mon Apr 06 22:19:57 PDT 2009  NO_QUERY   \n",
       "\n",
       "              user                                               text  \n",
       "0  _TheSpecialOne_  @switchfoot http://twitpic.com/2y1zl - Awww, t...  \n",
       "1    scotthamilton  is upset that he can't update his Facebook by ...  \n",
       "2         mattycus  @Kenichan I dived many times for the ball. Man...  \n",
       "3          ElleCTF    my whole body feels itchy and like its on fire   \n",
       "4           Karoli  @nationwideclass no, it's not behaving at all....  "
      ]
     },
     "execution_count": 14,
     "metadata": {},
     "output_type": "execute_result"
    }
   ],
   "source": [
    "twitter_source_df.head()"
   ]
  },
  {
   "cell_type": "code",
   "execution_count": 15,
   "metadata": {},
   "outputs": [
    {
     "data": {
      "text/html": [
       "<div>\n",
       "<style scoped>\n",
       "    .dataframe tbody tr th:only-of-type {\n",
       "        vertical-align: middle;\n",
       "    }\n",
       "\n",
       "    .dataframe tbody tr th {\n",
       "        vertical-align: top;\n",
       "    }\n",
       "\n",
       "    .dataframe thead th {\n",
       "        text-align: right;\n",
       "    }\n",
       "</style>\n",
       "<table border=\"1\" class=\"dataframe\">\n",
       "  <thead>\n",
       "    <tr style=\"text-align: right;\">\n",
       "      <th></th>\n",
       "      <th>target</th>\n",
       "      <th>text</th>\n",
       "    </tr>\n",
       "  </thead>\n",
       "  <tbody>\n",
       "    <tr>\n",
       "      <th>0</th>\n",
       "      <td>0</td>\n",
       "      <td>@switchfoot http://twitpic.com/2y1zl - Awww, t...</td>\n",
       "    </tr>\n",
       "    <tr>\n",
       "      <th>1</th>\n",
       "      <td>0</td>\n",
       "      <td>is upset that he can't update his Facebook by ...</td>\n",
       "    </tr>\n",
       "    <tr>\n",
       "      <th>2</th>\n",
       "      <td>0</td>\n",
       "      <td>@Kenichan I dived many times for the ball. Man...</td>\n",
       "    </tr>\n",
       "    <tr>\n",
       "      <th>3</th>\n",
       "      <td>0</td>\n",
       "      <td>my whole body feels itchy and like its on fire</td>\n",
       "    </tr>\n",
       "    <tr>\n",
       "      <th>4</th>\n",
       "      <td>0</td>\n",
       "      <td>@nationwideclass no, it's not behaving at all....</td>\n",
       "    </tr>\n",
       "    <tr>\n",
       "      <th>...</th>\n",
       "      <td>...</td>\n",
       "      <td>...</td>\n",
       "    </tr>\n",
       "    <tr>\n",
       "      <th>1599995</th>\n",
       "      <td>4</td>\n",
       "      <td>Just woke up. Having no school is the best fee...</td>\n",
       "    </tr>\n",
       "    <tr>\n",
       "      <th>1599996</th>\n",
       "      <td>4</td>\n",
       "      <td>TheWDB.com - Very cool to hear old Walt interv...</td>\n",
       "    </tr>\n",
       "    <tr>\n",
       "      <th>1599997</th>\n",
       "      <td>4</td>\n",
       "      <td>Are you ready for your MoJo Makeover? Ask me f...</td>\n",
       "    </tr>\n",
       "    <tr>\n",
       "      <th>1599998</th>\n",
       "      <td>4</td>\n",
       "      <td>Happy 38th Birthday to my boo of alll time!!! ...</td>\n",
       "    </tr>\n",
       "    <tr>\n",
       "      <th>1599999</th>\n",
       "      <td>4</td>\n",
       "      <td>happy #charitytuesday @theNSPCC @SparksCharity...</td>\n",
       "    </tr>\n",
       "  </tbody>\n",
       "</table>\n",
       "<p>1600000 rows × 2 columns</p>\n",
       "</div>"
      ],
      "text/plain": [
       "         target                                               text\n",
       "0             0  @switchfoot http://twitpic.com/2y1zl - Awww, t...\n",
       "1             0  is upset that he can't update his Facebook by ...\n",
       "2             0  @Kenichan I dived many times for the ball. Man...\n",
       "3             0    my whole body feels itchy and like its on fire \n",
       "4             0  @nationwideclass no, it's not behaving at all....\n",
       "...         ...                                                ...\n",
       "1599995       4  Just woke up. Having no school is the best fee...\n",
       "1599996       4  TheWDB.com - Very cool to hear old Walt interv...\n",
       "1599997       4  Are you ready for your MoJo Makeover? Ask me f...\n",
       "1599998       4  Happy 38th Birthday to my boo of alll time!!! ...\n",
       "1599999       4  happy #charitytuesday @theNSPCC @SparksCharity...\n",
       "\n",
       "[1600000 rows x 2 columns]"
      ]
     },
     "execution_count": 15,
     "metadata": {},
     "output_type": "execute_result"
    }
   ],
   "source": [
    "twitter_df = twitter_source_df[['target', 'text']].copy()\n",
    "twitter_df"
   ]
  },
  {
   "cell_type": "markdown",
   "metadata": {},
   "source": [
    "Om de betekenis van de target beter te benadrukken vervangen we deze door de bijpassend sentiment:\n",
    "- 0 = NEGATIVE\n",
    "- 4 = POSITIVE"
   ]
  },
  {
   "cell_type": "code",
   "execution_count": 16,
   "metadata": {
    "_uuid": "14074b59106cb9550440839e48b832223fc9502f"
   },
   "outputs": [],
   "source": [
    "decode_map = {0: \"NEGATIVE\", 4: \"POSITIVE\"}\n",
    "\n",
    "def decode_sentiment(label):\n",
    "    return decode_map[int(label)]\n",
    "\n",
    "twitter_df.target = twitter_df.target.apply(lambda x: decode_sentiment(x))"
   ]
  },
  {
   "cell_type": "code",
   "execution_count": 17,
   "metadata": {},
   "outputs": [
    {
     "data": {
      "text/html": [
       "<div>\n",
       "<style scoped>\n",
       "    .dataframe tbody tr th:only-of-type {\n",
       "        vertical-align: middle;\n",
       "    }\n",
       "\n",
       "    .dataframe tbody tr th {\n",
       "        vertical-align: top;\n",
       "    }\n",
       "\n",
       "    .dataframe thead th {\n",
       "        text-align: right;\n",
       "    }\n",
       "</style>\n",
       "<table border=\"1\" class=\"dataframe\">\n",
       "  <thead>\n",
       "    <tr style=\"text-align: right;\">\n",
       "      <th></th>\n",
       "      <th>target</th>\n",
       "      <th>text</th>\n",
       "    </tr>\n",
       "  </thead>\n",
       "  <tbody>\n",
       "    <tr>\n",
       "      <th>0</th>\n",
       "      <td>NEGATIVE</td>\n",
       "      <td>@switchfoot http://twitpic.com/2y1zl - Awww, t...</td>\n",
       "    </tr>\n",
       "    <tr>\n",
       "      <th>1</th>\n",
       "      <td>NEGATIVE</td>\n",
       "      <td>is upset that he can't update his Facebook by ...</td>\n",
       "    </tr>\n",
       "    <tr>\n",
       "      <th>2</th>\n",
       "      <td>NEGATIVE</td>\n",
       "      <td>@Kenichan I dived many times for the ball. Man...</td>\n",
       "    </tr>\n",
       "    <tr>\n",
       "      <th>3</th>\n",
       "      <td>NEGATIVE</td>\n",
       "      <td>my whole body feels itchy and like its on fire</td>\n",
       "    </tr>\n",
       "    <tr>\n",
       "      <th>4</th>\n",
       "      <td>NEGATIVE</td>\n",
       "      <td>@nationwideclass no, it's not behaving at all....</td>\n",
       "    </tr>\n",
       "  </tbody>\n",
       "</table>\n",
       "</div>"
      ],
      "text/plain": [
       "     target                                               text\n",
       "0  NEGATIVE  @switchfoot http://twitpic.com/2y1zl - Awww, t...\n",
       "1  NEGATIVE  is upset that he can't update his Facebook by ...\n",
       "2  NEGATIVE  @Kenichan I dived many times for the ball. Man...\n",
       "3  NEGATIVE    my whole body feels itchy and like its on fire \n",
       "4  NEGATIVE  @nationwideclass no, it's not behaving at all...."
      ]
     },
     "execution_count": 17,
     "metadata": {},
     "output_type": "execute_result"
    }
   ],
   "source": [
    "twitter_df.head()"
   ]
  },
  {
   "cell_type": "markdown",
   "metadata": {},
   "source": [
    "Vervolgens gaan we de distributie van de tweets gaan visualiseren. We kunnen vaststellen dat de dataset perfect gebalanceerd is met de helft positieve en de andere helft negatieve tweets."
   ]
  },
  {
   "cell_type": "code",
   "execution_count": 18,
   "metadata": {
    "_uuid": "19eb327803192f31cce3512aacb232f4d6b38715"
   },
   "outputs": [
    {
     "data": {
      "text/plain": [
       "Text(0.5, 1.0, 'Twitter dataset sentiment distributie')"
      ]
     },
     "execution_count": 18,
     "metadata": {},
     "output_type": "execute_result"
    },
    {
     "data": {
      "image/png": "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\n",
      "text/plain": [
       "<Figure size 216x216 with 1 Axes>"
      ]
     },
     "metadata": {
      "needs_background": "light"
     },
     "output_type": "display_data"
    }
   ],
   "source": [
    "from collections import Counter\n",
    "\n",
    "target_count = Counter(twitter_df.target)\n",
    "\n",
    "plt.figure(figsize=(3,3))\n",
    "plt.bar(target_count.keys(), target_count.values())\n",
    "plt.title(\"Twitter dataset sentiment distributie\")"
   ]
  },
  {
   "cell_type": "markdown",
   "metadata": {},
   "source": [
    "#### Data Preprocessing - Twitter Sentiment Analysis Dataset"
   ]
  },
  {
   "cell_type": "markdown",
   "metadata": {},
   "source": [
    "Om de tekst van de tweets bruikbaar te maken gaan we een analoge processing toepassen als bij de consumer complaint narrative.\n",
    "\n",
    "Hierbij gaan we als volgt te werk:\n",
    "1. Verwijder alle gebruikersnamen (@...), URL's en overbodige whitespace\n",
    "2. Verwijder alle stopwoorden\n",
    "3. Optioneel: converteer alle woorden naar hun stamvorm (we hebben vastgesteld dat dit echter slechtere resultaten geeft voor het model)"
   ]
  },
  {
   "cell_type": "code",
   "execution_count": 23,
   "metadata": {},
   "outputs": [
    {
     "name": "stderr",
     "output_type": "stream",
     "text": [
      "[nltk_data] Downloading package stopwords to\n",
      "[nltk_data]     C:\\Users\\woute\\AppData\\Roaming\\nltk_data...\n",
      "[nltk_data]   Package stopwords is already up-to-date!\n"
     ]
    },
    {
     "data": {
      "text/plain": [
       "True"
      ]
     },
     "execution_count": 23,
     "metadata": {},
     "output_type": "execute_result"
    }
   ],
   "source": [
    "nltk.download('stopwords')"
   ]
  },
  {
   "cell_type": "code",
   "execution_count": 25,
   "metadata": {},
   "outputs": [],
   "source": [
    "import nltk\n",
    "from nltk.corpus import stopwords\n",
    "from nltk.stem import SnowballStemmer\n",
    "\n",
    "stop_words = stopwords.words(\"english\")\n",
    "stemmer = SnowballStemmer(\"english\")\n",
    "TEXT_CLEANING_RE = \"@\\S+|https?:\\S+|http?:\\S|[^A-Za-z0-9]+\"\n",
    "\n",
    "def twitter_processing(text, stem=False):\n",
    "    text = re.sub(TEXT_CLEANING_RE, ' ', str(text).lower()).strip()\n",
    "    tokens = []\n",
    "    for token in text.split():\n",
    "        if token not in stop_words:\n",
    "            if stem:\n",
    "                tokens.append(stemmer.stem(token))\n",
    "            else:\n",
    "                tokens.append(token)\n",
    "    return \" \".join(tokens)"
   ]
  },
  {
   "cell_type": "code",
   "execution_count": 26,
   "metadata": {
    "_uuid": "f7f3e77ab9291d14687c49e71ba9b2b1e3323432"
   },
   "outputs": [
    {
     "data": {
      "application/vnd.jupyter.widget-view+json": {
       "model_id": "b1502fd1f5b94b4c8b2c047bd728022c",
       "version_major": 2,
       "version_minor": 0
      },
      "text/plain": [
       "HBox(children=(FloatProgress(value=0.0, description='Pandas Apply', max=1600000.0, style=ProgressStyle(descrip…"
      ]
     },
     "metadata": {},
     "output_type": "display_data"
    },
    {
     "name": "stdout",
     "output_type": "stream",
     "text": [
      "\n",
      "Wall time: 38.3 s\n"
     ]
    }
   ],
   "source": [
    "%%time\n",
    "\n",
    "import swifter\n",
    "\n",
    "twitter_df['tokens'] = twitter_df['text'].swifter.apply(twitter_processing)"
   ]
  },
  {
   "cell_type": "code",
   "execution_count": 27,
   "metadata": {},
   "outputs": [
    {
     "data": {
      "text/html": [
       "<div>\n",
       "<style scoped>\n",
       "    .dataframe tbody tr th:only-of-type {\n",
       "        vertical-align: middle;\n",
       "    }\n",
       "\n",
       "    .dataframe tbody tr th {\n",
       "        vertical-align: top;\n",
       "    }\n",
       "\n",
       "    .dataframe thead th {\n",
       "        text-align: right;\n",
       "    }\n",
       "</style>\n",
       "<table border=\"1\" class=\"dataframe\">\n",
       "  <thead>\n",
       "    <tr style=\"text-align: right;\">\n",
       "      <th></th>\n",
       "      <th>target</th>\n",
       "      <th>text</th>\n",
       "      <th>tokens</th>\n",
       "    </tr>\n",
       "  </thead>\n",
       "  <tbody>\n",
       "    <tr>\n",
       "      <th>0</th>\n",
       "      <td>NEGATIVE</td>\n",
       "      <td>@switchfoot http://twitpic.com/2y1zl - Awww, t...</td>\n",
       "      <td>awww bummer shoulda got david carr third day</td>\n",
       "    </tr>\n",
       "    <tr>\n",
       "      <th>1</th>\n",
       "      <td>NEGATIVE</td>\n",
       "      <td>is upset that he can't update his Facebook by ...</td>\n",
       "      <td>upset update facebook texting might cry result...</td>\n",
       "    </tr>\n",
       "    <tr>\n",
       "      <th>2</th>\n",
       "      <td>NEGATIVE</td>\n",
       "      <td>@Kenichan I dived many times for the ball. Man...</td>\n",
       "      <td>dived many times ball managed save 50 rest go ...</td>\n",
       "    </tr>\n",
       "    <tr>\n",
       "      <th>3</th>\n",
       "      <td>NEGATIVE</td>\n",
       "      <td>my whole body feels itchy and like its on fire</td>\n",
       "      <td>whole body feels itchy like fire</td>\n",
       "    </tr>\n",
       "    <tr>\n",
       "      <th>4</th>\n",
       "      <td>NEGATIVE</td>\n",
       "      <td>@nationwideclass no, it's not behaving at all....</td>\n",
       "      <td>behaving mad see</td>\n",
       "    </tr>\n",
       "    <tr>\n",
       "      <th>...</th>\n",
       "      <td>...</td>\n",
       "      <td>...</td>\n",
       "      <td>...</td>\n",
       "    </tr>\n",
       "    <tr>\n",
       "      <th>1599995</th>\n",
       "      <td>POSITIVE</td>\n",
       "      <td>Just woke up. Having no school is the best fee...</td>\n",
       "      <td>woke school best feeling ever</td>\n",
       "    </tr>\n",
       "    <tr>\n",
       "      <th>1599996</th>\n",
       "      <td>POSITIVE</td>\n",
       "      <td>TheWDB.com - Very cool to hear old Walt interv...</td>\n",
       "      <td>thewdb com cool hear old walt interviews</td>\n",
       "    </tr>\n",
       "    <tr>\n",
       "      <th>1599997</th>\n",
       "      <td>POSITIVE</td>\n",
       "      <td>Are you ready for your MoJo Makeover? Ask me f...</td>\n",
       "      <td>ready mojo makeover ask details</td>\n",
       "    </tr>\n",
       "    <tr>\n",
       "      <th>1599998</th>\n",
       "      <td>POSITIVE</td>\n",
       "      <td>Happy 38th Birthday to my boo of alll time!!! ...</td>\n",
       "      <td>happy 38th birthday boo alll time tupac amaru ...</td>\n",
       "    </tr>\n",
       "    <tr>\n",
       "      <th>1599999</th>\n",
       "      <td>POSITIVE</td>\n",
       "      <td>happy #charitytuesday @theNSPCC @SparksCharity...</td>\n",
       "      <td>happy charitytuesday thenspcc sparkscharity sp...</td>\n",
       "    </tr>\n",
       "  </tbody>\n",
       "</table>\n",
       "<p>1600000 rows × 3 columns</p>\n",
       "</div>"
      ],
      "text/plain": [
       "           target                                               text  \\\n",
       "0        NEGATIVE  @switchfoot http://twitpic.com/2y1zl - Awww, t...   \n",
       "1        NEGATIVE  is upset that he can't update his Facebook by ...   \n",
       "2        NEGATIVE  @Kenichan I dived many times for the ball. Man...   \n",
       "3        NEGATIVE    my whole body feels itchy and like its on fire    \n",
       "4        NEGATIVE  @nationwideclass no, it's not behaving at all....   \n",
       "...           ...                                                ...   \n",
       "1599995  POSITIVE  Just woke up. Having no school is the best fee...   \n",
       "1599996  POSITIVE  TheWDB.com - Very cool to hear old Walt interv...   \n",
       "1599997  POSITIVE  Are you ready for your MoJo Makeover? Ask me f...   \n",
       "1599998  POSITIVE  Happy 38th Birthday to my boo of alll time!!! ...   \n",
       "1599999  POSITIVE  happy #charitytuesday @theNSPCC @SparksCharity...   \n",
       "\n",
       "                                                    tokens  \n",
       "0             awww bummer shoulda got david carr third day  \n",
       "1        upset update facebook texting might cry result...  \n",
       "2        dived many times ball managed save 50 rest go ...  \n",
       "3                         whole body feels itchy like fire  \n",
       "4                                         behaving mad see  \n",
       "...                                                    ...  \n",
       "1599995                      woke school best feeling ever  \n",
       "1599996           thewdb com cool hear old walt interviews  \n",
       "1599997                    ready mojo makeover ask details  \n",
       "1599998  happy 38th birthday boo alll time tupac amaru ...  \n",
       "1599999  happy charitytuesday thenspcc sparkscharity sp...  \n",
       "\n",
       "[1600000 rows x 3 columns]"
      ]
     },
     "execution_count": 27,
     "metadata": {},
     "output_type": "execute_result"
    }
   ],
   "source": [
    "twitter_df"
   ]
  },
  {
   "cell_type": "markdown",
   "metadata": {},
   "source": [
    "#### Feature Extraction: Word2Vec - Twitter Sentiment Analysis Dataset"
   ]
  },
  {
   "cell_type": "markdown",
   "metadata": {},
   "source": [
    "Om de features uit de tekst te halen gaan we een Word2Vec model ontwikkelen. Om nadien de accuraatheid te kunnen evalueren splitsen we de dataset op in een training (0.8) en test dataset (0.2). Er wordt een random state variabele ingesteld om consistente resultaten te krijgen bij het trainen en testen van het model."
   ]
  },
  {
   "cell_type": "code",
   "execution_count": 28,
   "metadata": {
    "_uuid": "d2b1179c968e3f3910c790ecf0c5b2cbb34b0e68"
   },
   "outputs": [
    {
     "name": "stdout",
     "output_type": "stream",
     "text": [
      "Training dataset grootte: (1280000, 3)\n",
      "Test dataset grootte: (320000, 3)\n"
     ]
    }
   ],
   "source": [
    "from sklearn.model_selection import train_test_split\n",
    "\n",
    "TRAIN_SIZE = 0.8\n",
    "\n",
    "df_train, df_test = train_test_split(twitter_df, test_size=1-TRAIN_SIZE, random_state=42)\n",
    "print(\"Training dataset grootte:\", df_train.shape)\n",
    "print(\"Test dataset grootte:\", df_test.shape)"
   ]
  },
  {
   "cell_type": "markdown",
   "metadata": {},
   "source": [
    "Word2Vec gaat de tweets omzetten naar 'word embeddings'. Dit is een vector representatie van de corpus van elke tweet. Deze woord vectoren kunnen in een vector ruimte voorgesteld worden waardoor het algoritme sterk gerelateerde woorden kan gaan detecteren op basis van hoe sterk de context van de woorden in de corpus van de documenten overeenkomt.\n",
    "\n",
    "We beginnen met de training dataset in te lezen naar Word2Vec waardoor deze de documenten kan gebruiken om een vocabularium te genereren. We maken hier opnieuw gebruik van multithreading om het proces te versnellen."
   ]
  },
  {
   "cell_type": "code",
   "execution_count": 29,
   "metadata": {},
   "outputs": [],
   "source": [
    "# pip install gensim"
   ]
  },
  {
   "cell_type": "code",
   "execution_count": 30,
   "metadata": {
    "_uuid": "8e19b9f25801ba86420decc266d2b3e6fb44f1ea"
   },
   "outputs": [
    {
     "name": "stdout",
     "output_type": "stream",
     "text": [
      "Aantal woorden in vocabularium: 30369\n"
     ]
    }
   ],
   "source": [
    "import gensim\n",
    "import multiprocessing\n",
    "from gensim.models import Word2Vec\n",
    "\n",
    "W2V_SIZE = 300\n",
    "W2V_WINDOW = 7\n",
    "W2V_MIN_COUNT = 10\n",
    "\n",
    "w2v_model = Word2Vec(size=W2V_SIZE, window=W2V_WINDOW, min_count=W2V_MIN_COUNT, workers=multiprocessing.cpu_count())\n",
    "documents = [_text.split() for _text in df_train.tokens] \n",
    "w2v_model.build_vocab(documents)\n",
    "\n",
    "vocab = w2v_model.wv.vocab.keys()\n",
    "print(\"Aantal woorden in vocabularium:\", len(vocab))"
   ]
  },
  {
   "cell_type": "markdown",
   "metadata": {
    "_uuid": "72a5628ca81fd4b8983c12d93ae0bf950b86b6ae"
   },
   "source": [
    "Vervolgens gaan we het Word2Vec model gaan trainen op deze documenten. We gaan hiervoor 32 keer (epochs) doorheen de training dataset."
   ]
  },
  {
   "cell_type": "code",
   "execution_count": 31,
   "metadata": {
    "_uuid": "68c3e4a5ba07cac3dee67f78ecdd1404c7f83f14"
   },
   "outputs": [
    {
     "name": "stdout",
     "output_type": "stream",
     "text": [
      "Wall time: 2min 56s\n"
     ]
    },
    {
     "data": {
      "text/plain": [
       "(263129627, 295270528)"
      ]
     },
     "execution_count": 31,
     "metadata": {},
     "output_type": "execute_result"
    }
   ],
   "source": [
    "%%time\n",
    "\n",
    "W2V_EPOCH = 32\n",
    "\n",
    "w2v_model.train(documents, total_examples=len(documents), epochs=W2V_EPOCH)"
   ]
  },
  {
   "cell_type": "markdown",
   "metadata": {},
   "source": [
    "Om de werking van het Word2Vec model te illustreren, gaan we hier enkele gerelateerde woorden uitschrijven van een gegeven positief en negatief woord."
   ]
  },
  {
   "cell_type": "code",
   "execution_count": 32,
   "metadata": {
    "_uuid": "27cc2651c74227115d8bfd8c40e5618048e05edd"
   },
   "outputs": [
    {
     "data": {
      "text/plain": [
       "[('great', 0.6949321627616882),\n",
       " ('bad', 0.5556972026824951),\n",
       " ('goood', 0.5408994555473328),\n",
       " ('gooood', 0.5163300037384033),\n",
       " ('nice', 0.496670126914978),\n",
       " ('rough', 0.4827740788459778),\n",
       " ('wonderful', 0.4776894152164459),\n",
       " ('goooooood', 0.47443002462387085),\n",
       " ('fantastic', 0.4577442705631256),\n",
       " ('shitty', 0.455949991941452)]"
      ]
     },
     "execution_count": 32,
     "metadata": {},
     "output_type": "execute_result"
    }
   ],
   "source": [
    "w2v_model.wv.most_similar(\"good\")"
   ]
  },
  {
   "cell_type": "code",
   "execution_count": 33,
   "metadata": {},
   "outputs": [
    {
     "data": {
      "text/plain": [
       "[('terrible', 0.5634722709655762),\n",
       " ('horrible', 0.5604308843612671),\n",
       " ('good', 0.5556972026824951),\n",
       " ('awful', 0.5326348543167114),\n",
       " ('shitty', 0.5082992315292358),\n",
       " ('crappy', 0.4417520761489868),\n",
       " ('like', 0.4400200843811035),\n",
       " ('worse', 0.4201677143573761),\n",
       " ('sad', 0.4091266095638275),\n",
       " ('worst', 0.4023205637931824)]"
      ]
     },
     "execution_count": 33,
     "metadata": {},
     "output_type": "execute_result"
    }
   ],
   "source": [
    "w2v_model.wv.most_similar(\"bad\")"
   ]
  },
  {
   "cell_type": "markdown",
   "metadata": {},
   "source": [
    "De gerelateerde woorden liggen vooral binnen dezelfde sentiment klasse. Toch valt het op dat er ook nog woorden uit de andere klasse als gerelateerd naar boven komen, dit is wel verwacht aangezien Word2Vec betekenis geeft aan de woorden op basis van de context en deze woorden vaak elkaar kunnen vervangen in dezelfde zin. Dit zou echter geen probleem mogen geven bij het trainen van ons neuraal netwerk aangezien dit slechts uitzonderingen zijn."
   ]
  },
  {
   "cell_type": "markdown",
   "metadata": {},
   "source": [
    "Als tweede illustratie gaan we vragen aan het model om het woord dat niet in het rijtje past eruit te filteren. Dit werkt ook goed."
   ]
  },
  {
   "cell_type": "code",
   "execution_count": 34,
   "metadata": {},
   "outputs": [
    {
     "data": {
      "text/plain": [
       "'cereal'"
      ]
     },
     "execution_count": 34,
     "metadata": {},
     "output_type": "execute_result"
    }
   ],
   "source": [
    "w2v_model.wv.doesnt_match(\"breakfast cereal dinner lunch\".split())"
   ]
  },
  {
   "cell_type": "markdown",
   "metadata": {
    "_uuid": "e13563644468037258598637b49373ca96b9b879"
   },
   "source": [
    "#### Deep Learning Model - Twitter Sentiment Analysis Dataset"
   ]
  },
  {
   "cell_type": "code",
   "execution_count": 35,
   "metadata": {},
   "outputs": [],
   "source": [
    "# pip install keras"
   ]
  },
  {
   "cell_type": "code",
   "execution_count": 36,
   "metadata": {
    "_uuid": "6852bc709a7cd20173cbeeb218505078f8f37c57"
   },
   "outputs": [
    {
     "name": "stderr",
     "output_type": "stream",
     "text": [
      "Using TensorFlow backend.\n"
     ]
    },
    {
     "name": "stdout",
     "output_type": "stream",
     "text": [
      "Totaal aantal woorden: 290419\n"
     ]
    }
   ],
   "source": [
    "from keras.preprocessing.text import Tokenizer\n",
    "\n",
    "tokenizer = Tokenizer()\n",
    "tokenizer.fit_on_texts(df_train.tokens)\n",
    "\n",
    "word_count = len(tokenizer.word_index) + 1\n",
    "print(\"Totaal aantal woorden:\", word_count)"
   ]
  },
  {
   "cell_type": "markdown",
   "metadata": {},
   "source": [
    "Om een neuraal netwerk te bekomen, moeten we nu de tokens van de tekst in sequenties gaan onderverdelen waarvan het totaal aantal karakters gelijk is aan het aantal input neuronen van de eerste laag van ons netwerk. We kiezen voor deze laag een input dimensie van 300 neuronen. Documenten die korter zijn dan 300 karakters worden hierbij aangevuld door padding toe te voegen. Ter info: de lengte van een tweet is maximaal 280 karakters, dus is hier een marge in rekening gebracht."
   ]
  },
  {
   "cell_type": "code",
   "execution_count": 37,
   "metadata": {
    "_uuid": "45de439df3015030c71f84c2d170346936a1d68f"
   },
   "outputs": [],
   "source": [
    "from keras.preprocessing.sequence import pad_sequences\n",
    "\n",
    "SEQUENCE_LENGTH = 300\n",
    "\n",
    "x_train = pad_sequences(tokenizer.texts_to_sequences(df_train.tokens), maxlen=SEQUENCE_LENGTH)\n",
    "x_test = pad_sequences(tokenizer.texts_to_sequences(df_test.tokens), maxlen=SEQUENCE_LENGTH)"
   ]
  },
  {
   "cell_type": "markdown",
   "metadata": {},
   "source": [
    "De uitvoer van ons neuraal netwerk is de sentiment score en dit is een waarde tussen 0 en 1. Om de target (y) in te stellen moeten we deze gaan transformeren aan de hand van een LabelEncoder. Hiermee worden de waarden 'NEGATIVE' en 'POSITIVE' omgezet naar 0 of 1. Dit doen we zowel bij de targets van de training als bij de test dataset."
   ]
  },
  {
   "cell_type": "code",
   "execution_count": 38,
   "metadata": {
    "_uuid": "04239a9bef76e7922fd86098a5601dfde8ee4665"
   },
   "outputs": [
    {
     "name": "stdout",
     "output_type": "stream",
     "text": [
      "x_train (1280000, 300)\n",
      "y_train (1280000, 1)\n",
      "x_test (320000, 300)\n",
      "y_test (320000, 1)\n"
     ]
    }
   ],
   "source": [
    "from sklearn.preprocessing import LabelEncoder\n",
    "\n",
    "encoder = LabelEncoder()\n",
    "encoder.fit(df_train.target.tolist())\n",
    "\n",
    "y_train = encoder.transform(df_train.target.tolist())\n",
    "y_test = encoder.transform(df_test.target.tolist())\n",
    "\n",
    "y_train = y_train.reshape(-1,1)\n",
    "y_test = y_test.reshape(-1,1)\n",
    "\n",
    "print(\"x_train\", x_train.shape)\n",
    "print(\"y_train\", y_train.shape)\n",
    "print(\"x_test\", x_test.shape)\n",
    "print(\"y_test\", y_test.shape)"
   ]
  },
  {
   "cell_type": "markdown",
   "metadata": {},
   "source": [
    "Als we nu de waarden van de target gaan uitschrijven krijgen we inderdaad enkel nog de waarden 0 of 1."
   ]
  },
  {
   "cell_type": "code",
   "execution_count": 39,
   "metadata": {
    "_uuid": "232533fb27b7be99d9b8c2f8fb22c9c6bf121a6f"
   },
   "outputs": [
    {
     "name": "stdout",
     "output_type": "stream",
     "text": [
      "[[1]\n",
      " [1]\n",
      " [1]\n",
      " ...\n",
      " [0]\n",
      " [0]\n",
      " [0]]\n"
     ]
    }
   ],
   "source": [
    "print(y_train[:])"
   ]
  },
  {
   "cell_type": "markdown",
   "metadata": {
    "_uuid": "233c0ea94055a03e2e7df3e2a13d036ec963484f"
   },
   "source": [
    "Om het Word2Vec model te gebruiken in ons neuraal netwerk gaan we als eerste laag een Embedding layer gebruiken. Deze laag representeert de bekomen matrix van ons Word2Vec model en heeft dus dezelfde dimensies. Deze laag is dan ook niet trainbaar aangezien deze al opvoorhand aan de hand van Word2Vec getraind is."
   ]
  },
  {
   "cell_type": "code",
   "execution_count": 43,
   "metadata": {
    "_uuid": "9ab488374b59e3f30f8b1ea92767d853c4846bac"
   },
   "outputs": [
    {
     "name": "stdout",
     "output_type": "stream",
     "text": [
      "(290419, 300)\n"
     ]
    }
   ],
   "source": [
    "from keras.layers import Embedding\n",
    "\n",
    "embedding_matrix = np.zeros((word_count, W2V_SIZE))\n",
    "\n",
    "for word, i in tokenizer.word_index.items():\n",
    "    if word in w2v_model.wv:\n",
    "        embedding_matrix[i] = w2v_model.wv[word]\n",
    "print(embedding_matrix.shape)\n",
    "\n",
    "embedding_layer = Embedding(word_count, W2V_SIZE, weights=[embedding_matrix], input_length=SEQUENCE_LENGTH, trainable=False)"
   ]
  },
  {
   "cell_type": "markdown",
   "metadata": {},
   "source": [
    "Vervolgens gaan we ons neuraal netwerk gaan construeren. Het netwerk is opgebouwd uit 4 lagen:\n",
    "1. **Embedding layer**: input laag, gebruikt voor het mappen van de Word2Vec word embeddings.\n",
    "2. **Dropout layer**: deze laag zou het overfitten van het netwerk moeten reduceren doordat er willekeurig uitvoer van de vorige laag weggelaten wordt (regulariseren), op die manier verhinderen we dat het netwerk ongewenste patronen tussen de neuronen zou gaan leren.\n",
    "3. **LSTM layer**: Long short-term memory laag heeft feedback verbindingen (terugkoppeling) met vorige lagen (wat niet het geval is bij standaard feed-forward netwerken), op die manier kunnen we sequenties van data (tekst) beter gaan verwerken. In deze laag wordt ook dropout toegepast om overfitting tegen te gaan.\n",
    "4. **Dense layer**: output laag, deze laag is een dense laag met slechts 1 uitvoer paramater die de sentiment score gaat voorstellen. Als activatie functie gebruiken we een sigmoid functie waardoor de uitvoer tussen 0 en 1 ligt. Voor negatieve sentiment zal deze waarde dichter bij 0 liggen en voor positieve sentiment dichter bij 1."
   ]
  },
  {
   "cell_type": "code",
   "execution_count": 44,
   "metadata": {
    "_uuid": "e775ef4f1b74e6412457181383c39f2df554ef3f"
   },
   "outputs": [
    {
     "name": "stdout",
     "output_type": "stream",
     "text": [
      "Model: \"sequential_2\"\n",
      "_________________________________________________________________\n",
      "Layer (type)                 Output Shape              Param #   \n",
      "=================================================================\n",
      "embedding_2 (Embedding)      (None, 300, 300)          87125700  \n",
      "_________________________________________________________________\n",
      "dropout_1 (Dropout)          (None, 300, 300)          0         \n",
      "_________________________________________________________________\n",
      "lstm_1 (LSTM)                (None, 100)               160400    \n",
      "_________________________________________________________________\n",
      "dense_1 (Dense)              (None, 1)                 101       \n",
      "=================================================================\n",
      "Total params: 87,286,201\n",
      "Trainable params: 160,501\n",
      "Non-trainable params: 87,125,700\n",
      "_________________________________________________________________\n"
     ]
    }
   ],
   "source": [
    "from keras.layers import Dense, Dropout, LSTM\n",
    "from keras.models import Sequential\n",
    "\n",
    "model = Sequential()\n",
    "model.add(embedding_layer)\n",
    "model.add(Dropout(0.5))\n",
    "model.add(LSTM(100, dropout=0.2, recurrent_dropout=0.2))\n",
    "model.add(Dense(1, activation='sigmoid'))\n",
    "\n",
    "model.summary()"
   ]
  },
  {
   "cell_type": "markdown",
   "metadata": {},
   "source": [
    "Vervolgens gaan we het model gaan compileren. Aangezien onze targets binair zijn (0 of 1) gaan we een binaire loss functie gaan gebruiken. Als optimizer gaan we het \"Adam\" algoritme gebruiken die een standaard learning rate van 0.001 heeft. Als metrics van het model willen we de accuracy weten."
   ]
  },
  {
   "cell_type": "code",
   "execution_count": 45,
   "metadata": {
    "_uuid": "1331e08d590bb2aa2033706c8faca217afc0f1c3"
   },
   "outputs": [],
   "source": [
    "model.compile(loss='binary_crossentropy', optimizer=\"adam\", metrics=['accuracy'])"
   ]
  },
  {
   "cell_type": "markdown",
   "metadata": {
    "_uuid": "c7733127cb8b380e0c807268903bf4d03ef92542"
   },
   "source": [
    "Om inzicht te krijgen in de inwendige state van het model tijdens het trainen, gaan we enkele callbacks gaan toevoegen. Deze zullen periodiek enkele statistieken uitprinten en  parameters tunen (learning rate). Ook is het mogelijk om het trainen op die manier vroegtijdig te stoppen indien deze geen winst meer boekt.\n",
    "- **ReduceLROnPlateau**: deze callback verlaagt de learning rate zodra de loss niet meer verandert.\n",
    "- **EarlyStopping**: deze callback stopt de training wanneer de accuracy niet meer verbetert."
   ]
  },
  {
   "cell_type": "code",
   "execution_count": 46,
   "metadata": {
    "_uuid": "a688df590386f5748da6fe00b01904fe6c71619e"
   },
   "outputs": [],
   "source": [
    "from keras.callbacks import ReduceLROnPlateau, EarlyStopping\n",
    "\n",
    "callbacks = [ReduceLROnPlateau(monitor='val_loss', patience=5, cooldown=0), EarlyStopping(monitor='val_accuracy', min_delta=1e-4, patience=5)]"
   ]
  },
  {
   "cell_type": "markdown",
   "metadata": {},
   "source": [
    "Nu gaan we het model effectief gaan trainen. Om dit proces te versnellen gaan we gebruik maken van de CUDA bibliotheek van Nvidia. Hiervoor hebben we de vereiste drivers geinstalleerd. Vervolgens testen we of tensorflow (waarrond Keras gebouwd is) effectief de grafische kaart gaat aanspreken."
   ]
  },
  {
   "cell_type": "code",
   "execution_count": 47,
   "metadata": {},
   "outputs": [
    {
     "data": {
      "text/plain": [
       "[name: \"/device:CPU:0\"\n",
       " device_type: \"CPU\"\n",
       " memory_limit: 268435456\n",
       " locality {\n",
       " }\n",
       " incarnation: 8228990236659688884,\n",
       " name: \"/device:GPU:0\"\n",
       " device_type: \"GPU\"\n",
       " memory_limit: 6686252073\n",
       " locality {\n",
       "   bus_id: 1\n",
       "   links {\n",
       "   }\n",
       " }\n",
       " incarnation: 12274349819508669817\n",
       " physical_device_desc: \"device: 0, name: GeForce GTX 1070, pci bus id: 0000:01:00.0, compute capability: 6.1\"]"
      ]
     },
     "execution_count": 47,
     "metadata": {},
     "output_type": "execute_result"
    }
   ],
   "source": [
    "from tensorflow.python.client import device_lib\n",
    "\n",
    "device_lib.list_local_devices()"
   ]
  },
  {
   "cell_type": "markdown",
   "metadata": {},
   "source": [
    "Nu Keras gebruik kan maken van onze GPU gaan we het model gaan trainen op onze train dataset met de fit functie. We gaan 8 keer over de dataset gaan (epochs) en gebruiken een batch grootte van 1024. Dit blijkt een goede afweging te zijn tussen het vereiste geheugen om het model te trainen en de snelheid waarmee het model traint. Om de train dataset te valideren gaan we deze verder opsplitsen in een derde validatie dataset (0.10)."
   ]
  },
  {
   "cell_type": "code",
   "execution_count": 48,
   "metadata": {
    "_uuid": "2b659d390c6577dc5cdb6b6297934279b4e801d5"
   },
   "outputs": [
    {
     "name": "stdout",
     "output_type": "stream",
     "text": [
      "Train on 1152000 samples, validate on 128000 samples\n",
      "Epoch 1/8\n",
      "1152000/1152000 [==============================] - 297s 257us/step - loss: 0.5084 - accuracy: 0.7472 - val_loss: 0.4659 - val_accuracy: 0.7787\n",
      "Epoch 2/8\n",
      "1152000/1152000 [==============================] - 296s 257us/step - loss: 0.4832 - accuracy: 0.7641 - val_loss: 0.4568 - val_accuracy: 0.7837\n",
      "Epoch 3/8\n",
      "1152000/1152000 [==============================] - 296s 257us/step - loss: 0.4759 - accuracy: 0.7694 - val_loss: 0.4534 - val_accuracy: 0.7862\n",
      "Epoch 4/8\n",
      "1152000/1152000 [==============================] - 296s 257us/step - loss: 0.4721 - accuracy: 0.7718 - val_loss: 0.4505 - val_accuracy: 0.7883\n",
      "Epoch 5/8\n",
      "1152000/1152000 [==============================] - 295s 256us/step - loss: 0.4694 - accuracy: 0.7737 - val_loss: 0.4482 - val_accuracy: 0.7895\n",
      "Epoch 6/8\n",
      "1152000/1152000 [==============================] - 296s 257us/step - loss: 0.4679 - accuracy: 0.7744 - val_loss: 0.4469 - val_accuracy: 0.7893\n",
      "Epoch 7/8\n",
      "1152000/1152000 [==============================] - 298s 259us/step - loss: 0.4664 - accuracy: 0.7750 - val_loss: 0.4458 - val_accuracy: 0.7900\n",
      "Epoch 8/8\n",
      "1152000/1152000 [==============================] - 306s 266us/step - loss: 0.4650 - accuracy: 0.7759 - val_loss: 0.4462 - val_accuracy: 0.7901\n",
      "Wall time: 39min 40s\n"
     ]
    }
   ],
   "source": [
    "%%time\n",
    "\n",
    "EPOCHS = 8\n",
    "BATCH_SIZE = 1024\n",
    "\n",
    "history = model.fit(x_train, y_train, batch_size=BATCH_SIZE, epochs=EPOCHS, validation_split=0.1, verbose=1, callbacks=callbacks)"
   ]
  },
  {
   "cell_type": "markdown",
   "metadata": {},
   "source": [
    "#### Model Evaluation - Twitter Sentiment Analysis Dataset"
   ]
  },
  {
   "cell_type": "markdown",
   "metadata": {
    "_uuid": "267258196d96796ac69a7b8c466314bcf5d6ee42"
   },
   "source": [
    "Nu we een getraind model hebben gaan we deze gaan evalueren. Dit gaan we doen door een evaluatie score te bepalen van ons model aan de hand van de test dataset."
   ]
  },
  {
   "cell_type": "code",
   "execution_count": 49,
   "metadata": {
    "_uuid": "98ecd8f1b8b74594c3ea775dd68a094e92458022"
   },
   "outputs": [
    {
     "name": "stdout",
     "output_type": "stream",
     "text": [
      "320000/320000 [==============================] - 31s 96us/step\n",
      "Model accuracy: 0.7908218502998352\n",
      "Model loss: 0.4448554313659668\n"
     ]
    }
   ],
   "source": [
    "score = model.evaluate(x_test, y_test, batch_size=BATCH_SIZE)\n",
    "\n",
    "print(\"Model accuracy:\", score[1])\n",
    "print(\"Model loss:\", score[0])"
   ]
  },
  {
   "cell_type": "markdown",
   "metadata": {},
   "source": [
    "Vervolgens gaan we onderzoeken of er eventueel overfitting of underfitting gebeurd is. Hiervoor plotten we de accuracy en loss van het trainingsproces doorheen de verschillende epochs."
   ]
  },
  {
   "cell_type": "code",
   "execution_count": 50,
   "metadata": {
    "_uuid": "40c72cd1e9d6c4fd799cbba7c813765ac4039dfc"
   },
   "outputs": [
    {
     "data": {
      "image/png": "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\n",
      "text/plain": [
       "<Figure size 432x288 with 1 Axes>"
      ]
     },
     "metadata": {
      "needs_background": "light"
     },
     "output_type": "display_data"
    },
    {
     "data": {
      "image/png": "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\n",
      "text/plain": [
       "<Figure size 432x288 with 1 Axes>"
      ]
     },
     "metadata": {
      "needs_background": "light"
     },
     "output_type": "display_data"
    }
   ],
   "source": [
    "acc = history.history['accuracy']\n",
    "val_acc = history.history['val_accuracy']\n",
    "loss = history.history['loss']\n",
    "val_loss = history.history['val_loss']\n",
    " \n",
    "epochs = range(len(acc))\n",
    " \n",
    "plt.plot(epochs, acc, 'b', label='Training acc')\n",
    "plt.plot(epochs, val_acc, 'r', label='Validation acc')\n",
    "plt.title('Training en validation accuracy')\n",
    "plt.legend()\n",
    " \n",
    "plt.figure()\n",
    " \n",
    "plt.plot(epochs, loss, 'b', label='Training loss')\n",
    "plt.plot(epochs, val_loss, 'r', label='Validation loss')\n",
    "plt.title('Training en validation loss')\n",
    "plt.legend()\n",
    " \n",
    "plt.show()"
   ]
  },
  {
   "cell_type": "markdown",
   "metadata": {},
   "source": [
    "De accuracy en loss van de validatie dataset volgt een zeer gelijkaardig trainingsverloop als dat van de train dataset. We kunnen besluiten dat er geen overfitting of underfitting is gebeurd."
   ]
  },
  {
   "cell_type": "markdown",
   "metadata": {},
   "source": [
    "Om het model verder te gaan evalueren gaan we een confusion matrix construeren. Deze visualisatie geeft een goed beeld van hoe goed het model werkt."
   ]
  },
  {
   "cell_type": "code",
   "execution_count": 51,
   "metadata": {
    "_uuid": "a57dc6f6211c144491a70f533225edfa95a2dc66"
   },
   "outputs": [
    {
     "name": "stdout",
     "output_type": "stream",
     "text": [
      "320000/320000 [==============================] - 31s 96us/step\n"
     ]
    },
    {
     "data": {
      "image/png": "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\n",
      "text/plain": [
       "<Figure size 360x360 with 2 Axes>"
      ]
     },
     "metadata": {
      "needs_background": "light"
     },
     "output_type": "display_data"
    }
   ],
   "source": [
    "import itertools\n",
    "from sklearn.metrics import confusion_matrix\n",
    "\n",
    "def decode_sentiment(score):\n",
    "    return \"NEGATIVE\" if score < 0.5 else \"POSITIVE\"\n",
    "\n",
    "def plot_confusion_matrix(cm, classes, title='Confusion Matrix', cmap=plt.cm.Blues):\n",
    "    cm = cm.astype('float') / cm.sum(axis=1)[:, np.newaxis]\n",
    "\n",
    "    plt.imshow(cm, interpolation='nearest', cmap=cmap)\n",
    "    plt.title(title, fontsize=30)\n",
    "    plt.colorbar()\n",
    "    tick_marks = np.arange(len(classes))\n",
    "    plt.xticks(tick_marks, classes, rotation=90, fontsize=22)\n",
    "    plt.yticks(tick_marks, classes, fontsize=22)\n",
    "\n",
    "    fmt = '.2f'\n",
    "    thresh = cm.max() / 2.\n",
    "    for i, j in itertools.product(range(cm.shape[0]), range(cm.shape[1])):\n",
    "        plt.text(j, i, format(cm[i, j], fmt), horizontalalignment=\"center\", color=\"white\" if cm[i, j] > thresh else \"black\")\n",
    "        \n",
    "    plt.ylabel('Verwacht label', fontsize=25)\n",
    "    plt.xlabel('Voorspeld label', fontsize=25)\n",
    "\n",
    "y_pred_1d = []    \n",
    "y_test_1d = list(df_test.target)\n",
    "    \n",
    "scores = model.predict(x_test, verbose=1, batch_size=1024)\n",
    "y_pred_1d = [decode_sentiment(score) for score in scores]\n",
    "    \n",
    "cnf_matrix = confusion_matrix(y_test_1d, y_pred_1d)\n",
    "\n",
    "plt.figure(figsize=(5,5))\n",
    "plot_confusion_matrix(cnf_matrix, classes=df_train.target.unique(), title=\"Confusion Matrix\")\n",
    "plt.show()"
   ]
  },
  {
   "cell_type": "code",
   "execution_count": 52,
   "metadata": {
    "_uuid": "a7fe05b7caa1c984ff1deb0be2f7c6bc043df9f5"
   },
   "outputs": [
    {
     "name": "stdout",
     "output_type": "stream",
     "text": [
      "              precision    recall  f1-score   support\n",
      "\n",
      "    NEGATIVE       0.80      0.78      0.79    159494\n",
      "    POSITIVE       0.78      0.80      0.79    160506\n",
      "\n",
      "    accuracy                           0.79    320000\n",
      "   macro avg       0.79      0.79      0.79    320000\n",
      "weighted avg       0.79      0.79      0.79    320000\n",
      "\n"
     ]
    }
   ],
   "source": [
    "from sklearn.metrics import classification_report\n",
    "\n",
    "print(classification_report(y_test_1d, y_pred_1d))"
   ]
  },
  {
   "cell_type": "code",
   "execution_count": 53,
   "metadata": {
    "_uuid": "5cf76e6e09f8a60ed25947932b94c772eda44d23"
   },
   "outputs": [
    {
     "name": "stdout",
     "output_type": "stream",
     "text": [
      "0.790821875\n"
     ]
    }
   ],
   "source": [
    "from sklearn.metrics import accuracy_score\n",
    "\n",
    "print(accuracy_score(y_test_1d, y_pred_1d))"
   ]
  },
  {
   "cell_type": "markdown",
   "metadata": {
    "_uuid": "4f014c32f3833db282e1a075c526604f34e3158c"
   },
   "source": [
    "Nu we het model geëvalueerd hebben en we tevreden zijn met de behaalde accuracy, gaan we het model gaan exporteren zodat deze later opnieuw kan ingeladen worden. Dit is nuttig aangezien het trainen van het model heel wat tijd in beslag neemt en op die manier kan deze stap dus eenvoudig overgeslagen worden in de toekomst bij het verder ontwikkelen."
   ]
  },
  {
   "cell_type": "code",
   "execution_count": 59,
   "metadata": {
    "_uuid": "3b2b3ad5b592977b404acfa1c9ad303a62837255"
   },
   "outputs": [],
   "source": [
    "KERAS_MODEL = \"../data/sentiment_analysis/model/model.h5\"\n",
    "WORD2VEC_MODEL = \"../data/sentiment_analysis/model/model.w2v\"\n",
    "\n",
    "model.save(KERAS_MODEL)\n",
    "w2v_model.save(WORD2VEC_MODEL)"
   ]
  },
  {
   "cell_type": "markdown",
   "metadata": {},
   "source": [
    "#### Predicting Complaints Sentiment"
   ]
  },
  {
   "cell_type": "markdown",
   "metadata": {},
   "source": [
    "Nu kunnen we terug gaan naar onze Customer Complaint Dataset. Hier gaan we nu voor elke klacht een sentiment score gaan berekenen aan de hand van ons deep learning model. Deze score gaan we gaan toevoegen aan onze oorspronkelijke dataset zodat deze verder gebruikt kan worden om een classificatie model te ontwikkelen die antwoord kan geven op onze centrale onderzoeksvraag."
   ]
  },
  {
   "cell_type": "markdown",
   "metadata": {},
   "source": [
    "We laden eerst de opgeslagen modellen terug in het geheugen."
   ]
  },
  {
   "cell_type": "code",
   "execution_count": 60,
   "metadata": {},
   "outputs": [],
   "source": [
    "from keras.models import load_model \n",
    "from gensim.models import Word2Vec \n",
    "\n",
    "w2v_model = Word2Vec.load('../data/sentiment_analysis/model/model.w2v')\n",
    "model = load_model('../data/sentiment_analysis/model/model.h5') "
   ]
  },
  {
   "cell_type": "markdown",
   "metadata": {},
   "source": [
    "Nu gaan we voor alle klachten de sentiment score gaan bepalen en deze vervolgens toevoegen aan de oorspronkelijke dataset. We gaan hiervoor de oorspronkelijke narrative gaan gebruiken aangezien dit betere resultaten blijkt te geven dan indien we de processed narrative zouden gebruiken. Dit heeft waarschijnlijk te maken met het feit dat we voor de processing op het Word2Vec model gekozen hebben om geen stemming te gebruiken aangezien dit een hogere accuracy gaf."
   ]
  },
  {
   "cell_type": "code",
   "execution_count": 61,
   "metadata": {},
   "outputs": [],
   "source": [
    "SEQUENCE_LENGTH = 300 \n",
    "\n",
    "def predict(text):\n",
    "    x_test = pad_sequences(tokenizer.texts_to_sequences([text]), maxlen=SEQUENCE_LENGTH)\n",
    "    score = model.predict([x_test])[0]\n",
    "    return score[0]"
   ]
  },
  {
   "cell_type": "code",
   "execution_count": 67,
   "metadata": {},
   "outputs": [
    {
     "data": {
      "text/html": [
       "<div>\n",
       "<style scoped>\n",
       "    .dataframe tbody tr th:only-of-type {\n",
       "        vertical-align: middle;\n",
       "    }\n",
       "\n",
       "    .dataframe tbody tr th {\n",
       "        vertical-align: top;\n",
       "    }\n",
       "\n",
       "    .dataframe thead th {\n",
       "        text-align: right;\n",
       "    }\n",
       "</style>\n",
       "<table border=\"1\" class=\"dataframe\">\n",
       "  <thead>\n",
       "    <tr style=\"text-align: right;\">\n",
       "      <th></th>\n",
       "      <th>Product</th>\n",
       "      <th>Narrative</th>\n",
       "      <th>Company</th>\n",
       "      <th>State</th>\n",
       "      <th>Response</th>\n",
       "      <th>Narrative_Processed</th>\n",
       "      <th>Sentiment_Score</th>\n",
       "    </tr>\n",
       "  </thead>\n",
       "  <tbody>\n",
       "    <tr>\n",
       "      <th>0</th>\n",
       "      <td>Credit reporting, repair, or other</td>\n",
       "      <td>I have complained many times that the credit r...</td>\n",
       "      <td>Experian Information Solutions Inc.</td>\n",
       "      <td>CA</td>\n",
       "      <td>Closed with explanation</td>\n",
       "      <td>complain time credit report experian inaccur j...</td>\n",
       "      <td>0.155694</td>\n",
       "    </tr>\n",
       "    <tr>\n",
       "      <th>1</th>\n",
       "      <td>Debt collection</td>\n",
       "      <td>please review the current fraud account and al...</td>\n",
       "      <td>Ideal Collection Services, Inc.</td>\n",
       "      <td>FL</td>\n",
       "      <td>Closed with explanation</td>\n",
       "      <td>review current fraud account fraudul inquir</td>\n",
       "      <td>0.514699</td>\n",
       "    </tr>\n",
       "    <tr>\n",
       "      <th>2</th>\n",
       "      <td>Debt collection</td>\n",
       "      <td>Called multiple times over the years for a deb...</td>\n",
       "      <td>ONEMAIN FINANCIAL HOLDINGS, LLC.</td>\n",
       "      <td>FL</td>\n",
       "      <td>Closed with explanation</td>\n",
       "      <td>call multipl time year debt occur previous mar...</td>\n",
       "      <td>0.303124</td>\n",
       "    </tr>\n",
       "    <tr>\n",
       "      <th>3</th>\n",
       "      <td>Debt collection</td>\n",
       "      <td>I sent in a letter to the company to have them...</td>\n",
       "      <td>Diversified Consultants, Inc.</td>\n",
       "      <td>VA</td>\n",
       "      <td>Closed with explanation</td>\n",
       "      <td>send letter compani valid debt special ask att...</td>\n",
       "      <td>0.451214</td>\n",
       "    </tr>\n",
       "    <tr>\n",
       "      <th>4</th>\n",
       "      <td>Credit reporting, repair, or other</td>\n",
       "      <td>On XX/XX/19 I applied for a Debt Relief Produc...</td>\n",
       "      <td>ClearOne Advantage, LLC</td>\n",
       "      <td>PA</td>\n",
       "      <td>Closed with explanation</td>\n",
       "      <td>appli debt relief product account execut expla...</td>\n",
       "      <td>0.292630</td>\n",
       "    </tr>\n",
       "    <tr>\n",
       "      <th>...</th>\n",
       "      <td>...</td>\n",
       "      <td>...</td>\n",
       "      <td>...</td>\n",
       "      <td>...</td>\n",
       "      <td>...</td>\n",
       "      <td>...</td>\n",
       "      <td>...</td>\n",
       "    </tr>\n",
       "    <tr>\n",
       "      <th>485696</th>\n",
       "      <td>Debt collection</td>\n",
       "      <td>This account was a payday loan from the XXXX X...</td>\n",
       "      <td>Second Round Limited Partnership</td>\n",
       "      <td>ID</td>\n",
       "      <td>Closed</td>\n",
       "      <td>account payday loan year complet request loan ...</td>\n",
       "      <td>0.746436</td>\n",
       "    </tr>\n",
       "    <tr>\n",
       "      <th>485697</th>\n",
       "      <td>Mortgage</td>\n",
       "      <td>We had a mortgage with XXXX that was discharge...</td>\n",
       "      <td>Seterus, Inc.</td>\n",
       "      <td>MD</td>\n",
       "      <td>Closed with explanation</td>\n",
       "      <td>mortgag discharg chapter bankruptci year ago c...</td>\n",
       "      <td>0.243441</td>\n",
       "    </tr>\n",
       "    <tr>\n",
       "      <th>485698</th>\n",
       "      <td>Consumer Loan</td>\n",
       "      <td>I have 2003 XXXX financed through United Auto ...</td>\n",
       "      <td>United PanAm Financial Corp.</td>\n",
       "      <td>TX</td>\n",
       "      <td>Closed with non-monetary relief</td>\n",
       "      <td>financ unit auto credit payment motor lock sei...</td>\n",
       "      <td>0.298219</td>\n",
       "    </tr>\n",
       "    <tr>\n",
       "      <th>485699</th>\n",
       "      <td>Consumer Loan</td>\n",
       "      <td>I was on automatic payment for my car loan. In...</td>\n",
       "      <td>NISSAN MOTOR ACCEPTANCE CORPORATION</td>\n",
       "      <td>IL</td>\n",
       "      <td>Closed with explanation</td>\n",
       "      <td>automat payment car loan fine print suppos fin...</td>\n",
       "      <td>0.109625</td>\n",
       "    </tr>\n",
       "    <tr>\n",
       "      <th>485700</th>\n",
       "      <td>Debt collection</td>\n",
       "      <td>I recieved a collections call from an unknown ...</td>\n",
       "      <td>CMRE Financial Services, Inc.</td>\n",
       "      <td>CA</td>\n",
       "      <td>Closed with explanation</td>\n",
       "      <td>reciev collect unknown compani morn hospit hol...</td>\n",
       "      <td>0.128671</td>\n",
       "    </tr>\n",
       "  </tbody>\n",
       "</table>\n",
       "<p>485701 rows × 7 columns</p>\n",
       "</div>"
      ],
      "text/plain": [
       "                                   Product  \\\n",
       "0       Credit reporting, repair, or other   \n",
       "1                          Debt collection   \n",
       "2                          Debt collection   \n",
       "3                          Debt collection   \n",
       "4       Credit reporting, repair, or other   \n",
       "...                                    ...   \n",
       "485696                     Debt collection   \n",
       "485697                            Mortgage   \n",
       "485698                       Consumer Loan   \n",
       "485699                       Consumer Loan   \n",
       "485700                     Debt collection   \n",
       "\n",
       "                                                Narrative  \\\n",
       "0       I have complained many times that the credit r...   \n",
       "1       please review the current fraud account and al...   \n",
       "2       Called multiple times over the years for a deb...   \n",
       "3       I sent in a letter to the company to have them...   \n",
       "4       On XX/XX/19 I applied for a Debt Relief Produc...   \n",
       "...                                                   ...   \n",
       "485696  This account was a payday loan from the XXXX X...   \n",
       "485697  We had a mortgage with XXXX that was discharge...   \n",
       "485698  I have 2003 XXXX financed through United Auto ...   \n",
       "485699  I was on automatic payment for my car loan. In...   \n",
       "485700  I recieved a collections call from an unknown ...   \n",
       "\n",
       "                                    Company State  \\\n",
       "0       Experian Information Solutions Inc.    CA   \n",
       "1           Ideal Collection Services, Inc.    FL   \n",
       "2          ONEMAIN FINANCIAL HOLDINGS, LLC.    FL   \n",
       "3             Diversified Consultants, Inc.    VA   \n",
       "4                   ClearOne Advantage, LLC    PA   \n",
       "...                                     ...   ...   \n",
       "485696     Second Round Limited Partnership    ID   \n",
       "485697                        Seterus, Inc.    MD   \n",
       "485698         United PanAm Financial Corp.    TX   \n",
       "485699  NISSAN MOTOR ACCEPTANCE CORPORATION    IL   \n",
       "485700        CMRE Financial Services, Inc.    CA   \n",
       "\n",
       "                               Response  \\\n",
       "0               Closed with explanation   \n",
       "1               Closed with explanation   \n",
       "2               Closed with explanation   \n",
       "3               Closed with explanation   \n",
       "4               Closed with explanation   \n",
       "...                                 ...   \n",
       "485696                           Closed   \n",
       "485697          Closed with explanation   \n",
       "485698  Closed with non-monetary relief   \n",
       "485699          Closed with explanation   \n",
       "485700          Closed with explanation   \n",
       "\n",
       "                                      Narrative_Processed  Sentiment_Score  \n",
       "0       complain time credit report experian inaccur j...         0.155694  \n",
       "1             review current fraud account fraudul inquir         0.514699  \n",
       "2       call multipl time year debt occur previous mar...         0.303124  \n",
       "3       send letter compani valid debt special ask att...         0.451214  \n",
       "4       appli debt relief product account execut expla...         0.292630  \n",
       "...                                                   ...              ...  \n",
       "485696  account payday loan year complet request loan ...         0.746436  \n",
       "485697  mortgag discharg chapter bankruptci year ago c...         0.243441  \n",
       "485698  financ unit auto credit payment motor lock sei...         0.298219  \n",
       "485699  automat payment car loan fine print suppos fin...         0.109625  \n",
       "485700  reciev collect unknown compani morn hospit hol...         0.128671  \n",
       "\n",
       "[485701 rows x 7 columns]"
      ]
     },
     "execution_count": 67,
     "metadata": {},
     "output_type": "execute_result"
    }
   ],
   "source": [
    "import swifter\n",
    "\n",
    "complaints_df['Sentiment_Score'] = complaints_df['Narrative'].swifter.apply(predict)\n",
    "\n",
    "complaints_df"
   ]
  },
  {
   "cell_type": "markdown",
   "metadata": {},
   "source": [
    "We geven de verdeling van de klachten weer in een histogram."
   ]
  },
  {
   "cell_type": "code",
   "execution_count": 84,
   "metadata": {},
   "outputs": [
    {
     "data": {
      "text/plain": [
       "<matplotlib.axes._subplots.AxesSubplot at 0x2470a149d88>"
      ]
     },
     "execution_count": 84,
     "metadata": {},
     "output_type": "execute_result"
    },
    {
     "data": {
      "image/png": "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\n",
      "text/plain": [
       "<Figure size 432x288 with 1 Axes>"
      ]
     },
     "metadata": {
      "needs_background": "light"
     },
     "output_type": "display_data"
    }
   ],
   "source": [
    "sns.distplot(complaints_df['Sentiment_Score'])"
   ]
  },
  {
   "cell_type": "markdown",
   "metadata": {},
   "source": [
    "We kunnen hieruit duidelijk afleiden dat de klachten voornamelijk negatief zijn, wat dus ook te verwachten was van klachten. Dit bevestigd dat het model voor onze sentiment analyse naar behoren werkt."
   ]
  },
  {
   "cell_type": "markdown",
   "metadata": {},
   "source": [
    "We gaan nu deze verdeling eens verder gaan onderzoeken door een negatieve klacht en een \"positieve\" klacht te gaan uitlezen. We verdelen daarom de scores in meerdere kwantielen en lezen een klacht uit het eerste en laatste kwantiel uit."
   ]
  },
  {
   "cell_type": "code",
   "execution_count": 133,
   "metadata": {},
   "outputs": [],
   "source": [
    "complaints_quantile_df['Sentiment_Quantile'] = pd.qcut(complaints_df['Sentiment_Score'], q=[0, .2, .4, .6, .8, 1], labels=False, precision=0)"
   ]
  },
  {
   "cell_type": "markdown",
   "metadata": {},
   "source": [
    "**Negatieve klacht:**"
   ]
  },
  {
   "cell_type": "code",
   "execution_count": 118,
   "metadata": {},
   "outputs": [
    {
     "data": {
      "text/plain": [
       "[\"XXXX Getting a fraud alert doing something I do almost every day and for which there is supposed to be a note in my file. Citibank is marking my XXXX purchases as fraudulent. I buy a lot of books.almost every day because I read a, lot of books. 80 this year so far. So this is NOT unusual activity on my account. And when I called about it they wanted data I had already input. SS number, pin, account number, atm card and my password. Plus my mother 's maiden name. Only 2 of those should have been enough for something they never should have denied in the first place.\"]"
      ]
     },
     "execution_count": 118,
     "metadata": {},
     "output_type": "execute_result"
    }
   ],
   "source": [
    "list(complaints_quantile_df[complaints_quantile_df['Sentiment_Quantile'].isin(['1'])].sample(1).Narrative)"
   ]
  },
  {
   "cell_type": "markdown",
   "metadata": {},
   "source": [
    "**Positieve klacht:**"
   ]
  },
  {
   "cell_type": "code",
   "execution_count": 117,
   "metadata": {},
   "outputs": [
    {
     "data": {
      "text/plain": [
       "['XXXX late fee. Paid in full on the due date as evidenced by receipt from other credit card company which paid this balance. Have since received another bill, with another late fee on top the late fee originally charged. this additional fee was now for {$26.00}. total bill now {$51.00} consisting of fees. I have spoken to citibank, to no avail. I feel these fees are incorrect and unjust and would like them removed.. My funds are limited, and hoping for your help in resolving this issue. Thank you.']"
      ]
     },
     "execution_count": 117,
     "metadata": {},
     "output_type": "execute_result"
    }
   ],
   "source": [
    "list(complaints_quantile_df[complaints_quantile_df['Sentiment_Quantile'].isin(['4'])].sample(1).Narrative)"
   ]
  },
  {
   "cell_type": "markdown",
   "metadata": {},
   "source": [
    "Nu we de sentiment score voor alle klachten bepaald hebben gaan we de volledige dataset gaan opslaan zodat deze later opnieuw kan ingeladen worden."
   ]
  },
  {
   "cell_type": "code",
   "execution_count": null,
   "metadata": {},
   "outputs": [],
   "source": [
    "complaints_df.to_csv('../data/complaints_with_sentiment_score.csv')"
   ]
  },
  {
   "cell_type": "markdown",
   "metadata": {},
   "source": [
    "## Classificiation Model"
   ]
  },
  {
   "cell_type": "markdown",
   "metadata": {},
   "source": [
    "Nu we alle predictors bepaald hebben kunnen we het classificatie model gaan ontwikkelen."
   ]
  },
  {
   "cell_type": "markdown",
   "metadata": {},
   "source": [
    "- X: features matrix construeren\n",
    "    - sentiment score (0..1)\n",
    "    - product (categorical): 1 hot transformation\n",
    "    - response ratios (0..1) depending on company\n",
    "- y: target vector construeren\n",
    "    - reponse:\n",
    "        - multi label classifications: label gebruiken\n",
    "        - NN: 1 hot transformation"
   ]
  },
  {
   "cell_type": "markdown",
   "metadata": {},
   "source": [
    "### Specification"
   ]
  },
  {
   "cell_type": "markdown",
   "metadata": {},
   "source": [
    "- **Predictors**: Sentiment_Score, Product (13x), Response_Ratio (4x), Geolocation_Ratio (4x)\n",
    "- **Target**: Company response to consumer\n",
    "- **Sampling rate** (training/validation/testing): 60/20/20"
   ]
  },
  {
   "cell_type": "markdown",
   "metadata": {},
   "source": [
    "### Feature Transformation & Label Encodings"
   ]
  },
  {
   "cell_type": "code",
   "execution_count": null,
   "metadata": {},
   "outputs": [],
   "source": []
  },
  {
   "cell_type": "markdown",
   "metadata": {},
   "source": [
    "## Conclusion"
   ]
  },
  {
   "cell_type": "markdown",
   "metadata": {},
   "source": []
  },
  {
   "cell_type": "markdown",
   "metadata": {},
   "source": [
    "-------------------------------------------------------------------------------------------------------------------------------------------------------------------------------------------------------------------------"
   ]
  },
  {
   "cell_type": "markdown",
   "metadata": {},
   "source": [
    "Werkverdeling"
   ]
  },
  {
   "cell_type": "markdown",
   "metadata": {},
   "source": [
    "-------------------------------------------------------------------------------------------------------------------------------------------------------------------------------------------------------------------------"
   ]
  },
  {
   "cell_type": "markdown",
   "metadata": {},
   "source": [
    "## Notes"
   ]
  },
  {
   "cell_type": "markdown",
   "metadata": {},
   "source": [
    "Om de opgeslagen dataset met de sentiment scores opnieuw in te laden gebruiken we de volgende functie. Dit is nuttig om de dataset opnieuw in het geheugen te krijgen zonder de voorgaande voorspellingen opnieuw te moeten uitvoeren."
   ]
  },
  {
   "cell_type": "code",
   "execution_count": null,
   "metadata": {},
   "outputs": [],
   "source": [
    "# read dataset with sentiment scores\n",
    "complaints_sentiment_source_df = pd.read_csv('../data/complaints_with_sentiment_score.csv', delimiter=',')\n",
    "\n",
    "# append sentiment score to original dataframe\n",
    "complaints_df['Sentiment_Score'] = complaints_sentiment_source_df['Narrative sentiment score']\n",
    "complaints_df"
   ]
  },
  {
   "cell_type": "markdown",
   "metadata": {},
   "source": [
    "-------------------------------------------------------------------------------------------------------------------------------------------------------------------------------------------------------------------------"
   ]
  },
  {
   "cell_type": "markdown",
   "metadata": {},
   "source": [
    "TODO\n",
    "- eventueel dataset verder balanceren op basis van target group verdeling\n",
    "- classifiers test experimenten uitvoeren (Naive Bayes, Decision Tree/Random Forest, SVM, NN)\n",
    "    - inzicht geven van verdelingen bij zowel train/test sets\n",
    "    - confusion matrix met concrete voorbeelden van correct geclassificeerde klachten"
   ]
  }
 ],
 "metadata": {
  "kernelspec": {
   "display_name": "Python 3",
   "language": "python",
   "name": "python3"
  },
  "language_info": {
   "codemirror_mode": {
    "name": "ipython",
    "version": 3
   },
   "file_extension": ".py",
   "mimetype": "text/x-python",
   "name": "python",
   "nbconvert_exporter": "python",
   "pygments_lexer": "ipython3",
<<<<<<< HEAD
   "version": "3.7.6"
=======
   "version": "3.7.4"
>>>>>>> 3c78d00691bcb70570f06920ca35c6cabf5f9f5f
  }
 },
 "nbformat": 4,
 "nbformat_minor": 4
}
