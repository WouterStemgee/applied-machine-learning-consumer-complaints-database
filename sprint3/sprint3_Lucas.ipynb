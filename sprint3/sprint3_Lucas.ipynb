{
 "cells": [
  {
   "cell_type": "markdown",
   "metadata": {},
   "source": [
    "#### Dataset"
   ]
  },
  {
   "cell_type": "code",
   "execution_count": 2,
   "metadata": {},
   "outputs": [
    {
     "data": {
      "text/html": [
       "<div>\n",
       "<style scoped>\n",
       "    .dataframe tbody tr th:only-of-type {\n",
       "        vertical-align: middle;\n",
       "    }\n",
       "\n",
       "    .dataframe tbody tr th {\n",
       "        vertical-align: top;\n",
       "    }\n",
       "\n",
       "    .dataframe thead th {\n",
       "        text-align: right;\n",
       "    }\n",
       "</style>\n",
       "<table border=\"1\" class=\"dataframe\">\n",
       "  <thead>\n",
       "    <tr style=\"text-align: right;\">\n",
       "      <th></th>\n",
       "      <th>Date received</th>\n",
       "      <th>Product</th>\n",
       "      <th>Sub-product</th>\n",
       "      <th>Issue</th>\n",
       "      <th>Sub-issue</th>\n",
       "      <th>Consumer complaint narrative</th>\n",
       "      <th>Company public response</th>\n",
       "      <th>Company</th>\n",
       "      <th>State</th>\n",
       "      <th>ZIP code</th>\n",
       "      <th>Tags</th>\n",
       "      <th>Consumer consent provided?</th>\n",
       "      <th>Submitted via</th>\n",
       "      <th>Date sent to company</th>\n",
       "      <th>Company response to consumer</th>\n",
       "      <th>Timely response?</th>\n",
       "      <th>Consumer disputed?</th>\n",
       "      <th>Complaint ID</th>\n",
       "    </tr>\n",
       "  </thead>\n",
       "  <tbody>\n",
       "    <tr>\n",
       "      <th>0</th>\n",
       "      <td>07/23/19</td>\n",
       "      <td>Credit reporting, credit repair services, or o...</td>\n",
       "      <td>Credit reporting</td>\n",
       "      <td>Credit monitoring or identity theft protection...</td>\n",
       "      <td>Problem canceling credit monitoring or identif...</td>\n",
       "      <td>I have complained many times that the credit r...</td>\n",
       "      <td>Company has responded to the consumer and the ...</td>\n",
       "      <td>Experian Information Solutions Inc.</td>\n",
       "      <td>CA</td>\n",
       "      <td>926XX</td>\n",
       "      <td>None</td>\n",
       "      <td>Consent provided</td>\n",
       "      <td>Web</td>\n",
       "      <td>07/23/19</td>\n",
       "      <td>Closed with explanation</td>\n",
       "      <td>Yes</td>\n",
       "      <td>NaN</td>\n",
       "      <td>3315279</td>\n",
       "    </tr>\n",
       "    <tr>\n",
       "      <th>1</th>\n",
       "      <td>07/26/19</td>\n",
       "      <td>Debt collection</td>\n",
       "      <td>I do not know</td>\n",
       "      <td>False statements or representation</td>\n",
       "      <td>Attempted to collect wrong amount</td>\n",
       "      <td>please review the current fraud account and al...</td>\n",
       "      <td>Company believes it acted appropriately as aut...</td>\n",
       "      <td>Ideal Collection Services, Inc.</td>\n",
       "      <td>FL</td>\n",
       "      <td>333XX</td>\n",
       "      <td>None</td>\n",
       "      <td>Consent provided</td>\n",
       "      <td>Web</td>\n",
       "      <td>07/26/19</td>\n",
       "      <td>Closed with explanation</td>\n",
       "      <td>Yes</td>\n",
       "      <td>NaN</td>\n",
       "      <td>3319487</td>\n",
       "    </tr>\n",
       "    <tr>\n",
       "      <th>2</th>\n",
       "      <td>06/03/19</td>\n",
       "      <td>Debt collection</td>\n",
       "      <td>I do not know</td>\n",
       "      <td>Attempts to collect debt not owed</td>\n",
       "      <td>Debt was paid</td>\n",
       "      <td>Called multiple times over the years for a deb...</td>\n",
       "      <td>None</td>\n",
       "      <td>ONEMAIN FINANCIAL HOLDINGS, LLC.</td>\n",
       "      <td>FL</td>\n",
       "      <td>327XX</td>\n",
       "      <td>None</td>\n",
       "      <td>Consent provided</td>\n",
       "      <td>Web</td>\n",
       "      <td>06/07/19</td>\n",
       "      <td>Closed with explanation</td>\n",
       "      <td>Yes</td>\n",
       "      <td>NaN</td>\n",
       "      <td>3262794</td>\n",
       "    </tr>\n",
       "    <tr>\n",
       "      <th>3</th>\n",
       "      <td>07/03/19</td>\n",
       "      <td>Debt collection</td>\n",
       "      <td>Other debt</td>\n",
       "      <td>Attempts to collect debt not owed</td>\n",
       "      <td>Debt was result of identity theft</td>\n",
       "      <td>I sent in a letter to the company to have them...</td>\n",
       "      <td>None</td>\n",
       "      <td>Diversified Consultants, Inc.</td>\n",
       "      <td>VA</td>\n",
       "      <td>232XX</td>\n",
       "      <td>None</td>\n",
       "      <td>Consent provided</td>\n",
       "      <td>Web</td>\n",
       "      <td>07/03/19</td>\n",
       "      <td>Closed with explanation</td>\n",
       "      <td>Yes</td>\n",
       "      <td>NaN</td>\n",
       "      <td>3295208</td>\n",
       "    </tr>\n",
       "    <tr>\n",
       "      <th>4</th>\n",
       "      <td>07/14/19</td>\n",
       "      <td>Credit reporting, credit repair services, or o...</td>\n",
       "      <td>Credit reporting</td>\n",
       "      <td>Improper use of your report</td>\n",
       "      <td>Received unsolicited financial product or insu...</td>\n",
       "      <td>On XX/XX/19 I applied for a Debt Relief Produc...</td>\n",
       "      <td>None</td>\n",
       "      <td>ClearOne Advantage, LLC</td>\n",
       "      <td>PA</td>\n",
       "      <td>191XX</td>\n",
       "      <td>Older American, Servicemember</td>\n",
       "      <td>Consent provided</td>\n",
       "      <td>Web</td>\n",
       "      <td>07/18/19</td>\n",
       "      <td>Closed with explanation</td>\n",
       "      <td>Yes</td>\n",
       "      <td>NaN</td>\n",
       "      <td>3306130</td>\n",
       "    </tr>\n",
       "  </tbody>\n",
       "</table>\n",
       "</div>"
      ],
      "text/plain": [
       "  Date received                                            Product  \\\n",
       "0      07/23/19  Credit reporting, credit repair services, or o...   \n",
       "1      07/26/19                                    Debt collection   \n",
       "2      06/03/19                                    Debt collection   \n",
       "3      07/03/19                                    Debt collection   \n",
       "4      07/14/19  Credit reporting, credit repair services, or o...   \n",
       "\n",
       "        Sub-product                                              Issue  \\\n",
       "0  Credit reporting  Credit monitoring or identity theft protection...   \n",
       "1     I do not know                 False statements or representation   \n",
       "2     I do not know                  Attempts to collect debt not owed   \n",
       "3        Other debt                  Attempts to collect debt not owed   \n",
       "4  Credit reporting                        Improper use of your report   \n",
       "\n",
       "                                           Sub-issue  \\\n",
       "0  Problem canceling credit monitoring or identif...   \n",
       "1                  Attempted to collect wrong amount   \n",
       "2                                      Debt was paid   \n",
       "3                  Debt was result of identity theft   \n",
       "4  Received unsolicited financial product or insu...   \n",
       "\n",
       "                        Consumer complaint narrative  \\\n",
       "0  I have complained many times that the credit r...   \n",
       "1  please review the current fraud account and al...   \n",
       "2  Called multiple times over the years for a deb...   \n",
       "3  I sent in a letter to the company to have them...   \n",
       "4  On XX/XX/19 I applied for a Debt Relief Produc...   \n",
       "\n",
       "                             Company public response  \\\n",
       "0  Company has responded to the consumer and the ...   \n",
       "1  Company believes it acted appropriately as aut...   \n",
       "2                                               None   \n",
       "3                                               None   \n",
       "4                                               None   \n",
       "\n",
       "                               Company State ZIP code  \\\n",
       "0  Experian Information Solutions Inc.    CA    926XX   \n",
       "1      Ideal Collection Services, Inc.    FL    333XX   \n",
       "2     ONEMAIN FINANCIAL HOLDINGS, LLC.    FL    327XX   \n",
       "3        Diversified Consultants, Inc.    VA    232XX   \n",
       "4              ClearOne Advantage, LLC    PA    191XX   \n",
       "\n",
       "                            Tags Consumer consent provided? Submitted via  \\\n",
       "0                           None           Consent provided           Web   \n",
       "1                           None           Consent provided           Web   \n",
       "2                           None           Consent provided           Web   \n",
       "3                           None           Consent provided           Web   \n",
       "4  Older American, Servicemember           Consent provided           Web   \n",
       "\n",
       "  Date sent to company Company response to consumer Timely response?  \\\n",
       "0             07/23/19      Closed with explanation              Yes   \n",
       "1             07/26/19      Closed with explanation              Yes   \n",
       "2             06/07/19      Closed with explanation              Yes   \n",
       "3             07/03/19      Closed with explanation              Yes   \n",
       "4             07/18/19      Closed with explanation              Yes   \n",
       "\n",
       "  Consumer disputed?  Complaint ID  \n",
       "0                NaN       3315279  \n",
       "1                NaN       3319487  \n",
       "2                NaN       3262794  \n",
       "3                NaN       3295208  \n",
       "4                NaN       3306130  "
      ]
     },
     "execution_count": 2,
     "metadata": {},
     "output_type": "execute_result"
    }
   ],
   "source": [
    "import numpy as np\n",
    "import pandas as pd\n",
    "import matplotlib.pyplot as plt\n",
    "import seaborn as sns\n",
    "\n",
    "complaints_source_df = pd.read_csv('../data/complaints.csv', delimiter=',')\n",
    "complaints_source_df.head()"
   ]
  },
  {
   "cell_type": "code",
   "execution_count": 3,
   "metadata": {},
   "outputs": [
    {
     "data": {
      "text/html": [
       "<div>\n",
       "<style scoped>\n",
       "    .dataframe tbody tr th:only-of-type {\n",
       "        vertical-align: middle;\n",
       "    }\n",
       "\n",
       "    .dataframe tbody tr th {\n",
       "        vertical-align: top;\n",
       "    }\n",
       "\n",
       "    .dataframe thead th {\n",
       "        text-align: right;\n",
       "    }\n",
       "</style>\n",
       "<table border=\"1\" class=\"dataframe\">\n",
       "  <thead>\n",
       "    <tr style=\"text-align: right;\">\n",
       "      <th></th>\n",
       "      <th>Product</th>\n",
       "      <th>Narrative</th>\n",
       "      <th>Company</th>\n",
       "      <th>State</th>\n",
       "      <th>Response</th>\n",
       "    </tr>\n",
       "  </thead>\n",
       "  <tbody>\n",
       "    <tr>\n",
       "      <th>0</th>\n",
       "      <td>Credit reporting, credit repair services, or o...</td>\n",
       "      <td>I have complained many times that the credit r...</td>\n",
       "      <td>Experian Information Solutions Inc.</td>\n",
       "      <td>CA</td>\n",
       "      <td>Closed with explanation</td>\n",
       "    </tr>\n",
       "    <tr>\n",
       "      <th>1</th>\n",
       "      <td>Debt collection</td>\n",
       "      <td>please review the current fraud account and al...</td>\n",
       "      <td>Ideal Collection Services, Inc.</td>\n",
       "      <td>FL</td>\n",
       "      <td>Closed with explanation</td>\n",
       "    </tr>\n",
       "    <tr>\n",
       "      <th>2</th>\n",
       "      <td>Debt collection</td>\n",
       "      <td>Called multiple times over the years for a deb...</td>\n",
       "      <td>ONEMAIN FINANCIAL HOLDINGS, LLC.</td>\n",
       "      <td>FL</td>\n",
       "      <td>Closed with explanation</td>\n",
       "    </tr>\n",
       "    <tr>\n",
       "      <th>3</th>\n",
       "      <td>Debt collection</td>\n",
       "      <td>I sent in a letter to the company to have them...</td>\n",
       "      <td>Diversified Consultants, Inc.</td>\n",
       "      <td>VA</td>\n",
       "      <td>Closed with explanation</td>\n",
       "    </tr>\n",
       "    <tr>\n",
       "      <th>4</th>\n",
       "      <td>Credit reporting, credit repair services, or o...</td>\n",
       "      <td>On XX/XX/19 I applied for a Debt Relief Produc...</td>\n",
       "      <td>ClearOne Advantage, LLC</td>\n",
       "      <td>PA</td>\n",
       "      <td>Closed with explanation</td>\n",
       "    </tr>\n",
       "  </tbody>\n",
       "</table>\n",
       "</div>"
      ],
      "text/plain": [
       "                                             Product  \\\n",
       "0  Credit reporting, credit repair services, or o...   \n",
       "1                                    Debt collection   \n",
       "2                                    Debt collection   \n",
       "3                                    Debt collection   \n",
       "4  Credit reporting, credit repair services, or o...   \n",
       "\n",
       "                                           Narrative  \\\n",
       "0  I have complained many times that the credit r...   \n",
       "1  please review the current fraud account and al...   \n",
       "2  Called multiple times over the years for a deb...   \n",
       "3  I sent in a letter to the company to have them...   \n",
       "4  On XX/XX/19 I applied for a Debt Relief Produc...   \n",
       "\n",
       "                               Company State                 Response  \n",
       "0  Experian Information Solutions Inc.    CA  Closed with explanation  \n",
       "1      Ideal Collection Services, Inc.    FL  Closed with explanation  \n",
       "2     ONEMAIN FINANCIAL HOLDINGS, LLC.    FL  Closed with explanation  \n",
       "3        Diversified Consultants, Inc.    VA  Closed with explanation  \n",
       "4              ClearOne Advantage, LLC    PA  Closed with explanation  "
      ]
     },
     "execution_count": 3,
     "metadata": {},
     "output_type": "execute_result"
    }
   ],
   "source": [
    "complaints_df = complaints_source_df[['Product', 'Consumer complaint narrative', 'Company', 'State', 'Company response to consumer']].copy()\n",
    "complaints_df.columns = ['Product', 'Narrative', 'Company', 'State', 'Response'] \n",
    "complaints_df.head()"
   ]
  },
  {
   "cell_type": "markdown",
   "metadata": {},
   "source": [
    "#### State"
   ]
  },
  {
   "cell_type": "markdown",
   "metadata": {},
   "source": [
    "We bepalen of de geografische locatie, waar de klacht oorspronklijk vandaan komt, een invloed heeft op het uiteindelijke resultaat. \n",
    "Aangezien de staat wordt opgeslaan onder zijn afkorting hebben we een table nodig die de afkorting als key heeft, en ons de corresponderende staat en regio teruggeeft.\n",
    "Deze table is gegenereerd via https://statetable.com/."
   ]
  },
  {
   "cell_type": "code",
   "execution_count": 4,
   "metadata": {},
   "outputs": [
    {
     "data": {
      "text/plain": [
       "array(['South', 'West', 'Northeast', 'Midwest', nan], dtype=object)"
      ]
     },
     "execution_count": 4,
     "metadata": {},
     "output_type": "execute_result"
    }
   ],
   "source": [
    "state_table_df = pd.read_csv('./state_table.csv', delimiter=',')\n",
    "state_table_df.head()\n",
    "state_table_df['census_region_name'].unique()"
   ]
  },
  {
   "cell_type": "markdown",
   "metadata": {},
   "source": [
    "Nu de verschillende regio's bekend zijn kan er worden opzocht hoeveel inwoners er in elke staat en regio aanwezig zijn. "
   ]
  },
  {
   "cell_type": "code",
   "execution_count": 5,
   "metadata": {},
   "outputs": [
    {
     "data": {
      "text/html": [
       "<div>\n",
       "<style scoped>\n",
       "    .dataframe tbody tr th:only-of-type {\n",
       "        vertical-align: middle;\n",
       "    }\n",
       "\n",
       "    .dataframe tbody tr th {\n",
       "        vertical-align: top;\n",
       "    }\n",
       "\n",
       "    .dataframe thead th {\n",
       "        text-align: right;\n",
       "    }\n",
       "</style>\n",
       "<table border=\"1\" class=\"dataframe\">\n",
       "  <thead>\n",
       "    <tr style=\"text-align: right;\">\n",
       "      <th></th>\n",
       "      <th>Region</th>\n",
       "      <th>Population</th>\n",
       "    </tr>\n",
       "  </thead>\n",
       "  <tbody>\n",
       "    <tr>\n",
       "      <th>0</th>\n",
       "      <td>Northeast</td>\n",
       "      <td>55982803</td>\n",
       "    </tr>\n",
       "    <tr>\n",
       "      <th>1</th>\n",
       "      <td>Midwest</td>\n",
       "      <td>68329004</td>\n",
       "    </tr>\n",
       "    <tr>\n",
       "      <th>2</th>\n",
       "      <td>South</td>\n",
       "      <td>125580448</td>\n",
       "    </tr>\n",
       "    <tr>\n",
       "      <th>3</th>\n",
       "      <td>West</td>\n",
       "      <td>78347268</td>\n",
       "    </tr>\n",
       "  </tbody>\n",
       "</table>\n",
       "</div>"
      ],
      "text/plain": [
       "      Region  Population\n",
       "0  Northeast    55982803\n",
       "1    Midwest    68329004\n",
       "2      South   125580448\n",
       "3       West    78347268"
      ]
     },
     "execution_count": 5,
     "metadata": {},
     "output_type": "execute_result"
    }
   ],
   "source": [
    "# population https://www.census.gov/data/tables/time-series/demo/popest/2010s-state-total.html#par_textimage_1574439295\n",
    "state_pop_df = pd.read_csv('./state_population.csv', delimiter=',')\n",
    "state_pop_df.head()\n",
    "region_pop_df = pd.read_csv('./region_population.csv', delimiter=',')\n",
    "region_pop_df.head()"
   ]
  },
  {
   "cell_type": "markdown",
   "metadata": {},
   "source": [
    "Door middel van deze functies kunnen we de staat vertalen naar de regio waarin hij ligt, en opzoeken hoeveel inwoners er in deze regio aanwezig zijn."
   ]
  },
  {
   "cell_type": "code",
   "execution_count": 6,
   "metadata": {},
   "outputs": [],
   "source": [
    "def give_region(abbr):\n",
    "    abbr = str(abbr)\n",
    "    row = state_table_df.loc[state_table_df['abbreviation'] == abbr]\n",
    "    region = row['census_region_name'].values\n",
    "    if region.size == 0:\n",
    "        return \"unknown\"\n",
    "    else:\n",
    "        return region[0]\n",
    "    \n",
    "def give_region_population(region):\n",
    "    region = str(region)\n",
    "    row = region_pop_df.loc[region_pop_df['Region'] == region]\n",
    "    pop = row['Population'].values\n",
    "    if pop.size == 0:\n",
    "        return None\n",
    "    else:\n",
    "        return pop[0]"
   ]
  },
  {
   "cell_type": "markdown",
   "metadata": {},
   "source": [
    "Bovenstaande functies worden gebruikt om de regios toe te voegen aan de complaints dataframe."
   ]
  },
  {
   "cell_type": "code",
   "execution_count": 8,
   "metadata": {},
   "outputs": [
    {
     "data": {
      "application/vnd.jupyter.widget-view+json": {
       "model_id": "40be75efd4814daead5c6dcb3b6a6e82",
       "version_major": 2,
       "version_minor": 0
      },
      "text/plain": [
       "HBox(children=(FloatProgress(value=0.0, description='Pandas Apply', max=485701.0, style=ProgressStyle(descript…"
      ]
     },
     "metadata": {},
     "output_type": "display_data"
    },
    {
     "name": "stdout",
     "output_type": "stream",
     "text": [
      "\n"
     ]
    }
   ],
   "source": [
    "import swifter\n",
    "df_state = complaints_df['State']\n",
    "complaints_df['Region'] = df_state.swifter.apply(give_region)"
   ]
  },
  {
   "cell_type": "code",
   "execution_count": 31,
   "metadata": {},
   "outputs": [
    {
     "data": {
      "text/html": [
       "<div>\n",
       "<style scoped>\n",
       "    .dataframe tbody tr th:only-of-type {\n",
       "        vertical-align: middle;\n",
       "    }\n",
       "\n",
       "    .dataframe tbody tr th {\n",
       "        vertical-align: top;\n",
       "    }\n",
       "\n",
       "    .dataframe thead th {\n",
       "        text-align: right;\n",
       "    }\n",
       "</style>\n",
       "<table border=\"1\" class=\"dataframe\">\n",
       "  <thead>\n",
       "    <tr style=\"text-align: right;\">\n",
       "      <th></th>\n",
       "      <th>Product</th>\n",
       "      <th>Narrative</th>\n",
       "      <th>Company</th>\n",
       "      <th>State</th>\n",
       "      <th>Response</th>\n",
       "      <th>Region</th>\n",
       "    </tr>\n",
       "  </thead>\n",
       "  <tbody>\n",
       "    <tr>\n",
       "      <th>0</th>\n",
       "      <td>Credit reporting, credit repair services, or o...</td>\n",
       "      <td>I have complained many times that the credit r...</td>\n",
       "      <td>Experian Information Solutions Inc.</td>\n",
       "      <td>CA</td>\n",
       "      <td>Closed with explanation</td>\n",
       "      <td>West</td>\n",
       "    </tr>\n",
       "    <tr>\n",
       "      <th>1</th>\n",
       "      <td>Debt collection</td>\n",
       "      <td>please review the current fraud account and al...</td>\n",
       "      <td>Ideal Collection Services, Inc.</td>\n",
       "      <td>FL</td>\n",
       "      <td>Closed with explanation</td>\n",
       "      <td>South</td>\n",
       "    </tr>\n",
       "    <tr>\n",
       "      <th>2</th>\n",
       "      <td>Debt collection</td>\n",
       "      <td>Called multiple times over the years for a deb...</td>\n",
       "      <td>ONEMAIN FINANCIAL HOLDINGS, LLC.</td>\n",
       "      <td>FL</td>\n",
       "      <td>Closed with explanation</td>\n",
       "      <td>South</td>\n",
       "    </tr>\n",
       "    <tr>\n",
       "      <th>3</th>\n",
       "      <td>Debt collection</td>\n",
       "      <td>I sent in a letter to the company to have them...</td>\n",
       "      <td>Diversified Consultants, Inc.</td>\n",
       "      <td>VA</td>\n",
       "      <td>Closed with explanation</td>\n",
       "      <td>South</td>\n",
       "    </tr>\n",
       "    <tr>\n",
       "      <th>4</th>\n",
       "      <td>Credit reporting, credit repair services, or o...</td>\n",
       "      <td>On XX/XX/19 I applied for a Debt Relief Produc...</td>\n",
       "      <td>ClearOne Advantage, LLC</td>\n",
       "      <td>PA</td>\n",
       "      <td>Closed with explanation</td>\n",
       "      <td>Northeast</td>\n",
       "    </tr>\n",
       "  </tbody>\n",
       "</table>\n",
       "</div>"
      ],
      "text/plain": [
       "                                             Product  \\\n",
       "0  Credit reporting, credit repair services, or o...   \n",
       "1                                    Debt collection   \n",
       "2                                    Debt collection   \n",
       "3                                    Debt collection   \n",
       "4  Credit reporting, credit repair services, or o...   \n",
       "\n",
       "                                           Narrative  \\\n",
       "0  I have complained many times that the credit r...   \n",
       "1  please review the current fraud account and al...   \n",
       "2  Called multiple times over the years for a deb...   \n",
       "3  I sent in a letter to the company to have them...   \n",
       "4  On XX/XX/19 I applied for a Debt Relief Produc...   \n",
       "\n",
       "                               Company State                 Response  \\\n",
       "0  Experian Information Solutions Inc.    CA  Closed with explanation   \n",
       "1      Ideal Collection Services, Inc.    FL  Closed with explanation   \n",
       "2     ONEMAIN FINANCIAL HOLDINGS, LLC.    FL  Closed with explanation   \n",
       "3        Diversified Consultants, Inc.    VA  Closed with explanation   \n",
       "4              ClearOne Advantage, LLC    PA  Closed with explanation   \n",
       "\n",
       "      Region  \n",
       "0       West  \n",
       "1      South  \n",
       "2      South  \n",
       "3      South  \n",
       "4  Northeast  "
      ]
     },
     "execution_count": 31,
     "metadata": {},
     "output_type": "execute_result"
    }
   ],
   "source": [
    "complaints_df.head()"
   ]
  },
  {
   "cell_type": "markdown",
   "metadata": {},
   "source": [
    "Eenmaal het aantal complaints bekend zijn kunnen we de kans berekenen dat een bepaalde response in een bepaalde regio voorkomt door de invoer van het totale bewonersaantal."
   ]
  },
  {
   "cell_type": "code",
   "execution_count": 10,
   "metadata": {},
   "outputs": [
    {
     "data": {
      "application/vnd.jupyter.widget-view+json": {
       "model_id": "e9f4bb6ef31d4eefb438e24f180aba2b",
       "version_major": 2,
       "version_minor": 0
      },
      "text/plain": [
       "HBox(children=(FloatProgress(value=0.0, description='Pandas Apply', max=27.0, style=ProgressStyle(description_…"
      ]
     },
     "metadata": {},
     "output_type": "display_data"
    },
    {
     "name": "stdout",
     "output_type": "stream",
     "text": [
      "\n"
     ]
    }
   ],
   "source": [
    "region_df = pd.DataFrame(complaints_df.groupby(['Region','Response']).size())\n",
    "region_df.reset_index(inplace=True)\n",
    "region_df.columns = ['Region','Response','Complaints'] \n",
    "region_df['Population'] = region_df['Region'].swifter.apply(give_region_population)\n",
    "region_df['Chance'] = region_df['Complaints']/region_df['Population']*100\n",
    "ret = pd.DataFrame(complaints_df.groupby(['Region','Response']).size())\n",
    "ret['Chance'] = region_df['Chance']"
   ]
  },
  {
   "cell_type": "code",
   "execution_count": 11,
   "metadata": {},
   "outputs": [
    {
     "data": {
      "text/html": [
       "<div>\n",
       "<style scoped>\n",
       "    .dataframe tbody tr th:only-of-type {\n",
       "        vertical-align: middle;\n",
       "    }\n",
       "\n",
       "    .dataframe tbody tr th {\n",
       "        vertical-align: top;\n",
       "    }\n",
       "\n",
       "    .dataframe thead th {\n",
       "        text-align: right;\n",
       "    }\n",
       "</style>\n",
       "<table border=\"1\" class=\"dataframe\">\n",
       "  <thead>\n",
       "    <tr style=\"text-align: right;\">\n",
       "      <th></th>\n",
       "      <th>Region</th>\n",
       "      <th>Response</th>\n",
       "      <th>Complaints</th>\n",
       "      <th>Population</th>\n",
       "      <th>Chance</th>\n",
       "    </tr>\n",
       "  </thead>\n",
       "  <tbody>\n",
       "    <tr>\n",
       "      <th>0</th>\n",
       "      <td>Midwest</td>\n",
       "      <td>Closed</td>\n",
       "      <td>579</td>\n",
       "      <td>68329004.0</td>\n",
       "      <td>0.000847</td>\n",
       "    </tr>\n",
       "    <tr>\n",
       "      <th>1</th>\n",
       "      <td>Midwest</td>\n",
       "      <td>Closed with explanation</td>\n",
       "      <td>60435</td>\n",
       "      <td>68329004.0</td>\n",
       "      <td>0.088447</td>\n",
       "    </tr>\n",
       "    <tr>\n",
       "      <th>2</th>\n",
       "      <td>Midwest</td>\n",
       "      <td>Closed with monetary relief</td>\n",
       "      <td>4069</td>\n",
       "      <td>68329004.0</td>\n",
       "      <td>0.005955</td>\n",
       "    </tr>\n",
       "    <tr>\n",
       "      <th>3</th>\n",
       "      <td>Midwest</td>\n",
       "      <td>Closed with non-monetary relief</td>\n",
       "      <td>9242</td>\n",
       "      <td>68329004.0</td>\n",
       "      <td>0.013526</td>\n",
       "    </tr>\n",
       "    <tr>\n",
       "      <th>4</th>\n",
       "      <td>Midwest</td>\n",
       "      <td>Untimely response</td>\n",
       "      <td>515</td>\n",
       "      <td>68329004.0</td>\n",
       "      <td>0.000754</td>\n",
       "    </tr>\n",
       "  </tbody>\n",
       "</table>\n",
       "</div>"
      ],
      "text/plain": [
       "    Region                         Response  Complaints  Population    Chance\n",
       "0  Midwest                           Closed         579  68329004.0  0.000847\n",
       "1  Midwest          Closed with explanation       60435  68329004.0  0.088447\n",
       "2  Midwest      Closed with monetary relief        4069  68329004.0  0.005955\n",
       "3  Midwest  Closed with non-monetary relief        9242  68329004.0  0.013526\n",
       "4  Midwest                Untimely response         515  68329004.0  0.000754"
      ]
     },
     "execution_count": 11,
     "metadata": {},
     "output_type": "execute_result"
    }
   ],
   "source": [
    "region_df.head()"
   ]
  },
  {
   "cell_type": "markdown",
   "metadata": {},
   "source": [
    "Nu is er nog een functie nodig die via de df_region dataframe de kans voor een complaint geeft in een bepaalde regio voor een bepaalde response."
   ]
  },
  {
   "cell_type": "code",
   "execution_count": 73,
   "metadata": {},
   "outputs": [],
   "source": [
    "def give_chance(region,response):\n",
    "    if region is None or response is None:\n",
    "        return None\n",
    "        \n",
    "    region = str(region)\n",
    "    row = pd.DataFrame(region_df.loc[region_df['Region'] == region])\n",
    "    result = row.loc[row['Response'] == response][\"Chance\"]\n",
    "    if result.values.size == 1:\n",
    "        return result.values[0]\n",
    "    else:\n",
    "        return None\n",
    "    "
   ]
  },
  {
   "cell_type": "markdown",
   "metadata": {},
   "source": [
    "Deze functie wordt toepast op de complaints dataframe."
   ]
  },
  {
   "cell_type": "code",
   "execution_count": 74,
   "metadata": {},
   "outputs": [
    {
     "data": {
      "application/vnd.jupyter.widget-view+json": {
       "model_id": "67ef9dc588604c5abbdc84c270b6e667",
       "version_major": 2,
       "version_minor": 0
      },
      "text/plain": [
       "HBox(children=(FloatProgress(value=0.0, description='Pandas Apply', max=485701.0, style=ProgressStyle(descript…"
      ]
     },
     "metadata": {},
     "output_type": "display_data"
    },
    {
     "name": "stdout",
     "output_type": "stream",
     "text": [
      "\n"
     ]
    }
   ],
   "source": [
    "def apply_chance(x):\n",
    "   return give_chance(x[\"Region\"],x[\"Response\"])\n",
    "complaints_df['Chance'] = complaints_df.swifter.apply(apply_chance,axis=1)"
   ]
  },
  {
   "cell_type": "markdown",
   "metadata": {},
   "source": [
    "Als volgt krijgen we dus voor elke complaint de kans dat dit antwoord wordt verkregen op basis van de locatie en het totale inwoners aantal."
   ]
  },
  {
   "cell_type": "code",
   "execution_count": 76,
   "metadata": {},
   "outputs": [
    {
     "data": {
      "text/html": [
       "<div>\n",
       "<style scoped>\n",
       "    .dataframe tbody tr th:only-of-type {\n",
       "        vertical-align: middle;\n",
       "    }\n",
       "\n",
       "    .dataframe tbody tr th {\n",
       "        vertical-align: top;\n",
       "    }\n",
       "\n",
       "    .dataframe thead th {\n",
       "        text-align: right;\n",
       "    }\n",
       "</style>\n",
       "<table border=\"1\" class=\"dataframe\">\n",
       "  <thead>\n",
       "    <tr style=\"text-align: right;\">\n",
       "      <th></th>\n",
       "      <th>Product</th>\n",
       "      <th>Narrative</th>\n",
       "      <th>Company</th>\n",
       "      <th>State</th>\n",
       "      <th>Response</th>\n",
       "      <th>Region</th>\n",
       "      <th>Chance</th>\n",
       "    </tr>\n",
       "  </thead>\n",
       "  <tbody>\n",
       "    <tr>\n",
       "      <th>0</th>\n",
       "      <td>Credit reporting, credit repair services, or o...</td>\n",
       "      <td>I have complained many times that the credit r...</td>\n",
       "      <td>Experian Information Solutions Inc.</td>\n",
       "      <td>CA</td>\n",
       "      <td>Closed with explanation</td>\n",
       "      <td>West</td>\n",
       "      <td>0.118365</td>\n",
       "    </tr>\n",
       "    <tr>\n",
       "      <th>1</th>\n",
       "      <td>Debt collection</td>\n",
       "      <td>please review the current fraud account and al...</td>\n",
       "      <td>Ideal Collection Services, Inc.</td>\n",
       "      <td>FL</td>\n",
       "      <td>Closed with explanation</td>\n",
       "      <td>South</td>\n",
       "      <td>0.138956</td>\n",
       "    </tr>\n",
       "    <tr>\n",
       "      <th>2</th>\n",
       "      <td>Debt collection</td>\n",
       "      <td>Called multiple times over the years for a deb...</td>\n",
       "      <td>ONEMAIN FINANCIAL HOLDINGS, LLC.</td>\n",
       "      <td>FL</td>\n",
       "      <td>Closed with explanation</td>\n",
       "      <td>South</td>\n",
       "      <td>0.138956</td>\n",
       "    </tr>\n",
       "    <tr>\n",
       "      <th>3</th>\n",
       "      <td>Debt collection</td>\n",
       "      <td>I sent in a letter to the company to have them...</td>\n",
       "      <td>Diversified Consultants, Inc.</td>\n",
       "      <td>VA</td>\n",
       "      <td>Closed with explanation</td>\n",
       "      <td>South</td>\n",
       "      <td>0.138956</td>\n",
       "    </tr>\n",
       "    <tr>\n",
       "      <th>4</th>\n",
       "      <td>Credit reporting, credit repair services, or o...</td>\n",
       "      <td>On XX/XX/19 I applied for a Debt Relief Produc...</td>\n",
       "      <td>ClearOne Advantage, LLC</td>\n",
       "      <td>PA</td>\n",
       "      <td>Closed with explanation</td>\n",
       "      <td>Northeast</td>\n",
       "      <td>0.110770</td>\n",
       "    </tr>\n",
       "  </tbody>\n",
       "</table>\n",
       "</div>"
      ],
      "text/plain": [
       "                                             Product  \\\n",
       "0  Credit reporting, credit repair services, or o...   \n",
       "1                                    Debt collection   \n",
       "2                                    Debt collection   \n",
       "3                                    Debt collection   \n",
       "4  Credit reporting, credit repair services, or o...   \n",
       "\n",
       "                                           Narrative  \\\n",
       "0  I have complained many times that the credit r...   \n",
       "1  please review the current fraud account and al...   \n",
       "2  Called multiple times over the years for a deb...   \n",
       "3  I sent in a letter to the company to have them...   \n",
       "4  On XX/XX/19 I applied for a Debt Relief Produc...   \n",
       "\n",
       "                               Company State                 Response  \\\n",
       "0  Experian Information Solutions Inc.    CA  Closed with explanation   \n",
       "1      Ideal Collection Services, Inc.    FL  Closed with explanation   \n",
       "2     ONEMAIN FINANCIAL HOLDINGS, LLC.    FL  Closed with explanation   \n",
       "3        Diversified Consultants, Inc.    VA  Closed with explanation   \n",
       "4              ClearOne Advantage, LLC    PA  Closed with explanation   \n",
       "\n",
       "      Region    Chance  \n",
       "0       West  0.118365  \n",
       "1      South  0.138956  \n",
       "2      South  0.138956  \n",
       "3      South  0.138956  \n",
       "4  Northeast  0.110770  "
      ]
     },
     "execution_count": 76,
     "metadata": {},
     "output_type": "execute_result"
    }
   ],
   "source": [
    "complaints_df.head()"
   ]
  }
 ],
 "metadata": {
  "kernelspec": {
   "display_name": "Python 3",
   "language": "python",
   "name": "python3"
  },
  "language_info": {
   "codemirror_mode": {
    "name": "ipython",
    "version": 3
   },
   "file_extension": ".py",
   "mimetype": "text/x-python",
   "name": "python",
   "nbconvert_exporter": "python",
   "pygments_lexer": "ipython3",
   "version": "3.7.6"
  }
 },
 "nbformat": 4,
 "nbformat_minor": 4
}
