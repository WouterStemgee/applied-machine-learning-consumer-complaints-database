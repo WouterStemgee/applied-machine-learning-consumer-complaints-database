{
 "cells": [
  {
   "cell_type": "code",
   "execution_count": 1,
   "metadata": {},
   "outputs": [],
   "source": [
    "import numpy as np\n",
    "import pandas as pd\n",
    "import matplotlib.pyplot as plt\n",
    "import seaborn as sns\n",
    "\n",
    "complaints_ratio_df = pd.read_csv('../data/complaints_with_response_ratio.csv', delimiter=',')\n",
    "complaints_sentiment_df = pd.read_csv('../data/complaints_with_sentiment_score.csv', delimiter=',')"
   ]
  },
  {
   "cell_type": "code",
   "execution_count": 2,
   "metadata": {},
   "outputs": [],
   "source": [
    "complaints_sentiment_df.replace({'Company response to consumer': {'Closed': 'Closed without explanation'}}, inplace= True)\n",
    "complaints_sentiment_df = complaints_sentiment_df[complaints_sentiment_df['Company response to consumer'].isin(\n",
    "    ['Closed with non-monetary relief',\n",
    "    'Closed with monetary relief', 'Closed with explanation',\n",
    "    'Closed without explanation', 'Untimely response'])]"
   ]
  },
  {
   "cell_type": "code",
   "execution_count": 3,
   "metadata": {},
   "outputs": [
    {
     "name": "stdout",
     "output_type": "stream",
     "text": [
      "(485699, 12)\n",
      "(485699, 20)\n"
     ]
    }
   ],
   "source": [
    "print(complaints_ratio_df.shape)\n",
    "print(complaints_sentiment_df.shape)"
   ]
  },
  {
   "cell_type": "code",
   "execution_count": 4,
   "metadata": {
    "scrolled": false
   },
   "outputs": [
    {
     "data": {
      "text/html": [
       "<div>\n",
       "<style scoped>\n",
       "    .dataframe tbody tr th:only-of-type {\n",
       "        vertical-align: middle;\n",
       "    }\n",
       "\n",
       "    .dataframe tbody tr th {\n",
       "        vertical-align: top;\n",
       "    }\n",
       "\n",
       "    .dataframe thead th {\n",
       "        text-align: right;\n",
       "    }\n",
       "</style>\n",
       "<table border=\"1\" class=\"dataframe\">\n",
       "  <thead>\n",
       "    <tr style=\"text-align: right;\">\n",
       "      <th></th>\n",
       "      <th>Complaint ID</th>\n",
       "      <th>Product</th>\n",
       "      <th>Narrative</th>\n",
       "      <th>Company</th>\n",
       "      <th>State</th>\n",
       "      <th>Response</th>\n",
       "      <th>Closed with explanation</th>\n",
       "      <th>Closed with non-monetary relief</th>\n",
       "      <th>Closed with monetary relief</th>\n",
       "      <th>Closed without explanation</th>\n",
       "      <th>Untimely response</th>\n",
       "      <th>Narrative sentiment score</th>\n",
       "    </tr>\n",
       "  </thead>\n",
       "  <tbody>\n",
       "    <tr>\n",
       "      <td>0</td>\n",
       "      <td>3315279</td>\n",
       "      <td>Credit reporting, repair, or other</td>\n",
       "      <td>I have complained many times that the credit r...</td>\n",
       "      <td>Experian Information Solutions Inc.</td>\n",
       "      <td>CA</td>\n",
       "      <td>Closed with explanation</td>\n",
       "      <td>60.68</td>\n",
       "      <td>38.55</td>\n",
       "      <td>0.73</td>\n",
       "      <td>0.04</td>\n",
       "      <td>0.0</td>\n",
       "      <td>0.155694</td>\n",
       "    </tr>\n",
       "    <tr>\n",
       "      <td>1</td>\n",
       "      <td>3259329</td>\n",
       "      <td>Credit reporting, repair, or other</td>\n",
       "      <td>According to the Fair Credit Reporting Act, Se...</td>\n",
       "      <td>Experian Information Solutions Inc.</td>\n",
       "      <td>HI</td>\n",
       "      <td>Closed with non-monetary relief</td>\n",
       "      <td>60.68</td>\n",
       "      <td>38.55</td>\n",
       "      <td>0.73</td>\n",
       "      <td>0.04</td>\n",
       "      <td>0.0</td>\n",
       "      <td>0.235102</td>\n",
       "    </tr>\n",
       "    <tr>\n",
       "      <td>2</td>\n",
       "      <td>3266929</td>\n",
       "      <td>Credit reporting, repair, or other</td>\n",
       "      <td>EXPERIAN HAS SOME INFORMATION ON MY CREDIT REP...</td>\n",
       "      <td>Experian Information Solutions Inc.</td>\n",
       "      <td>FL</td>\n",
       "      <td>Closed with non-monetary relief</td>\n",
       "      <td>60.68</td>\n",
       "      <td>38.55</td>\n",
       "      <td>0.73</td>\n",
       "      <td>0.04</td>\n",
       "      <td>0.0</td>\n",
       "      <td>0.215753</td>\n",
       "    </tr>\n",
       "    <tr>\n",
       "      <td>3</td>\n",
       "      <td>3222896</td>\n",
       "      <td>Credit reporting, repair, or other</td>\n",
       "      <td>Accounts added and/or created unbeknownst to m...</td>\n",
       "      <td>Experian Information Solutions Inc.</td>\n",
       "      <td>FL</td>\n",
       "      <td>Closed with non-monetary relief</td>\n",
       "      <td>60.68</td>\n",
       "      <td>38.55</td>\n",
       "      <td>0.73</td>\n",
       "      <td>0.04</td>\n",
       "      <td>0.0</td>\n",
       "      <td>0.473450</td>\n",
       "    </tr>\n",
       "    <tr>\n",
       "      <td>4</td>\n",
       "      <td>3289721</td>\n",
       "      <td>Credit reporting, repair, or other</td>\n",
       "      <td>I do not own this debt and demand that you imm...</td>\n",
       "      <td>Experian Information Solutions Inc.</td>\n",
       "      <td>GA</td>\n",
       "      <td>Closed with explanation</td>\n",
       "      <td>60.68</td>\n",
       "      <td>38.55</td>\n",
       "      <td>0.73</td>\n",
       "      <td>0.04</td>\n",
       "      <td>0.0</td>\n",
       "      <td>0.462072</td>\n",
       "    </tr>\n",
       "    <tr>\n",
       "      <td>...</td>\n",
       "      <td>...</td>\n",
       "      <td>...</td>\n",
       "      <td>...</td>\n",
       "      <td>...</td>\n",
       "      <td>...</td>\n",
       "      <td>...</td>\n",
       "      <td>...</td>\n",
       "      <td>...</td>\n",
       "      <td>...</td>\n",
       "      <td>...</td>\n",
       "      <td>...</td>\n",
       "      <td>...</td>\n",
       "    </tr>\n",
       "    <tr>\n",
       "      <td>485694</td>\n",
       "      <td>2005685</td>\n",
       "      <td>Debt collection</td>\n",
       "      <td>NorAm Capital Holdings, Inc. \\ncollecting for ...</td>\n",
       "      <td>NorAm Capital Holdings, Inc.</td>\n",
       "      <td>CA</td>\n",
       "      <td>Closed without explanation</td>\n",
       "      <td>0.00</td>\n",
       "      <td>0.00</td>\n",
       "      <td>0.00</td>\n",
       "      <td>100.00</td>\n",
       "      <td>0.0</td>\n",
       "      <td>0.549215</td>\n",
       "    </tr>\n",
       "    <tr>\n",
       "      <td>485695</td>\n",
       "      <td>3038874</td>\n",
       "      <td>Payday loan, title loan, or personal loan</td>\n",
       "      <td>fbi is involved and cc the matter- even thru f...</td>\n",
       "      <td>3D Financial, LP</td>\n",
       "      <td>AZ</td>\n",
       "      <td>Closed with explanation</td>\n",
       "      <td>100.00</td>\n",
       "      <td>0.00</td>\n",
       "      <td>0.00</td>\n",
       "      <td>0.00</td>\n",
       "      <td>0.0</td>\n",
       "      <td>0.247246</td>\n",
       "    </tr>\n",
       "    <tr>\n",
       "      <td>485696</td>\n",
       "      <td>3073029</td>\n",
       "      <td>Mortgage</td>\n",
       "      <td>Please See Attachments Based on my experience,...</td>\n",
       "      <td>Homes By Hunt LLC</td>\n",
       "      <td>LA</td>\n",
       "      <td>Closed with explanation</td>\n",
       "      <td>100.00</td>\n",
       "      <td>0.00</td>\n",
       "      <td>0.00</td>\n",
       "      <td>0.00</td>\n",
       "      <td>0.0</td>\n",
       "      <td>0.672983</td>\n",
       "    </tr>\n",
       "    <tr>\n",
       "      <td>485697</td>\n",
       "      <td>2365852</td>\n",
       "      <td>Money transfers</td>\n",
       "      <td>I send some money to XXXX through XXXX And my ...</td>\n",
       "      <td>Maxitransfers Corporation</td>\n",
       "      <td>GA</td>\n",
       "      <td>Closed with explanation</td>\n",
       "      <td>100.00</td>\n",
       "      <td>0.00</td>\n",
       "      <td>0.00</td>\n",
       "      <td>0.00</td>\n",
       "      <td>0.0</td>\n",
       "      <td>0.353015</td>\n",
       "    </tr>\n",
       "    <tr>\n",
       "      <td>485698</td>\n",
       "      <td>3151675</td>\n",
       "      <td>Credit reporting, repair, or other</td>\n",
       "      <td>Hi, my name is XXXX XXXX and On XX/XX/XXXX XXX...</td>\n",
       "      <td>Reliable Auto Finance, Inc.</td>\n",
       "      <td>MI</td>\n",
       "      <td>Closed with explanation</td>\n",
       "      <td>100.00</td>\n",
       "      <td>0.00</td>\n",
       "      <td>0.00</td>\n",
       "      <td>0.00</td>\n",
       "      <td>0.0</td>\n",
       "      <td>0.452424</td>\n",
       "    </tr>\n",
       "  </tbody>\n",
       "</table>\n",
       "<p>485699 rows × 12 columns</p>\n",
       "</div>"
      ],
      "text/plain": [
       "        Complaint ID                                    Product  \\\n",
       "0            3315279         Credit reporting, repair, or other   \n",
       "1            3259329         Credit reporting, repair, or other   \n",
       "2            3266929         Credit reporting, repair, or other   \n",
       "3            3222896         Credit reporting, repair, or other   \n",
       "4            3289721         Credit reporting, repair, or other   \n",
       "...              ...                                        ...   \n",
       "485694       2005685                            Debt collection   \n",
       "485695       3038874  Payday loan, title loan, or personal loan   \n",
       "485696       3073029                                   Mortgage   \n",
       "485697       2365852                            Money transfers   \n",
       "485698       3151675         Credit reporting, repair, or other   \n",
       "\n",
       "                                                Narrative  \\\n",
       "0       I have complained many times that the credit r...   \n",
       "1       According to the Fair Credit Reporting Act, Se...   \n",
       "2       EXPERIAN HAS SOME INFORMATION ON MY CREDIT REP...   \n",
       "3       Accounts added and/or created unbeknownst to m...   \n",
       "4       I do not own this debt and demand that you imm...   \n",
       "...                                                   ...   \n",
       "485694  NorAm Capital Holdings, Inc. \\ncollecting for ...   \n",
       "485695  fbi is involved and cc the matter- even thru f...   \n",
       "485696  Please See Attachments Based on my experience,...   \n",
       "485697  I send some money to XXXX through XXXX And my ...   \n",
       "485698  Hi, my name is XXXX XXXX and On XX/XX/XXXX XXX...   \n",
       "\n",
       "                                    Company State  \\\n",
       "0       Experian Information Solutions Inc.    CA   \n",
       "1       Experian Information Solutions Inc.    HI   \n",
       "2       Experian Information Solutions Inc.    FL   \n",
       "3       Experian Information Solutions Inc.    FL   \n",
       "4       Experian Information Solutions Inc.    GA   \n",
       "...                                     ...   ...   \n",
       "485694         NorAm Capital Holdings, Inc.    CA   \n",
       "485695                     3D Financial, LP    AZ   \n",
       "485696                    Homes By Hunt LLC    LA   \n",
       "485697            Maxitransfers Corporation    GA   \n",
       "485698          Reliable Auto Finance, Inc.    MI   \n",
       "\n",
       "                               Response  Closed with explanation  \\\n",
       "0               Closed with explanation                    60.68   \n",
       "1       Closed with non-monetary relief                    60.68   \n",
       "2       Closed with non-monetary relief                    60.68   \n",
       "3       Closed with non-monetary relief                    60.68   \n",
       "4               Closed with explanation                    60.68   \n",
       "...                                 ...                      ...   \n",
       "485694       Closed without explanation                     0.00   \n",
       "485695          Closed with explanation                   100.00   \n",
       "485696          Closed with explanation                   100.00   \n",
       "485697          Closed with explanation                   100.00   \n",
       "485698          Closed with explanation                   100.00   \n",
       "\n",
       "        Closed with non-monetary relief  Closed with monetary relief  \\\n",
       "0                                 38.55                         0.73   \n",
       "1                                 38.55                         0.73   \n",
       "2                                 38.55                         0.73   \n",
       "3                                 38.55                         0.73   \n",
       "4                                 38.55                         0.73   \n",
       "...                                 ...                          ...   \n",
       "485694                             0.00                         0.00   \n",
       "485695                             0.00                         0.00   \n",
       "485696                             0.00                         0.00   \n",
       "485697                             0.00                         0.00   \n",
       "485698                             0.00                         0.00   \n",
       "\n",
       "        Closed without explanation  Untimely response  \\\n",
       "0                             0.04                0.0   \n",
       "1                             0.04                0.0   \n",
       "2                             0.04                0.0   \n",
       "3                             0.04                0.0   \n",
       "4                             0.04                0.0   \n",
       "...                            ...                ...   \n",
       "485694                      100.00                0.0   \n",
       "485695                        0.00                0.0   \n",
       "485696                        0.00                0.0   \n",
       "485697                        0.00                0.0   \n",
       "485698                        0.00                0.0   \n",
       "\n",
       "        Narrative sentiment score  \n",
       "0                        0.155694  \n",
       "1                        0.235102  \n",
       "2                        0.215753  \n",
       "3                        0.473450  \n",
       "4                        0.462072  \n",
       "...                           ...  \n",
       "485694                   0.549215  \n",
       "485695                   0.247246  \n",
       "485696                   0.672983  \n",
       "485697                   0.353015  \n",
       "485698                   0.452424  \n",
       "\n",
       "[485699 rows x 12 columns]"
      ]
     },
     "execution_count": 4,
     "metadata": {},
     "output_type": "execute_result"
    }
   ],
   "source": [
    "merged_df = pd.merge(complaints_ratio_df, complaints_sentiment_df[['Complaint ID', 'Narrative sentiment score']], on='Complaint ID')\n",
    "merged_df = merged_df.drop('Unnamed: 0', 1)\n",
    "merged_df"
   ]
  },
  {
   "cell_type": "markdown",
   "metadata": {},
   "source": [
    "### Zonder balancing"
   ]
  },
  {
   "cell_type": "code",
   "execution_count": 7,
   "metadata": {},
   "outputs": [
    {
     "name": "stdout",
     "output_type": "stream",
     "text": [
      "(388559, 6)\n",
      "(388559,)\n",
      "(97140, 6)\n",
      "(97140,)\n"
     ]
    }
   ],
   "source": [
    "from sklearn.metrics import confusion_matrix\n",
    "from sklearn.model_selection import train_test_split\n",
    "from sklearn.svm import SVC\n",
    "\n",
    "feature_names = ['Closed with explanation', 'Closed with non-monetary relief', 'Closed with monetary relief',\n",
    "                'Closed without explanation', 'Untimely response', 'Narrative sentiment score']\n",
    "X = merged_df[feature_names]\n",
    "y = merged_df['Response']\n",
    "X_train, X_test, y_train, y_test = train_test_split(X, y, test_size=0.2)\n",
    "\n",
    "print(X_train.shape)\n",
    "print(y_train.shape)\n",
    "\n",
    "print(X_test.shape)\n",
    "print(y_test.shape)"
   ]
  },
  {
   "cell_type": "code",
   "execution_count": 8,
   "metadata": {},
   "outputs": [],
   "source": [
    "model = SVC(gamma='scale')\n",
    "model.fit(X_train, y_train)\n",
    "y_pred = model.predict(X_test)"
   ]
  },
  {
   "cell_type": "code",
   "execution_count": 13,
   "metadata": {},
   "outputs": [
    {
     "name": "stdout",
     "output_type": "stream",
     "text": [
      "                                 precision    recall  f1-score   support\n",
      "\n",
      "        Closed with explanation       0.82      1.00      0.90     78482\n",
      "Closed with non-monetary relief       0.58      0.02      0.04      5244\n",
      "    Closed with monetary relief       0.74      0.06      0.10     12043\n",
      "     Closed without explanation       0.85      0.08      0.14       720\n",
      "              Untimely response       0.84      0.73      0.78       651\n",
      "\n",
      "                       accuracy                           0.82     97140\n",
      "                      macro avg       0.77      0.37      0.39     97140\n",
      "                   weighted avg       0.80      0.82      0.75     97140\n",
      "\n"
     ]
    }
   ],
   "source": [
    "from sklearn import metrics\n",
    "print(metrics.classification_report(y_test, y_pred, target_names= merged_df['Response'].unique()))"
   ]
  },
  {
   "cell_type": "code",
   "execution_count": 11,
   "metadata": {},
   "outputs": [
    {
     "data": {
      "image/png": "[encoded data removed]",
      "text/plain": [
       "<Figure size 576x576 with 2 Axes>"
      ]
     },
     "metadata": {
      "needs_background": "light"
     },
     "output_type": "display_data"
    }
   ],
   "source": [
    "labels = ['Closed with explanation', 'Closed with non-monetary relief', 'Closed with monetary relief',\n",
    "                'Closed without explanation', 'Untimely response']\n",
    "conf_mat = confusion_matrix(y_test, y_pred, labels=labels)\n",
    "fig, ax = plt.subplots(figsize=(8,8))\n",
    "sns.heatmap(conf_mat, annot=True, cmap=\"Blues\", fmt='d', xticklabels=labels, yticklabels=labels)\n",
    "plt.ylabel('Correcte response')\n",
    "plt.xlabel('Voorspelde response')\n",
    "plt.title(\"Confusion Matrix\", size=16);"
   ]
  },
  {
   "cell_type": "markdown",
   "metadata": {},
   "source": [
    "### Met balancing"
   ]
  },
  {
   "cell_type": "code",
   "execution_count": 5,
   "metadata": {},
   "outputs": [],
   "source": [
    "def sampling_k_elements(category, k=120000):\n",
    "    if len(category) < k:\n",
    "        return category\n",
    "    return category.sample(k)\n",
    "\n",
    "complaints_balanced_df = merged_df.groupby('Response').apply(sampling_k_elements).reset_index(drop=True)"
   ]
  },
  {
   "cell_type": "code",
   "execution_count": 14,
   "metadata": {},
   "outputs": [
    {
     "data": {
      "text/plain": [
       "(213146, 12)"
      ]
     },
     "execution_count": 14,
     "metadata": {},
     "output_type": "execute_result"
    }
   ],
   "source": [
    "complaints_balanced_df.shape"
   ]
  },
  {
   "cell_type": "code",
   "execution_count": 15,
   "metadata": {},
   "outputs": [
    {
     "name": "stdout",
     "output_type": "stream",
     "text": [
      "(170516, 6)\n",
      "(170516,)\n",
      "(42630, 6)\n",
      "(42630,)\n"
     ]
    }
   ],
   "source": [
    "X_bal = complaints_balanced_df[feature_names]\n",
    "y_bal = complaints_balanced_df['Response']\n",
    "X_bal_train, X_bal_test, y_bal_train, y_bal_test = train_test_split(X_bal, y_bal, test_size=0.2)\n",
    "\n",
    "print(X_bal_train.shape)\n",
    "print(y_bal_train.shape)\n",
    "\n",
    "print(X_bal_test.shape)\n",
    "print(y_bal_test.shape)"
   ]
  },
  {
   "cell_type": "code",
   "execution_count": 16,
   "metadata": {},
   "outputs": [],
   "source": [
    "model_bal = SVC(gamma='scale')\n",
    "model_bal.fit(X_bal_train, y_bal_train)\n",
    "y_bal_pred = model.predict(X_bal_test)"
   ]
  },
  {
   "cell_type": "code",
   "execution_count": 17,
   "metadata": {},
   "outputs": [
    {
     "name": "stdout",
     "output_type": "stream",
     "text": [
      "                                 precision    recall  f1-score   support\n",
      "\n",
      "        Closed with explanation       0.58      1.00      0.73     24032\n",
      "    Closed with monetary relief       0.73      0.02      0.04      5213\n",
      "Closed with non-monetary relief       0.89      0.06      0.11     11990\n",
      "     Closed without explanation       0.95      0.08      0.15       751\n",
      "              Untimely response       0.93      0.75      0.83       644\n",
      "\n",
      "                       accuracy                           0.59     42630\n",
      "                      macro avg       0.81      0.38      0.37     42630\n",
      "                   weighted avg       0.70      0.59      0.46     42630\n",
      "\n"
     ]
    }
   ],
   "source": [
    "print(metrics.classification_report(y_bal_test, y_bal_pred, target_names= complaints_balanced_df['Response'].unique()))"
   ]
  },
  {
   "cell_type": "code",
   "execution_count": 19,
   "metadata": {},
   "outputs": [
    {
     "data": {
      "image/png": "[encoded data removed]",
      "text/plain": [
       "<Figure size 576x576 with 2 Axes>"
      ]
     },
     "metadata": {
      "needs_background": "light"
     },
     "output_type": "display_data"
    }
   ],
   "source": [
    "conf_mat_bal = confusion_matrix(y_bal_test, y_bal_pred, labels=labels)\n",
    "fig, ax = plt.subplots(figsize=(8,8))\n",
    "sns.heatmap(conf_mat_bal, annot=True, cmap=\"Blues\", fmt='d', xticklabels=labels, yticklabels=labels)\n",
    "plt.ylabel('Correcte response')\n",
    "plt.xlabel('Voorspelde response')\n",
    "plt.title(\"Confusion Matrix\", size=16);"
   ]
  }
 ],
 "metadata": {
  "kernelspec": {
   "display_name": "Python 3",
   "language": "python",
   "name": "python3"
  },
  "language_info": {
   "codemirror_mode": {
    "name": "ipython",
    "version": 3
   },
   "file_extension": ".py",
   "mimetype": "text/x-python",
   "name": "python",
   "nbconvert_exporter": "python",
   "pygments_lexer": "ipython3",
   "version": "3.7.4"
  }
 },
 "nbformat": 4,
 "nbformat_minor": 2
}
